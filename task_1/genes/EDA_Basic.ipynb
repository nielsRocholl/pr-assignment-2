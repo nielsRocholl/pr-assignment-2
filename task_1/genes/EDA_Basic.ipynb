{
 "cells": [
  {
   "cell_type": "code",
   "execution_count": 2,
   "id": "3c95bbad",
   "metadata": {},
   "outputs": [],
   "source": [
    "import numpy as np\n",
    "import pandas as pd\n",
    "import seaborn as sns\n",
    "import matplotlib.pyplot as plt"
   ]
  },
  {
   "cell_type": "code",
   "execution_count": 3,
   "id": "fef9ed53",
   "metadata": {},
   "outputs": [],
   "source": [
    "data= pd.read_csv(\"data.csv\")"
   ]
  },
  {
   "cell_type": "code",
   "execution_count": 4,
   "id": "1b6de7a2",
   "metadata": {},
   "outputs": [
    {
     "data": {
      "text/html": [
       "<div>\n",
       "<style scoped>\n",
       "    .dataframe tbody tr th:only-of-type {\n",
       "        vertical-align: middle;\n",
       "    }\n",
       "\n",
       "    .dataframe tbody tr th {\n",
       "        vertical-align: top;\n",
       "    }\n",
       "\n",
       "    .dataframe thead th {\n",
       "        text-align: right;\n",
       "    }\n",
       "</style>\n",
       "<table border=\"1\" class=\"dataframe\">\n",
       "  <thead>\n",
       "    <tr style=\"text-align: right;\">\n",
       "      <th></th>\n",
       "      <th>Unnamed: 0</th>\n",
       "      <th>gene_0</th>\n",
       "      <th>gene_1</th>\n",
       "      <th>gene_2</th>\n",
       "      <th>gene_3</th>\n",
       "      <th>gene_4</th>\n",
       "      <th>gene_5</th>\n",
       "      <th>gene_6</th>\n",
       "      <th>gene_7</th>\n",
       "      <th>gene_8</th>\n",
       "      <th>...</th>\n",
       "      <th>gene_20521</th>\n",
       "      <th>gene_20522</th>\n",
       "      <th>gene_20523</th>\n",
       "      <th>gene_20524</th>\n",
       "      <th>gene_20525</th>\n",
       "      <th>gene_20526</th>\n",
       "      <th>gene_20527</th>\n",
       "      <th>gene_20528</th>\n",
       "      <th>gene_20529</th>\n",
       "      <th>gene_20530</th>\n",
       "    </tr>\n",
       "  </thead>\n",
       "  <tbody>\n",
       "    <tr>\n",
       "      <th>0</th>\n",
       "      <td>sample_0</td>\n",
       "      <td>0.0</td>\n",
       "      <td>2.017209</td>\n",
       "      <td>3.265527</td>\n",
       "      <td>5.478487</td>\n",
       "      <td>10.431999</td>\n",
       "      <td>0.0</td>\n",
       "      <td>7.175175</td>\n",
       "      <td>0.591871</td>\n",
       "      <td>0.0</td>\n",
       "      <td>...</td>\n",
       "      <td>4.926711</td>\n",
       "      <td>8.210257</td>\n",
       "      <td>9.723516</td>\n",
       "      <td>7.220030</td>\n",
       "      <td>9.119813</td>\n",
       "      <td>12.003135</td>\n",
       "      <td>9.650743</td>\n",
       "      <td>8.921326</td>\n",
       "      <td>5.286759</td>\n",
       "      <td>0.000000</td>\n",
       "    </tr>\n",
       "    <tr>\n",
       "      <th>1</th>\n",
       "      <td>sample_1</td>\n",
       "      <td>0.0</td>\n",
       "      <td>0.592732</td>\n",
       "      <td>1.588421</td>\n",
       "      <td>7.586157</td>\n",
       "      <td>9.623011</td>\n",
       "      <td>0.0</td>\n",
       "      <td>6.816049</td>\n",
       "      <td>0.000000</td>\n",
       "      <td>0.0</td>\n",
       "      <td>...</td>\n",
       "      <td>4.593372</td>\n",
       "      <td>7.323865</td>\n",
       "      <td>9.740931</td>\n",
       "      <td>6.256586</td>\n",
       "      <td>8.381612</td>\n",
       "      <td>12.674552</td>\n",
       "      <td>10.517059</td>\n",
       "      <td>9.397854</td>\n",
       "      <td>2.094168</td>\n",
       "      <td>0.000000</td>\n",
       "    </tr>\n",
       "    <tr>\n",
       "      <th>2</th>\n",
       "      <td>sample_2</td>\n",
       "      <td>0.0</td>\n",
       "      <td>3.511759</td>\n",
       "      <td>4.327199</td>\n",
       "      <td>6.881787</td>\n",
       "      <td>9.870730</td>\n",
       "      <td>0.0</td>\n",
       "      <td>6.972130</td>\n",
       "      <td>0.452595</td>\n",
       "      <td>0.0</td>\n",
       "      <td>...</td>\n",
       "      <td>5.125213</td>\n",
       "      <td>8.127123</td>\n",
       "      <td>10.908640</td>\n",
       "      <td>5.401607</td>\n",
       "      <td>9.911597</td>\n",
       "      <td>9.045255</td>\n",
       "      <td>9.788359</td>\n",
       "      <td>10.090470</td>\n",
       "      <td>1.683023</td>\n",
       "      <td>0.000000</td>\n",
       "    </tr>\n",
       "    <tr>\n",
       "      <th>3</th>\n",
       "      <td>sample_3</td>\n",
       "      <td>0.0</td>\n",
       "      <td>3.663618</td>\n",
       "      <td>4.507649</td>\n",
       "      <td>6.659068</td>\n",
       "      <td>10.196184</td>\n",
       "      <td>0.0</td>\n",
       "      <td>7.843375</td>\n",
       "      <td>0.434882</td>\n",
       "      <td>0.0</td>\n",
       "      <td>...</td>\n",
       "      <td>6.076566</td>\n",
       "      <td>8.792959</td>\n",
       "      <td>10.141520</td>\n",
       "      <td>8.942805</td>\n",
       "      <td>9.601208</td>\n",
       "      <td>11.392682</td>\n",
       "      <td>9.694814</td>\n",
       "      <td>9.684365</td>\n",
       "      <td>3.292001</td>\n",
       "      <td>0.000000</td>\n",
       "    </tr>\n",
       "    <tr>\n",
       "      <th>4</th>\n",
       "      <td>sample_4</td>\n",
       "      <td>0.0</td>\n",
       "      <td>2.655741</td>\n",
       "      <td>2.821547</td>\n",
       "      <td>6.539454</td>\n",
       "      <td>9.738265</td>\n",
       "      <td>0.0</td>\n",
       "      <td>6.566967</td>\n",
       "      <td>0.360982</td>\n",
       "      <td>0.0</td>\n",
       "      <td>...</td>\n",
       "      <td>5.996032</td>\n",
       "      <td>8.891425</td>\n",
       "      <td>10.373790</td>\n",
       "      <td>7.181162</td>\n",
       "      <td>9.846910</td>\n",
       "      <td>11.922439</td>\n",
       "      <td>9.217749</td>\n",
       "      <td>9.461191</td>\n",
       "      <td>5.110372</td>\n",
       "      <td>0.000000</td>\n",
       "    </tr>\n",
       "    <tr>\n",
       "      <th>...</th>\n",
       "      <td>...</td>\n",
       "      <td>...</td>\n",
       "      <td>...</td>\n",
       "      <td>...</td>\n",
       "      <td>...</td>\n",
       "      <td>...</td>\n",
       "      <td>...</td>\n",
       "      <td>...</td>\n",
       "      <td>...</td>\n",
       "      <td>...</td>\n",
       "      <td>...</td>\n",
       "      <td>...</td>\n",
       "      <td>...</td>\n",
       "      <td>...</td>\n",
       "      <td>...</td>\n",
       "      <td>...</td>\n",
       "      <td>...</td>\n",
       "      <td>...</td>\n",
       "      <td>...</td>\n",
       "      <td>...</td>\n",
       "      <td>...</td>\n",
       "    </tr>\n",
       "    <tr>\n",
       "      <th>796</th>\n",
       "      <td>sample_796</td>\n",
       "      <td>0.0</td>\n",
       "      <td>1.865642</td>\n",
       "      <td>2.718197</td>\n",
       "      <td>7.350099</td>\n",
       "      <td>10.006003</td>\n",
       "      <td>0.0</td>\n",
       "      <td>6.764792</td>\n",
       "      <td>0.496922</td>\n",
       "      <td>0.0</td>\n",
       "      <td>...</td>\n",
       "      <td>6.088133</td>\n",
       "      <td>9.118313</td>\n",
       "      <td>10.004852</td>\n",
       "      <td>4.484415</td>\n",
       "      <td>9.614701</td>\n",
       "      <td>12.031267</td>\n",
       "      <td>9.813063</td>\n",
       "      <td>10.092770</td>\n",
       "      <td>8.819269</td>\n",
       "      <td>0.000000</td>\n",
       "    </tr>\n",
       "    <tr>\n",
       "      <th>797</th>\n",
       "      <td>sample_797</td>\n",
       "      <td>0.0</td>\n",
       "      <td>3.942955</td>\n",
       "      <td>4.453807</td>\n",
       "      <td>6.346597</td>\n",
       "      <td>10.056868</td>\n",
       "      <td>0.0</td>\n",
       "      <td>7.320331</td>\n",
       "      <td>0.000000</td>\n",
       "      <td>0.0</td>\n",
       "      <td>...</td>\n",
       "      <td>6.371876</td>\n",
       "      <td>9.623335</td>\n",
       "      <td>9.823921</td>\n",
       "      <td>6.555327</td>\n",
       "      <td>9.064002</td>\n",
       "      <td>11.633422</td>\n",
       "      <td>10.317266</td>\n",
       "      <td>8.745983</td>\n",
       "      <td>9.659081</td>\n",
       "      <td>0.000000</td>\n",
       "    </tr>\n",
       "    <tr>\n",
       "      <th>798</th>\n",
       "      <td>sample_798</td>\n",
       "      <td>0.0</td>\n",
       "      <td>3.249582</td>\n",
       "      <td>3.707492</td>\n",
       "      <td>8.185901</td>\n",
       "      <td>9.504082</td>\n",
       "      <td>0.0</td>\n",
       "      <td>7.536589</td>\n",
       "      <td>1.811101</td>\n",
       "      <td>0.0</td>\n",
       "      <td>...</td>\n",
       "      <td>5.719386</td>\n",
       "      <td>8.610704</td>\n",
       "      <td>10.485517</td>\n",
       "      <td>3.589763</td>\n",
       "      <td>9.350636</td>\n",
       "      <td>12.180944</td>\n",
       "      <td>10.681194</td>\n",
       "      <td>9.466711</td>\n",
       "      <td>4.677458</td>\n",
       "      <td>0.586693</td>\n",
       "    </tr>\n",
       "    <tr>\n",
       "      <th>799</th>\n",
       "      <td>sample_799</td>\n",
       "      <td>0.0</td>\n",
       "      <td>2.590339</td>\n",
       "      <td>2.787976</td>\n",
       "      <td>7.318624</td>\n",
       "      <td>9.987136</td>\n",
       "      <td>0.0</td>\n",
       "      <td>9.213464</td>\n",
       "      <td>0.000000</td>\n",
       "      <td>0.0</td>\n",
       "      <td>...</td>\n",
       "      <td>5.785237</td>\n",
       "      <td>8.605387</td>\n",
       "      <td>11.004677</td>\n",
       "      <td>4.745888</td>\n",
       "      <td>9.626383</td>\n",
       "      <td>11.198279</td>\n",
       "      <td>10.335513</td>\n",
       "      <td>10.400581</td>\n",
       "      <td>5.718751</td>\n",
       "      <td>0.000000</td>\n",
       "    </tr>\n",
       "    <tr>\n",
       "      <th>800</th>\n",
       "      <td>sample_800</td>\n",
       "      <td>0.0</td>\n",
       "      <td>2.325242</td>\n",
       "      <td>3.805932</td>\n",
       "      <td>6.530246</td>\n",
       "      <td>9.560367</td>\n",
       "      <td>0.0</td>\n",
       "      <td>7.957027</td>\n",
       "      <td>0.000000</td>\n",
       "      <td>0.0</td>\n",
       "      <td>...</td>\n",
       "      <td>6.403075</td>\n",
       "      <td>8.594354</td>\n",
       "      <td>10.243079</td>\n",
       "      <td>9.139459</td>\n",
       "      <td>10.102934</td>\n",
       "      <td>11.641081</td>\n",
       "      <td>10.607358</td>\n",
       "      <td>9.844794</td>\n",
       "      <td>4.550716</td>\n",
       "      <td>0.000000</td>\n",
       "    </tr>\n",
       "  </tbody>\n",
       "</table>\n",
       "<p>801 rows × 20532 columns</p>\n",
       "</div>"
      ],
      "text/plain": [
       "     Unnamed: 0  gene_0    gene_1    gene_2    gene_3     gene_4  gene_5  \\\n",
       "0      sample_0     0.0  2.017209  3.265527  5.478487  10.431999     0.0   \n",
       "1      sample_1     0.0  0.592732  1.588421  7.586157   9.623011     0.0   \n",
       "2      sample_2     0.0  3.511759  4.327199  6.881787   9.870730     0.0   \n",
       "3      sample_3     0.0  3.663618  4.507649  6.659068  10.196184     0.0   \n",
       "4      sample_4     0.0  2.655741  2.821547  6.539454   9.738265     0.0   \n",
       "..          ...     ...       ...       ...       ...        ...     ...   \n",
       "796  sample_796     0.0  1.865642  2.718197  7.350099  10.006003     0.0   \n",
       "797  sample_797     0.0  3.942955  4.453807  6.346597  10.056868     0.0   \n",
       "798  sample_798     0.0  3.249582  3.707492  8.185901   9.504082     0.0   \n",
       "799  sample_799     0.0  2.590339  2.787976  7.318624   9.987136     0.0   \n",
       "800  sample_800     0.0  2.325242  3.805932  6.530246   9.560367     0.0   \n",
       "\n",
       "       gene_6    gene_7  gene_8  ...  gene_20521  gene_20522  gene_20523  \\\n",
       "0    7.175175  0.591871     0.0  ...    4.926711    8.210257    9.723516   \n",
       "1    6.816049  0.000000     0.0  ...    4.593372    7.323865    9.740931   \n",
       "2    6.972130  0.452595     0.0  ...    5.125213    8.127123   10.908640   \n",
       "3    7.843375  0.434882     0.0  ...    6.076566    8.792959   10.141520   \n",
       "4    6.566967  0.360982     0.0  ...    5.996032    8.891425   10.373790   \n",
       "..        ...       ...     ...  ...         ...         ...         ...   \n",
       "796  6.764792  0.496922     0.0  ...    6.088133    9.118313   10.004852   \n",
       "797  7.320331  0.000000     0.0  ...    6.371876    9.623335    9.823921   \n",
       "798  7.536589  1.811101     0.0  ...    5.719386    8.610704   10.485517   \n",
       "799  9.213464  0.000000     0.0  ...    5.785237    8.605387   11.004677   \n",
       "800  7.957027  0.000000     0.0  ...    6.403075    8.594354   10.243079   \n",
       "\n",
       "     gene_20524  gene_20525  gene_20526  gene_20527  gene_20528  gene_20529  \\\n",
       "0      7.220030    9.119813   12.003135    9.650743    8.921326    5.286759   \n",
       "1      6.256586    8.381612   12.674552   10.517059    9.397854    2.094168   \n",
       "2      5.401607    9.911597    9.045255    9.788359   10.090470    1.683023   \n",
       "3      8.942805    9.601208   11.392682    9.694814    9.684365    3.292001   \n",
       "4      7.181162    9.846910   11.922439    9.217749    9.461191    5.110372   \n",
       "..          ...         ...         ...         ...         ...         ...   \n",
       "796    4.484415    9.614701   12.031267    9.813063   10.092770    8.819269   \n",
       "797    6.555327    9.064002   11.633422   10.317266    8.745983    9.659081   \n",
       "798    3.589763    9.350636   12.180944   10.681194    9.466711    4.677458   \n",
       "799    4.745888    9.626383   11.198279   10.335513   10.400581    5.718751   \n",
       "800    9.139459   10.102934   11.641081   10.607358    9.844794    4.550716   \n",
       "\n",
       "     gene_20530  \n",
       "0      0.000000  \n",
       "1      0.000000  \n",
       "2      0.000000  \n",
       "3      0.000000  \n",
       "4      0.000000  \n",
       "..          ...  \n",
       "796    0.000000  \n",
       "797    0.000000  \n",
       "798    0.586693  \n",
       "799    0.000000  \n",
       "800    0.000000  \n",
       "\n",
       "[801 rows x 20532 columns]"
      ]
     },
     "execution_count": 4,
     "metadata": {},
     "output_type": "execute_result"
    }
   ],
   "source": [
    "data"
   ]
  },
  {
   "cell_type": "code",
   "execution_count": 5,
   "id": "b5b6d419",
   "metadata": {},
   "outputs": [
    {
     "data": {
      "text/html": [
       "<div>\n",
       "<style scoped>\n",
       "    .dataframe tbody tr th:only-of-type {\n",
       "        vertical-align: middle;\n",
       "    }\n",
       "\n",
       "    .dataframe tbody tr th {\n",
       "        vertical-align: top;\n",
       "    }\n",
       "\n",
       "    .dataframe thead th {\n",
       "        text-align: right;\n",
       "    }\n",
       "</style>\n",
       "<table border=\"1\" class=\"dataframe\">\n",
       "  <thead>\n",
       "    <tr style=\"text-align: right;\">\n",
       "      <th></th>\n",
       "      <th>Unnamed: 0</th>\n",
       "      <th>gene_0</th>\n",
       "      <th>gene_1</th>\n",
       "      <th>gene_2</th>\n",
       "      <th>gene_3</th>\n",
       "      <th>gene_4</th>\n",
       "      <th>gene_5</th>\n",
       "      <th>gene_6</th>\n",
       "      <th>gene_7</th>\n",
       "      <th>gene_8</th>\n",
       "      <th>...</th>\n",
       "      <th>gene_20521</th>\n",
       "      <th>gene_20522</th>\n",
       "      <th>gene_20523</th>\n",
       "      <th>gene_20524</th>\n",
       "      <th>gene_20525</th>\n",
       "      <th>gene_20526</th>\n",
       "      <th>gene_20527</th>\n",
       "      <th>gene_20528</th>\n",
       "      <th>gene_20529</th>\n",
       "      <th>gene_20530</th>\n",
       "    </tr>\n",
       "  </thead>\n",
       "  <tbody>\n",
       "    <tr>\n",
       "      <th>0</th>\n",
       "      <td>sample_0</td>\n",
       "      <td>0.0</td>\n",
       "      <td>2.017209</td>\n",
       "      <td>3.265527</td>\n",
       "      <td>5.478487</td>\n",
       "      <td>10.431999</td>\n",
       "      <td>0.0</td>\n",
       "      <td>7.175175</td>\n",
       "      <td>0.591871</td>\n",
       "      <td>0.0</td>\n",
       "      <td>...</td>\n",
       "      <td>4.926711</td>\n",
       "      <td>8.210257</td>\n",
       "      <td>9.723516</td>\n",
       "      <td>7.220030</td>\n",
       "      <td>9.119813</td>\n",
       "      <td>12.003135</td>\n",
       "      <td>9.650743</td>\n",
       "      <td>8.921326</td>\n",
       "      <td>5.286759</td>\n",
       "      <td>0.0</td>\n",
       "    </tr>\n",
       "    <tr>\n",
       "      <th>1</th>\n",
       "      <td>sample_1</td>\n",
       "      <td>0.0</td>\n",
       "      <td>0.592732</td>\n",
       "      <td>1.588421</td>\n",
       "      <td>7.586157</td>\n",
       "      <td>9.623011</td>\n",
       "      <td>0.0</td>\n",
       "      <td>6.816049</td>\n",
       "      <td>0.000000</td>\n",
       "      <td>0.0</td>\n",
       "      <td>...</td>\n",
       "      <td>4.593372</td>\n",
       "      <td>7.323865</td>\n",
       "      <td>9.740931</td>\n",
       "      <td>6.256586</td>\n",
       "      <td>8.381612</td>\n",
       "      <td>12.674552</td>\n",
       "      <td>10.517059</td>\n",
       "      <td>9.397854</td>\n",
       "      <td>2.094168</td>\n",
       "      <td>0.0</td>\n",
       "    </tr>\n",
       "    <tr>\n",
       "      <th>2</th>\n",
       "      <td>sample_2</td>\n",
       "      <td>0.0</td>\n",
       "      <td>3.511759</td>\n",
       "      <td>4.327199</td>\n",
       "      <td>6.881787</td>\n",
       "      <td>9.870730</td>\n",
       "      <td>0.0</td>\n",
       "      <td>6.972130</td>\n",
       "      <td>0.452595</td>\n",
       "      <td>0.0</td>\n",
       "      <td>...</td>\n",
       "      <td>5.125213</td>\n",
       "      <td>8.127123</td>\n",
       "      <td>10.908640</td>\n",
       "      <td>5.401607</td>\n",
       "      <td>9.911597</td>\n",
       "      <td>9.045255</td>\n",
       "      <td>9.788359</td>\n",
       "      <td>10.090470</td>\n",
       "      <td>1.683023</td>\n",
       "      <td>0.0</td>\n",
       "    </tr>\n",
       "    <tr>\n",
       "      <th>3</th>\n",
       "      <td>sample_3</td>\n",
       "      <td>0.0</td>\n",
       "      <td>3.663618</td>\n",
       "      <td>4.507649</td>\n",
       "      <td>6.659068</td>\n",
       "      <td>10.196184</td>\n",
       "      <td>0.0</td>\n",
       "      <td>7.843375</td>\n",
       "      <td>0.434882</td>\n",
       "      <td>0.0</td>\n",
       "      <td>...</td>\n",
       "      <td>6.076566</td>\n",
       "      <td>8.792959</td>\n",
       "      <td>10.141520</td>\n",
       "      <td>8.942805</td>\n",
       "      <td>9.601208</td>\n",
       "      <td>11.392682</td>\n",
       "      <td>9.694814</td>\n",
       "      <td>9.684365</td>\n",
       "      <td>3.292001</td>\n",
       "      <td>0.0</td>\n",
       "    </tr>\n",
       "    <tr>\n",
       "      <th>4</th>\n",
       "      <td>sample_4</td>\n",
       "      <td>0.0</td>\n",
       "      <td>2.655741</td>\n",
       "      <td>2.821547</td>\n",
       "      <td>6.539454</td>\n",
       "      <td>9.738265</td>\n",
       "      <td>0.0</td>\n",
       "      <td>6.566967</td>\n",
       "      <td>0.360982</td>\n",
       "      <td>0.0</td>\n",
       "      <td>...</td>\n",
       "      <td>5.996032</td>\n",
       "      <td>8.891425</td>\n",
       "      <td>10.373790</td>\n",
       "      <td>7.181162</td>\n",
       "      <td>9.846910</td>\n",
       "      <td>11.922439</td>\n",
       "      <td>9.217749</td>\n",
       "      <td>9.461191</td>\n",
       "      <td>5.110372</td>\n",
       "      <td>0.0</td>\n",
       "    </tr>\n",
       "    <tr>\n",
       "      <th>5</th>\n",
       "      <td>sample_5</td>\n",
       "      <td>0.0</td>\n",
       "      <td>3.467853</td>\n",
       "      <td>3.581918</td>\n",
       "      <td>6.620243</td>\n",
       "      <td>9.706829</td>\n",
       "      <td>0.0</td>\n",
       "      <td>7.758510</td>\n",
       "      <td>0.000000</td>\n",
       "      <td>0.0</td>\n",
       "      <td>...</td>\n",
       "      <td>5.726657</td>\n",
       "      <td>8.602588</td>\n",
       "      <td>9.928339</td>\n",
       "      <td>6.096154</td>\n",
       "      <td>9.816001</td>\n",
       "      <td>11.556995</td>\n",
       "      <td>9.244150</td>\n",
       "      <td>9.836473</td>\n",
       "      <td>5.355133</td>\n",
       "      <td>0.0</td>\n",
       "    </tr>\n",
       "    <tr>\n",
       "      <th>6</th>\n",
       "      <td>sample_6</td>\n",
       "      <td>0.0</td>\n",
       "      <td>1.224966</td>\n",
       "      <td>1.691177</td>\n",
       "      <td>6.572007</td>\n",
       "      <td>9.640511</td>\n",
       "      <td>0.0</td>\n",
       "      <td>6.754888</td>\n",
       "      <td>0.531868</td>\n",
       "      <td>0.0</td>\n",
       "      <td>...</td>\n",
       "      <td>5.105904</td>\n",
       "      <td>7.927968</td>\n",
       "      <td>9.673966</td>\n",
       "      <td>1.877744</td>\n",
       "      <td>9.802692</td>\n",
       "      <td>13.256060</td>\n",
       "      <td>9.664486</td>\n",
       "      <td>9.244219</td>\n",
       "      <td>8.330912</td>\n",
       "      <td>0.0</td>\n",
       "    </tr>\n",
       "  </tbody>\n",
       "</table>\n",
       "<p>7 rows × 20532 columns</p>\n",
       "</div>"
      ],
      "text/plain": [
       "  Unnamed: 0  gene_0    gene_1    gene_2    gene_3     gene_4  gene_5  \\\n",
       "0   sample_0     0.0  2.017209  3.265527  5.478487  10.431999     0.0   \n",
       "1   sample_1     0.0  0.592732  1.588421  7.586157   9.623011     0.0   \n",
       "2   sample_2     0.0  3.511759  4.327199  6.881787   9.870730     0.0   \n",
       "3   sample_3     0.0  3.663618  4.507649  6.659068  10.196184     0.0   \n",
       "4   sample_4     0.0  2.655741  2.821547  6.539454   9.738265     0.0   \n",
       "5   sample_5     0.0  3.467853  3.581918  6.620243   9.706829     0.0   \n",
       "6   sample_6     0.0  1.224966  1.691177  6.572007   9.640511     0.0   \n",
       "\n",
       "     gene_6    gene_7  gene_8  ...  gene_20521  gene_20522  gene_20523  \\\n",
       "0  7.175175  0.591871     0.0  ...    4.926711    8.210257    9.723516   \n",
       "1  6.816049  0.000000     0.0  ...    4.593372    7.323865    9.740931   \n",
       "2  6.972130  0.452595     0.0  ...    5.125213    8.127123   10.908640   \n",
       "3  7.843375  0.434882     0.0  ...    6.076566    8.792959   10.141520   \n",
       "4  6.566967  0.360982     0.0  ...    5.996032    8.891425   10.373790   \n",
       "5  7.758510  0.000000     0.0  ...    5.726657    8.602588    9.928339   \n",
       "6  6.754888  0.531868     0.0  ...    5.105904    7.927968    9.673966   \n",
       "\n",
       "   gene_20524  gene_20525  gene_20526  gene_20527  gene_20528  gene_20529  \\\n",
       "0    7.220030    9.119813   12.003135    9.650743    8.921326    5.286759   \n",
       "1    6.256586    8.381612   12.674552   10.517059    9.397854    2.094168   \n",
       "2    5.401607    9.911597    9.045255    9.788359   10.090470    1.683023   \n",
       "3    8.942805    9.601208   11.392682    9.694814    9.684365    3.292001   \n",
       "4    7.181162    9.846910   11.922439    9.217749    9.461191    5.110372   \n",
       "5    6.096154    9.816001   11.556995    9.244150    9.836473    5.355133   \n",
       "6    1.877744    9.802692   13.256060    9.664486    9.244219    8.330912   \n",
       "\n",
       "   gene_20530  \n",
       "0         0.0  \n",
       "1         0.0  \n",
       "2         0.0  \n",
       "3         0.0  \n",
       "4         0.0  \n",
       "5         0.0  \n",
       "6         0.0  \n",
       "\n",
       "[7 rows x 20532 columns]"
      ]
     },
     "execution_count": 5,
     "metadata": {},
     "output_type": "execute_result"
    }
   ],
   "source": [
    "data.head(7)"
   ]
  },
  {
   "cell_type": "code",
   "execution_count": 6,
   "id": "40bf743f",
   "metadata": {},
   "outputs": [
    {
     "data": {
      "text/plain": [
       "Unnamed: 0    0\n",
       "gene_0        0\n",
       "gene_1        0\n",
       "gene_2        0\n",
       "gene_3        0\n",
       "             ..\n",
       "gene_20526    0\n",
       "gene_20527    0\n",
       "gene_20528    0\n",
       "gene_20529    0\n",
       "gene_20530    0\n",
       "Length: 20532, dtype: int64"
      ]
     },
     "execution_count": 6,
     "metadata": {},
     "output_type": "execute_result"
    }
   ],
   "source": [
    "data.isnull().sum()"
   ]
  },
  {
   "cell_type": "code",
   "execution_count": 7,
   "id": "38f464e6",
   "metadata": {
    "scrolled": true
   },
   "outputs": [
    {
     "data": {
      "text/plain": [
       "(801, 20532)"
      ]
     },
     "execution_count": 7,
     "metadata": {},
     "output_type": "execute_result"
    }
   ],
   "source": [
    "data.shape"
   ]
  },
  {
   "cell_type": "code",
   "execution_count": 8,
   "id": "03911c1d",
   "metadata": {},
   "outputs": [
    {
     "data": {
      "text/plain": [
       "count    801.000000\n",
       "mean       5.718594\n",
       "std        4.562974\n",
       "min        0.000000\n",
       "25%        0.382501\n",
       "50%        7.579467\n",
       "75%        9.550258\n",
       "max       13.232343\n",
       "Name: gene_7964, dtype: float64"
      ]
     },
     "execution_count": 8,
     "metadata": {},
     "output_type": "execute_result"
    }
   ],
   "source": [
    "data.gene_7964.describe()"
   ]
  },
  {
   "cell_type": "code",
   "execution_count": 9,
   "id": "cc6346c1",
   "metadata": {},
   "outputs": [
    {
     "data": {
      "text/html": [
       "<div>\n",
       "<style scoped>\n",
       "    .dataframe tbody tr th:only-of-type {\n",
       "        vertical-align: middle;\n",
       "    }\n",
       "\n",
       "    .dataframe tbody tr th {\n",
       "        vertical-align: top;\n",
       "    }\n",
       "\n",
       "    .dataframe thead th {\n",
       "        text-align: right;\n",
       "    }\n",
       "</style>\n",
       "<table border=\"1\" class=\"dataframe\">\n",
       "  <thead>\n",
       "    <tr style=\"text-align: right;\">\n",
       "      <th></th>\n",
       "      <th>Unnamed: 0</th>\n",
       "      <th>gene_0</th>\n",
       "      <th>gene_1</th>\n",
       "      <th>gene_2</th>\n",
       "      <th>gene_3</th>\n",
       "      <th>gene_4</th>\n",
       "      <th>gene_5</th>\n",
       "      <th>gene_6</th>\n",
       "      <th>gene_7</th>\n",
       "      <th>gene_8</th>\n",
       "      <th>...</th>\n",
       "      <th>gene_20521</th>\n",
       "      <th>gene_20522</th>\n",
       "      <th>gene_20523</th>\n",
       "      <th>gene_20524</th>\n",
       "      <th>gene_20525</th>\n",
       "      <th>gene_20526</th>\n",
       "      <th>gene_20527</th>\n",
       "      <th>gene_20528</th>\n",
       "      <th>gene_20529</th>\n",
       "      <th>gene_20530</th>\n",
       "    </tr>\n",
       "  </thead>\n",
       "  <tbody>\n",
       "    <tr>\n",
       "      <th>0</th>\n",
       "      <td>sample_0</td>\n",
       "      <td>0.0</td>\n",
       "      <td>2.017209</td>\n",
       "      <td>3.265527</td>\n",
       "      <td>5.478487</td>\n",
       "      <td>10.431999</td>\n",
       "      <td>0.0</td>\n",
       "      <td>7.175175</td>\n",
       "      <td>0.591871</td>\n",
       "      <td>0.0</td>\n",
       "      <td>...</td>\n",
       "      <td>4.926711</td>\n",
       "      <td>8.210257</td>\n",
       "      <td>9.723516</td>\n",
       "      <td>7.220030</td>\n",
       "      <td>9.119813</td>\n",
       "      <td>12.003135</td>\n",
       "      <td>9.650743</td>\n",
       "      <td>8.921326</td>\n",
       "      <td>5.286759</td>\n",
       "      <td>0.0</td>\n",
       "    </tr>\n",
       "    <tr>\n",
       "      <th>1</th>\n",
       "      <td>sample_1</td>\n",
       "      <td>0.0</td>\n",
       "      <td>0.592732</td>\n",
       "      <td>1.588421</td>\n",
       "      <td>7.586157</td>\n",
       "      <td>9.623011</td>\n",
       "      <td>0.0</td>\n",
       "      <td>6.816049</td>\n",
       "      <td>0.000000</td>\n",
       "      <td>0.0</td>\n",
       "      <td>...</td>\n",
       "      <td>4.593372</td>\n",
       "      <td>7.323865</td>\n",
       "      <td>9.740931</td>\n",
       "      <td>6.256586</td>\n",
       "      <td>8.381612</td>\n",
       "      <td>12.674552</td>\n",
       "      <td>10.517059</td>\n",
       "      <td>9.397854</td>\n",
       "      <td>2.094168</td>\n",
       "      <td>0.0</td>\n",
       "    </tr>\n",
       "    <tr>\n",
       "      <th>2</th>\n",
       "      <td>sample_2</td>\n",
       "      <td>0.0</td>\n",
       "      <td>3.511759</td>\n",
       "      <td>4.327199</td>\n",
       "      <td>6.881787</td>\n",
       "      <td>9.870730</td>\n",
       "      <td>0.0</td>\n",
       "      <td>6.972130</td>\n",
       "      <td>0.452595</td>\n",
       "      <td>0.0</td>\n",
       "      <td>...</td>\n",
       "      <td>5.125213</td>\n",
       "      <td>8.127123</td>\n",
       "      <td>10.908640</td>\n",
       "      <td>5.401607</td>\n",
       "      <td>9.911597</td>\n",
       "      <td>9.045255</td>\n",
       "      <td>9.788359</td>\n",
       "      <td>10.090470</td>\n",
       "      <td>1.683023</td>\n",
       "      <td>0.0</td>\n",
       "    </tr>\n",
       "    <tr>\n",
       "      <th>3</th>\n",
       "      <td>sample_3</td>\n",
       "      <td>0.0</td>\n",
       "      <td>3.663618</td>\n",
       "      <td>4.507649</td>\n",
       "      <td>6.659068</td>\n",
       "      <td>10.196184</td>\n",
       "      <td>0.0</td>\n",
       "      <td>7.843375</td>\n",
       "      <td>0.434882</td>\n",
       "      <td>0.0</td>\n",
       "      <td>...</td>\n",
       "      <td>6.076566</td>\n",
       "      <td>8.792959</td>\n",
       "      <td>10.141520</td>\n",
       "      <td>8.942805</td>\n",
       "      <td>9.601208</td>\n",
       "      <td>11.392682</td>\n",
       "      <td>9.694814</td>\n",
       "      <td>9.684365</td>\n",
       "      <td>3.292001</td>\n",
       "      <td>0.0</td>\n",
       "    </tr>\n",
       "    <tr>\n",
       "      <th>4</th>\n",
       "      <td>sample_4</td>\n",
       "      <td>0.0</td>\n",
       "      <td>2.655741</td>\n",
       "      <td>2.821547</td>\n",
       "      <td>6.539454</td>\n",
       "      <td>9.738265</td>\n",
       "      <td>0.0</td>\n",
       "      <td>6.566967</td>\n",
       "      <td>0.360982</td>\n",
       "      <td>0.0</td>\n",
       "      <td>...</td>\n",
       "      <td>5.996032</td>\n",
       "      <td>8.891425</td>\n",
       "      <td>10.373790</td>\n",
       "      <td>7.181162</td>\n",
       "      <td>9.846910</td>\n",
       "      <td>11.922439</td>\n",
       "      <td>9.217749</td>\n",
       "      <td>9.461191</td>\n",
       "      <td>5.110372</td>\n",
       "      <td>0.0</td>\n",
       "    </tr>\n",
       "  </tbody>\n",
       "</table>\n",
       "<p>5 rows × 20532 columns</p>\n",
       "</div>"
      ],
      "text/plain": [
       "  Unnamed: 0  gene_0    gene_1    gene_2    gene_3     gene_4  gene_5  \\\n",
       "0   sample_0     0.0  2.017209  3.265527  5.478487  10.431999     0.0   \n",
       "1   sample_1     0.0  0.592732  1.588421  7.586157   9.623011     0.0   \n",
       "2   sample_2     0.0  3.511759  4.327199  6.881787   9.870730     0.0   \n",
       "3   sample_3     0.0  3.663618  4.507649  6.659068  10.196184     0.0   \n",
       "4   sample_4     0.0  2.655741  2.821547  6.539454   9.738265     0.0   \n",
       "\n",
       "     gene_6    gene_7  gene_8  ...  gene_20521  gene_20522  gene_20523  \\\n",
       "0  7.175175  0.591871     0.0  ...    4.926711    8.210257    9.723516   \n",
       "1  6.816049  0.000000     0.0  ...    4.593372    7.323865    9.740931   \n",
       "2  6.972130  0.452595     0.0  ...    5.125213    8.127123   10.908640   \n",
       "3  7.843375  0.434882     0.0  ...    6.076566    8.792959   10.141520   \n",
       "4  6.566967  0.360982     0.0  ...    5.996032    8.891425   10.373790   \n",
       "\n",
       "   gene_20524  gene_20525  gene_20526  gene_20527  gene_20528  gene_20529  \\\n",
       "0    7.220030    9.119813   12.003135    9.650743    8.921326    5.286759   \n",
       "1    6.256586    8.381612   12.674552   10.517059    9.397854    2.094168   \n",
       "2    5.401607    9.911597    9.045255    9.788359   10.090470    1.683023   \n",
       "3    8.942805    9.601208   11.392682    9.694814    9.684365    3.292001   \n",
       "4    7.181162    9.846910   11.922439    9.217749    9.461191    5.110372   \n",
       "\n",
       "   gene_20530  \n",
       "0         0.0  \n",
       "1         0.0  \n",
       "2         0.0  \n",
       "3         0.0  \n",
       "4         0.0  \n",
       "\n",
       "[5 rows x 20532 columns]"
      ]
     },
     "execution_count": 9,
     "metadata": {},
     "output_type": "execute_result"
    }
   ],
   "source": [
    "data.head()"
   ]
  },
  {
   "cell_type": "code",
   "execution_count": 9,
   "id": "0db78c10",
   "metadata": {
    "scrolled": true
   },
   "outputs": [
    {
     "data": {
      "text/plain": [
       "<seaborn.axisgrid.PairGrid at 0x7fc8f4809be0>"
      ]
     },
     "execution_count": 9,
     "metadata": {},
     "output_type": "execute_result"
    },
    {
     "data": {
      "image/png": "[encoded data removed]",
      "text/plain": [
       "<Figure size 540x540 with 12 Axes>"
      ]
     },
     "metadata": {
      "needs_background": "light"
     },
     "output_type": "display_data"
    }
   ],
   "source": [
    "sns.pairplot(data, vars = [\"gene_0\", \"gene_1\", \"gene_2\"], dropna = True)"
   ]
  },
  {
   "cell_type": "code",
   "execution_count": 10,
   "id": "0105e41d",
   "metadata": {},
   "outputs": [],
   "source": [
    "#sns.pairplot(data, vars = [\"gene_0\", \"gene_1\", \"gene_2\"], dropna = True, hue = 'gene_1')"
   ]
  },
  {
   "cell_type": "code",
   "execution_count": 11,
   "id": "6f7be101",
   "metadata": {},
   "outputs": [],
   "source": [
    "#data[['gene_0', 'gene_1', 'gene_3']].corr()"
   ]
  },
  {
   "cell_type": "code",
   "execution_count": 12,
   "id": "76400a64",
   "metadata": {},
   "outputs": [],
   "source": [
    "#sns.heatmap(data[['gene_0', 'gene_1', 'gene_3']].corr(), annot=True, cmap='Reds')\n",
    "#plt.show()"
   ]
  },
  {
   "cell_type": "code",
   "execution_count": 10,
   "id": "0ddb145d",
   "metadata": {},
   "outputs": [],
   "source": [
    "new_data = data.iloc[: , 1:]"
   ]
  },
  {
   "cell_type": "code",
   "execution_count": 11,
   "id": "bc71e814",
   "metadata": {},
   "outputs": [
    {
     "data": {
      "text/html": [
       "<div>\n",
       "<style scoped>\n",
       "    .dataframe tbody tr th:only-of-type {\n",
       "        vertical-align: middle;\n",
       "    }\n",
       "\n",
       "    .dataframe tbody tr th {\n",
       "        vertical-align: top;\n",
       "    }\n",
       "\n",
       "    .dataframe thead th {\n",
       "        text-align: right;\n",
       "    }\n",
       "</style>\n",
       "<table border=\"1\" class=\"dataframe\">\n",
       "  <thead>\n",
       "    <tr style=\"text-align: right;\">\n",
       "      <th></th>\n",
       "      <th>gene_0</th>\n",
       "      <th>gene_1</th>\n",
       "      <th>gene_2</th>\n",
       "      <th>gene_3</th>\n",
       "      <th>gene_4</th>\n",
       "      <th>gene_5</th>\n",
       "      <th>gene_6</th>\n",
       "      <th>gene_7</th>\n",
       "      <th>gene_8</th>\n",
       "      <th>gene_9</th>\n",
       "      <th>...</th>\n",
       "      <th>gene_20521</th>\n",
       "      <th>gene_20522</th>\n",
       "      <th>gene_20523</th>\n",
       "      <th>gene_20524</th>\n",
       "      <th>gene_20525</th>\n",
       "      <th>gene_20526</th>\n",
       "      <th>gene_20527</th>\n",
       "      <th>gene_20528</th>\n",
       "      <th>gene_20529</th>\n",
       "      <th>gene_20530</th>\n",
       "    </tr>\n",
       "  </thead>\n",
       "  <tbody>\n",
       "    <tr>\n",
       "      <th>0</th>\n",
       "      <td>0.0</td>\n",
       "      <td>2.017209</td>\n",
       "      <td>3.265527</td>\n",
       "      <td>5.478487</td>\n",
       "      <td>10.431999</td>\n",
       "      <td>0.0</td>\n",
       "      <td>7.175175</td>\n",
       "      <td>0.591871</td>\n",
       "      <td>0.0</td>\n",
       "      <td>0.0</td>\n",
       "      <td>...</td>\n",
       "      <td>4.926711</td>\n",
       "      <td>8.210257</td>\n",
       "      <td>9.723516</td>\n",
       "      <td>7.220030</td>\n",
       "      <td>9.119813</td>\n",
       "      <td>12.003135</td>\n",
       "      <td>9.650743</td>\n",
       "      <td>8.921326</td>\n",
       "      <td>5.286759</td>\n",
       "      <td>0.000000</td>\n",
       "    </tr>\n",
       "    <tr>\n",
       "      <th>1</th>\n",
       "      <td>0.0</td>\n",
       "      <td>0.592732</td>\n",
       "      <td>1.588421</td>\n",
       "      <td>7.586157</td>\n",
       "      <td>9.623011</td>\n",
       "      <td>0.0</td>\n",
       "      <td>6.816049</td>\n",
       "      <td>0.000000</td>\n",
       "      <td>0.0</td>\n",
       "      <td>0.0</td>\n",
       "      <td>...</td>\n",
       "      <td>4.593372</td>\n",
       "      <td>7.323865</td>\n",
       "      <td>9.740931</td>\n",
       "      <td>6.256586</td>\n",
       "      <td>8.381612</td>\n",
       "      <td>12.674552</td>\n",
       "      <td>10.517059</td>\n",
       "      <td>9.397854</td>\n",
       "      <td>2.094168</td>\n",
       "      <td>0.000000</td>\n",
       "    </tr>\n",
       "    <tr>\n",
       "      <th>2</th>\n",
       "      <td>0.0</td>\n",
       "      <td>3.511759</td>\n",
       "      <td>4.327199</td>\n",
       "      <td>6.881787</td>\n",
       "      <td>9.870730</td>\n",
       "      <td>0.0</td>\n",
       "      <td>6.972130</td>\n",
       "      <td>0.452595</td>\n",
       "      <td>0.0</td>\n",
       "      <td>0.0</td>\n",
       "      <td>...</td>\n",
       "      <td>5.125213</td>\n",
       "      <td>8.127123</td>\n",
       "      <td>10.908640</td>\n",
       "      <td>5.401607</td>\n",
       "      <td>9.911597</td>\n",
       "      <td>9.045255</td>\n",
       "      <td>9.788359</td>\n",
       "      <td>10.090470</td>\n",
       "      <td>1.683023</td>\n",
       "      <td>0.000000</td>\n",
       "    </tr>\n",
       "    <tr>\n",
       "      <th>3</th>\n",
       "      <td>0.0</td>\n",
       "      <td>3.663618</td>\n",
       "      <td>4.507649</td>\n",
       "      <td>6.659068</td>\n",
       "      <td>10.196184</td>\n",
       "      <td>0.0</td>\n",
       "      <td>7.843375</td>\n",
       "      <td>0.434882</td>\n",
       "      <td>0.0</td>\n",
       "      <td>0.0</td>\n",
       "      <td>...</td>\n",
       "      <td>6.076566</td>\n",
       "      <td>8.792959</td>\n",
       "      <td>10.141520</td>\n",
       "      <td>8.942805</td>\n",
       "      <td>9.601208</td>\n",
       "      <td>11.392682</td>\n",
       "      <td>9.694814</td>\n",
       "      <td>9.684365</td>\n",
       "      <td>3.292001</td>\n",
       "      <td>0.000000</td>\n",
       "    </tr>\n",
       "    <tr>\n",
       "      <th>4</th>\n",
       "      <td>0.0</td>\n",
       "      <td>2.655741</td>\n",
       "      <td>2.821547</td>\n",
       "      <td>6.539454</td>\n",
       "      <td>9.738265</td>\n",
       "      <td>0.0</td>\n",
       "      <td>6.566967</td>\n",
       "      <td>0.360982</td>\n",
       "      <td>0.0</td>\n",
       "      <td>0.0</td>\n",
       "      <td>...</td>\n",
       "      <td>5.996032</td>\n",
       "      <td>8.891425</td>\n",
       "      <td>10.373790</td>\n",
       "      <td>7.181162</td>\n",
       "      <td>9.846910</td>\n",
       "      <td>11.922439</td>\n",
       "      <td>9.217749</td>\n",
       "      <td>9.461191</td>\n",
       "      <td>5.110372</td>\n",
       "      <td>0.000000</td>\n",
       "    </tr>\n",
       "    <tr>\n",
       "      <th>...</th>\n",
       "      <td>...</td>\n",
       "      <td>...</td>\n",
       "      <td>...</td>\n",
       "      <td>...</td>\n",
       "      <td>...</td>\n",
       "      <td>...</td>\n",
       "      <td>...</td>\n",
       "      <td>...</td>\n",
       "      <td>...</td>\n",
       "      <td>...</td>\n",
       "      <td>...</td>\n",
       "      <td>...</td>\n",
       "      <td>...</td>\n",
       "      <td>...</td>\n",
       "      <td>...</td>\n",
       "      <td>...</td>\n",
       "      <td>...</td>\n",
       "      <td>...</td>\n",
       "      <td>...</td>\n",
       "      <td>...</td>\n",
       "      <td>...</td>\n",
       "    </tr>\n",
       "    <tr>\n",
       "      <th>796</th>\n",
       "      <td>0.0</td>\n",
       "      <td>1.865642</td>\n",
       "      <td>2.718197</td>\n",
       "      <td>7.350099</td>\n",
       "      <td>10.006003</td>\n",
       "      <td>0.0</td>\n",
       "      <td>6.764792</td>\n",
       "      <td>0.496922</td>\n",
       "      <td>0.0</td>\n",
       "      <td>0.0</td>\n",
       "      <td>...</td>\n",
       "      <td>6.088133</td>\n",
       "      <td>9.118313</td>\n",
       "      <td>10.004852</td>\n",
       "      <td>4.484415</td>\n",
       "      <td>9.614701</td>\n",
       "      <td>12.031267</td>\n",
       "      <td>9.813063</td>\n",
       "      <td>10.092770</td>\n",
       "      <td>8.819269</td>\n",
       "      <td>0.000000</td>\n",
       "    </tr>\n",
       "    <tr>\n",
       "      <th>797</th>\n",
       "      <td>0.0</td>\n",
       "      <td>3.942955</td>\n",
       "      <td>4.453807</td>\n",
       "      <td>6.346597</td>\n",
       "      <td>10.056868</td>\n",
       "      <td>0.0</td>\n",
       "      <td>7.320331</td>\n",
       "      <td>0.000000</td>\n",
       "      <td>0.0</td>\n",
       "      <td>0.0</td>\n",
       "      <td>...</td>\n",
       "      <td>6.371876</td>\n",
       "      <td>9.623335</td>\n",
       "      <td>9.823921</td>\n",
       "      <td>6.555327</td>\n",
       "      <td>9.064002</td>\n",
       "      <td>11.633422</td>\n",
       "      <td>10.317266</td>\n",
       "      <td>8.745983</td>\n",
       "      <td>9.659081</td>\n",
       "      <td>0.000000</td>\n",
       "    </tr>\n",
       "    <tr>\n",
       "      <th>798</th>\n",
       "      <td>0.0</td>\n",
       "      <td>3.249582</td>\n",
       "      <td>3.707492</td>\n",
       "      <td>8.185901</td>\n",
       "      <td>9.504082</td>\n",
       "      <td>0.0</td>\n",
       "      <td>7.536589</td>\n",
       "      <td>1.811101</td>\n",
       "      <td>0.0</td>\n",
       "      <td>0.0</td>\n",
       "      <td>...</td>\n",
       "      <td>5.719386</td>\n",
       "      <td>8.610704</td>\n",
       "      <td>10.485517</td>\n",
       "      <td>3.589763</td>\n",
       "      <td>9.350636</td>\n",
       "      <td>12.180944</td>\n",
       "      <td>10.681194</td>\n",
       "      <td>9.466711</td>\n",
       "      <td>4.677458</td>\n",
       "      <td>0.586693</td>\n",
       "    </tr>\n",
       "    <tr>\n",
       "      <th>799</th>\n",
       "      <td>0.0</td>\n",
       "      <td>2.590339</td>\n",
       "      <td>2.787976</td>\n",
       "      <td>7.318624</td>\n",
       "      <td>9.987136</td>\n",
       "      <td>0.0</td>\n",
       "      <td>9.213464</td>\n",
       "      <td>0.000000</td>\n",
       "      <td>0.0</td>\n",
       "      <td>0.0</td>\n",
       "      <td>...</td>\n",
       "      <td>5.785237</td>\n",
       "      <td>8.605387</td>\n",
       "      <td>11.004677</td>\n",
       "      <td>4.745888</td>\n",
       "      <td>9.626383</td>\n",
       "      <td>11.198279</td>\n",
       "      <td>10.335513</td>\n",
       "      <td>10.400581</td>\n",
       "      <td>5.718751</td>\n",
       "      <td>0.000000</td>\n",
       "    </tr>\n",
       "    <tr>\n",
       "      <th>800</th>\n",
       "      <td>0.0</td>\n",
       "      <td>2.325242</td>\n",
       "      <td>3.805932</td>\n",
       "      <td>6.530246</td>\n",
       "      <td>9.560367</td>\n",
       "      <td>0.0</td>\n",
       "      <td>7.957027</td>\n",
       "      <td>0.000000</td>\n",
       "      <td>0.0</td>\n",
       "      <td>0.0</td>\n",
       "      <td>...</td>\n",
       "      <td>6.403075</td>\n",
       "      <td>8.594354</td>\n",
       "      <td>10.243079</td>\n",
       "      <td>9.139459</td>\n",
       "      <td>10.102934</td>\n",
       "      <td>11.641081</td>\n",
       "      <td>10.607358</td>\n",
       "      <td>9.844794</td>\n",
       "      <td>4.550716</td>\n",
       "      <td>0.000000</td>\n",
       "    </tr>\n",
       "  </tbody>\n",
       "</table>\n",
       "<p>801 rows × 20531 columns</p>\n",
       "</div>"
      ],
      "text/plain": [
       "     gene_0    gene_1    gene_2    gene_3     gene_4  gene_5    gene_6  \\\n",
       "0       0.0  2.017209  3.265527  5.478487  10.431999     0.0  7.175175   \n",
       "1       0.0  0.592732  1.588421  7.586157   9.623011     0.0  6.816049   \n",
       "2       0.0  3.511759  4.327199  6.881787   9.870730     0.0  6.972130   \n",
       "3       0.0  3.663618  4.507649  6.659068  10.196184     0.0  7.843375   \n",
       "4       0.0  2.655741  2.821547  6.539454   9.738265     0.0  6.566967   \n",
       "..      ...       ...       ...       ...        ...     ...       ...   \n",
       "796     0.0  1.865642  2.718197  7.350099  10.006003     0.0  6.764792   \n",
       "797     0.0  3.942955  4.453807  6.346597  10.056868     0.0  7.320331   \n",
       "798     0.0  3.249582  3.707492  8.185901   9.504082     0.0  7.536589   \n",
       "799     0.0  2.590339  2.787976  7.318624   9.987136     0.0  9.213464   \n",
       "800     0.0  2.325242  3.805932  6.530246   9.560367     0.0  7.957027   \n",
       "\n",
       "       gene_7  gene_8  gene_9  ...  gene_20521  gene_20522  gene_20523  \\\n",
       "0    0.591871     0.0     0.0  ...    4.926711    8.210257    9.723516   \n",
       "1    0.000000     0.0     0.0  ...    4.593372    7.323865    9.740931   \n",
       "2    0.452595     0.0     0.0  ...    5.125213    8.127123   10.908640   \n",
       "3    0.434882     0.0     0.0  ...    6.076566    8.792959   10.141520   \n",
       "4    0.360982     0.0     0.0  ...    5.996032    8.891425   10.373790   \n",
       "..        ...     ...     ...  ...         ...         ...         ...   \n",
       "796  0.496922     0.0     0.0  ...    6.088133    9.118313   10.004852   \n",
       "797  0.000000     0.0     0.0  ...    6.371876    9.623335    9.823921   \n",
       "798  1.811101     0.0     0.0  ...    5.719386    8.610704   10.485517   \n",
       "799  0.000000     0.0     0.0  ...    5.785237    8.605387   11.004677   \n",
       "800  0.000000     0.0     0.0  ...    6.403075    8.594354   10.243079   \n",
       "\n",
       "     gene_20524  gene_20525  gene_20526  gene_20527  gene_20528  gene_20529  \\\n",
       "0      7.220030    9.119813   12.003135    9.650743    8.921326    5.286759   \n",
       "1      6.256586    8.381612   12.674552   10.517059    9.397854    2.094168   \n",
       "2      5.401607    9.911597    9.045255    9.788359   10.090470    1.683023   \n",
       "3      8.942805    9.601208   11.392682    9.694814    9.684365    3.292001   \n",
       "4      7.181162    9.846910   11.922439    9.217749    9.461191    5.110372   \n",
       "..          ...         ...         ...         ...         ...         ...   \n",
       "796    4.484415    9.614701   12.031267    9.813063   10.092770    8.819269   \n",
       "797    6.555327    9.064002   11.633422   10.317266    8.745983    9.659081   \n",
       "798    3.589763    9.350636   12.180944   10.681194    9.466711    4.677458   \n",
       "799    4.745888    9.626383   11.198279   10.335513   10.400581    5.718751   \n",
       "800    9.139459   10.102934   11.641081   10.607358    9.844794    4.550716   \n",
       "\n",
       "     gene_20530  \n",
       "0      0.000000  \n",
       "1      0.000000  \n",
       "2      0.000000  \n",
       "3      0.000000  \n",
       "4      0.000000  \n",
       "..          ...  \n",
       "796    0.000000  \n",
       "797    0.000000  \n",
       "798    0.586693  \n",
       "799    0.000000  \n",
       "800    0.000000  \n",
       "\n",
       "[801 rows x 20531 columns]"
      ]
     },
     "execution_count": 11,
     "metadata": {},
     "output_type": "execute_result"
    }
   ],
   "source": [
    "new_data"
   ]
  },
  {
   "cell_type": "code",
   "execution_count": 12,
   "id": "31ab7639",
   "metadata": {},
   "outputs": [],
   "source": [
    "labels = pd.read_csv(\"labels.csv\")"
   ]
  },
  {
   "cell_type": "code",
   "execution_count": 13,
   "id": "3c4a61ce",
   "metadata": {},
   "outputs": [
    {
     "data": {
      "text/html": [
       "<div>\n",
       "<style scoped>\n",
       "    .dataframe tbody tr th:only-of-type {\n",
       "        vertical-align: middle;\n",
       "    }\n",
       "\n",
       "    .dataframe tbody tr th {\n",
       "        vertical-align: top;\n",
       "    }\n",
       "\n",
       "    .dataframe thead th {\n",
       "        text-align: right;\n",
       "    }\n",
       "</style>\n",
       "<table border=\"1\" class=\"dataframe\">\n",
       "  <thead>\n",
       "    <tr style=\"text-align: right;\">\n",
       "      <th></th>\n",
       "      <th>Unnamed: 0</th>\n",
       "      <th>Class</th>\n",
       "    </tr>\n",
       "  </thead>\n",
       "  <tbody>\n",
       "    <tr>\n",
       "      <th>0</th>\n",
       "      <td>sample_0</td>\n",
       "      <td>PRAD</td>\n",
       "    </tr>\n",
       "    <tr>\n",
       "      <th>1</th>\n",
       "      <td>sample_1</td>\n",
       "      <td>LUAD</td>\n",
       "    </tr>\n",
       "    <tr>\n",
       "      <th>2</th>\n",
       "      <td>sample_2</td>\n",
       "      <td>PRAD</td>\n",
       "    </tr>\n",
       "    <tr>\n",
       "      <th>3</th>\n",
       "      <td>sample_3</td>\n",
       "      <td>PRAD</td>\n",
       "    </tr>\n",
       "    <tr>\n",
       "      <th>4</th>\n",
       "      <td>sample_4</td>\n",
       "      <td>BRCA</td>\n",
       "    </tr>\n",
       "    <tr>\n",
       "      <th>...</th>\n",
       "      <td>...</td>\n",
       "      <td>...</td>\n",
       "    </tr>\n",
       "    <tr>\n",
       "      <th>796</th>\n",
       "      <td>sample_796</td>\n",
       "      <td>BRCA</td>\n",
       "    </tr>\n",
       "    <tr>\n",
       "      <th>797</th>\n",
       "      <td>sample_797</td>\n",
       "      <td>LUAD</td>\n",
       "    </tr>\n",
       "    <tr>\n",
       "      <th>798</th>\n",
       "      <td>sample_798</td>\n",
       "      <td>COAD</td>\n",
       "    </tr>\n",
       "    <tr>\n",
       "      <th>799</th>\n",
       "      <td>sample_799</td>\n",
       "      <td>PRAD</td>\n",
       "    </tr>\n",
       "    <tr>\n",
       "      <th>800</th>\n",
       "      <td>sample_800</td>\n",
       "      <td>PRAD</td>\n",
       "    </tr>\n",
       "  </tbody>\n",
       "</table>\n",
       "<p>801 rows × 2 columns</p>\n",
       "</div>"
      ],
      "text/plain": [
       "     Unnamed: 0 Class\n",
       "0      sample_0  PRAD\n",
       "1      sample_1  LUAD\n",
       "2      sample_2  PRAD\n",
       "3      sample_3  PRAD\n",
       "4      sample_4  BRCA\n",
       "..          ...   ...\n",
       "796  sample_796  BRCA\n",
       "797  sample_797  LUAD\n",
       "798  sample_798  COAD\n",
       "799  sample_799  PRAD\n",
       "800  sample_800  PRAD\n",
       "\n",
       "[801 rows x 2 columns]"
      ]
     },
     "execution_count": 13,
     "metadata": {},
     "output_type": "execute_result"
    }
   ],
   "source": [
    "labels"
   ]
  },
  {
   "cell_type": "code",
   "execution_count": 14,
   "id": "ba999578",
   "metadata": {},
   "outputs": [
    {
     "data": {
      "text/plain": [
       "Unnamed: 0    0\n",
       "Class         0\n",
       "dtype: int64"
      ]
     },
     "execution_count": 14,
     "metadata": {},
     "output_type": "execute_result"
    }
   ],
   "source": [
    "labels.isnull().sum()"
   ]
  },
  {
   "cell_type": "code",
   "execution_count": 15,
   "id": "4d2c6bfa",
   "metadata": {},
   "outputs": [
    {
     "data": {
      "text/plain": [
       "(801, 2)"
      ]
     },
     "execution_count": 15,
     "metadata": {},
     "output_type": "execute_result"
    }
   ],
   "source": [
    "labels.shape"
   ]
  },
  {
   "cell_type": "code",
   "execution_count": 16,
   "id": "46460786",
   "metadata": {},
   "outputs": [
    {
     "data": {
      "text/html": [
       "<div>\n",
       "<style scoped>\n",
       "    .dataframe tbody tr th:only-of-type {\n",
       "        vertical-align: middle;\n",
       "    }\n",
       "\n",
       "    .dataframe tbody tr th {\n",
       "        vertical-align: top;\n",
       "    }\n",
       "\n",
       "    .dataframe thead th {\n",
       "        text-align: right;\n",
       "    }\n",
       "</style>\n",
       "<table border=\"1\" class=\"dataframe\">\n",
       "  <thead>\n",
       "    <tr style=\"text-align: right;\">\n",
       "      <th></th>\n",
       "      <th>Unnamed: 0</th>\n",
       "      <th>Class</th>\n",
       "    </tr>\n",
       "  </thead>\n",
       "  <tbody>\n",
       "    <tr>\n",
       "      <th>0</th>\n",
       "      <td>sample_0</td>\n",
       "      <td>PRAD</td>\n",
       "    </tr>\n",
       "    <tr>\n",
       "      <th>1</th>\n",
       "      <td>sample_1</td>\n",
       "      <td>LUAD</td>\n",
       "    </tr>\n",
       "    <tr>\n",
       "      <th>2</th>\n",
       "      <td>sample_2</td>\n",
       "      <td>PRAD</td>\n",
       "    </tr>\n",
       "    <tr>\n",
       "      <th>3</th>\n",
       "      <td>sample_3</td>\n",
       "      <td>PRAD</td>\n",
       "    </tr>\n",
       "    <tr>\n",
       "      <th>4</th>\n",
       "      <td>sample_4</td>\n",
       "      <td>BRCA</td>\n",
       "    </tr>\n",
       "  </tbody>\n",
       "</table>\n",
       "</div>"
      ],
      "text/plain": [
       "  Unnamed: 0 Class\n",
       "0   sample_0  PRAD\n",
       "1   sample_1  LUAD\n",
       "2   sample_2  PRAD\n",
       "3   sample_3  PRAD\n",
       "4   sample_4  BRCA"
      ]
     },
     "execution_count": 16,
     "metadata": {},
     "output_type": "execute_result"
    }
   ],
   "source": [
    "labels.head()"
   ]
  },
  {
   "cell_type": "code",
   "execution_count": 17,
   "id": "97e88dad",
   "metadata": {},
   "outputs": [
    {
     "data": {
      "text/plain": [
       "Unnamed: 0  Class\n",
       "sample_0    PRAD     1\n",
       "sample_583  KIRC     1\n",
       "sample_574  BRCA     1\n",
       "sample_575  KIRC     1\n",
       "sample_576  LUAD     1\n",
       "                    ..\n",
       "sample_341  BRCA     1\n",
       "sample_342  BRCA     1\n",
       "sample_343  LUAD     1\n",
       "sample_344  LUAD     1\n",
       "sample_99   BRCA     1\n",
       "Length: 801, dtype: int64"
      ]
     },
     "execution_count": 17,
     "metadata": {},
     "output_type": "execute_result"
    }
   ],
   "source": [
    "labels.value_counts()"
   ]
  },
  {
   "cell_type": "code",
   "execution_count": 18,
   "id": "09a1397f",
   "metadata": {},
   "outputs": [],
   "source": [
    "new_label = labels.iloc[: , 1:]"
   ]
  },
  {
   "cell_type": "code",
   "execution_count": 19,
   "id": "1be673c3",
   "metadata": {
    "scrolled": false
   },
   "outputs": [
    {
     "data": {
      "text/html": [
       "<div>\n",
       "<style scoped>\n",
       "    .dataframe tbody tr th:only-of-type {\n",
       "        vertical-align: middle;\n",
       "    }\n",
       "\n",
       "    .dataframe tbody tr th {\n",
       "        vertical-align: top;\n",
       "    }\n",
       "\n",
       "    .dataframe thead th {\n",
       "        text-align: right;\n",
       "    }\n",
       "</style>\n",
       "<table border=\"1\" class=\"dataframe\">\n",
       "  <thead>\n",
       "    <tr style=\"text-align: right;\">\n",
       "      <th></th>\n",
       "      <th>Class</th>\n",
       "    </tr>\n",
       "  </thead>\n",
       "  <tbody>\n",
       "    <tr>\n",
       "      <th>0</th>\n",
       "      <td>PRAD</td>\n",
       "    </tr>\n",
       "    <tr>\n",
       "      <th>1</th>\n",
       "      <td>LUAD</td>\n",
       "    </tr>\n",
       "    <tr>\n",
       "      <th>2</th>\n",
       "      <td>PRAD</td>\n",
       "    </tr>\n",
       "    <tr>\n",
       "      <th>3</th>\n",
       "      <td>PRAD</td>\n",
       "    </tr>\n",
       "    <tr>\n",
       "      <th>4</th>\n",
       "      <td>BRCA</td>\n",
       "    </tr>\n",
       "    <tr>\n",
       "      <th>...</th>\n",
       "      <td>...</td>\n",
       "    </tr>\n",
       "    <tr>\n",
       "      <th>796</th>\n",
       "      <td>BRCA</td>\n",
       "    </tr>\n",
       "    <tr>\n",
       "      <th>797</th>\n",
       "      <td>LUAD</td>\n",
       "    </tr>\n",
       "    <tr>\n",
       "      <th>798</th>\n",
       "      <td>COAD</td>\n",
       "    </tr>\n",
       "    <tr>\n",
       "      <th>799</th>\n",
       "      <td>PRAD</td>\n",
       "    </tr>\n",
       "    <tr>\n",
       "      <th>800</th>\n",
       "      <td>PRAD</td>\n",
       "    </tr>\n",
       "  </tbody>\n",
       "</table>\n",
       "<p>801 rows × 1 columns</p>\n",
       "</div>"
      ],
      "text/plain": [
       "    Class\n",
       "0    PRAD\n",
       "1    LUAD\n",
       "2    PRAD\n",
       "3    PRAD\n",
       "4    BRCA\n",
       "..    ...\n",
       "796  BRCA\n",
       "797  LUAD\n",
       "798  COAD\n",
       "799  PRAD\n",
       "800  PRAD\n",
       "\n",
       "[801 rows x 1 columns]"
      ]
     },
     "execution_count": 19,
     "metadata": {},
     "output_type": "execute_result"
    }
   ],
   "source": [
    "new_label"
   ]
  },
  {
   "cell_type": "code",
   "execution_count": 20,
   "id": "eccb8d4a",
   "metadata": {
    "scrolled": true
   },
   "outputs": [
    {
     "data": {
      "text/plain": [
       "Class\n",
       "BRCA     0.374532\n",
       "KIRC     0.182272\n",
       "LUAD     0.176030\n",
       "PRAD     0.169788\n",
       "COAD     0.097378\n",
       "dtype: float64"
      ]
     },
     "execution_count": 20,
     "metadata": {},
     "output_type": "execute_result"
    }
   ],
   "source": [
    "new_label.value_counts(normalize=True)"
   ]
  },
  {
   "cell_type": "code",
   "execution_count": 21,
   "id": "9e4788e0",
   "metadata": {
    "scrolled": true
   },
   "outputs": [
    {
     "data": {
      "text/plain": [
       "Class\n",
       "BRCA     300\n",
       "KIRC     146\n",
       "LUAD     141\n",
       "PRAD     136\n",
       "COAD      78\n",
       "dtype: int64"
      ]
     },
     "execution_count": 21,
     "metadata": {},
     "output_type": "execute_result"
    }
   ],
   "source": [
    "new_label.value_counts()"
   ]
  },
  {
   "cell_type": "code",
   "execution_count": 22,
   "id": "003b62f2",
   "metadata": {
    "scrolled": false
   },
   "outputs": [
    {
     "data": {
      "image/png": "[encoded data removed]",
      "text/plain": [
       "<Figure size 432x288 with 1 Axes>"
      ]
     },
     "metadata": {},
     "output_type": "display_data"
    }
   ],
   "source": [
    "new_label.value_counts(normalize=True).plot.pie(autopct='%1.1f%%')\n",
    "plt.suptitle('SPLIT', size=28)\n",
    "plt.show()"
   ]
  },
  {
   "cell_type": "markdown",
   "id": "a03f9bb8",
   "metadata": {},
   "source": [
    "# MUTUAL INFORMATION MODEL"
   ]
  },
  {
   "cell_type": "code",
   "execution_count": 26,
   "id": "79668479",
   "metadata": {},
   "outputs": [],
   "source": [
    "X = new_data"
   ]
  },
  {
   "cell_type": "code",
   "execution_count": 27,
   "id": "24692507",
   "metadata": {},
   "outputs": [],
   "source": [
    "y = new_label.values.ravel()"
   ]
  },
  {
   "cell_type": "code",
   "execution_count": 28,
   "id": "42c937eb",
   "metadata": {},
   "outputs": [
    {
     "data": {
      "text/plain": [
       "array(['PRAD', 'LUAD', 'PRAD', 'PRAD', 'BRCA', 'PRAD', 'KIRC', 'PRAD',\n",
       "       'BRCA', 'PRAD', 'BRCA', 'KIRC', 'PRAD', 'BRCA', 'BRCA', 'BRCA',\n",
       "       'LUAD', 'KIRC', 'KIRC', 'PRAD', 'BRCA', 'KIRC', 'LUAD', 'BRCA',\n",
       "       'KIRC', 'LUAD', 'COAD', 'BRCA', 'BRCA', 'BRCA', 'BRCA', 'BRCA',\n",
       "       'KIRC', 'BRCA', 'PRAD', 'BRCA', 'KIRC', 'LUAD', 'BRCA', 'BRCA',\n",
       "       'KIRC', 'PRAD', 'PRAD', 'KIRC', 'KIRC', 'BRCA', 'PRAD', 'COAD',\n",
       "       'BRCA', 'LUAD', 'BRCA', 'LUAD', 'BRCA', 'PRAD', 'COAD', 'BRCA',\n",
       "       'BRCA', 'COAD', 'KIRC', 'BRCA', 'LUAD', 'KIRC', 'BRCA', 'LUAD',\n",
       "       'PRAD', 'COAD', 'BRCA', 'PRAD', 'KIRC', 'BRCA', 'KIRC', 'BRCA',\n",
       "       'BRCA', 'LUAD', 'BRCA', 'LUAD', 'BRCA', 'KIRC', 'PRAD', 'COAD',\n",
       "       'BRCA', 'PRAD', 'BRCA', 'BRCA', 'PRAD', 'PRAD', 'BRCA', 'BRCA',\n",
       "       'KIRC', 'BRCA', 'PRAD', 'PRAD', 'BRCA', 'BRCA', 'BRCA', 'PRAD',\n",
       "       'COAD', 'BRCA', 'PRAD', 'BRCA', 'BRCA', 'KIRC', 'BRCA', 'KIRC',\n",
       "       'LUAD', 'KIRC', 'LUAD', 'COAD', 'LUAD', 'LUAD', 'PRAD', 'BRCA',\n",
       "       'LUAD', 'PRAD', 'BRCA', 'KIRC', 'KIRC', 'KIRC', 'BRCA', 'BRCA',\n",
       "       'LUAD', 'KIRC', 'LUAD', 'BRCA', 'PRAD', 'PRAD', 'PRAD', 'BRCA',\n",
       "       'KIRC', 'LUAD', 'COAD', 'BRCA', 'COAD', 'BRCA', 'BRCA', 'KIRC',\n",
       "       'LUAD', 'BRCA', 'KIRC', 'COAD', 'BRCA', 'PRAD', 'BRCA', 'KIRC',\n",
       "       'LUAD', 'COAD', 'PRAD', 'BRCA', 'LUAD', 'LUAD', 'LUAD', 'LUAD',\n",
       "       'BRCA', 'BRCA', 'LUAD', 'BRCA', 'BRCA', 'PRAD', 'PRAD', 'LUAD',\n",
       "       'PRAD', 'LUAD', 'KIRC', 'BRCA', 'PRAD', 'LUAD', 'COAD', 'KIRC',\n",
       "       'LUAD', 'BRCA', 'KIRC', 'LUAD', 'BRCA', 'LUAD', 'BRCA', 'BRCA',\n",
       "       'BRCA', 'PRAD', 'BRCA', 'KIRC', 'COAD', 'KIRC', 'BRCA', 'PRAD',\n",
       "       'PRAD', 'PRAD', 'LUAD', 'LUAD', 'BRCA', 'LUAD', 'LUAD', 'KIRC',\n",
       "       'LUAD', 'PRAD', 'LUAD', 'BRCA', 'BRCA', 'BRCA', 'LUAD', 'LUAD',\n",
       "       'BRCA', 'KIRC', 'KIRC', 'KIRC', 'KIRC', 'PRAD', 'BRCA', 'PRAD',\n",
       "       'BRCA', 'LUAD', 'LUAD', 'BRCA', 'PRAD', 'BRCA', 'PRAD', 'BRCA',\n",
       "       'BRCA', 'BRCA', 'LUAD', 'BRCA', 'KIRC', 'LUAD', 'KIRC', 'KIRC',\n",
       "       'LUAD', 'BRCA', 'KIRC', 'PRAD', 'BRCA', 'LUAD', 'LUAD', 'PRAD',\n",
       "       'COAD', 'BRCA', 'KIRC', 'PRAD', 'KIRC', 'COAD', 'BRCA', 'KIRC',\n",
       "       'KIRC', 'LUAD', 'PRAD', 'PRAD', 'LUAD', 'LUAD', 'KIRC', 'BRCA',\n",
       "       'BRCA', 'COAD', 'BRCA', 'PRAD', 'COAD', 'BRCA', 'PRAD', 'KIRC',\n",
       "       'PRAD', 'PRAD', 'PRAD', 'BRCA', 'COAD', 'COAD', 'LUAD', 'COAD',\n",
       "       'COAD', 'PRAD', 'LUAD', 'BRCA', 'BRCA', 'KIRC', 'KIRC', 'BRCA',\n",
       "       'COAD', 'PRAD', 'KIRC', 'PRAD', 'BRCA', 'BRCA', 'KIRC', 'BRCA',\n",
       "       'BRCA', 'BRCA', 'BRCA', 'LUAD', 'LUAD', 'BRCA', 'BRCA', 'BRCA',\n",
       "       'KIRC', 'KIRC', 'KIRC', 'KIRC', 'BRCA', 'BRCA', 'BRCA', 'KIRC',\n",
       "       'BRCA', 'BRCA', 'LUAD', 'PRAD', 'BRCA', 'BRCA', 'COAD', 'LUAD',\n",
       "       'PRAD', 'BRCA', 'BRCA', 'BRCA', 'COAD', 'BRCA', 'PRAD', 'BRCA',\n",
       "       'COAD', 'LUAD', 'LUAD', 'PRAD', 'KIRC', 'BRCA', 'KIRC', 'KIRC',\n",
       "       'LUAD', 'COAD', 'KIRC', 'BRCA', 'BRCA', 'BRCA', 'BRCA', 'KIRC',\n",
       "       'BRCA', 'BRCA', 'PRAD', 'BRCA', 'KIRC', 'BRCA', 'LUAD', 'PRAD',\n",
       "       'KIRC', 'BRCA', 'PRAD', 'COAD', 'BRCA', 'BRCA', 'BRCA', 'LUAD',\n",
       "       'LUAD', 'LUAD', 'BRCA', 'BRCA', 'PRAD', 'LUAD', 'BRCA', 'KIRC',\n",
       "       'BRCA', 'COAD', 'COAD', 'LUAD', 'BRCA', 'KIRC', 'BRCA', 'BRCA',\n",
       "       'BRCA', 'COAD', 'LUAD', 'COAD', 'KIRC', 'PRAD', 'KIRC', 'BRCA',\n",
       "       'BRCA', 'KIRC', 'BRCA', 'COAD', 'PRAD', 'LUAD', 'PRAD', 'BRCA',\n",
       "       'KIRC', 'PRAD', 'BRCA', 'COAD', 'KIRC', 'KIRC', 'COAD', 'COAD',\n",
       "       'PRAD', 'BRCA', 'BRCA', 'COAD', 'KIRC', 'BRCA', 'PRAD', 'BRCA',\n",
       "       'BRCA', 'BRCA', 'LUAD', 'LUAD', 'KIRC', 'LUAD', 'BRCA', 'KIRC',\n",
       "       'COAD', 'PRAD', 'BRCA', 'LUAD', 'PRAD', 'BRCA', 'BRCA', 'BRCA',\n",
       "       'LUAD', 'BRCA', 'BRCA', 'PRAD', 'BRCA', 'PRAD', 'COAD', 'BRCA',\n",
       "       'LUAD', 'BRCA', 'BRCA', 'LUAD', 'BRCA', 'BRCA', 'BRCA', 'KIRC',\n",
       "       'LUAD', 'PRAD', 'BRCA', 'PRAD', 'KIRC', 'BRCA', 'KIRC', 'COAD',\n",
       "       'BRCA', 'PRAD', 'LUAD', 'KIRC', 'BRCA', 'BRCA', 'KIRC', 'BRCA',\n",
       "       'LUAD', 'BRCA', 'BRCA', 'PRAD', 'COAD', 'BRCA', 'KIRC', 'LUAD',\n",
       "       'PRAD', 'BRCA', 'PRAD', 'BRCA', 'BRCA', 'BRCA', 'BRCA', 'KIRC',\n",
       "       'LUAD', 'BRCA', 'KIRC', 'BRCA', 'BRCA', 'LUAD', 'LUAD', 'KIRC',\n",
       "       'COAD', 'PRAD', 'COAD', 'BRCA', 'KIRC', 'KIRC', 'BRCA', 'PRAD',\n",
       "       'KIRC', 'COAD', 'LUAD', 'LUAD', 'BRCA', 'PRAD', 'PRAD', 'BRCA',\n",
       "       'PRAD', 'LUAD', 'KIRC', 'PRAD', 'BRCA', 'LUAD', 'PRAD', 'LUAD',\n",
       "       'BRCA', 'BRCA', 'COAD', 'LUAD', 'KIRC', 'COAD', 'LUAD', 'BRCA',\n",
       "       'PRAD', 'BRCA', 'BRCA', 'PRAD', 'BRCA', 'COAD', 'BRCA', 'COAD',\n",
       "       'KIRC', 'BRCA', 'BRCA', 'LUAD', 'LUAD', 'LUAD', 'COAD', 'KIRC',\n",
       "       'LUAD', 'LUAD', 'BRCA', 'BRCA', 'KIRC', 'PRAD', 'LUAD', 'PRAD',\n",
       "       'BRCA', 'KIRC', 'BRCA', 'KIRC', 'KIRC', 'PRAD', 'PRAD', 'LUAD',\n",
       "       'BRCA', 'KIRC', 'COAD', 'COAD', 'BRCA', 'KIRC', 'KIRC', 'BRCA',\n",
       "       'BRCA', 'PRAD', 'KIRC', 'COAD', 'BRCA', 'BRCA', 'COAD', 'LUAD',\n",
       "       'BRCA', 'BRCA', 'BRCA', 'KIRC', 'PRAD', 'LUAD', 'LUAD', 'BRCA',\n",
       "       'KIRC', 'COAD', 'KIRC', 'KIRC', 'BRCA', 'PRAD', 'LUAD', 'KIRC',\n",
       "       'BRCA', 'COAD', 'LUAD', 'LUAD', 'LUAD', 'PRAD', 'LUAD', 'KIRC',\n",
       "       'BRCA', 'BRCA', 'COAD', 'PRAD', 'BRCA', 'BRCA', 'BRCA', 'KIRC',\n",
       "       'LUAD', 'LUAD', 'BRCA', 'PRAD', 'LUAD', 'LUAD', 'BRCA', 'KIRC',\n",
       "       'PRAD', 'COAD', 'LUAD', 'PRAD', 'COAD', 'LUAD', 'COAD', 'KIRC',\n",
       "       'KIRC', 'BRCA', 'BRCA', 'KIRC', 'KIRC', 'COAD', 'BRCA', 'LUAD',\n",
       "       'PRAD', 'PRAD', 'KIRC', 'BRCA', 'LUAD', 'BRCA', 'BRCA', 'COAD',\n",
       "       'BRCA', 'PRAD', 'PRAD', 'BRCA', 'BRCA', 'COAD', 'BRCA', 'KIRC',\n",
       "       'BRCA', 'BRCA', 'COAD', 'BRCA', 'PRAD', 'BRCA', 'BRCA', 'KIRC',\n",
       "       'PRAD', 'LUAD', 'BRCA', 'BRCA', 'KIRC', 'BRCA', 'BRCA', 'BRCA',\n",
       "       'BRCA', 'BRCA', 'COAD', 'LUAD', 'LUAD', 'BRCA', 'BRCA', 'BRCA',\n",
       "       'PRAD', 'BRCA', 'BRCA', 'KIRC', 'LUAD', 'LUAD', 'KIRC', 'KIRC',\n",
       "       'LUAD', 'KIRC', 'COAD', 'BRCA', 'COAD', 'KIRC', 'BRCA', 'BRCA',\n",
       "       'PRAD', 'PRAD', 'PRAD', 'LUAD', 'PRAD', 'PRAD', 'COAD', 'BRCA',\n",
       "       'BRCA', 'COAD', 'LUAD', 'KIRC', 'BRCA', 'KIRC', 'COAD', 'BRCA',\n",
       "       'BRCA', 'BRCA', 'PRAD', 'LUAD', 'KIRC', 'BRCA', 'PRAD', 'KIRC',\n",
       "       'PRAD', 'BRCA', 'LUAD', 'KIRC', 'PRAD', 'LUAD', 'PRAD', 'PRAD',\n",
       "       'BRCA', 'KIRC', 'PRAD', 'LUAD', 'COAD', 'COAD', 'BRCA', 'BRCA',\n",
       "       'BRCA', 'LUAD', 'KIRC', 'KIRC', 'KIRC', 'BRCA', 'LUAD', 'KIRC',\n",
       "       'PRAD', 'BRCA', 'LUAD', 'PRAD', 'BRCA', 'PRAD', 'BRCA', 'KIRC',\n",
       "       'BRCA', 'COAD', 'PRAD', 'PRAD', 'KIRC', 'PRAD', 'KIRC', 'BRCA',\n",
       "       'LUAD', 'LUAD', 'BRCA', 'BRCA', 'KIRC', 'BRCA', 'BRCA', 'BRCA',\n",
       "       'BRCA', 'KIRC', 'KIRC', 'PRAD', 'COAD', 'KIRC', 'BRCA', 'BRCA',\n",
       "       'KIRC', 'BRCA', 'LUAD', 'BRCA', 'BRCA', 'PRAD', 'BRCA', 'PRAD',\n",
       "       'BRCA', 'COAD', 'BRCA', 'BRCA', 'KIRC', 'LUAD', 'BRCA', 'BRCA',\n",
       "       'PRAD', 'BRCA', 'PRAD', 'COAD', 'BRCA', 'BRCA', 'BRCA', 'LUAD',\n",
       "       'BRCA', 'LUAD', 'BRCA', 'LUAD', 'KIRC', 'KIRC', 'COAD', 'COAD',\n",
       "       'BRCA', 'BRCA', 'BRCA', 'LUAD', 'BRCA', 'LUAD', 'KIRC', 'BRCA',\n",
       "       'LUAD', 'KIRC', 'LUAD', 'LUAD', 'LUAD', 'KIRC', 'BRCA', 'PRAD',\n",
       "       'BRCA', 'BRCA', 'KIRC', 'BRCA', 'PRAD', 'KIRC', 'BRCA', 'BRCA',\n",
       "       'BRCA', 'BRCA', 'PRAD', 'LUAD', 'BRCA', 'LUAD', 'COAD', 'PRAD',\n",
       "       'PRAD'], dtype=object)"
      ]
     },
     "execution_count": 28,
     "metadata": {},
     "output_type": "execute_result"
    }
   ],
   "source": [
    "y"
   ]
  },
  {
   "cell_type": "markdown",
   "id": "0bee7685",
   "metadata": {},
   "source": [
    "#### FIND MUTUAL INFORMATION SCORES"
   ]
  },
  {
   "cell_type": "code",
   "execution_count": 29,
   "id": "315d32d9",
   "metadata": {},
   "outputs": [],
   "source": [
    "from sklearn.feature_selection import mutual_info_classif as MIC"
   ]
  },
  {
   "cell_type": "code",
   "execution_count": 30,
   "id": "47d835ce",
   "metadata": {},
   "outputs": [],
   "source": [
    "mi_score = MIC(X,y)"
   ]
  },
  {
   "cell_type": "code",
   "execution_count": 31,
   "id": "19e9186e",
   "metadata": {},
   "outputs": [
    {
     "name": "stdout",
     "output_type": "stream",
     "text": [
      "[0.01755983 0.08174024 0.14723742 ... 0.12454753 0.15746683 0.04160582]\n"
     ]
    }
   ],
   "source": [
    "print(mi_score)"
   ]
  },
  {
   "cell_type": "code",
   "execution_count": 32,
   "id": "244d0805",
   "metadata": {},
   "outputs": [
    {
     "data": {
      "text/plain": [
       "20531"
      ]
     },
     "execution_count": 32,
     "metadata": {},
     "output_type": "execute_result"
    }
   ],
   "source": [
    "mi_score.size"
   ]
  },
  {
   "cell_type": "markdown",
   "id": "a8f1b0a7",
   "metadata": {},
   "source": [
    "#### TRY 1 - no MI scores used"
   ]
  },
  {
   "cell_type": "code",
   "execution_count": 33,
   "id": "82d04359",
   "metadata": {},
   "outputs": [],
   "source": [
    "from sklearn.model_selection import train_test_split as tts"
   ]
  },
  {
   "cell_type": "code",
   "execution_count": 34,
   "id": "e7a2ee2f",
   "metadata": {},
   "outputs": [],
   "source": [
    "X_train,X_test,y_train,y_test = tts(X,y,\n",
    "                                    random_state=50,\n",
    "                                    stratify=y)"
   ]
  },
  {
   "cell_type": "code",
   "execution_count": 35,
   "id": "2ae04684",
   "metadata": {},
   "outputs": [
    {
     "data": {
      "text/plain": [
       "(600, 20531)"
      ]
     },
     "execution_count": 35,
     "metadata": {},
     "output_type": "execute_result"
    }
   ],
   "source": [
    "X_train.shape"
   ]
  },
  {
   "cell_type": "code",
   "execution_count": 36,
   "id": "ae369bef",
   "metadata": {
    "scrolled": true
   },
   "outputs": [
    {
     "data": {
      "text/plain": [
       "(201, 20531)"
      ]
     },
     "execution_count": 36,
     "metadata": {},
     "output_type": "execute_result"
    }
   ],
   "source": [
    "X_test.shape"
   ]
  },
  {
   "cell_type": "code",
   "execution_count": 37,
   "id": "1aee2c64",
   "metadata": {
    "scrolled": true
   },
   "outputs": [
    {
     "data": {
      "text/plain": [
       "(600,)"
      ]
     },
     "execution_count": 37,
     "metadata": {},
     "output_type": "execute_result"
    }
   ],
   "source": [
    "y_train.shape"
   ]
  },
  {
   "cell_type": "code",
   "execution_count": 38,
   "id": "c4b22b72",
   "metadata": {
    "scrolled": false
   },
   "outputs": [
    {
     "data": {
      "text/plain": [
       "(201,)"
      ]
     },
     "execution_count": 38,
     "metadata": {},
     "output_type": "execute_result"
    }
   ],
   "source": [
    "y_test.shape"
   ]
  },
  {
   "cell_type": "code",
   "execution_count": 39,
   "id": "8fdb1900",
   "metadata": {},
   "outputs": [],
   "source": [
    "from sklearn.tree import DecisionTreeClassifier as DTC"
   ]
  },
  {
   "cell_type": "code",
   "execution_count": 40,
   "id": "35ce47a0",
   "metadata": {},
   "outputs": [],
   "source": [
    "model_1 = DTC().fit(X_train,y_train)"
   ]
  },
  {
   "cell_type": "code",
   "execution_count": 41,
   "id": "3c0a268e",
   "metadata": {},
   "outputs": [],
   "source": [
    "score_1 = model_1.score(X_test,y_test)"
   ]
  },
  {
   "cell_type": "code",
   "execution_count": 42,
   "id": "abc37c2c",
   "metadata": {},
   "outputs": [
    {
     "name": "stdout",
     "output_type": "stream",
     "text": [
      "0.9850746268656716\n"
     ]
    }
   ],
   "source": [
    "print(score_1)"
   ]
  },
  {
   "cell_type": "markdown",
   "id": "a94f7210",
   "metadata": {},
   "source": [
    "#### TRY 2 - using top 50% MI scores || also tried manual entry \">0.9\""
   ]
  },
  {
   "cell_type": "code",
   "execution_count": 43,
   "id": "a6153220",
   "metadata": {},
   "outputs": [],
   "source": [
    "from sklearn.feature_selection import SelectPercentile as SP "
   ]
  },
  {
   "cell_type": "code",
   "execution_count": 44,
   "id": "15674a20",
   "metadata": {},
   "outputs": [
    {
     "data": {
      "text/plain": [
       "0.17921393150237752"
      ]
     },
     "execution_count": 44,
     "metadata": {},
     "output_type": "execute_result"
    }
   ],
   "source": [
    "np.mean(mi_score)"
   ]
  },
  {
   "cell_type": "code",
   "execution_count": 45,
   "id": "d204d7b5",
   "metadata": {},
   "outputs": [
    {
     "data": {
      "text/plain": [
       "0.17921393150237752"
      ]
     },
     "execution_count": 45,
     "metadata": {},
     "output_type": "execute_result"
    }
   ],
   "source": [
    "np.average(mi_score)"
   ]
  },
  {
   "cell_type": "code",
   "execution_count": 46,
   "id": "57327bfa",
   "metadata": {
    "scrolled": true
   },
   "outputs": [
    {
     "data": {
      "text/plain": [
       "0.9621039039462242"
      ]
     },
     "execution_count": 46,
     "metadata": {},
     "output_type": "execute_result"
    }
   ],
   "source": [
    "np.amax(mi_score)"
   ]
  },
  {
   "cell_type": "code",
   "execution_count": 47,
   "id": "4aa84445",
   "metadata": {},
   "outputs": [
    {
     "data": {
      "text/plain": [
       "0.0"
      ]
     },
     "execution_count": 47,
     "metadata": {},
     "output_type": "execute_result"
    }
   ],
   "source": [
    "np.amin(mi_score)"
   ]
  },
  {
   "cell_type": "code",
   "execution_count": 48,
   "id": "9564449b",
   "metadata": {},
   "outputs": [],
   "source": [
    "#selector = SP(percentile=10)"
   ]
  },
  {
   "cell_type": "code",
   "execution_count": 49,
   "id": "6e93824a",
   "metadata": {},
   "outputs": [],
   "source": [
    "#f = (np.std(X, axis=0) == 0)"
   ]
  },
  {
   "cell_type": "code",
   "execution_count": 50,
   "id": "8aa3281c",
   "metadata": {},
   "outputs": [],
   "source": [
    "new_selected = np.where(mi_score > 0.2)[0]"
   ]
  },
  {
   "cell_type": "code",
   "execution_count": 51,
   "id": "7edf7e5d",
   "metadata": {},
   "outputs": [
    {
     "data": {
      "text/plain": [
       "array([    3,    18,    26, ..., 20519, 20520, 20524])"
      ]
     },
     "execution_count": 51,
     "metadata": {},
     "output_type": "execute_result"
    }
   ],
   "source": [
    "new_selected"
   ]
  },
  {
   "cell_type": "code",
   "execution_count": 52,
   "id": "646952f3",
   "metadata": {
    "scrolled": true
   },
   "outputs": [
    {
     "data": {
      "text/plain": [
       "(7537,)"
      ]
     },
     "execution_count": 52,
     "metadata": {},
     "output_type": "execute_result"
    }
   ],
   "source": [
    "new_selected.shape"
   ]
  },
  {
   "cell_type": "code",
   "execution_count": 53,
   "id": "e982c53c",
   "metadata": {},
   "outputs": [],
   "source": [
    "X_1 = X.iloc[:,new_selected]"
   ]
  },
  {
   "cell_type": "code",
   "execution_count": 54,
   "id": "97e93cd3",
   "metadata": {},
   "outputs": [
    {
     "data": {
      "text/html": [
       "<div>\n",
       "<style scoped>\n",
       "    .dataframe tbody tr th:only-of-type {\n",
       "        vertical-align: middle;\n",
       "    }\n",
       "\n",
       "    .dataframe tbody tr th {\n",
       "        vertical-align: top;\n",
       "    }\n",
       "\n",
       "    .dataframe thead th {\n",
       "        text-align: right;\n",
       "    }\n",
       "</style>\n",
       "<table border=\"1\" class=\"dataframe\">\n",
       "  <thead>\n",
       "    <tr style=\"text-align: right;\">\n",
       "      <th></th>\n",
       "      <th>gene_3</th>\n",
       "      <th>gene_18</th>\n",
       "      <th>gene_26</th>\n",
       "      <th>gene_28</th>\n",
       "      <th>gene_29</th>\n",
       "      <th>gene_30</th>\n",
       "      <th>gene_33</th>\n",
       "      <th>gene_34</th>\n",
       "      <th>gene_35</th>\n",
       "      <th>gene_36</th>\n",
       "      <th>...</th>\n",
       "      <th>gene_20491</th>\n",
       "      <th>gene_20496</th>\n",
       "      <th>gene_20498</th>\n",
       "      <th>gene_20500</th>\n",
       "      <th>gene_20501</th>\n",
       "      <th>gene_20504</th>\n",
       "      <th>gene_20514</th>\n",
       "      <th>gene_20519</th>\n",
       "      <th>gene_20520</th>\n",
       "      <th>gene_20524</th>\n",
       "    </tr>\n",
       "  </thead>\n",
       "  <tbody>\n",
       "    <tr>\n",
       "      <th>0</th>\n",
       "      <td>5.478487</td>\n",
       "      <td>0.591871</td>\n",
       "      <td>7.215116</td>\n",
       "      <td>6.620204</td>\n",
       "      <td>9.513538</td>\n",
       "      <td>0.000000</td>\n",
       "      <td>4.747656</td>\n",
       "      <td>13.714396</td>\n",
       "      <td>10.034496</td>\n",
       "      <td>0.000000</td>\n",
       "      <td>...</td>\n",
       "      <td>9.370304</td>\n",
       "      <td>2.736583</td>\n",
       "      <td>7.123480</td>\n",
       "      <td>5.902800</td>\n",
       "      <td>3.719370</td>\n",
       "      <td>2.602077</td>\n",
       "      <td>7.128881</td>\n",
       "      <td>7.475709</td>\n",
       "      <td>7.205236</td>\n",
       "      <td>7.220030</td>\n",
       "    </tr>\n",
       "    <tr>\n",
       "      <th>1</th>\n",
       "      <td>7.586157</td>\n",
       "      <td>0.000000</td>\n",
       "      <td>9.949812</td>\n",
       "      <td>1.174790</td>\n",
       "      <td>4.926991</td>\n",
       "      <td>0.000000</td>\n",
       "      <td>1.327170</td>\n",
       "      <td>13.286240</td>\n",
       "      <td>6.663316</td>\n",
       "      <td>0.587845</td>\n",
       "      <td>...</td>\n",
       "      <td>8.882967</td>\n",
       "      <td>3.134993</td>\n",
       "      <td>6.715701</td>\n",
       "      <td>1.004394</td>\n",
       "      <td>5.555482</td>\n",
       "      <td>0.811142</td>\n",
       "      <td>6.047558</td>\n",
       "      <td>9.190867</td>\n",
       "      <td>10.639259</td>\n",
       "      <td>6.256586</td>\n",
       "    </tr>\n",
       "    <tr>\n",
       "      <th>2</th>\n",
       "      <td>6.881787</td>\n",
       "      <td>1.683023</td>\n",
       "      <td>6.096650</td>\n",
       "      <td>7.680507</td>\n",
       "      <td>3.119439</td>\n",
       "      <td>0.000000</td>\n",
       "      <td>0.000000</td>\n",
       "      <td>10.731098</td>\n",
       "      <td>6.967883</td>\n",
       "      <td>0.452595</td>\n",
       "      <td>...</td>\n",
       "      <td>10.355637</td>\n",
       "      <td>3.677147</td>\n",
       "      <td>7.089816</td>\n",
       "      <td>0.000000</td>\n",
       "      <td>4.224017</td>\n",
       "      <td>5.014445</td>\n",
       "      <td>6.661493</td>\n",
       "      <td>9.036654</td>\n",
       "      <td>10.336027</td>\n",
       "      <td>5.401607</td>\n",
       "    </tr>\n",
       "    <tr>\n",
       "      <th>3</th>\n",
       "      <td>6.659068</td>\n",
       "      <td>1.267356</td>\n",
       "      <td>3.913761</td>\n",
       "      <td>6.469165</td>\n",
       "      <td>7.029895</td>\n",
       "      <td>0.000000</td>\n",
       "      <td>7.742714</td>\n",
       "      <td>12.659474</td>\n",
       "      <td>8.299890</td>\n",
       "      <td>0.768587</td>\n",
       "      <td>...</td>\n",
       "      <td>10.074382</td>\n",
       "      <td>3.609755</td>\n",
       "      <td>7.577096</td>\n",
       "      <td>5.075383</td>\n",
       "      <td>2.175652</td>\n",
       "      <td>6.233192</td>\n",
       "      <td>7.613915</td>\n",
       "      <td>8.665592</td>\n",
       "      <td>9.194823</td>\n",
       "      <td>8.942805</td>\n",
       "    </tr>\n",
       "    <tr>\n",
       "      <th>4</th>\n",
       "      <td>6.539454</td>\n",
       "      <td>0.889707</td>\n",
       "      <td>1.942120</td>\n",
       "      <td>5.861429</td>\n",
       "      <td>7.755709</td>\n",
       "      <td>0.000000</td>\n",
       "      <td>2.612801</td>\n",
       "      <td>13.556734</td>\n",
       "      <td>8.004754</td>\n",
       "      <td>0.000000</td>\n",
       "      <td>...</td>\n",
       "      <td>10.129154</td>\n",
       "      <td>3.655810</td>\n",
       "      <td>7.292607</td>\n",
       "      <td>3.954001</td>\n",
       "      <td>6.991148</td>\n",
       "      <td>4.586531</td>\n",
       "      <td>6.505099</td>\n",
       "      <td>8.233366</td>\n",
       "      <td>9.298775</td>\n",
       "      <td>7.181162</td>\n",
       "    </tr>\n",
       "    <tr>\n",
       "      <th>...</th>\n",
       "      <td>...</td>\n",
       "      <td>...</td>\n",
       "      <td>...</td>\n",
       "      <td>...</td>\n",
       "      <td>...</td>\n",
       "      <td>...</td>\n",
       "      <td>...</td>\n",
       "      <td>...</td>\n",
       "      <td>...</td>\n",
       "      <td>...</td>\n",
       "      <td>...</td>\n",
       "      <td>...</td>\n",
       "      <td>...</td>\n",
       "      <td>...</td>\n",
       "      <td>...</td>\n",
       "      <td>...</td>\n",
       "      <td>...</td>\n",
       "      <td>...</td>\n",
       "      <td>...</td>\n",
       "      <td>...</td>\n",
       "      <td>...</td>\n",
       "    </tr>\n",
       "    <tr>\n",
       "      <th>796</th>\n",
       "      <td>7.350099</td>\n",
       "      <td>0.496922</td>\n",
       "      <td>0.000000</td>\n",
       "      <td>6.139531</td>\n",
       "      <td>7.641965</td>\n",
       "      <td>0.000000</td>\n",
       "      <td>0.865919</td>\n",
       "      <td>12.275895</td>\n",
       "      <td>7.319555</td>\n",
       "      <td>0.000000</td>\n",
       "      <td>...</td>\n",
       "      <td>10.036256</td>\n",
       "      <td>4.792324</td>\n",
       "      <td>7.661735</td>\n",
       "      <td>3.823709</td>\n",
       "      <td>6.627524</td>\n",
       "      <td>1.611739</td>\n",
       "      <td>8.104835</td>\n",
       "      <td>8.201394</td>\n",
       "      <td>7.918774</td>\n",
       "      <td>4.484415</td>\n",
       "    </tr>\n",
       "    <tr>\n",
       "      <th>797</th>\n",
       "      <td>6.346597</td>\n",
       "      <td>0.000000</td>\n",
       "      <td>9.169589</td>\n",
       "      <td>3.480317</td>\n",
       "      <td>9.218353</td>\n",
       "      <td>0.000000</td>\n",
       "      <td>2.245891</td>\n",
       "      <td>12.910624</td>\n",
       "      <td>9.389134</td>\n",
       "      <td>0.000000</td>\n",
       "      <td>...</td>\n",
       "      <td>9.747896</td>\n",
       "      <td>3.537246</td>\n",
       "      <td>7.580251</td>\n",
       "      <td>0.000000</td>\n",
       "      <td>5.836674</td>\n",
       "      <td>3.173351</td>\n",
       "      <td>7.973077</td>\n",
       "      <td>7.334747</td>\n",
       "      <td>9.066880</td>\n",
       "      <td>6.555327</td>\n",
       "    </tr>\n",
       "    <tr>\n",
       "      <th>798</th>\n",
       "      <td>8.185901</td>\n",
       "      <td>1.002595</td>\n",
       "      <td>1.325099</td>\n",
       "      <td>4.362533</td>\n",
       "      <td>7.553959</td>\n",
       "      <td>6.831738</td>\n",
       "      <td>5.574986</td>\n",
       "      <td>14.593625</td>\n",
       "      <td>8.810973</td>\n",
       "      <td>0.586693</td>\n",
       "      <td>...</td>\n",
       "      <td>9.720337</td>\n",
       "      <td>5.386570</td>\n",
       "      <td>7.005142</td>\n",
       "      <td>0.000000</td>\n",
       "      <td>5.825325</td>\n",
       "      <td>4.092394</td>\n",
       "      <td>8.401827</td>\n",
       "      <td>9.389745</td>\n",
       "      <td>9.965236</td>\n",
       "      <td>3.589763</td>\n",
       "    </tr>\n",
       "    <tr>\n",
       "      <th>799</th>\n",
       "      <td>7.318624</td>\n",
       "      <td>0.000000</td>\n",
       "      <td>3.450934</td>\n",
       "      <td>5.514419</td>\n",
       "      <td>6.584029</td>\n",
       "      <td>0.581881</td>\n",
       "      <td>2.451778</td>\n",
       "      <td>13.648358</td>\n",
       "      <td>9.083426</td>\n",
       "      <td>0.581881</td>\n",
       "      <td>...</td>\n",
       "      <td>10.093946</td>\n",
       "      <td>4.706630</td>\n",
       "      <td>6.690766</td>\n",
       "      <td>1.800703</td>\n",
       "      <td>5.545440</td>\n",
       "      <td>5.861179</td>\n",
       "      <td>8.122543</td>\n",
       "      <td>8.863731</td>\n",
       "      <td>7.018634</td>\n",
       "      <td>4.745888</td>\n",
       "    </tr>\n",
       "    <tr>\n",
       "      <th>800</th>\n",
       "      <td>6.530246</td>\n",
       "      <td>0.000000</td>\n",
       "      <td>3.485246</td>\n",
       "      <td>6.164110</td>\n",
       "      <td>5.639365</td>\n",
       "      <td>0.748375</td>\n",
       "      <td>10.319525</td>\n",
       "      <td>14.702395</td>\n",
       "      <td>8.261902</td>\n",
       "      <td>0.000000</td>\n",
       "      <td>...</td>\n",
       "      <td>9.432763</td>\n",
       "      <td>5.058438</td>\n",
       "      <td>7.479425</td>\n",
       "      <td>5.860772</td>\n",
       "      <td>5.700248</td>\n",
       "      <td>6.217814</td>\n",
       "      <td>7.194757</td>\n",
       "      <td>7.952677</td>\n",
       "      <td>8.887330</td>\n",
       "      <td>9.139459</td>\n",
       "    </tr>\n",
       "  </tbody>\n",
       "</table>\n",
       "<p>801 rows × 7537 columns</p>\n",
       "</div>"
      ],
      "text/plain": [
       "       gene_3   gene_18   gene_26   gene_28   gene_29   gene_30    gene_33  \\\n",
       "0    5.478487  0.591871  7.215116  6.620204  9.513538  0.000000   4.747656   \n",
       "1    7.586157  0.000000  9.949812  1.174790  4.926991  0.000000   1.327170   \n",
       "2    6.881787  1.683023  6.096650  7.680507  3.119439  0.000000   0.000000   \n",
       "3    6.659068  1.267356  3.913761  6.469165  7.029895  0.000000   7.742714   \n",
       "4    6.539454  0.889707  1.942120  5.861429  7.755709  0.000000   2.612801   \n",
       "..        ...       ...       ...       ...       ...       ...        ...   \n",
       "796  7.350099  0.496922  0.000000  6.139531  7.641965  0.000000   0.865919   \n",
       "797  6.346597  0.000000  9.169589  3.480317  9.218353  0.000000   2.245891   \n",
       "798  8.185901  1.002595  1.325099  4.362533  7.553959  6.831738   5.574986   \n",
       "799  7.318624  0.000000  3.450934  5.514419  6.584029  0.581881   2.451778   \n",
       "800  6.530246  0.000000  3.485246  6.164110  5.639365  0.748375  10.319525   \n",
       "\n",
       "       gene_34    gene_35   gene_36  ...  gene_20491  gene_20496  gene_20498  \\\n",
       "0    13.714396  10.034496  0.000000  ...    9.370304    2.736583    7.123480   \n",
       "1    13.286240   6.663316  0.587845  ...    8.882967    3.134993    6.715701   \n",
       "2    10.731098   6.967883  0.452595  ...   10.355637    3.677147    7.089816   \n",
       "3    12.659474   8.299890  0.768587  ...   10.074382    3.609755    7.577096   \n",
       "4    13.556734   8.004754  0.000000  ...   10.129154    3.655810    7.292607   \n",
       "..         ...        ...       ...  ...         ...         ...         ...   \n",
       "796  12.275895   7.319555  0.000000  ...   10.036256    4.792324    7.661735   \n",
       "797  12.910624   9.389134  0.000000  ...    9.747896    3.537246    7.580251   \n",
       "798  14.593625   8.810973  0.586693  ...    9.720337    5.386570    7.005142   \n",
       "799  13.648358   9.083426  0.581881  ...   10.093946    4.706630    6.690766   \n",
       "800  14.702395   8.261902  0.000000  ...    9.432763    5.058438    7.479425   \n",
       "\n",
       "     gene_20500  gene_20501  gene_20504  gene_20514  gene_20519  gene_20520  \\\n",
       "0      5.902800    3.719370    2.602077    7.128881    7.475709    7.205236   \n",
       "1      1.004394    5.555482    0.811142    6.047558    9.190867   10.639259   \n",
       "2      0.000000    4.224017    5.014445    6.661493    9.036654   10.336027   \n",
       "3      5.075383    2.175652    6.233192    7.613915    8.665592    9.194823   \n",
       "4      3.954001    6.991148    4.586531    6.505099    8.233366    9.298775   \n",
       "..          ...         ...         ...         ...         ...         ...   \n",
       "796    3.823709    6.627524    1.611739    8.104835    8.201394    7.918774   \n",
       "797    0.000000    5.836674    3.173351    7.973077    7.334747    9.066880   \n",
       "798    0.000000    5.825325    4.092394    8.401827    9.389745    9.965236   \n",
       "799    1.800703    5.545440    5.861179    8.122543    8.863731    7.018634   \n",
       "800    5.860772    5.700248    6.217814    7.194757    7.952677    8.887330   \n",
       "\n",
       "     gene_20524  \n",
       "0      7.220030  \n",
       "1      6.256586  \n",
       "2      5.401607  \n",
       "3      8.942805  \n",
       "4      7.181162  \n",
       "..          ...  \n",
       "796    4.484415  \n",
       "797    6.555327  \n",
       "798    3.589763  \n",
       "799    4.745888  \n",
       "800    9.139459  \n",
       "\n",
       "[801 rows x 7537 columns]"
      ]
     },
     "execution_count": 54,
     "metadata": {},
     "output_type": "execute_result"
    }
   ],
   "source": [
    "X_1"
   ]
  },
  {
   "cell_type": "code",
   "execution_count": 55,
   "id": "0e6e6236",
   "metadata": {},
   "outputs": [
    {
     "data": {
      "text/plain": [
       "(801, 7537)"
      ]
     },
     "execution_count": 55,
     "metadata": {},
     "output_type": "execute_result"
    }
   ],
   "source": [
    "X_1.shape"
   ]
  },
  {
   "cell_type": "code",
   "execution_count": 56,
   "id": "1db284a3",
   "metadata": {},
   "outputs": [],
   "source": [
    "X_1_train,X_1_test,y_train,y_test = tts(X,y, \n",
    "                                    test_size=0.20,\n",
    "                                    random_state=30,\n",
    "                                    stratify=y)"
   ]
  },
  {
   "cell_type": "code",
   "execution_count": 57,
   "id": "eaca28ce",
   "metadata": {},
   "outputs": [],
   "source": [
    "model_2 = DTC().fit(X_1_train,y_train)"
   ]
  },
  {
   "cell_type": "code",
   "execution_count": 58,
   "id": "9173d286",
   "metadata": {},
   "outputs": [],
   "source": [
    "score_2 = model_2.score(X_1_test,y_test)"
   ]
  },
  {
   "cell_type": "code",
   "execution_count": 59,
   "id": "e6ecfd43",
   "metadata": {
    "scrolled": false
   },
   "outputs": [
    {
     "name": "stdout",
     "output_type": "stream",
     "text": [
      "0.9875776397515528\n"
     ]
    }
   ],
   "source": [
    "print(score_2)"
   ]
  },
  {
   "cell_type": "markdown",
   "id": "362fc5c4",
   "metadata": {},
   "source": [
    "# PCA "
   ]
  },
  {
   "cell_type": "code",
   "execution_count": 60,
   "id": "af8c5cc3",
   "metadata": {},
   "outputs": [],
   "source": [
    "from sklearn.preprocessing import StandardScaler\n",
    "from sklearn import decomposition"
   ]
  },
  {
   "cell_type": "code",
   "execution_count": 61,
   "id": "e5d1d454",
   "metadata": {},
   "outputs": [],
   "source": [
    "X_PCA = new_data"
   ]
  },
  {
   "cell_type": "code",
   "execution_count": 62,
   "id": "c22d14c4",
   "metadata": {},
   "outputs": [
    {
     "data": {
      "text/plain": [
       "(801, 20531)"
      ]
     },
     "execution_count": 62,
     "metadata": {},
     "output_type": "execute_result"
    }
   ],
   "source": [
    "X_PCA.shape"
   ]
  },
  {
   "cell_type": "markdown",
   "id": "de21b560",
   "metadata": {},
   "source": [
    "#### using StandardScaler"
   ]
  },
  {
   "cell_type": "code",
   "execution_count": 63,
   "id": "98bada0c",
   "metadata": {},
   "outputs": [],
   "source": [
    "sc = StandardScaler()"
   ]
  },
  {
   "cell_type": "code",
   "execution_count": 64,
   "id": "3aa06704",
   "metadata": {},
   "outputs": [],
   "source": [
    "X_PCA_std = sc.fit_transform(X_PCA)"
   ]
  },
  {
   "cell_type": "code",
   "execution_count": 65,
   "id": "6e316002",
   "metadata": {},
   "outputs": [
    {
     "data": {
      "text/plain": [
       "array([[-0.19479935, -0.82802988,  0.15980044, ..., -1.18793812,\n",
       "        -0.11648251, -0.26190144],\n",
       "       [-0.19479935, -2.01501735, -1.415042  , ..., -0.34227662,\n",
       "        -1.65688871, -0.26190144],\n",
       "       [-0.19479935,  0.41734754,  1.15673547, ...,  0.88686027,\n",
       "        -1.85526414, -0.26190144],\n",
       "       ...,\n",
       "       [-0.19479935,  0.19888076,  0.57481583, ..., -0.22008186,\n",
       "        -0.41046699,  1.3485582 ],\n",
       "       [-0.19479935, -0.35045311, -0.28863152, ...,  1.43719268,\n",
       "         0.09195083, -0.26190144],\n",
       "       [-0.19479935, -0.57135218,  0.66725377, ...,  0.45087581,\n",
       "        -0.47161901, -0.26190144]])"
      ]
     },
     "execution_count": 65,
     "metadata": {},
     "output_type": "execute_result"
    }
   ],
   "source": [
    "X_PCA_std"
   ]
  },
  {
   "cell_type": "code",
   "execution_count": 66,
   "id": "f2b55706",
   "metadata": {},
   "outputs": [
    {
     "data": {
      "text/plain": [
       "(801, 20531)"
      ]
     },
     "execution_count": 66,
     "metadata": {},
     "output_type": "execute_result"
    }
   ],
   "source": [
    "X_PCA_std.shape"
   ]
  },
  {
   "cell_type": "markdown",
   "id": "922952e7",
   "metadata": {},
   "source": [
    "#### using MinMaxScaler to scale dataset between 0 & 1"
   ]
  },
  {
   "cell_type": "code",
   "execution_count": 67,
   "id": "074758f3",
   "metadata": {},
   "outputs": [],
   "source": [
    "from sklearn.preprocessing import MinMaxScaler"
   ]
  },
  {
   "cell_type": "code",
   "execution_count": 68,
   "id": "be07ef58",
   "metadata": {},
   "outputs": [],
   "source": [
    "scaler = MinMaxScaler()"
   ]
  },
  {
   "cell_type": "code",
   "execution_count": 69,
   "id": "c0e1936b",
   "metadata": {},
   "outputs": [],
   "source": [
    "data_rescaled = scaler.fit_transform(new_data)"
   ]
  },
  {
   "cell_type": "code",
   "execution_count": 70,
   "id": "85bd882d",
   "metadata": {},
   "outputs": [
    {
     "data": {
      "text/plain": [
       "array([[0.        , 0.32342445, 0.53855624, ..., 0.21354593, 0.44222065,\n",
       "        0.        ],\n",
       "       [0.        , 0.09503429, 0.26196506, ..., 0.30983781, 0.14136949,\n",
       "        0.        ],\n",
       "       [0.        , 0.56304952, 0.71364896, ..., 0.44979441, 0.1026255 ,\n",
       "        0.        ],\n",
       "       ...,\n",
       "       [0.        , 0.52101397, 0.61144582, ..., 0.32375161, 0.38480361,\n",
       "        0.11166309],\n",
       "       [0.        , 0.41531576, 0.45979768, ..., 0.51245842, 0.48292902,\n",
       "        0.        ],\n",
       "       [0.        , 0.37281222, 0.62768079, ..., 0.40015071, 0.37286023,\n",
       "        0.        ]])"
      ]
     },
     "execution_count": 70,
     "metadata": {},
     "output_type": "execute_result"
    }
   ],
   "source": [
    "data_rescaled"
   ]
  },
  {
   "cell_type": "code",
   "execution_count": 71,
   "id": "c1b91edf",
   "metadata": {},
   "outputs": [
    {
     "data": {
      "text/plain": [
       "(801, 20531)"
      ]
     },
     "execution_count": 71,
     "metadata": {},
     "output_type": "execute_result"
    }
   ],
   "source": [
    "data_rescaled.shape"
   ]
  },
  {
   "cell_type": "code",
   "execution_count": 72,
   "id": "25fa333b",
   "metadata": {},
   "outputs": [],
   "source": [
    "#pca = decomposition.PCA(n_components='mle', svd_solver='full')"
   ]
  },
  {
   "cell_type": "code",
   "execution_count": 73,
   "id": "14fa86a6",
   "metadata": {},
   "outputs": [],
   "source": [
    "pca = decomposition.PCA(n_components=0.95) #95% variance"
   ]
  },
  {
   "cell_type": "code",
   "execution_count": 74,
   "id": "65488b7c",
   "metadata": {},
   "outputs": [],
   "source": [
    "#pca = decomposition.PCA(n_components=0.99) #99% variance"
   ]
  },
  {
   "cell_type": "code",
   "execution_count": 75,
   "id": "f1cd8eb0",
   "metadata": {},
   "outputs": [],
   "source": [
    "X_PCA_applied = pca.fit_transform(X_PCA_std)"
   ]
  },
  {
   "cell_type": "code",
   "execution_count": 76,
   "id": "1efd3c9e",
   "metadata": {},
   "outputs": [
    {
     "data": {
      "text/plain": [
       "(801, 530)"
      ]
     },
     "execution_count": 76,
     "metadata": {},
     "output_type": "execute_result"
    }
   ],
   "source": [
    "X_PCA_applied.shape"
   ]
  },
  {
   "cell_type": "code",
   "execution_count": 77,
   "id": "86cb15f0",
   "metadata": {},
   "outputs": [
    {
     "data": {
      "text/plain": [
       "array([[-5.74469869e+01,  9.54109807e+01,  7.43015433e+01, ...,\n",
       "         5.48184739e-01, -1.50120174e+00, -1.72333213e+00],\n",
       "       [-1.69194301e+01,  7.32470333e-01, -6.40728996e+01, ...,\n",
       "         8.55043472e-01,  4.95667115e+00,  6.80014457e-02],\n",
       "       [-7.03452179e+01, -1.93033266e+01,  2.04882405e+01, ...,\n",
       "         1.06332262e+00,  1.02386737e+00, -1.25341991e+00],\n",
       "       ...,\n",
       "       [-4.13308968e+00,  1.56900139e+01, -2.26444535e+01, ...,\n",
       "        -1.29177710e-01, -3.42774144e-01,  4.51478684e-01],\n",
       "       [-3.08147575e+01,  3.35264225e+01,  7.05656359e+01, ...,\n",
       "         1.52723916e+00, -1.12062433e-01,  1.52790441e-01],\n",
       "       [-2.23445567e+01,  4.05235632e+00,  3.23278757e+01, ...,\n",
       "         2.19367065e+00,  3.86106929e+00,  7.99397375e-02]])"
      ]
     },
     "execution_count": 77,
     "metadata": {},
     "output_type": "execute_result"
    }
   ],
   "source": [
    "X_PCA_applied"
   ]
  },
  {
   "cell_type": "code",
   "execution_count": 78,
   "id": "02885069",
   "metadata": {},
   "outputs": [],
   "source": [
    "X_PCA_applied_train,X_PCA_applied_test,y_train,y_test = tts(X,y, \n",
    "                                    test_size=0.20,\n",
    "                                    random_state=30,\n",
    "                                    stratify=y)"
   ]
  },
  {
   "cell_type": "code",
   "execution_count": 79,
   "id": "a5cf606a",
   "metadata": {},
   "outputs": [
    {
     "data": {
      "text/plain": [
       "(640, 20531)"
      ]
     },
     "execution_count": 79,
     "metadata": {},
     "output_type": "execute_result"
    }
   ],
   "source": [
    "X_PCA_applied_train.shape"
   ]
  },
  {
   "cell_type": "code",
   "execution_count": 80,
   "id": "0caf6ce6",
   "metadata": {},
   "outputs": [],
   "source": [
    "model_3 = DTC().fit(X_PCA_applied_train,y_train)"
   ]
  },
  {
   "cell_type": "code",
   "execution_count": 81,
   "id": "f6854120",
   "metadata": {},
   "outputs": [],
   "source": [
    "score_3 = model_3.score(X_PCA_applied_test,y_test)"
   ]
  },
  {
   "cell_type": "code",
   "execution_count": 82,
   "id": "8ab1b3d9",
   "metadata": {},
   "outputs": [
    {
     "name": "stdout",
     "output_type": "stream",
     "text": [
      "0.9875776397515528\n"
     ]
    }
   ],
   "source": [
    "print(score_3)"
   ]
  },
  {
   "cell_type": "markdown",
   "id": "848d1993",
   "metadata": {},
   "source": [
    "#### Model using MinMaxScaler"
   ]
  },
  {
   "cell_type": "code",
   "execution_count": 83,
   "id": "bfe62127",
   "metadata": {},
   "outputs": [],
   "source": [
    "pca = decomposition.PCA(n_components=0.95) #95% variance"
   ]
  },
  {
   "cell_type": "code",
   "execution_count": 84,
   "id": "fc60c365",
   "metadata": {},
   "outputs": [],
   "source": [
    "data_pca = pca.fit_transform(data_rescaled)"
   ]
  },
  {
   "cell_type": "code",
   "execution_count": 85,
   "id": "1df5e1cf",
   "metadata": {},
   "outputs": [
    {
     "data": {
      "text/plain": [
       "array([[-5.66814062e+00, -8.87213882e+00,  1.58532898e+01, ...,\n",
       "        -6.53050483e-01,  2.89640074e-01,  5.04756224e-02],\n",
       "       [-1.47020396e+00,  1.02801817e+01, -1.24663377e+00, ...,\n",
       "         1.00159979e+00, -5.64804424e-02,  6.90173699e-02],\n",
       "       [-1.08453868e+01, -1.34535223e+00,  4.00077030e+00, ...,\n",
       "        -1.00654106e-01, -8.18971789e-03,  5.22822610e-02],\n",
       "       ...,\n",
       "       [ 7.41082995e-01,  3.54364366e+00,  2.46919741e+00, ...,\n",
       "        -3.25875476e-02,  1.34293450e-01, -1.36222812e-01],\n",
       "       [-4.77171676e+00, -9.85314183e+00,  9.26650414e+00, ...,\n",
       "         2.05576568e-01,  2.66603659e-01, -2.80720535e-01],\n",
       "       [-4.26683849e+00, -5.04336127e+00,  3.24257878e+00, ...,\n",
       "        -1.75665881e-01,  2.11033535e-01, -6.15700931e-01]])"
      ]
     },
     "execution_count": 85,
     "metadata": {},
     "output_type": "execute_result"
    }
   ],
   "source": [
    "data_pca"
   ]
  },
  {
   "cell_type": "code",
   "execution_count": 86,
   "id": "27f9f379",
   "metadata": {},
   "outputs": [],
   "source": [
    "data_pca_train,data_pca_test,y_train,y_test = tts(X,y, \n",
    "                                    test_size=0.20,\n",
    "                                    random_state=30,\n",
    "                                    stratify=y)"
   ]
  },
  {
   "cell_type": "code",
   "execution_count": 87,
   "id": "924185eb",
   "metadata": {},
   "outputs": [],
   "source": [
    "model_4 = DTC().fit(data_pca_train,y_train)"
   ]
  },
  {
   "cell_type": "code",
   "execution_count": 88,
   "id": "bc020f05",
   "metadata": {},
   "outputs": [],
   "source": [
    "score_4 = model_3.score(data_pca_test,y_test)"
   ]
  },
  {
   "cell_type": "code",
   "execution_count": 89,
   "id": "08e5204b",
   "metadata": {},
   "outputs": [
    {
     "name": "stdout",
     "output_type": "stream",
     "text": [
      "0.9875776397515528\n"
     ]
    }
   ],
   "source": [
    "print(score_4)"
   ]
  },
  {
   "cell_type": "markdown",
   "id": "f4910a30",
   "metadata": {},
   "source": [
    "#### ESTIMATING n_components"
   ]
  },
  {
   "cell_type": "code",
   "execution_count": 90,
   "id": "91a3ff25",
   "metadata": {},
   "outputs": [],
   "source": [
    "pca = decomposition.PCA().fit(data_rescaled)"
   ]
  },
  {
   "cell_type": "code",
   "execution_count": 91,
   "id": "004637d2",
   "metadata": {},
   "outputs": [],
   "source": [
    "import matplotlib.pyplot as plt"
   ]
  },
  {
   "cell_type": "code",
   "execution_count": 92,
   "id": "69e3b649",
   "metadata": {},
   "outputs": [],
   "source": [
    "plt.rcParams[\"figure.figsize\"] = (20,6)"
   ]
  },
  {
   "cell_type": "code",
   "execution_count": 93,
   "id": "cafd9c87",
   "metadata": {
    "scrolled": true
   },
   "outputs": [
    {
     "data": {
      "image/png": "[encoded data removed]",
      "text/plain": [
       "<Figure size 1440x432 with 1 Axes>"
      ]
     },
     "metadata": {
      "needs_background": "light"
     },
     "output_type": "display_data"
    }
   ],
   "source": [
    "fig, ax = plt.subplots()\n",
    "xi = np.arange(0,801,step=1)\n",
    "y = np.cumsum(pca.explained_variance_ratio_)\n",
    "plt.ylim(0.0,1.1)\n",
    "plt.plot(xi, y, marker='o', linestyle='--', color='b')\n",
    "plt.xlabel('number of components')\n",
    "plt.xticks(np.arange(0,801,step=1))\n",
    "plt.ylabel('cumulative variance (%)')\n",
    "plt.axhline(y=0.95, color='r', linestyle='-')\n",
    "plt.text(0.5, 0.85, '95% cut-off', color='red', fontsize=16)\n",
    "ax.grid(axis='x')\n",
    "plt.show()\n"
   ]
  },
  {
   "cell_type": "markdown",
   "id": "a662d78e",
   "metadata": {},
   "source": [
    "# Random forest Classifier "
   ]
  },
  {
   "cell_type": "code",
   "execution_count": 94,
   "id": "512d387f",
   "metadata": {},
   "outputs": [],
   "source": [
    "from sklearn.ensemble import RandomForestClassifier"
   ]
  },
  {
   "cell_type": "code",
   "execution_count": 95,
   "id": "fedc6acd",
   "metadata": {},
   "outputs": [],
   "source": [
    "rf = RandomForestClassifier(n_estimators = 1000, random_state = 42)"
   ]
  },
  {
   "cell_type": "code",
   "execution_count": 96,
   "id": "80bbba5a",
   "metadata": {},
   "outputs": [],
   "source": [
    "model_5 = rf.fit(data_pca_train,y_train)"
   ]
  },
  {
   "cell_type": "code",
   "execution_count": 97,
   "id": "cb7aaffe",
   "metadata": {},
   "outputs": [],
   "source": [
    "predictions = model_5.predict(data_pca_test)"
   ]
  },
  {
   "cell_type": "code",
   "execution_count": 98,
   "id": "968549ba",
   "metadata": {},
   "outputs": [
    {
     "data": {
      "text/plain": [
       "array(['LUAD', 'BRCA', 'KIRC', 'BRCA', 'PRAD', 'PRAD', 'BRCA', 'BRCA',\n",
       "       'BRCA', 'KIRC', 'KIRC', 'KIRC', 'KIRC', 'LUAD', 'PRAD', 'COAD',\n",
       "       'COAD', 'PRAD', 'BRCA', 'LUAD', 'BRCA', 'COAD', 'BRCA', 'BRCA',\n",
       "       'PRAD', 'PRAD', 'COAD', 'BRCA', 'LUAD', 'BRCA', 'PRAD', 'BRCA',\n",
       "       'BRCA', 'KIRC', 'KIRC', 'KIRC', 'BRCA', 'PRAD', 'PRAD', 'BRCA',\n",
       "       'BRCA', 'COAD', 'BRCA', 'BRCA', 'COAD', 'KIRC', 'LUAD', 'KIRC',\n",
       "       'BRCA', 'BRCA', 'PRAD', 'KIRC', 'LUAD', 'LUAD', 'BRCA', 'KIRC',\n",
       "       'BRCA', 'PRAD', 'PRAD', 'BRCA', 'PRAD', 'LUAD', 'LUAD', 'PRAD',\n",
       "       'BRCA', 'KIRC', 'KIRC', 'BRCA', 'PRAD', 'LUAD', 'LUAD', 'KIRC',\n",
       "       'KIRC', 'KIRC', 'KIRC', 'KIRC', 'LUAD', 'PRAD', 'BRCA', 'PRAD',\n",
       "       'PRAD', 'KIRC', 'LUAD', 'BRCA', 'LUAD', 'PRAD', 'LUAD', 'BRCA',\n",
       "       'COAD', 'BRCA', 'LUAD', 'BRCA', 'BRCA', 'BRCA', 'BRCA', 'BRCA',\n",
       "       'PRAD', 'BRCA', 'BRCA', 'BRCA', 'LUAD', 'BRCA', 'LUAD', 'KIRC',\n",
       "       'LUAD', 'PRAD', 'BRCA', 'LUAD', 'BRCA', 'KIRC', 'BRCA', 'PRAD',\n",
       "       'BRCA', 'BRCA', 'BRCA', 'BRCA', 'BRCA', 'BRCA', 'LUAD', 'COAD',\n",
       "       'PRAD', 'BRCA', 'COAD', 'COAD', 'BRCA', 'LUAD', 'KIRC', 'KIRC',\n",
       "       'COAD', 'LUAD', 'BRCA', 'PRAD', 'BRCA', 'BRCA', 'LUAD', 'COAD',\n",
       "       'LUAD', 'LUAD', 'LUAD', 'BRCA', 'BRCA', 'BRCA', 'COAD', 'BRCA',\n",
       "       'COAD', 'KIRC', 'COAD', 'KIRC', 'BRCA', 'PRAD', 'PRAD', 'BRCA',\n",
       "       'LUAD', 'KIRC', 'KIRC', 'PRAD', 'COAD', 'BRCA', 'BRCA', 'KIRC',\n",
       "       'BRCA'], dtype=object)"
      ]
     },
     "execution_count": 98,
     "metadata": {},
     "output_type": "execute_result"
    }
   ],
   "source": [
    "predictions"
   ]
  },
  {
   "cell_type": "code",
   "execution_count": 99,
   "id": "bc9e8d2b",
   "metadata": {},
   "outputs": [],
   "source": [
    "from sklearn.metrics import precision_recall_fscore_support as score"
   ]
  },
  {
   "cell_type": "code",
   "execution_count": 100,
   "id": "90692ac3",
   "metadata": {},
   "outputs": [],
   "source": [
    "precision,recall,fscore,support =score(y_test,predictions,pos_label=1, average = 'weighted')"
   ]
  },
  {
   "cell_type": "code",
   "execution_count": 101,
   "id": "eca657d4",
   "metadata": {},
   "outputs": [
    {
     "name": "stdout",
     "output_type": "stream",
     "text": [
      "Precision : 0.994 / Recall : 0.994 / fscore : 0.994 / Accuracy: 0.994\n"
     ]
    }
   ],
   "source": [
    "print('Precision : {} / Recall : {} / fscore : {} / Accuracy: {}'.format(round(precision,3),round(recall,3),round(fscore,3),round((predictions==y_test).sum()/len(y_test),3)))"
   ]
  },
  {
   "cell_type": "markdown",
   "id": "c6263ad7",
   "metadata": {},
   "source": [
    "# PIPELINE"
   ]
  },
  {
   "cell_type": "code",
   "execution_count": 102,
   "id": "e661fe74",
   "metadata": {},
   "outputs": [],
   "source": [
    "from sklearn.pipeline import Pipeline\n",
    "from sklearn.neighbors import KNeighborsClassifier\n",
    "from sklearn.metrics import classification_report"
   ]
  },
  {
   "cell_type": "code",
   "execution_count": 103,
   "id": "efabe38d",
   "metadata": {},
   "outputs": [],
   "source": [
    "threshold = 0.9"
   ]
  },
  {
   "cell_type": "code",
   "execution_count": 104,
   "id": "bb055bf7",
   "metadata": {},
   "outputs": [],
   "source": [
    "from sklearn.base import BaseEstimator, TransformerMixin"
   ]
  },
  {
   "cell_type": "code",
   "execution_count": 105,
   "id": "b8e6ccf5",
   "metadata": {},
   "outputs": [],
   "source": [
    "class OwnTransformer(BaseEstimator, TransformerMixin):\n",
    "    def __init__(self, threshold):\n",
    "        self.selector_val = threshold\n",
    "        print('nothing here')\n",
    "        \n",
    "    def fit(self, XD_train, yD_train=None):\n",
    "        return self\n",
    "    \n",
    "    def transform(self, XD_train, yD_train):\n",
    "        mi_score = MIC(XD_train, yD_train)\n",
    "        selected_set = np.where(self.mi_score > 0.9)[0]\n",
    "        XD_adjusted = XD_train.iloc[:,selected_set]\n",
    "        return XD_adjusted.values, yD_train\n",
    "        \n",
    "    #def MI_score(self, XD_train, yD_train):\n",
    "    #    mi_score = MIC(XD_train, yD_train)\n",
    "    #    selected_set = np.where(self.mi_score > 0.9)[0]\n",
    "    #    XD_adjusted = XD_train.iloc[:,selected_set]\n",
    "    #    return XD_adjusted, yD_train\n",
    "    \n",
    "    \n",
    "    #def select_fit(self, XD_train, yD_train=None):\n",
    "    #    self.selected_set = np.where(self.mi_score > 0.9)[0]\n",
    "    #    XD_adjusted = XD_train.iloc[:,selected_set]\n",
    "    #    #return XD_adjusted, yD_train\n",
    "    \n",
    "    \n",
    "    #def fit(self, XD_train, yD_train=None):\n",
    "    #    self._fit(XD_train)\n",
    "    #    return self\n",
    "        "
   ]
  },
  {
   "cell_type": "code",
   "execution_count": 106,
   "id": "366303b1",
   "metadata": {},
   "outputs": [],
   "source": [
    "def MI_score(Xc, yc):\n",
    "    mi_score = MIC(Xc, yc)\n",
    "    selected_set = np.where(mi_score > 0.9)[0]\n",
    "    Xc_adj = XD_train.iloc[:,selected_set]\n",
    "    return Xc_adj, yc"
   ]
  },
  {
   "cell_type": "code",
   "execution_count": 107,
   "id": "ec177158",
   "metadata": {},
   "outputs": [],
   "source": [
    "# pipe_steps_4 = [('scaler', StandardScaler()), \n",
    "               #  ('feature_selection_mi',MIC()), \n",
    "                # ('classifier_knn', KNeighborsClassifier(n_neighbors=3))]"
   ]
  },
  {
   "cell_type": "code",
   "execution_count": 108,
   "id": "c8099f3f",
   "metadata": {},
   "outputs": [],
   "source": [
    "#pipeline_4 = Pipeline(pipe_steps_4)"
   ]
  },
  {
   "cell_type": "code",
   "execution_count": 109,
   "id": "5ba8fb2a",
   "metadata": {},
   "outputs": [],
   "source": [
    "#pipe_steps_5 = [('scaler', StandardScaler()), ('mi', decomposition.PCA(n_components=0.95)), ('rf', RandomForestClassifier())]"
   ]
  },
  {
   "cell_type": "code",
   "execution_count": 110,
   "id": "6f69eaab",
   "metadata": {},
   "outputs": [],
   "source": [
    "#pipe_steps_6 = [('scaler', StandardScaler()), ('mi', decomposition.PCA(n_components=0.95)), ('dtc', DTC())]"
   ]
  },
  {
   "cell_type": "code",
   "execution_count": 111,
   "id": "1c576c68",
   "metadata": {},
   "outputs": [],
   "source": [
    "pipeline_1 = Pipeline([('scaler', StandardScaler()), \n",
    "                ('feature_selection_pca', decomposition.PCA(n_components=0.95)), \n",
    "                ('classifier_knn', KNeighborsClassifier(n_neighbors=3))])"
   ]
  },
  {
   "cell_type": "code",
   "execution_count": 112,
   "id": "0353b82c",
   "metadata": {},
   "outputs": [],
   "source": [
    "pipeline_2 = Pipeline([('scaler', StandardScaler()),\n",
    "                ('feature_selection_pca', decomposition.PCA(n_components=0.95)), \n",
    "                ('classifier_rf', RandomForestClassifier())])"
   ]
  },
  {
   "cell_type": "code",
   "execution_count": 113,
   "id": "cb57c1e0",
   "metadata": {},
   "outputs": [],
   "source": [
    "pipeline_3 = Pipeline([('scaler', StandardScaler()), \n",
    "                ('feature_selection_pca', decomposition.PCA(n_components=0.95)), \n",
    "                ('classifier_dtc', DTC())])"
   ]
  },
  {
   "cell_type": "code",
   "execution_count": 114,
   "id": "07e7da36",
   "metadata": {
    "scrolled": true
   },
   "outputs": [
    {
     "name": "stdout",
     "output_type": "stream",
     "text": [
      "nothing here\n"
     ]
    }
   ],
   "source": [
    "pipeline_4 = Pipeline([('scaler', StandardScaler()), \n",
    "                ('feature_selection_mi', OwnTransformer(threshold=0.2)), \n",
    "                ('classifier_dtc', DTC())])"
   ]
  },
  {
   "cell_type": "code",
   "execution_count": 115,
   "id": "bd95f0bb",
   "metadata": {},
   "outputs": [
    {
     "ename": "NameError",
     "evalue": "name 'XD_train' is not defined",
     "output_type": "error",
     "traceback": [
      "\u001b[0;31m---------------------------------------------------------------------------\u001b[0m",
      "\u001b[0;31mNameError\u001b[0m                                 Traceback (most recent call last)",
      "\u001b[0;32m<ipython-input-115-1dab267d852d>\u001b[0m in \u001b[0;36m<module>\u001b[0;34m\u001b[0m\n\u001b[0;32m----> 1\u001b[0;31m \u001b[0mmodel\u001b[0m \u001b[0;34m=\u001b[0m \u001b[0mpipeline_4\u001b[0m\u001b[0;34m.\u001b[0m\u001b[0mfit\u001b[0m\u001b[0;34m(\u001b[0m\u001b[0mXD_train\u001b[0m\u001b[0;34m,\u001b[0m \u001b[0myD_train\u001b[0m\u001b[0;34m)\u001b[0m\u001b[0;34m\u001b[0m\u001b[0;34m\u001b[0m\u001b[0m\n\u001b[0m",
      "\u001b[0;31mNameError\u001b[0m: name 'XD_train' is not defined"
     ]
    }
   ],
   "source": [
    "model = pipeline_4.fit(XD_train, yD_train)"
   ]
  },
  {
   "cell_type": "code",
   "execution_count": null,
   "id": "10806777",
   "metadata": {},
   "outputs": [],
   "source": [
    "#pipeline_4.fit(XD_train, yD_train)"
   ]
  },
  {
   "cell_type": "code",
   "execution_count": null,
   "id": "19bbe76c",
   "metadata": {},
   "outputs": [],
   "source": []
  },
  {
   "cell_type": "code",
   "execution_count": 116,
   "id": "46b954e9",
   "metadata": {},
   "outputs": [],
   "source": [
    "XD = new_data"
   ]
  },
  {
   "cell_type": "code",
   "execution_count": 117,
   "id": "f9181184",
   "metadata": {},
   "outputs": [],
   "source": [
    "yD = new_label.values.ravel()"
   ]
  },
  {
   "cell_type": "code",
   "execution_count": 118,
   "id": "f1c31bc8",
   "metadata": {},
   "outputs": [
    {
     "ename": "ValueError",
     "evalue": "The least populated class in y has only 1 member, which is too few. The minimum number of groups for any class cannot be less than 2.",
     "output_type": "error",
     "traceback": [
      "\u001b[0;31m---------------------------------------------------------------------------\u001b[0m",
      "\u001b[0;31mValueError\u001b[0m                                Traceback (most recent call last)",
      "\u001b[0;32m<ipython-input-118-2c7a07dac414>\u001b[0m in \u001b[0;36m<module>\u001b[0;34m\u001b[0m\n\u001b[0;32m----> 1\u001b[0;31m XD_train,XD_test,yD_train,yD_test = tts(XD,yD, \n\u001b[0m\u001b[1;32m      2\u001b[0m                                     \u001b[0mtest_size\u001b[0m\u001b[0;34m=\u001b[0m\u001b[0;36m0.20\u001b[0m\u001b[0;34m,\u001b[0m\u001b[0;34m\u001b[0m\u001b[0;34m\u001b[0m\u001b[0m\n\u001b[1;32m      3\u001b[0m                                     \u001b[0mrandom_state\u001b[0m\u001b[0;34m=\u001b[0m\u001b[0;36m42\u001b[0m\u001b[0;34m,\u001b[0m\u001b[0;34m\u001b[0m\u001b[0;34m\u001b[0m\u001b[0m\n\u001b[1;32m      4\u001b[0m                                     stratify=y)\n",
      "\u001b[0;32m~/opt/anaconda3/lib/python3.8/site-packages/sklearn/model_selection/_split.py\u001b[0m in \u001b[0;36mtrain_test_split\u001b[0;34m(test_size, train_size, random_state, shuffle, stratify, *arrays)\u001b[0m\n\u001b[1;32m   2195\u001b[0m                      random_state=random_state)\n\u001b[1;32m   2196\u001b[0m \u001b[0;34m\u001b[0m\u001b[0m\n\u001b[0;32m-> 2197\u001b[0;31m         \u001b[0mtrain\u001b[0m\u001b[0;34m,\u001b[0m \u001b[0mtest\u001b[0m \u001b[0;34m=\u001b[0m \u001b[0mnext\u001b[0m\u001b[0;34m(\u001b[0m\u001b[0mcv\u001b[0m\u001b[0;34m.\u001b[0m\u001b[0msplit\u001b[0m\u001b[0;34m(\u001b[0m\u001b[0mX\u001b[0m\u001b[0;34m=\u001b[0m\u001b[0marrays\u001b[0m\u001b[0;34m[\u001b[0m\u001b[0;36m0\u001b[0m\u001b[0;34m]\u001b[0m\u001b[0;34m,\u001b[0m \u001b[0my\u001b[0m\u001b[0;34m=\u001b[0m\u001b[0mstratify\u001b[0m\u001b[0;34m)\u001b[0m\u001b[0;34m)\u001b[0m\u001b[0;34m\u001b[0m\u001b[0;34m\u001b[0m\u001b[0m\n\u001b[0m\u001b[1;32m   2198\u001b[0m \u001b[0;34m\u001b[0m\u001b[0m\n\u001b[1;32m   2199\u001b[0m     return list(chain.from_iterable((_safe_indexing(a, train),\n",
      "\u001b[0;32m~/opt/anaconda3/lib/python3.8/site-packages/sklearn/model_selection/_split.py\u001b[0m in \u001b[0;36msplit\u001b[0;34m(self, X, y, groups)\u001b[0m\n\u001b[1;32m   1385\u001b[0m         \"\"\"\n\u001b[1;32m   1386\u001b[0m         \u001b[0mX\u001b[0m\u001b[0;34m,\u001b[0m \u001b[0my\u001b[0m\u001b[0;34m,\u001b[0m \u001b[0mgroups\u001b[0m \u001b[0;34m=\u001b[0m \u001b[0mindexable\u001b[0m\u001b[0;34m(\u001b[0m\u001b[0mX\u001b[0m\u001b[0;34m,\u001b[0m \u001b[0my\u001b[0m\u001b[0;34m,\u001b[0m \u001b[0mgroups\u001b[0m\u001b[0;34m)\u001b[0m\u001b[0;34m\u001b[0m\u001b[0;34m\u001b[0m\u001b[0m\n\u001b[0;32m-> 1387\u001b[0;31m         \u001b[0;32mfor\u001b[0m \u001b[0mtrain\u001b[0m\u001b[0;34m,\u001b[0m \u001b[0mtest\u001b[0m \u001b[0;32min\u001b[0m \u001b[0mself\u001b[0m\u001b[0;34m.\u001b[0m\u001b[0m_iter_indices\u001b[0m\u001b[0;34m(\u001b[0m\u001b[0mX\u001b[0m\u001b[0;34m,\u001b[0m \u001b[0my\u001b[0m\u001b[0;34m,\u001b[0m \u001b[0mgroups\u001b[0m\u001b[0;34m)\u001b[0m\u001b[0;34m:\u001b[0m\u001b[0;34m\u001b[0m\u001b[0;34m\u001b[0m\u001b[0m\n\u001b[0m\u001b[1;32m   1388\u001b[0m             \u001b[0;32myield\u001b[0m \u001b[0mtrain\u001b[0m\u001b[0;34m,\u001b[0m \u001b[0mtest\u001b[0m\u001b[0;34m\u001b[0m\u001b[0;34m\u001b[0m\u001b[0m\n\u001b[1;32m   1389\u001b[0m \u001b[0;34m\u001b[0m\u001b[0m\n",
      "\u001b[0;32m~/opt/anaconda3/lib/python3.8/site-packages/sklearn/model_selection/_split.py\u001b[0m in \u001b[0;36m_iter_indices\u001b[0;34m(self, X, y, groups)\u001b[0m\n\u001b[1;32m   1713\u001b[0m         \u001b[0mclass_counts\u001b[0m \u001b[0;34m=\u001b[0m \u001b[0mnp\u001b[0m\u001b[0;34m.\u001b[0m\u001b[0mbincount\u001b[0m\u001b[0;34m(\u001b[0m\u001b[0my_indices\u001b[0m\u001b[0;34m)\u001b[0m\u001b[0;34m\u001b[0m\u001b[0;34m\u001b[0m\u001b[0m\n\u001b[1;32m   1714\u001b[0m         \u001b[0;32mif\u001b[0m \u001b[0mnp\u001b[0m\u001b[0;34m.\u001b[0m\u001b[0mmin\u001b[0m\u001b[0;34m(\u001b[0m\u001b[0mclass_counts\u001b[0m\u001b[0;34m)\u001b[0m \u001b[0;34m<\u001b[0m \u001b[0;36m2\u001b[0m\u001b[0;34m:\u001b[0m\u001b[0;34m\u001b[0m\u001b[0;34m\u001b[0m\u001b[0m\n\u001b[0;32m-> 1715\u001b[0;31m             raise ValueError(\"The least populated class in y has only 1\"\n\u001b[0m\u001b[1;32m   1716\u001b[0m                              \u001b[0;34m\" member, which is too few. The minimum\"\u001b[0m\u001b[0;34m\u001b[0m\u001b[0;34m\u001b[0m\u001b[0m\n\u001b[1;32m   1717\u001b[0m                              \u001b[0;34m\" number of groups for any class cannot\"\u001b[0m\u001b[0;34m\u001b[0m\u001b[0;34m\u001b[0m\u001b[0m\n",
      "\u001b[0;31mValueError\u001b[0m: The least populated class in y has only 1 member, which is too few. The minimum number of groups for any class cannot be less than 2."
     ]
    }
   ],
   "source": [
    "XD_train,XD_test,yD_train,yD_test = tts(XD,yD, \n",
    "                                    test_size=0.20,\n",
    "                                    random_state=42,\n",
    "                                    stratify=y)"
   ]
  },
  {
   "cell_type": "code",
   "execution_count": null,
   "id": "fea259f6",
   "metadata": {},
   "outputs": [],
   "source": [
    "knn_model = pipeline_1.fit(XD_train, yD_train)"
   ]
  },
  {
   "cell_type": "code",
   "execution_count": null,
   "id": "bea1ffc5",
   "metadata": {},
   "outputs": [],
   "source": [
    "predict=knn_model.predict(XD_test)"
   ]
  },
  {
   "cell_type": "code",
   "execution_count": null,
   "id": "419f1371",
   "metadata": {},
   "outputs": [],
   "source": [
    "labels = np.unique(yD)"
   ]
  },
  {
   "cell_type": "code",
   "execution_count": null,
   "id": "5c38b09b",
   "metadata": {
    "scrolled": true
   },
   "outputs": [],
   "source": [
    "print(classification_report(yD_test, predict, labels=labels))"
   ]
  },
  {
   "cell_type": "code",
   "execution_count": null,
   "id": "093fe2b5",
   "metadata": {},
   "outputs": [],
   "source": [
    "rf_model = pipeline_2.fit(XD_train, yD_train)"
   ]
  },
  {
   "cell_type": "code",
   "execution_count": null,
   "id": "ddfe9a85",
   "metadata": {},
   "outputs": [],
   "source": [
    "predict2=rf_model.predict(XD_test)"
   ]
  },
  {
   "cell_type": "code",
   "execution_count": null,
   "id": "1aa29b97",
   "metadata": {},
   "outputs": [],
   "source": [
    "print(classification_report(yD_test, predict2, labels=labels))"
   ]
  },
  {
   "cell_type": "code",
   "execution_count": null,
   "id": "8f4e26b7",
   "metadata": {},
   "outputs": [],
   "source": [
    "dtc_model = pipeline_3.fit(XD_train, yD_train)"
   ]
  },
  {
   "cell_type": "code",
   "execution_count": null,
   "id": "941c98b1",
   "metadata": {},
   "outputs": [],
   "source": [
    "predict3=dtc_model.predict(XD_test)"
   ]
  },
  {
   "cell_type": "code",
   "execution_count": null,
   "id": "b38cca47",
   "metadata": {},
   "outputs": [],
   "source": [
    "print(classification_report(yD_test, predict3, labels=labels))"
   ]
  },
  {
   "cell_type": "code",
   "execution_count": null,
   "id": "13b7a9c1",
   "metadata": {},
   "outputs": [],
   "source": [
    "#knn_mi_model = pipeline_4.fit(Xd_train,yD_train)"
   ]
  },
  {
   "cell_type": "code",
   "execution_count": null,
   "id": "85752069",
   "metadata": {},
   "outputs": [],
   "source": [
    "#rf_mi_model = pipeline_4.fit(Xd_train,yD_train)"
   ]
  },
  {
   "cell_type": "code",
   "execution_count": null,
   "id": "793e57e1",
   "metadata": {},
   "outputs": [],
   "source": [
    "#dct_mi_model = pipeline_4.fit(Xd_train,yD_train)"
   ]
  },
  {
   "cell_type": "markdown",
   "id": "71285b99",
   "metadata": {},
   "source": [
    "# GRID SEARCH"
   ]
  },
  {
   "cell_type": "markdown",
   "id": "45472c39",
   "metadata": {},
   "source": [
    "## KFold"
   ]
  },
  {
   "cell_type": "code",
   "execution_count": 119,
   "id": "5e3a100a",
   "metadata": {},
   "outputs": [],
   "source": [
    "from sklearn.model_selection import KFold\n",
    "from sklearn.model_selection import cross_val_score\n",
    "from numpy import mean"
   ]
  },
  {
   "cell_type": "code",
   "execution_count": 120,
   "id": "41395c1e",
   "metadata": {},
   "outputs": [],
   "source": [
    "X_validation = new_data"
   ]
  },
  {
   "cell_type": "code",
   "execution_count": 121,
   "id": "cb9f6575",
   "metadata": {},
   "outputs": [],
   "source": [
    "y_validation = new_label"
   ]
  },
  {
   "cell_type": "code",
   "execution_count": 122,
   "id": "53d0435d",
   "metadata": {},
   "outputs": [],
   "source": [
    "i_fold = [3, 5, 7]"
   ]
  },
  {
   "cell_type": "code",
   "execution_count": 123,
   "id": "3b72a717",
   "metadata": {},
   "outputs": [
    {
     "ename": "NameError",
     "evalue": "name 'rf_model' is not defined",
     "output_type": "error",
     "traceback": [
      "\u001b[0;31m---------------------------------------------------------------------------\u001b[0m",
      "\u001b[0;31mNameError\u001b[0m                                 Traceback (most recent call last)",
      "\u001b[0;32m<ipython-input-123-ac5a3f500bdc>\u001b[0m in \u001b[0;36m<module>\u001b[0;34m\u001b[0m\n\u001b[1;32m      1\u001b[0m \u001b[0;32mfor\u001b[0m \u001b[0mn\u001b[0m \u001b[0;32min\u001b[0m \u001b[0mi_fold\u001b[0m\u001b[0;34m:\u001b[0m\u001b[0;34m\u001b[0m\u001b[0;34m\u001b[0m\u001b[0m\n\u001b[1;32m      2\u001b[0m     \u001b[0mcv\u001b[0m \u001b[0;34m=\u001b[0m \u001b[0mKFold\u001b[0m\u001b[0;34m(\u001b[0m\u001b[0mn_splits\u001b[0m\u001b[0;34m=\u001b[0m\u001b[0mn\u001b[0m\u001b[0;34m,\u001b[0m \u001b[0mrandom_state\u001b[0m\u001b[0;34m=\u001b[0m\u001b[0;36m1\u001b[0m\u001b[0;34m,\u001b[0m \u001b[0mshuffle\u001b[0m\u001b[0;34m=\u001b[0m\u001b[0;32mTrue\u001b[0m\u001b[0;34m)\u001b[0m\u001b[0;34m\u001b[0m\u001b[0;34m\u001b[0m\u001b[0m\n\u001b[0;32m----> 3\u001b[0;31m     \u001b[0mmodel\u001b[0m \u001b[0;34m=\u001b[0m \u001b[0mrf_model\u001b[0m\u001b[0;34m\u001b[0m\u001b[0;34m\u001b[0m\u001b[0m\n\u001b[0m\u001b[1;32m      4\u001b[0m     \u001b[0mscores\u001b[0m \u001b[0;34m=\u001b[0m \u001b[0mcross_val_score\u001b[0m\u001b[0;34m(\u001b[0m\u001b[0mmodel\u001b[0m\u001b[0;34m,\u001b[0m \u001b[0mX_validation\u001b[0m\u001b[0;34m,\u001b[0m \u001b[0my_validation\u001b[0m\u001b[0;34m,\u001b[0m \u001b[0mscoring\u001b[0m\u001b[0;34m=\u001b[0m\u001b[0;34m'accuracy'\u001b[0m\u001b[0;34m,\u001b[0m \u001b[0mcv\u001b[0m\u001b[0;34m=\u001b[0m\u001b[0mcv\u001b[0m\u001b[0;34m,\u001b[0m \u001b[0mn_jobs\u001b[0m\u001b[0;34m=\u001b[0m\u001b[0;34m-\u001b[0m\u001b[0;36m1\u001b[0m\u001b[0;34m)\u001b[0m\u001b[0;34m\u001b[0m\u001b[0;34m\u001b[0m\u001b[0m\n\u001b[1;32m      5\u001b[0m     \u001b[0mprint\u001b[0m\u001b[0;34m(\u001b[0m\u001b[0;34m' Fold: %d ; Accuracy: %.3f'\u001b[0m \u001b[0;34m%\u001b[0m \u001b[0;34m(\u001b[0m\u001b[0mn\u001b[0m\u001b[0;34m,\u001b[0m \u001b[0mmean\u001b[0m\u001b[0;34m(\u001b[0m\u001b[0mscores\u001b[0m\u001b[0;34m)\u001b[0m\u001b[0;34m)\u001b[0m\u001b[0;34m)\u001b[0m\u001b[0;34m\u001b[0m\u001b[0;34m\u001b[0m\u001b[0m\n",
      "\u001b[0;31mNameError\u001b[0m: name 'rf_model' is not defined"
     ]
    }
   ],
   "source": [
    "for n in i_fold:\n",
    "    cv = KFold(n_splits=n, random_state=1, shuffle=True)\n",
    "    model = rf_model\n",
    "    scores = cross_val_score(model, X_validation, y_validation, scoring='accuracy', cv=cv, n_jobs=-1)\n",
    "    print(' Fold: %d ; Accuracy: %.3f' % (n, mean(scores)))\n",
    "    "
   ]
  },
  {
   "cell_type": "markdown",
   "id": "6ae8429f",
   "metadata": {},
   "source": [
    "## Leave-One-Out"
   ]
  },
  {
   "cell_type": "code",
   "execution_count": null,
   "id": "334cfed7",
   "metadata": {},
   "outputs": [],
   "source": [
    "from sklearn.model_selection import LeaveOneOut"
   ]
  },
  {
   "cell_type": "code",
   "execution_count": null,
   "id": "046ca907",
   "metadata": {},
   "outputs": [],
   "source": [
    "cv2 = LeaveOneOut()"
   ]
  },
  {
   "cell_type": "code",
   "execution_count": null,
   "id": "f2da21c0",
   "metadata": {},
   "outputs": [],
   "source": [
    "model2 = rf_model"
   ]
  },
  {
   "cell_type": "code",
   "execution_count": null,
   "id": "dd84146b",
   "metadata": {},
   "outputs": [],
   "source": [
    "scores2 = cross_val_score(model2, X_validation, y_validation, scoring='accuracy', cv=cv2, n_jobs=-1)"
   ]
  },
  {
   "cell_type": "code",
   "execution_count": null,
   "id": "df18053d",
   "metadata": {},
   "outputs": [],
   "source": [
    "print('Accuracy: %.3f' % (mean(scores2)))"
   ]
  },
  {
   "cell_type": "markdown",
   "id": "82867048",
   "metadata": {},
   "source": [
    "## Data Augmentation - not required"
   ]
  }
 ],
 "metadata": {
  "kernelspec": {
   "display_name": "Python 3",
   "language": "python",
   "name": "python3"
  },
  "language_info": {
   "codemirror_mode": {
    "name": "ipython",
    "version": 3
   },
   "file_extension": ".py",
   "mimetype": "text/x-python",
   "name": "python",
   "nbconvert_exporter": "python",
   "pygments_lexer": "ipython3",
   "version": "3.8.8"
  }
 },
 "nbformat": 4,
 "nbformat_minor": 5
}
