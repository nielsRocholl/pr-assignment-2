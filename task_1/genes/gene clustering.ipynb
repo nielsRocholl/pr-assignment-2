{
 "cells": [
  {
   "cell_type": "markdown",
   "id": "reflected-supplement",
   "metadata": {},
   "source": [
    "### Importing all the necessary data "
   ]
  },
  {
   "cell_type": "code",
   "execution_count": 92,
   "id": "color-terminal",
   "metadata": {},
   "outputs": [],
   "source": [
    "import numpy as np\n",
    "import matplotlib.pyplot as plt\n",
    "import pandas as pd\n",
    "import seaborn as sns\n",
    "import random"
   ]
  },
  {
   "cell_type": "markdown",
   "id": "respiratory-shadow",
   "metadata": {},
   "source": [
    "### Reading in the files"
   ]
  },
  {
   "cell_type": "code",
   "execution_count": 3,
   "id": "engaging-variable",
   "metadata": {},
   "outputs": [],
   "source": [
    "X=pd.read_csv(\"../data/Genes/data.csv\")"
   ]
  },
  {
   "cell_type": "code",
   "execution_count": 4,
   "id": "constant-insertion",
   "metadata": {},
   "outputs": [],
   "source": [
    "y=pd.read_csv(\"../data/Genes/labels.csv\")"
   ]
  },
  {
   "cell_type": "markdown",
   "id": "handy-edinburgh",
   "metadata": {},
   "source": [
    "### EDA"
   ]
  },
  {
   "cell_type": "code",
   "execution_count": 5,
   "id": "breeding-subject",
   "metadata": {},
   "outputs": [
    {
     "data": {
      "text/plain": [
       "(801, 20532)"
      ]
     },
     "execution_count": 5,
     "metadata": {},
     "output_type": "execute_result"
    }
   ],
   "source": [
    "X.shape"
   ]
  },
  {
   "cell_type": "code",
   "execution_count": 6,
   "id": "stopped-clock",
   "metadata": {},
   "outputs": [
    {
     "data": {
      "text/plain": [
       "(801, 2)"
      ]
     },
     "execution_count": 6,
     "metadata": {},
     "output_type": "execute_result"
    }
   ],
   "source": [
    "y.shape"
   ]
  },
  {
   "cell_type": "markdown",
   "id": "optical-cincinnati",
   "metadata": {},
   "source": [
    "#### Y has a column which we will never use so lets remove it "
   ]
  },
  {
   "cell_type": "code",
   "execution_count": 7,
   "id": "broadband-optics",
   "metadata": {},
   "outputs": [],
   "source": [
    "y=y.iloc[:,1]"
   ]
  },
  {
   "cell_type": "markdown",
   "id": "accomplished-finding",
   "metadata": {},
   "source": [
    "#### Checking all the unique values that we have to cluster the given data in "
   ]
  },
  {
   "cell_type": "code",
   "execution_count": 8,
   "id": "charming-field",
   "metadata": {},
   "outputs": [
    {
     "data": {
      "text/plain": [
       "BRCA    300\n",
       "KIRC    146\n",
       "LUAD    141\n",
       "PRAD    136\n",
       "COAD     78\n",
       "Name: Class, dtype: int64"
      ]
     },
     "execution_count": 8,
     "metadata": {},
     "output_type": "execute_result"
    }
   ],
   "source": [
    "y.value_counts()"
   ]
  },
  {
   "cell_type": "code",
   "execution_count": 9,
   "id": "native-joining",
   "metadata": {},
   "outputs": [
    {
     "data": {
      "text/plain": [
       "<AxesSubplot:xlabel='Class', ylabel='Count'>"
      ]
     },
     "execution_count": 9,
     "metadata": {},
     "output_type": "execute_result"
    },
    {
     "data": {
      "image/png": "[encoded data removed]",
      "text/plain": [
       "<Figure size 432x288 with 1 Axes>"
      ]
     },
     "metadata": {
      "needs_background": "light"
     },
     "output_type": "display_data"
    }
   ],
   "source": [
    "sns.histplot(y)"
   ]
  },
  {
   "cell_type": "markdown",
   "id": "adult-burst",
   "metadata": {},
   "source": [
    "#### We have a healthy ratio of samples where we can see that even though BRCA dominates we can see other labels are plentifully present"
   ]
  },
  {
   "cell_type": "markdown",
   "id": "muslim-extent",
   "metadata": {},
   "source": [
    "#### Eventhough we dont have a heavy class imbalance we might later use SMOTE to create some artificial samples"
   ]
  },
  {
   "cell_type": "markdown",
   "id": "italian-vector",
   "metadata": {},
   "source": [
    "#### Examining X"
   ]
  },
  {
   "cell_type": "code",
   "execution_count": 10,
   "id": "italic-indicator",
   "metadata": {},
   "outputs": [],
   "source": [
    "X=X.iloc[:,1:]"
   ]
  },
  {
   "cell_type": "code",
   "execution_count": 11,
   "id": "funky-palmer",
   "metadata": {},
   "outputs": [
    {
     "data": {
      "text/plain": [
       "array([], dtype=int64)"
      ]
     },
     "execution_count": 11,
     "metadata": {},
     "output_type": "execute_result"
    }
   ],
   "source": [
    "np.flatnonzero(X.dtypes!=\"float64\")\n"
   ]
  },
  {
   "cell_type": "markdown",
   "id": "breathing-intention",
   "metadata": {},
   "source": [
    "#### all the columns consist of floating numbers"
   ]
  },
  {
   "cell_type": "code",
   "execution_count": 12,
   "id": "endangered-jordan",
   "metadata": {},
   "outputs": [
    {
     "name": "stdout",
     "output_type": "stream",
     "text": [
      "<class 'pandas.core.frame.DataFrame'>\n",
      "RangeIndex: 801 entries, 0 to 800\n",
      "Columns: 20531 entries, gene_0 to gene_20530\n",
      "dtypes: float64(20531)\n",
      "memory usage: 125.5 MB\n"
     ]
    }
   ],
   "source": [
    "X.info()"
   ]
  },
  {
   "cell_type": "markdown",
   "id": "catholic-weekend",
   "metadata": {},
   "source": [
    "#### Checking for any null values"
   ]
  },
  {
   "cell_type": "code",
   "execution_count": 13,
   "id": "usual-beach",
   "metadata": {},
   "outputs": [
    {
     "data": {
      "text/plain": [
       "array([], dtype=int64)"
      ]
     },
     "execution_count": 13,
     "metadata": {},
     "output_type": "execute_result"
    }
   ],
   "source": [
    "np.flatnonzero(np.sum(pd.isnull(X))>0)"
   ]
  },
  {
   "cell_type": "markdown",
   "id": "signal-control",
   "metadata": {},
   "source": [
    "#### We find that there are no null values "
   ]
  },
  {
   "cell_type": "markdown",
   "id": "killing-billy",
   "metadata": {},
   "source": [
    "### Splittng the dataset into 80% and 20% so that we have train and test sets"
   ]
  },
  {
   "cell_type": "code",
   "execution_count": 36,
   "id": "annoying-university",
   "metadata": {},
   "outputs": [],
   "source": [
    "from sklearn.model_selection import train_test_split"
   ]
  },
  {
   "cell_type": "code",
   "execution_count": 37,
   "id": "patent-ordinance",
   "metadata": {},
   "outputs": [],
   "source": [
    "X_train, X_test, y_train, y_test = train_test_split(\n",
    "...     X, y, test_size=0.20, random_state=42,stratify=y)"
   ]
  },
  {
   "cell_type": "code",
   "execution_count": 38,
   "id": "basic-orleans",
   "metadata": {},
   "outputs": [
    {
     "data": {
      "text/plain": [
       "(640, 20531)"
      ]
     },
     "execution_count": 38,
     "metadata": {},
     "output_type": "execute_result"
    }
   ],
   "source": [
    "X_train.shape"
   ]
  },
  {
   "cell_type": "code",
   "execution_count": 39,
   "id": "ideal-valley",
   "metadata": {},
   "outputs": [
    {
     "data": {
      "text/plain": [
       "(161, 20531)"
      ]
     },
     "execution_count": 39,
     "metadata": {},
     "output_type": "execute_result"
    }
   ],
   "source": [
    "X_test.shape"
   ]
  },
  {
   "cell_type": "code",
   "execution_count": 40,
   "id": "missing-priest",
   "metadata": {},
   "outputs": [
    {
     "data": {
      "text/plain": [
       "(array(['BRCA', 'COAD', 'KIRC', 'LUAD', 'PRAD'], dtype=object),\n",
       " array([240,  62, 116, 113, 109], dtype=int64))"
      ]
     },
     "execution_count": 40,
     "metadata": {},
     "output_type": "execute_result"
    }
   ],
   "source": [
    "np.unique(y_train,return_counts=True)"
   ]
  },
  {
   "cell_type": "code",
   "execution_count": 41,
   "id": "handy-impossible",
   "metadata": {},
   "outputs": [
    {
     "data": {
      "text/plain": [
       "(array(['BRCA', 'COAD', 'KIRC', 'LUAD', 'PRAD'], dtype=object),\n",
       " array([60, 16, 30, 28, 27], dtype=int64))"
      ]
     },
     "execution_count": 41,
     "metadata": {},
     "output_type": "execute_result"
    }
   ],
   "source": [
    "np.unique(y_test,return_counts=True)"
   ]
  },
  {
   "cell_type": "markdown",
   "id": "alternate-comment",
   "metadata": {},
   "source": [
    "#### We see that by using stratify we preserve the  ratio of samples that we have in test and train sets "
   ]
  },
  {
   "cell_type": "code",
   "execution_count": 42,
   "id": "driving-state",
   "metadata": {},
   "outputs": [],
   "source": [
    "from sklearn.preprocessing import StandardScaler, OrdinalEncoder\n",
    "from sklearn.impute import SimpleImputer\n",
    "from sklearn.compose import ColumnTransformer\n",
    "from sklearn.pipeline import Pipeline"
   ]
  },
  {
   "cell_type": "code",
   "execution_count": 43,
   "id": "careful-canon",
   "metadata": {},
   "outputs": [],
   "source": [
    "numeric_transformer = Pipeline(steps=[\n",
    "       ('imputer', SimpleImputer(strategy='mean'))\n",
    "      ,('scaler', StandardScaler())\n",
    "])"
   ]
  },
  {
   "cell_type": "code",
   "execution_count": 44,
   "id": "grave-armenia",
   "metadata": {},
   "outputs": [],
   "source": [
    "categorical_transformer = Pipeline(steps=[\n",
    "       ('imputer', SimpleImputer(strategy='constant'))\n",
    "      ,('encoder', OrdinalEncoder())\n",
    "])"
   ]
  },
  {
   "cell_type": "markdown",
   "id": "cheap-lawsuit",
   "metadata": {},
   "source": [
    "#### All are features are numerical and we have no categorical variables."
   ]
  },
  {
   "cell_type": "code",
   "execution_count": 45,
   "id": "unlike-assets",
   "metadata": {},
   "outputs": [],
   "source": [
    "numeric_features = X.select_dtypes(include=['int64', 'float64']).columns"
   ]
  },
  {
   "cell_type": "code",
   "execution_count": 46,
   "id": "similar-electricity",
   "metadata": {},
   "outputs": [],
   "source": [
    "categorical_features = X.select_dtypes(include=['object']).columns"
   ]
  },
  {
   "cell_type": "code",
   "execution_count": 47,
   "id": "destroyed-triumph",
   "metadata": {},
   "outputs": [],
   "source": [
    "preprocessor = ColumnTransformer(\n",
    "   transformers=[\n",
    "    ('numeric', numeric_transformer, numeric_features)\n",
    "   ,#('categorical', categorical_transformer, categorical_features)\n",
    "]) "
   ]
  },
  {
   "cell_type": "code",
   "execution_count": 48,
   "id": "final-robinson",
   "metadata": {},
   "outputs": [],
   "source": [
    "from sklearn.decomposition import PCA\n",
    "from sklearn.neighbors import KNeighborsClassifier\n",
    "from sklearn.ensemble import RandomForestClassifier"
   ]
  },
  {
   "cell_type": "code",
   "execution_count": 78,
   "id": "aggregate-convenience",
   "metadata": {},
   "outputs": [],
   "source": [
    "pca = PCA(n_components=0.95)"
   ]
  },
  {
   "cell_type": "code",
   "execution_count": 79,
   "id": "existing-output",
   "metadata": {},
   "outputs": [],
   "source": [
    "knn=KNeighborsClassifier(n_neighbors=3)"
   ]
  },
  {
   "cell_type": "code",
   "execution_count": 80,
   "id": "overall-slovak",
   "metadata": {},
   "outputs": [],
   "source": [
    "rf=RandomForestClassifier()"
   ]
  },
  {
   "cell_type": "code",
   "execution_count": 81,
   "id": "under-arlington",
   "metadata": {},
   "outputs": [],
   "source": [
    "pp1 = Pipeline(steps = [\n",
    "               ('preprocessor', preprocessor),\n",
    "                ('pca',pca),\n",
    "                ('knn',knn)\n",
    "           ])"
   ]
  },
  {
   "cell_type": "code",
   "execution_count": 82,
   "id": "fabulous-robertson",
   "metadata": {},
   "outputs": [],
   "source": [
    "pp2=Pipeline(steps = [\n",
    "               ('preprocessor', preprocessor),\n",
    "                ('pca',pca),\n",
    "                ('rf',rf)\n",
    "           ])"
   ]
  },
  {
   "cell_type": "code",
   "execution_count": 83,
   "id": "restricted-combination",
   "metadata": {},
   "outputs": [],
   "source": [
    "param_grid_pp1 = {\n",
    "    \"pca__n_components\": [0.90,0.95],\n",
    "    \"knn__n_neighbors\": [3,5,7,9,11,15,17],\n",
    "    #\"knn__weights\":[\"uniform\", \"distance\"]\n",
    "}"
   ]
  },
  {
   "cell_type": "code",
   "execution_count": 84,
   "id": "vital-server",
   "metadata": {},
   "outputs": [],
   "source": [
    "#from sklearn.model_selection import GridSearchCV"
   ]
  },
  {
   "cell_type": "code",
   "execution_count": 66,
   "id": "maritime-pocket",
   "metadata": {},
   "outputs": [],
   "source": [
    "#search_pp1 = GridSearchCV(pp1, param_grid_pp1)"
   ]
  },
  {
   "cell_type": "code",
   "execution_count": 67,
   "id": "vital-envelope",
   "metadata": {},
   "outputs": [
    {
     "data": {
      "text/plain": [
       "GridSearchCV(estimator=Pipeline(steps=[('preprocessor',\n",
       "                                        ColumnTransformer(transformers=[('numeric',\n",
       "                                                                         Pipeline(steps=[('imputer',\n",
       "                                                                                          SimpleImputer()),\n",
       "                                                                                         ('scaler',\n",
       "                                                                                          StandardScaler())]),\n",
       "                                                                         Index(['gene_0', 'gene_1', 'gene_2', 'gene_3', 'gene_4', 'gene_5', 'gene_6',\n",
       "       'gene_7', 'gene_8', 'gene_9',\n",
       "       ...\n",
       "       'gene_20521', 'gene_20522', 'gene_20523', 'gene_20524', 'gene_20525',\n",
       "       'gene_20526', 'gene_20527', 'gene_20528', 'gene_20529', 'gene_20530'],\n",
       "      dtype='object', length=20531))])),\n",
       "                                       ('pca', PCA()),\n",
       "                                       ('knn', KNeighborsClassifier())]),\n",
       "             param_grid={'knn__n_neighbors': [3, 5, 7, 9, 11, 15, 17],\n",
       "                         'pca__n_components': [0.9, 0.95]})"
      ]
     },
     "execution_count": 67,
     "metadata": {},
     "output_type": "execute_result"
    }
   ],
   "source": [
    "#search_pp1.fit(X_train,y_train)"
   ]
  },
  {
   "cell_type": "code",
   "execution_count": 68,
   "id": "colonial-malta",
   "metadata": {},
   "outputs": [
    {
     "name": "stdout",
     "output_type": "stream",
     "text": [
      "Best parameter (CV score=0.998):\n",
      "{'knn__n_neighbors': 3, 'pca__n_components': 0.95}\n"
     ]
    }
   ],
   "source": [
    "#print(\"Best parameter (CV score=%0.3f):\" % search_pp1.best_score_)\n",
    "#print(search_pp1.best_params_)"
   ]
  },
  {
   "cell_type": "code",
   "execution_count": 86,
   "id": "oriented-mediterranean",
   "metadata": {},
   "outputs": [],
   "source": [
    "knn_model=pp1.fit(X_train,y_train)"
   ]
  },
  {
   "cell_type": "code",
   "execution_count": 88,
   "id": "superior-standard",
   "metadata": {},
   "outputs": [],
   "source": [
    "pred=knn_model.predict(X_test)"
   ]
  },
  {
   "cell_type": "code",
   "execution_count": 89,
   "id": "portable-translation",
   "metadata": {},
   "outputs": [],
   "source": [
    "from sklearn.metrics import classification_report"
   ]
  },
  {
   "cell_type": "code",
   "execution_count": 90,
   "id": "front-qatar",
   "metadata": {},
   "outputs": [],
   "source": [
    "target_names=np.unique(y)"
   ]
  },
  {
   "cell_type": "code",
   "execution_count": 91,
   "id": "touched-occurrence",
   "metadata": {},
   "outputs": [
    {
     "name": "stdout",
     "output_type": "stream",
     "text": [
      "              precision    recall  f1-score   support\n",
      "\n",
      "        BRCA       0.97      1.00      0.98        60\n",
      "        COAD       1.00      1.00      1.00        16\n",
      "        KIRC       1.00      0.97      0.98        30\n",
      "        LUAD       1.00      0.93      0.96        28\n",
      "        PRAD       0.96      1.00      0.98        27\n",
      "\n",
      "    accuracy                           0.98       161\n",
      "   macro avg       0.99      0.98      0.98       161\n",
      "weighted avg       0.98      0.98      0.98       161\n",
      "\n"
     ]
    }
   ],
   "source": [
    "print(classification_report(y_test, pred, target_names=target_names))"
   ]
  },
  {
   "cell_type": "code",
   "execution_count": 93,
   "id": "parental-problem",
   "metadata": {},
   "outputs": [],
   "source": [
    "rf_model=pp2.fit(X_train,y_train)"
   ]
  },
  {
   "cell_type": "code",
   "execution_count": 96,
   "id": "pacific-concentration",
   "metadata": {},
   "outputs": [],
   "source": [
    "pred2=rf_model.predict(X_test)"
   ]
  },
  {
   "cell_type": "code",
   "execution_count": 97,
   "id": "attempted-viewer",
   "metadata": {},
   "outputs": [
    {
     "name": "stdout",
     "output_type": "stream",
     "text": [
      "              precision    recall  f1-score   support\n",
      "\n",
      "        BRCA       0.82      1.00      0.90        60\n",
      "        COAD       1.00      0.81      0.90        16\n",
      "        KIRC       1.00      0.97      0.98        30\n",
      "        LUAD       1.00      0.68      0.81        28\n",
      "        PRAD       0.96      0.96      0.96        27\n",
      "\n",
      "    accuracy                           0.91       161\n",
      "   macro avg       0.96      0.88      0.91       161\n",
      "weighted avg       0.93      0.91      0.91       161\n",
      "\n"
     ]
    }
   ],
   "source": [
    "print(classification_report(y_test, pred2, target_names=target_names))"
   ]
  },
  {
   "cell_type": "code",
   "execution_count": null,
   "id": "higher-relief",
   "metadata": {},
   "outputs": [],
   "source": []
  }
 ],
 "metadata": {
  "kernelspec": {
   "display_name": "Python 3",
   "language": "python",
   "name": "python3"
  },
  "language_info": {
   "codemirror_mode": {
    "name": "ipython",
    "version": 3
   },
   "file_extension": ".py",
   "mimetype": "text/x-python",
   "name": "python",
   "nbconvert_exporter": "python",
   "pygments_lexer": "ipython3",
   "version": "3.6.3"
  }
 },
 "nbformat": 4,
 "nbformat_minor": 5
}
