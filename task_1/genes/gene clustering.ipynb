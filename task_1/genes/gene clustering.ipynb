{
 "cells": [
  {
   "cell_type": "code",
   "execution_count": 34,
   "id": "fabulous-tractor",
   "metadata": {},
   "outputs": [],
   "source": [
    "import numpy as np\n",
    "import matplotlib.pyplot as plt\n",
    "import pandas as pd\n",
    "import seaborn as sns\n",
    "import random"
   ]
  },
  {
   "cell_type": "code",
   "execution_count": 35,
   "id": "arranged-voice",
   "metadata": {},
   "outputs": [],
   "source": [
    "X=pd.read_csv(\"../data/Genes/data.csv\")"
   ]
  },
  {
   "cell_type": "code",
   "execution_count": 36,
   "id": "ancient-discussion",
   "metadata": {},
   "outputs": [],
   "source": [
    "y=pd.read_csv(\"../data/Genes/labels.csv\")"
   ]
  },
  {
   "cell_type": "code",
   "execution_count": 37,
   "id": "accompanied-costs",
   "metadata": {},
   "outputs": [
    {
     "data": {
      "text/plain": [
       "(801, 20532)"
      ]
     },
     "execution_count": 37,
     "metadata": {},
     "output_type": "execute_result"
    }
   ],
   "source": [
    "X.shape"
   ]
  },
  {
   "cell_type": "code",
   "execution_count": 38,
   "id": "prescribed-auditor",
   "metadata": {},
   "outputs": [],
   "source": [
    "X=X.iloc[:,1:]"
   ]
  },
  {
   "cell_type": "code",
   "execution_count": 39,
   "id": "stupid-omaha",
   "metadata": {},
   "outputs": [],
   "source": [
    "y=y.iloc[:,1:]"
   ]
  },
  {
   "cell_type": "code",
   "execution_count": 40,
   "id": "photographic-wichita",
   "metadata": {},
   "outputs": [
    {
     "name": "stdout",
     "output_type": "stream",
     "text": [
      "<class 'pandas.core.frame.DataFrame'>\n",
      "RangeIndex: 801 entries, 0 to 800\n",
      "Columns: 20531 entries, gene_0 to gene_20530\n",
      "dtypes: float64(20531)\n",
      "memory usage: 125.5 MB\n"
     ]
    }
   ],
   "source": [
    "X.info()"
   ]
  },
  {
   "cell_type": "code",
   "execution_count": 41,
   "id": "secondary-prerequisite",
   "metadata": {},
   "outputs": [
    {
     "data": {
      "text/plain": [
       "array([], dtype=int64)"
      ]
     },
     "execution_count": 41,
     "metadata": {},
     "output_type": "execute_result"
    }
   ],
   "source": [
    "np.flatnonzero(np.sum(pd.isnull(X))>0)"
   ]
  },
  {
   "cell_type": "code",
   "execution_count": 42,
   "id": "appropriate-affect",
   "metadata": {},
   "outputs": [
    {
     "data": {
      "text/plain": [
       "(267,)"
      ]
     },
     "execution_count": 42,
     "metadata": {},
     "output_type": "execute_result"
    }
   ],
   "source": [
    "np.flatnonzero(X.std()==0).shape"
   ]
  },
  {
   "cell_type": "code",
   "execution_count": 10,
   "id": "unique-judge",
   "metadata": {},
   "outputs": [],
   "source": [
    "X=X.drop(X.std()[X.std()==0].index.values,axis=1)"
   ]
  },
  {
   "cell_type": "code",
   "execution_count": 11,
   "id": "expected-consolidation",
   "metadata": {},
   "outputs": [],
   "source": [
    "from sklearn.preprocessing import StandardScaler, OrdinalEncoder\n",
    "from sklearn.impute import SimpleImputer\n",
    "from sklearn.compose import ColumnTransformer\n",
    "from sklearn.pipeline import Pipeline"
   ]
  },
  {
   "cell_type": "code",
   "execution_count": 12,
   "id": "renewable-dutch",
   "metadata": {},
   "outputs": [],
   "source": [
    "numeric_transformer = Pipeline(steps=[\n",
    "       ('imputer', SimpleImputer(strategy='mean'))\n",
    "      ,('scaler', StandardScaler())\n",
    "])"
   ]
  },
  {
   "cell_type": "code",
   "execution_count": 13,
   "id": "intelligent-symbol",
   "metadata": {},
   "outputs": [],
   "source": [
    "categorical_transformer = Pipeline(steps=[\n",
    "       ('imputer', SimpleImputer(strategy='constant'))\n",
    "      ,('encoder', OrdinalEncoder())\n",
    "])"
   ]
  },
  {
   "cell_type": "code",
   "execution_count": 14,
   "id": "spectacular-caribbean",
   "metadata": {},
   "outputs": [],
   "source": [
    "numeric_features = X.select_dtypes(include=['int64', 'float64']).columns"
   ]
  },
  {
   "cell_type": "code",
   "execution_count": 15,
   "id": "wrapped-bermuda",
   "metadata": {},
   "outputs": [],
   "source": [
    "categorical_features = X.select_dtypes(include=['object']).columns"
   ]
  },
  {
   "cell_type": "code",
   "execution_count": 16,
   "id": "applied-jungle",
   "metadata": {},
   "outputs": [],
   "source": [
    "preprocessor = ColumnTransformer(\n",
    "   transformers=[\n",
    "    ('numeric', numeric_transformer, numeric_features)\n",
    "]) "
   ]
  },
  {
   "cell_type": "code",
   "execution_count": 17,
   "id": "recreational-technology",
   "metadata": {},
   "outputs": [
    {
     "data": {
      "text/html": [
       "<img src=\"../data/Genes/clus.png\"/>"
      ],
      "text/plain": [
       "<IPython.core.display.Image object>"
      ]
     },
     "execution_count": 17,
     "metadata": {},
     "output_type": "execute_result"
    }
   ],
   "source": [
    "from IPython.display import Image\n",
    "Image(url= \"../data/Genes/clus.png\")"
   ]
  },
  {
   "cell_type": "code",
   "execution_count": null,
   "id": "confused-thomson",
   "metadata": {},
   "outputs": [],
   "source": []
  },
  {
   "cell_type": "code",
   "execution_count": 18,
   "id": "coastal-riverside",
   "metadata": {},
   "outputs": [],
   "source": [
    "X_pre=preprocessor.fit_transform(X)"
   ]
  },
  {
   "cell_type": "code",
   "execution_count": null,
   "id": "level-tutorial",
   "metadata": {},
   "outputs": [],
   "source": []
  },
  {
   "cell_type": "code",
   "execution_count": 23,
   "id": "minus-broadcasting",
   "metadata": {},
   "outputs": [],
   "source": [
    "from sklearn.feature_selection import SelectKBest, f_classif\n",
    "from sklearn.decomposition import PCA\n",
    "from sklearn.decomposition import KernelPCA\n",
    "from sklearn.cluster import KMeans\n",
    "from sklearn.metrics import silhouette_score\n"
   ]
  },
  {
   "cell_type": "code",
   "execution_count": 24,
   "id": "southern-episode",
   "metadata": {},
   "outputs": [],
   "source": [
    "range_n_clusters = [3, 4, 5, 6, 7, 8]"
   ]
  },
  {
   "cell_type": "code",
   "execution_count": 26,
   "id": "thorough-spencer",
   "metadata": {
    "scrolled": true
   },
   "outputs": [
    {
     "name": "stdout",
     "output_type": "stream",
     "text": [
      "var = 0.9 For n_clusters = 3 The average silhouette_score is : 0.12213050721268999\n",
      "var = 0.9 For n_clusters = 4 The average silhouette_score is : 0.1354488675564315\n",
      "var = 0.9 For n_clusters = 5 The average silhouette_score is : 0.15768335664099392\n",
      "var = 0.9 For n_clusters = 6 The average silhouette_score is : 0.15846310167763136\n",
      "var = 0.9 For n_clusters = 7 The average silhouette_score is : 0.16463614669596532\n",
      "var = 0.9 For n_clusters = 8 The average silhouette_score is : 0.13245955831449469\n",
      "var = 0.95 For n_clusters = 3 The average silhouette_score is : 0.11525728608401746\n",
      "var = 0.95 For n_clusters = 4 The average silhouette_score is : 0.12545703150755702\n",
      "var = 0.95 For n_clusters = 5 The average silhouette_score is : 0.14739864590374133\n",
      "var = 0.95 For n_clusters = 6 The average silhouette_score is : 0.14401081433830623\n",
      "var = 0.95 For n_clusters = 7 The average silhouette_score is : 0.1519568175675471\n",
      "var = 0.95 For n_clusters = 8 The average silhouette_score is : 0.13785473572149615\n",
      "var = 0.98 For n_clusters = 3 The average silhouette_score is : 0.10213597637197418\n",
      "var = 0.98 For n_clusters = 4 The average silhouette_score is : 0.11958293256172012\n",
      "var = 0.98 For n_clusters = 5 The average silhouette_score is : 0.13945557976051612\n",
      "var = 0.98 For n_clusters = 6 The average silhouette_score is : 0.14036743525132855\n",
      "var = 0.98 For n_clusters = 7 The average silhouette_score is : 0.14570929646601097\n",
      "var = 0.98 For n_clusters = 8 The average silhouette_score is : 0.12426657956140903\n"
     ]
    }
   ],
   "source": [
    "for i in [0.9,0.95,0.98]:\n",
    "    pca = PCA(n_components=i)\n",
    "    X_pca=pca.fit_transform(X_pre)\n",
    "    for n_clusters in range_n_clusters:\n",
    "        clusterer = KMeans(n_clusters=n_clusters, random_state=10)\n",
    "        cluster_labels = clusterer.fit_predict(X_pca)\n",
    "        silhouette_avg = silhouette_score(X_pca, cluster_labels)\n",
    "        print(\n",
    "        \"var =\",\n",
    "        i,\n",
    "        \"For n_clusters =\",\n",
    "        n_clusters,\n",
    "        \"The average silhouette_score is :\",\n",
    "        silhouette_avg,\n",
    "    )\n",
    "    \n",
    "    "
   ]
  },
  {
   "cell_type": "code",
   "execution_count": 33,
   "id": "mighty-beijing",
   "metadata": {},
   "outputs": [
    {
     "name": "stdout",
     "output_type": "stream",
     "text": [
      "var = 100 For n_clusters = 3 The average silhouette_score is : 0.14270271371403065\n",
      "var = 100 For n_clusters = 4 The average silhouette_score is : 0.1454820969202855\n",
      "var = 100 For n_clusters = 5 The average silhouette_score is : 0.16137673057708188\n",
      "var = 100 For n_clusters = 6 The average silhouette_score is : 0.16332304897616254\n",
      "var = 100 For n_clusters = 7 The average silhouette_score is : 0.14558278969848065\n",
      "var = 100 For n_clusters = 8 The average silhouette_score is : 0.14880425057849683\n",
      "var = 300 For n_clusters = 3 The average silhouette_score is : 0.07384301458326743\n",
      "var = 300 For n_clusters = 4 The average silhouette_score is : 0.08632266335501725\n",
      "var = 300 For n_clusters = 5 The average silhouette_score is : 0.10178443303757828\n",
      "var = 300 For n_clusters = 6 The average silhouette_score is : 0.10666199834967435\n",
      "var = 300 For n_clusters = 7 The average silhouette_score is : 0.1037582636881619\n",
      "var = 300 For n_clusters = 8 The average silhouette_score is : 0.08566354439723439\n",
      "var = 400 For n_clusters = 3 The average silhouette_score is : 0.05623569490159897\n",
      "var = 400 For n_clusters = 4 The average silhouette_score is : 0.07262995111571424\n",
      "var = 400 For n_clusters = 5 The average silhouette_score is : 0.08633498286482837\n",
      "var = 400 For n_clusters = 6 The average silhouette_score is : 0.09257201350200027\n",
      "var = 400 For n_clusters = 7 The average silhouette_score is : 0.0825830606881354\n",
      "var = 400 For n_clusters = 8 The average silhouette_score is : 0.07329788802813272\n",
      "var = 800 For n_clusters = 3 The average silhouette_score is : 0.04738798097288712\n",
      "var = 800 For n_clusters = 4 The average silhouette_score is : 0.05399386522875365\n",
      "var = 800 For n_clusters = 5 The average silhouette_score is : 0.062284841078412166\n",
      "var = 800 For n_clusters = 6 The average silhouette_score is : 0.06511547943890879\n",
      "var = 800 For n_clusters = 7 The average silhouette_score is : 0.06603612501311316\n",
      "var = 800 For n_clusters = 8 The average silhouette_score is : 0.04577548628808707\n"
     ]
    }
   ],
   "source": [
    "for i in [100,300,400,800]:\n",
    "    kpca = KernelPCA(n_components=i,kernel=\"rbf\")\n",
    "    Xk_pca=kpca.fit_transform(X_pre)\n",
    "    for n_clusters in range_n_clusters:\n",
    "        clusterer = KMeans(n_clusters=n_clusters, random_state=10)\n",
    "        cluster_labels = clusterer.fit_predict(Xk_pca)\n",
    "        silhouette_avg = silhouette_score(Xk_pca, cluster_labels)\n",
    "        print(\n",
    "        \"var =\",\n",
    "        i,\n",
    "        \"For n_clusters =\",\n",
    "        n_clusters,\n",
    "        \"The average silhouette_score is :\",\n",
    "        silhouette_avg,\n",
    "        \n",
    "    )\n",
    "    kpca = KernelPCA()\n",
    "    "
   ]
  },
  {
   "cell_type": "code",
   "execution_count": null,
   "id": "sustainable-starter",
   "metadata": {},
   "outputs": [],
   "source": []
  },
  {
   "cell_type": "code",
   "execution_count": 28,
   "id": "normal-daisy",
   "metadata": {},
   "outputs": [
    {
     "name": "stdout",
     "output_type": "stream",
     "text": [
      "var = 100 For n_clusters = 3 The average silhouette_score is : 0.49345044146910105\n",
      "var = 100 For n_clusters = 4 The average silhouette_score is : 0.5681870722361623\n",
      "var = 100 For n_clusters = 5 The average silhouette_score is : 0.5760105604459409\n",
      "var = 100 For n_clusters = 6 The average silhouette_score is : 0.5053353043748623\n",
      "var = 100 For n_clusters = 7 The average silhouette_score is : 0.46195801260337466\n",
      "var = 100 For n_clusters = 8 The average silhouette_score is : 0.2792862381777601\n",
      "var = 300 For n_clusters = 3 The average silhouette_score is : 0.4224474002221801\n",
      "var = 300 For n_clusters = 4 The average silhouette_score is : 0.4911105036812013\n",
      "var = 300 For n_clusters = 5 The average silhouette_score is : 0.4807819240065035\n",
      "var = 300 For n_clusters = 6 The average silhouette_score is : 0.4161383730268902\n",
      "var = 300 For n_clusters = 7 The average silhouette_score is : 0.32149483273720936\n",
      "var = 300 For n_clusters = 8 The average silhouette_score is : 0.2846662742179023\n",
      "var = 400 For n_clusters = 3 The average silhouette_score is : 0.3910510612482476\n",
      "var = 400 For n_clusters = 4 The average silhouette_score is : 0.46329349653624635\n",
      "var = 400 For n_clusters = 5 The average silhouette_score is : 0.4565455947314027\n",
      "var = 400 For n_clusters = 6 The average silhouette_score is : 0.38921282741427027\n",
      "var = 400 For n_clusters = 7 The average silhouette_score is : 0.30366285959452705\n",
      "var = 400 For n_clusters = 8 The average silhouette_score is : 0.2699406165929673\n",
      "var = 800 For n_clusters = 3 The average silhouette_score is : 0.3526456415323879\n",
      "var = 800 For n_clusters = 4 The average silhouette_score is : 0.38369133668715866\n",
      "var = 800 For n_clusters = 5 The average silhouette_score is : 0.409306792871379\n",
      "var = 800 For n_clusters = 6 The average silhouette_score is : 0.3460908964539436\n",
      "var = 800 For n_clusters = 7 The average silhouette_score is : 0.27944822497549276\n",
      "var = 800 For n_clusters = 8 The average silhouette_score is : 0.22290509363083114\n"
     ]
    }
   ],
   "source": [
    "for i in [100,300,400,800]:\n",
    "    anova = SelectKBest(f_classif,k=i)\n",
    "    X_anova=anova.fit_transform(X_pre,np.ravel(y))\n",
    "    for n_clusters in range_n_clusters:\n",
    "        clusterer = KMeans(n_clusters=n_clusters, random_state=10)\n",
    "        cluster_labels = clusterer.fit_predict(X_anova)\n",
    "        silhouette_avg = silhouette_score(X_anova, cluster_labels)\n",
    "        print(\n",
    "        \"var =\",\n",
    "        i,\n",
    "        \"For n_clusters =\",\n",
    "        n_clusters,\n",
    "        \"The average silhouette_score is :\",\n",
    "        silhouette_avg,\n",
    "        \n",
    "    )"
   ]
  },
  {
   "cell_type": "code",
   "execution_count": null,
   "id": "elder-elephant",
   "metadata": {},
   "outputs": [],
   "source": []
  },
  {
   "cell_type": "code",
   "execution_count": 29,
   "id": "jewish-percentage",
   "metadata": {},
   "outputs": [],
   "source": [
    "from sklearn.decomposition import PCA"
   ]
  },
  {
   "cell_type": "code",
   "execution_count": 30,
   "id": "sublime-tours",
   "metadata": {},
   "outputs": [],
   "source": [
    "pca = PCA(n_components=2)"
   ]
  },
  {
   "cell_type": "code",
   "execution_count": 31,
   "id": "subtle-phoenix",
   "metadata": {},
   "outputs": [],
   "source": [
    "X_pca=pca.fit_transform(X_pre)"
   ]
  },
  {
   "cell_type": "code",
   "execution_count": 32,
   "id": "beginning-arbor",
   "metadata": {},
   "outputs": [
    {
     "data": {
      "image/png": "[encoded data removed]",
      "text/plain": [
       "<Figure size 432x288 with 1 Axes>"
      ]
     },
     "metadata": {
      "needs_background": "light"
     },
     "output_type": "display_data"
    }
   ],
   "source": [
    "kmeans = KMeans(n_clusters=5)\n",
    "label = kmeans.fit_predict(X_pca)\n",
    "u_labels = np.unique(label)\n",
    "for i in u_labels:\n",
    "    plt.scatter(X_pca[label == i , 0] , X_pca[label == i , 1] , label = i)\n",
    "    plt.legend()"
   ]
  },
  {
   "cell_type": "code",
   "execution_count": null,
   "id": "current-newsletter",
   "metadata": {},
   "outputs": [],
   "source": []
  }
 ],
 "metadata": {
  "kernelspec": {
   "display_name": "Python 3",
   "language": "python",
   "name": "python3"
  },
  "language_info": {
   "codemirror_mode": {
    "name": "ipython",
    "version": 3
   },
   "file_extension": ".py",
   "mimetype": "text/x-python",
   "name": "python",
   "nbconvert_exporter": "python",
   "pygments_lexer": "ipython3",
   "version": "3.6.3"
  }
 },
 "nbformat": 4,
 "nbformat_minor": 5
}
