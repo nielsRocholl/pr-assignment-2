{
 "cells": [
  {
   "cell_type": "markdown",
   "id": "reflected-supplement",
   "metadata": {},
   "source": [
    "### Importing all the necessary data "
   ]
  },
  {
   "cell_type": "code",
<<<<<<< HEAD
   "execution_count": 34,
   "id": "fabulous-tractor",
=======
   "execution_count": 92,
   "id": "color-terminal",
>>>>>>> ccdb69b576c5e7ae90366247e019254947d49597
   "metadata": {},
   "outputs": [],
   "source": [
    "import numpy as np\n",
    "import matplotlib.pyplot as plt\n",
    "import pandas as pd\n",
    "import seaborn as sns\n",
    "import random"
   ]
  },
  {
   "cell_type": "markdown",
   "id": "respiratory-shadow",
   "metadata": {},
   "source": [
    "### Reading in the files"
   ]
  },
  {
   "cell_type": "code",
<<<<<<< HEAD
   "execution_count": 35,
   "id": "arranged-voice",
=======
   "execution_count": 3,
   "id": "engaging-variable",
>>>>>>> ccdb69b576c5e7ae90366247e019254947d49597
   "metadata": {},
   "outputs": [],
   "source": [
    "X=pd.read_csv(\"../data/Genes/data.csv\")"
   ]
  },
  {
   "cell_type": "code",
<<<<<<< HEAD
   "execution_count": 36,
   "id": "ancient-discussion",
=======
   "execution_count": 4,
   "id": "constant-insertion",
>>>>>>> ccdb69b576c5e7ae90366247e019254947d49597
   "metadata": {},
   "outputs": [],
   "source": [
    "y=pd.read_csv(\"../data/Genes/labels.csv\")"
   ]
  },
  {
   "cell_type": "markdown",
   "id": "handy-edinburgh",
   "metadata": {},
   "source": [
    "### EDA"
   ]
  },
  {
   "cell_type": "code",
<<<<<<< HEAD
   "execution_count": 37,
   "id": "accompanied-costs",
=======
   "execution_count": 5,
   "id": "breeding-subject",
>>>>>>> ccdb69b576c5e7ae90366247e019254947d49597
   "metadata": {},
   "outputs": [
    {
     "data": {
      "text/plain": [
       "(801, 20532)"
      ]
     },
<<<<<<< HEAD
     "execution_count": 37,
=======
     "execution_count": 5,
>>>>>>> ccdb69b576c5e7ae90366247e019254947d49597
     "metadata": {},
     "output_type": "execute_result"
    }
   ],
   "source": [
    "X.shape"
   ]
  },
  {
   "cell_type": "code",
<<<<<<< HEAD
   "execution_count": 38,
   "id": "prescribed-auditor",
=======
   "execution_count": 6,
   "id": "stopped-clock",
   "metadata": {},
   "outputs": [
    {
     "data": {
      "text/plain": [
       "(801, 2)"
      ]
     },
     "execution_count": 6,
     "metadata": {},
     "output_type": "execute_result"
    }
   ],
   "source": [
    "y.shape"
   ]
  },
  {
   "cell_type": "markdown",
   "id": "optical-cincinnati",
   "metadata": {},
   "source": [
    "#### Y has a column which we will never use so lets remove it "
   ]
  },
  {
   "cell_type": "code",
   "execution_count": 7,
   "id": "broadband-optics",
>>>>>>> ccdb69b576c5e7ae90366247e019254947d49597
   "metadata": {},
   "outputs": [],
   "source": [
    "y=y.iloc[:,1]"
   ]
  },
  {
   "cell_type": "markdown",
   "id": "accomplished-finding",
   "metadata": {},
   "source": [
    "#### Checking all the unique values that we have to cluster the given data in "
   ]
  },
  {
   "cell_type": "code",
   "execution_count": 8,
   "id": "charming-field",
   "metadata": {},
   "outputs": [
    {
     "data": {
      "text/plain": [
       "BRCA    300\n",
       "KIRC    146\n",
       "LUAD    141\n",
       "PRAD    136\n",
       "COAD     78\n",
       "Name: Class, dtype: int64"
      ]
     },
     "execution_count": 8,
     "metadata": {},
     "output_type": "execute_result"
    }
   ],
   "source": [
    "y.value_counts()"
   ]
  },
  {
   "cell_type": "code",
<<<<<<< HEAD
   "execution_count": 39,
   "id": "stupid-omaha",
=======
   "execution_count": 9,
   "id": "native-joining",
   "metadata": {},
   "outputs": [
    {
     "data": {
      "text/plain": [
       "<AxesSubplot:xlabel='Class', ylabel='Count'>"
      ]
     },
     "execution_count": 9,
     "metadata": {},
     "output_type": "execute_result"
    },
    {
     "data": {
      "image/png": "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\n",
      "text/plain": [
       "<Figure size 432x288 with 1 Axes>"
      ]
     },
     "metadata": {
      "needs_background": "light"
     },
     "output_type": "display_data"
    }
   ],
   "source": [
    "sns.histplot(y)"
   ]
  },
  {
   "cell_type": "markdown",
   "id": "adult-burst",
   "metadata": {},
   "source": [
    "#### We have a healthy ratio of samples where we can see that even though BRCA dominates we can see other labels are plentifully present"
   ]
  },
  {
   "cell_type": "markdown",
   "id": "muslim-extent",
   "metadata": {},
   "source": [
    "#### Eventhough we dont have a heavy class imbalance we might later use SMOTE to create some artificial samples"
   ]
  },
  {
   "cell_type": "markdown",
   "id": "italian-vector",
   "metadata": {},
   "source": [
    "#### Examining X"
   ]
  },
  {
   "cell_type": "code",
   "execution_count": 10,
   "id": "italic-indicator",
>>>>>>> ccdb69b576c5e7ae90366247e019254947d49597
   "metadata": {},
   "outputs": [],
   "source": [
    "X=X.iloc[:,1:]"
   ]
  },
  {
   "cell_type": "code",
   "execution_count": 11,
   "id": "funky-palmer",
   "metadata": {},
   "outputs": [
    {
     "data": {
      "text/plain": [
       "array([], dtype=int64)"
      ]
     },
     "execution_count": 11,
     "metadata": {},
     "output_type": "execute_result"
    }
   ],
   "source": [
    "np.flatnonzero(X.dtypes!=\"float64\")\n"
   ]
  },
  {
   "cell_type": "markdown",
   "id": "breathing-intention",
   "metadata": {},
   "source": [
    "#### all the columns consist of floating numbers"
   ]
  },
  {
   "cell_type": "code",
<<<<<<< HEAD
   "execution_count": 40,
   "id": "photographic-wichita",
=======
   "execution_count": 12,
   "id": "endangered-jordan",
>>>>>>> ccdb69b576c5e7ae90366247e019254947d49597
   "metadata": {},
   "outputs": [
    {
     "name": "stdout",
     "output_type": "stream",
     "text": [
      "<class 'pandas.core.frame.DataFrame'>\n",
      "RangeIndex: 801 entries, 0 to 800\n",
      "Columns: 20531 entries, gene_0 to gene_20530\n",
      "dtypes: float64(20531)\n",
      "memory usage: 125.5 MB\n"
     ]
    }
   ],
   "source": [
    "X.info()"
   ]
  },
  {
   "cell_type": "markdown",
   "id": "catholic-weekend",
   "metadata": {},
   "source": [
    "#### Checking for any null values"
   ]
  },
  {
   "cell_type": "code",
<<<<<<< HEAD
   "execution_count": 41,
   "id": "secondary-prerequisite",
=======
   "execution_count": 13,
   "id": "usual-beach",
>>>>>>> ccdb69b576c5e7ae90366247e019254947d49597
   "metadata": {},
   "outputs": [
    {
     "data": {
      "text/plain": [
       "array([], dtype=int64)"
      ]
     },
<<<<<<< HEAD
     "execution_count": 41,
=======
     "execution_count": 13,
>>>>>>> ccdb69b576c5e7ae90366247e019254947d49597
     "metadata": {},
     "output_type": "execute_result"
    }
   ],
   "source": [
    "np.flatnonzero(np.sum(pd.isnull(X))>0)"
   ]
  },
  {
   "cell_type": "markdown",
   "id": "signal-control",
   "metadata": {},
   "source": [
    "#### We find that there are no null values "
   ]
  },
  {
   "cell_type": "markdown",
   "id": "killing-billy",
   "metadata": {},
   "source": [
    "### Splittng the dataset into 80% and 20% so that we have train and test sets"
   ]
  },
  {
   "cell_type": "code",
   "execution_count": 36,
   "id": "annoying-university",
   "metadata": {},
   "outputs": [],
   "source": [
    "from sklearn.model_selection import train_test_split"
   ]
  },
  {
   "cell_type": "code",
<<<<<<< HEAD
   "execution_count": 42,
   "id": "appropriate-affect",
=======
   "execution_count": 37,
   "id": "patent-ordinance",
   "metadata": {},
   "outputs": [],
   "source": [
    "X_train, X_test, y_train, y_test = train_test_split(\n",
    "...     X, y, test_size=0.20, random_state=42,stratify=y)"
   ]
  },
  {
   "cell_type": "code",
   "execution_count": 38,
   "id": "basic-orleans",
>>>>>>> ccdb69b576c5e7ae90366247e019254947d49597
   "metadata": {},
   "outputs": [
    {
     "data": {
      "text/plain": [
<<<<<<< HEAD
       "(267,)"
      ]
     },
     "execution_count": 42,
=======
       "(640, 20531)"
      ]
     },
     "execution_count": 38,
>>>>>>> ccdb69b576c5e7ae90366247e019254947d49597
     "metadata": {},
     "output_type": "execute_result"
    }
   ],
   "source": [
<<<<<<< HEAD
    "np.flatnonzero(X.std()==0).shape"
=======
    "X_train.shape"
>>>>>>> ccdb69b576c5e7ae90366247e019254947d49597
   ]
  },
  {
   "cell_type": "code",
<<<<<<< HEAD
   "execution_count": 10,
   "id": "unique-judge",
=======
   "execution_count": 39,
   "id": "ideal-valley",
>>>>>>> ccdb69b576c5e7ae90366247e019254947d49597
   "metadata": {},
   "outputs": [
    {
     "data": {
      "text/plain": [
       "(161, 20531)"
      ]
     },
     "execution_count": 39,
     "metadata": {},
     "output_type": "execute_result"
    }
   ],
   "source": [
    "X_test.shape"
   ]
  },
  {
   "cell_type": "code",
<<<<<<< HEAD
   "execution_count": 11,
   "id": "expected-consolidation",
=======
   "execution_count": 40,
   "id": "missing-priest",
   "metadata": {},
   "outputs": [
    {
     "data": {
      "text/plain": [
       "(array(['BRCA', 'COAD', 'KIRC', 'LUAD', 'PRAD'], dtype=object),\n",
       " array([240,  62, 116, 113, 109], dtype=int64))"
      ]
     },
     "execution_count": 40,
     "metadata": {},
     "output_type": "execute_result"
    }
   ],
   "source": [
    "np.unique(y_train,return_counts=True)"
   ]
  },
  {
   "cell_type": "code",
   "execution_count": 41,
   "id": "handy-impossible",
   "metadata": {},
   "outputs": [
    {
     "data": {
      "text/plain": [
       "(array(['BRCA', 'COAD', 'KIRC', 'LUAD', 'PRAD'], dtype=object),\n",
       " array([60, 16, 30, 28, 27], dtype=int64))"
      ]
     },
     "execution_count": 41,
     "metadata": {},
     "output_type": "execute_result"
    }
   ],
   "source": [
    "np.unique(y_test,return_counts=True)"
   ]
  },
  {
   "cell_type": "markdown",
   "id": "alternate-comment",
   "metadata": {},
   "source": [
    "#### We see that by using stratify we preserve the  ratio of samples that we have in test and train sets "
   ]
  },
  {
   "cell_type": "code",
   "execution_count": 42,
   "id": "driving-state",
>>>>>>> ccdb69b576c5e7ae90366247e019254947d49597
   "metadata": {},
   "outputs": [],
   "source": [
    "from sklearn.preprocessing import StandardScaler, OrdinalEncoder\n",
    "from sklearn.impute import SimpleImputer\n",
    "from sklearn.compose import ColumnTransformer\n",
    "from sklearn.pipeline import Pipeline"
   ]
  },
  {
   "cell_type": "code",
<<<<<<< HEAD
   "execution_count": 12,
   "id": "renewable-dutch",
=======
   "execution_count": 43,
   "id": "careful-canon",
>>>>>>> ccdb69b576c5e7ae90366247e019254947d49597
   "metadata": {},
   "outputs": [],
   "source": [
    "numeric_transformer = Pipeline(steps=[\n",
    "       ('imputer', SimpleImputer(strategy='mean'))\n",
    "      ,('scaler', StandardScaler())\n",
    "])"
   ]
  },
  {
   "cell_type": "code",
<<<<<<< HEAD
   "execution_count": 13,
   "id": "intelligent-symbol",
=======
   "execution_count": 44,
   "id": "grave-armenia",
>>>>>>> ccdb69b576c5e7ae90366247e019254947d49597
   "metadata": {},
   "outputs": [],
   "source": [
    "categorical_transformer = Pipeline(steps=[\n",
    "       ('imputer', SimpleImputer(strategy='constant'))\n",
    "      ,('encoder', OrdinalEncoder())\n",
    "])"
   ]
  },
  {
   "cell_type": "markdown",
   "id": "cheap-lawsuit",
   "metadata": {},
   "source": [
    "#### All are features are numerical and we have no categorical variables."
   ]
  },
  {
   "cell_type": "code",
<<<<<<< HEAD
   "execution_count": 14,
   "id": "spectacular-caribbean",
=======
   "execution_count": 45,
   "id": "unlike-assets",
>>>>>>> ccdb69b576c5e7ae90366247e019254947d49597
   "metadata": {},
   "outputs": [],
   "source": [
    "numeric_features = X.select_dtypes(include=['int64', 'float64']).columns"
   ]
  },
  {
   "cell_type": "code",
<<<<<<< HEAD
   "execution_count": 15,
   "id": "wrapped-bermuda",
=======
   "execution_count": 46,
   "id": "similar-electricity",
>>>>>>> ccdb69b576c5e7ae90366247e019254947d49597
   "metadata": {},
   "outputs": [],
   "source": [
    "categorical_features = X.select_dtypes(include=['object']).columns"
   ]
  },
  {
   "cell_type": "code",
<<<<<<< HEAD
   "execution_count": 16,
   "id": "applied-jungle",
=======
   "execution_count": 47,
   "id": "destroyed-triumph",
>>>>>>> ccdb69b576c5e7ae90366247e019254947d49597
   "metadata": {},
   "outputs": [],
   "source": [
    "preprocessor = ColumnTransformer(\n",
    "   transformers=[\n",
    "    ('numeric', numeric_transformer, numeric_features)\n",
    "   ,#('categorical', categorical_transformer, categorical_features)\n",
    "]) "
   ]
  },
  {
   "cell_type": "code",
<<<<<<< HEAD
   "execution_count": 17,
   "id": "recreational-technology",
   "metadata": {},
   "outputs": [
    {
     "data": {
      "text/html": [
       "<img src=\"../data/Genes/clus.png\"/>"
      ],
      "text/plain": [
       "<IPython.core.display.Image object>"
      ]
     },
     "execution_count": 17,
     "metadata": {},
     "output_type": "execute_result"
    }
   ],
=======
   "execution_count": 48,
   "id": "final-robinson",
   "metadata": {},
   "outputs": [],
>>>>>>> ccdb69b576c5e7ae90366247e019254947d49597
   "source": [
    "from sklearn.decomposition import PCA\n",
    "from sklearn.neighbors import KNeighborsClassifier\n",
    "from sklearn.ensemble import RandomForestClassifier"
   ]
  },
  {
   "cell_type": "code",
<<<<<<< HEAD
   "execution_count": null,
   "id": "confused-thomson",
=======
   "execution_count": 78,
   "id": "aggregate-convenience",
>>>>>>> ccdb69b576c5e7ae90366247e019254947d49597
   "metadata": {},
   "outputs": [],
   "source": [
    "pca = PCA(n_components=0.95)"
   ]
  },
  {
   "cell_type": "code",
<<<<<<< HEAD
   "execution_count": 18,
   "id": "coastal-riverside",
   "metadata": {},
   "outputs": [],
   "source": [
    "X_pre=preprocessor.fit_transform(X)"
=======
   "execution_count": 79,
   "id": "existing-output",
   "metadata": {},
   "outputs": [],
   "source": [
    "knn=KNeighborsClassifier(n_neighbors=3)"
>>>>>>> ccdb69b576c5e7ae90366247e019254947d49597
   ]
  },
  {
   "cell_type": "code",
<<<<<<< HEAD
   "execution_count": null,
   "id": "level-tutorial",
=======
   "execution_count": 80,
   "id": "overall-slovak",
>>>>>>> ccdb69b576c5e7ae90366247e019254947d49597
   "metadata": {},
   "outputs": [],
   "source": [
    "rf=RandomForestClassifier()"
   ]
  },
  {
   "cell_type": "code",
<<<<<<< HEAD
   "execution_count": 23,
   "id": "minus-broadcasting",
   "metadata": {},
   "outputs": [],
   "source": [
    "from sklearn.feature_selection import SelectKBest, f_classif\n",
    "from sklearn.decomposition import PCA\n",
    "from sklearn.decomposition import KernelPCA\n",
    "from sklearn.cluster import KMeans\n",
    "from sklearn.metrics import silhouette_score\n"
=======
   "execution_count": 81,
   "id": "under-arlington",
   "metadata": {},
   "outputs": [],
   "source": [
    "pp1 = Pipeline(steps = [\n",
    "               ('preprocessor', preprocessor),\n",
    "                ('pca',pca),\n",
    "                ('knn',knn)\n",
    "           ])"
>>>>>>> ccdb69b576c5e7ae90366247e019254947d49597
   ]
  },
  {
   "cell_type": "code",
<<<<<<< HEAD
   "execution_count": 24,
   "id": "southern-episode",
=======
   "execution_count": 82,
   "id": "fabulous-robertson",
>>>>>>> ccdb69b576c5e7ae90366247e019254947d49597
   "metadata": {},
   "outputs": [],
   "source": [
    "pp2=Pipeline(steps = [\n",
    "               ('preprocessor', preprocessor),\n",
    "                ('pca',pca),\n",
    "                ('rf',rf)\n",
    "           ])"
   ]
  },
  {
   "cell_type": "code",
<<<<<<< HEAD
   "execution_count": 26,
   "id": "thorough-spencer",
   "metadata": {
    "scrolled": true
   },
   "outputs": [
    {
     "name": "stdout",
     "output_type": "stream",
     "text": [
      "var = 0.9 For n_clusters = 3 The average silhouette_score is : 0.12213050721268999\n",
      "var = 0.9 For n_clusters = 4 The average silhouette_score is : 0.1354488675564315\n",
      "var = 0.9 For n_clusters = 5 The average silhouette_score is : 0.15768335664099392\n",
      "var = 0.9 For n_clusters = 6 The average silhouette_score is : 0.15846310167763136\n",
      "var = 0.9 For n_clusters = 7 The average silhouette_score is : 0.16463614669596532\n",
      "var = 0.9 For n_clusters = 8 The average silhouette_score is : 0.13245955831449469\n",
      "var = 0.95 For n_clusters = 3 The average silhouette_score is : 0.11525728608401746\n",
      "var = 0.95 For n_clusters = 4 The average silhouette_score is : 0.12545703150755702\n",
      "var = 0.95 For n_clusters = 5 The average silhouette_score is : 0.14739864590374133\n",
      "var = 0.95 For n_clusters = 6 The average silhouette_score is : 0.14401081433830623\n",
      "var = 0.95 For n_clusters = 7 The average silhouette_score is : 0.1519568175675471\n",
      "var = 0.95 For n_clusters = 8 The average silhouette_score is : 0.13785473572149615\n",
      "var = 0.98 For n_clusters = 3 The average silhouette_score is : 0.10213597637197418\n",
      "var = 0.98 For n_clusters = 4 The average silhouette_score is : 0.11958293256172012\n",
      "var = 0.98 For n_clusters = 5 The average silhouette_score is : 0.13945557976051612\n",
      "var = 0.98 For n_clusters = 6 The average silhouette_score is : 0.14036743525132855\n",
      "var = 0.98 For n_clusters = 7 The average silhouette_score is : 0.14570929646601097\n",
      "var = 0.98 For n_clusters = 8 The average silhouette_score is : 0.12426657956140903\n"
     ]
    }
   ],
   "source": [
    "for i in [0.9,0.95,0.98]:\n",
    "    pca = PCA(n_components=i)\n",
    "    X_pca=pca.fit_transform(X_pre)\n",
    "    for n_clusters in range_n_clusters:\n",
    "        clusterer = KMeans(n_clusters=n_clusters, random_state=10)\n",
    "        cluster_labels = clusterer.fit_predict(X_pca)\n",
    "        silhouette_avg = silhouette_score(X_pca, cluster_labels)\n",
    "        print(\n",
    "        \"var =\",\n",
    "        i,\n",
    "        \"For n_clusters =\",\n",
    "        n_clusters,\n",
    "        \"The average silhouette_score is :\",\n",
    "        silhouette_avg,\n",
    "    )\n",
    "    \n",
    "    "
=======
   "execution_count": 83,
   "id": "restricted-combination",
   "metadata": {},
   "outputs": [],
   "source": [
    "param_grid_pp1 = {\n",
    "    \"pca__n_components\": [0.90,0.95],\n",
    "    \"knn__n_neighbors\": [3,5,7,9,11,15,17],\n",
    "    #\"knn__weights\":[\"uniform\", \"distance\"]\n",
    "}"
   ]
  },
  {
   "cell_type": "code",
   "execution_count": 84,
   "id": "vital-server",
   "metadata": {},
   "outputs": [],
   "source": [
    "#from sklearn.model_selection import GridSearchCV"
   ]
  },
  {
   "cell_type": "code",
   "execution_count": 66,
   "id": "maritime-pocket",
   "metadata": {},
   "outputs": [],
   "source": [
    "#search_pp1 = GridSearchCV(pp1, param_grid_pp1)"
   ]
  },
  {
   "cell_type": "code",
   "execution_count": 67,
   "id": "vital-envelope",
   "metadata": {},
   "outputs": [
    {
     "data": {
      "text/plain": [
       "GridSearchCV(estimator=Pipeline(steps=[('preprocessor',\n",
       "                                        ColumnTransformer(transformers=[('numeric',\n",
       "                                                                         Pipeline(steps=[('imputer',\n",
       "                                                                                          SimpleImputer()),\n",
       "                                                                                         ('scaler',\n",
       "                                                                                          StandardScaler())]),\n",
       "                                                                         Index(['gene_0', 'gene_1', 'gene_2', 'gene_3', 'gene_4', 'gene_5', 'gene_6',\n",
       "       'gene_7', 'gene_8', 'gene_9',\n",
       "       ...\n",
       "       'gene_20521', 'gene_20522', 'gene_20523', 'gene_20524', 'gene_20525',\n",
       "       'gene_20526', 'gene_20527', 'gene_20528', 'gene_20529', 'gene_20530'],\n",
       "      dtype='object', length=20531))])),\n",
       "                                       ('pca', PCA()),\n",
       "                                       ('knn', KNeighborsClassifier())]),\n",
       "             param_grid={'knn__n_neighbors': [3, 5, 7, 9, 11, 15, 17],\n",
       "                         'pca__n_components': [0.9, 0.95]})"
      ]
     },
     "execution_count": 67,
     "metadata": {},
     "output_type": "execute_result"
    }
   ],
   "source": [
    "#search_pp1.fit(X_train,y_train)"
>>>>>>> ccdb69b576c5e7ae90366247e019254947d49597
   ]
  },
  {
   "cell_type": "code",
<<<<<<< HEAD
   "execution_count": 33,
   "id": "mighty-beijing",
=======
   "execution_count": 68,
   "id": "colonial-malta",
>>>>>>> ccdb69b576c5e7ae90366247e019254947d49597
   "metadata": {},
   "outputs": [
    {
     "name": "stdout",
     "output_type": "stream",
     "text": [
<<<<<<< HEAD
      "var = 100 For n_clusters = 3 The average silhouette_score is : 0.14270271371403065\n",
      "var = 100 For n_clusters = 4 The average silhouette_score is : 0.1454820969202855\n",
      "var = 100 For n_clusters = 5 The average silhouette_score is : 0.16137673057708188\n",
      "var = 100 For n_clusters = 6 The average silhouette_score is : 0.16332304897616254\n",
      "var = 100 For n_clusters = 7 The average silhouette_score is : 0.14558278969848065\n",
      "var = 100 For n_clusters = 8 The average silhouette_score is : 0.14880425057849683\n",
      "var = 300 For n_clusters = 3 The average silhouette_score is : 0.07384301458326743\n",
      "var = 300 For n_clusters = 4 The average silhouette_score is : 0.08632266335501725\n",
      "var = 300 For n_clusters = 5 The average silhouette_score is : 0.10178443303757828\n",
      "var = 300 For n_clusters = 6 The average silhouette_score is : 0.10666199834967435\n",
      "var = 300 For n_clusters = 7 The average silhouette_score is : 0.1037582636881619\n",
      "var = 300 For n_clusters = 8 The average silhouette_score is : 0.08566354439723439\n",
      "var = 400 For n_clusters = 3 The average silhouette_score is : 0.05623569490159897\n",
      "var = 400 For n_clusters = 4 The average silhouette_score is : 0.07262995111571424\n",
      "var = 400 For n_clusters = 5 The average silhouette_score is : 0.08633498286482837\n",
      "var = 400 For n_clusters = 6 The average silhouette_score is : 0.09257201350200027\n",
      "var = 400 For n_clusters = 7 The average silhouette_score is : 0.0825830606881354\n",
      "var = 400 For n_clusters = 8 The average silhouette_score is : 0.07329788802813272\n",
      "var = 800 For n_clusters = 3 The average silhouette_score is : 0.04738798097288712\n",
      "var = 800 For n_clusters = 4 The average silhouette_score is : 0.05399386522875365\n",
      "var = 800 For n_clusters = 5 The average silhouette_score is : 0.062284841078412166\n",
      "var = 800 For n_clusters = 6 The average silhouette_score is : 0.06511547943890879\n",
      "var = 800 For n_clusters = 7 The average silhouette_score is : 0.06603612501311316\n",
      "var = 800 For n_clusters = 8 The average silhouette_score is : 0.04577548628808707\n"
=======
      "Best parameter (CV score=0.998):\n",
      "{'knn__n_neighbors': 3, 'pca__n_components': 0.95}\n"
>>>>>>> ccdb69b576c5e7ae90366247e019254947d49597
     ]
    }
   ],
   "source": [
<<<<<<< HEAD
    "for i in [100,300,400,800]:\n",
    "    kpca = KernelPCA(n_components=i,kernel=\"rbf\")\n",
    "    Xk_pca=kpca.fit_transform(X_pre)\n",
    "    for n_clusters in range_n_clusters:\n",
    "        clusterer = KMeans(n_clusters=n_clusters, random_state=10)\n",
    "        cluster_labels = clusterer.fit_predict(Xk_pca)\n",
    "        silhouette_avg = silhouette_score(Xk_pca, cluster_labels)\n",
    "        print(\n",
    "        \"var =\",\n",
    "        i,\n",
    "        \"For n_clusters =\",\n",
    "        n_clusters,\n",
    "        \"The average silhouette_score is :\",\n",
    "        silhouette_avg,\n",
    "        \n",
    "    )\n",
    "    kpca = KernelPCA()\n",
    "    "
=======
    "#print(\"Best parameter (CV score=%0.3f):\" % search_pp1.best_score_)\n",
    "#print(search_pp1.best_params_)"
>>>>>>> ccdb69b576c5e7ae90366247e019254947d49597
   ]
  },
  {
   "cell_type": "code",
<<<<<<< HEAD
   "execution_count": null,
   "id": "sustainable-starter",
=======
   "execution_count": 86,
   "id": "oriented-mediterranean",
>>>>>>> ccdb69b576c5e7ae90366247e019254947d49597
   "metadata": {},
   "outputs": [],
   "source": [
    "knn_model=pp1.fit(X_train,y_train)"
   ]
  },
  {
   "cell_type": "code",
<<<<<<< HEAD
   "execution_count": 28,
   "id": "normal-daisy",
   "metadata": {},
   "outputs": [
    {
     "name": "stdout",
     "output_type": "stream",
     "text": [
      "var = 100 For n_clusters = 3 The average silhouette_score is : 0.49345044146910105\n",
      "var = 100 For n_clusters = 4 The average silhouette_score is : 0.5681870722361623\n",
      "var = 100 For n_clusters = 5 The average silhouette_score is : 0.5760105604459409\n",
      "var = 100 For n_clusters = 6 The average silhouette_score is : 0.5053353043748623\n",
      "var = 100 For n_clusters = 7 The average silhouette_score is : 0.46195801260337466\n",
      "var = 100 For n_clusters = 8 The average silhouette_score is : 0.2792862381777601\n",
      "var = 300 For n_clusters = 3 The average silhouette_score is : 0.4224474002221801\n",
      "var = 300 For n_clusters = 4 The average silhouette_score is : 0.4911105036812013\n",
      "var = 300 For n_clusters = 5 The average silhouette_score is : 0.4807819240065035\n",
      "var = 300 For n_clusters = 6 The average silhouette_score is : 0.4161383730268902\n",
      "var = 300 For n_clusters = 7 The average silhouette_score is : 0.32149483273720936\n",
      "var = 300 For n_clusters = 8 The average silhouette_score is : 0.2846662742179023\n",
      "var = 400 For n_clusters = 3 The average silhouette_score is : 0.3910510612482476\n",
      "var = 400 For n_clusters = 4 The average silhouette_score is : 0.46329349653624635\n",
      "var = 400 For n_clusters = 5 The average silhouette_score is : 0.4565455947314027\n",
      "var = 400 For n_clusters = 6 The average silhouette_score is : 0.38921282741427027\n",
      "var = 400 For n_clusters = 7 The average silhouette_score is : 0.30366285959452705\n",
      "var = 400 For n_clusters = 8 The average silhouette_score is : 0.2699406165929673\n",
      "var = 800 For n_clusters = 3 The average silhouette_score is : 0.3526456415323879\n",
      "var = 800 For n_clusters = 4 The average silhouette_score is : 0.38369133668715866\n",
      "var = 800 For n_clusters = 5 The average silhouette_score is : 0.409306792871379\n",
      "var = 800 For n_clusters = 6 The average silhouette_score is : 0.3460908964539436\n",
      "var = 800 For n_clusters = 7 The average silhouette_score is : 0.27944822497549276\n",
      "var = 800 For n_clusters = 8 The average silhouette_score is : 0.22290509363083114\n"
     ]
    }
   ],
   "source": [
    "for i in [100,300,400,800]:\n",
    "    anova = SelectKBest(f_classif,k=i)\n",
    "    X_anova=anova.fit_transform(X_pre,np.ravel(y))\n",
    "    for n_clusters in range_n_clusters:\n",
    "        clusterer = KMeans(n_clusters=n_clusters, random_state=10)\n",
    "        cluster_labels = clusterer.fit_predict(X_anova)\n",
    "        silhouette_avg = silhouette_score(X_anova, cluster_labels)\n",
    "        print(\n",
    "        \"var =\",\n",
    "        i,\n",
    "        \"For n_clusters =\",\n",
    "        n_clusters,\n",
    "        \"The average silhouette_score is :\",\n",
    "        silhouette_avg,\n",
    "        \n",
    "    )"
=======
   "execution_count": 88,
   "id": "superior-standard",
   "metadata": {},
   "outputs": [],
   "source": [
    "pred=knn_model.predict(X_test)"
>>>>>>> ccdb69b576c5e7ae90366247e019254947d49597
   ]
  },
  {
   "cell_type": "code",
<<<<<<< HEAD
   "execution_count": null,
   "id": "elder-elephant",
=======
   "execution_count": 89,
   "id": "portable-translation",
>>>>>>> ccdb69b576c5e7ae90366247e019254947d49597
   "metadata": {},
   "outputs": [],
   "source": [
    "from sklearn.metrics import classification_report"
   ]
  },
  {
   "cell_type": "code",
<<<<<<< HEAD
   "execution_count": 29,
   "id": "jewish-percentage",
=======
   "execution_count": 90,
   "id": "front-qatar",
>>>>>>> ccdb69b576c5e7ae90366247e019254947d49597
   "metadata": {},
   "outputs": [],
   "source": [
    "target_names=np.unique(y)"
   ]
  },
  {
   "cell_type": "code",
   "execution_count": 91,
   "id": "touched-occurrence",
   "metadata": {},
   "outputs": [
    {
     "name": "stdout",
     "output_type": "stream",
     "text": [
      "              precision    recall  f1-score   support\n",
      "\n",
      "        BRCA       0.97      1.00      0.98        60\n",
      "        COAD       1.00      1.00      1.00        16\n",
      "        KIRC       1.00      0.97      0.98        30\n",
      "        LUAD       1.00      0.93      0.96        28\n",
      "        PRAD       0.96      1.00      0.98        27\n",
      "\n",
      "    accuracy                           0.98       161\n",
      "   macro avg       0.99      0.98      0.98       161\n",
      "weighted avg       0.98      0.98      0.98       161\n",
      "\n"
     ]
    }
   ],
   "source": [
    "print(classification_report(y_test, pred, target_names=target_names))"
   ]
  },
  {
   "cell_type": "code",
<<<<<<< HEAD
   "execution_count": 30,
   "id": "sublime-tours",
=======
   "execution_count": 93,
   "id": "parental-problem",
>>>>>>> ccdb69b576c5e7ae90366247e019254947d49597
   "metadata": {},
   "outputs": [],
   "source": [
    "rf_model=pp2.fit(X_train,y_train)"
   ]
  },
  {
   "cell_type": "code",
<<<<<<< HEAD
   "execution_count": 31,
   "id": "subtle-phoenix",
   "metadata": {},
   "outputs": [],
   "source": [
    "X_pca=pca.fit_transform(X_pre)"
=======
   "execution_count": 96,
   "id": "pacific-concentration",
   "metadata": {},
   "outputs": [],
   "source": [
    "pred2=rf_model.predict(X_test)"
>>>>>>> ccdb69b576c5e7ae90366247e019254947d49597
   ]
  },
  {
   "cell_type": "code",
<<<<<<< HEAD
   "execution_count": 32,
   "id": "beginning-arbor",
   "metadata": {},
   "outputs": [
    {
     "data": {
      "image/png": "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\n",
      "text/plain": [
       "<Figure size 432x288 with 1 Axes>"
      ]
     },
     "metadata": {
      "needs_background": "light"
     },
     "output_type": "display_data"
=======
   "execution_count": 97,
   "id": "attempted-viewer",
   "metadata": {},
   "outputs": [
    {
     "name": "stdout",
     "output_type": "stream",
     "text": [
      "              precision    recall  f1-score   support\n",
      "\n",
      "        BRCA       0.82      1.00      0.90        60\n",
      "        COAD       1.00      0.81      0.90        16\n",
      "        KIRC       1.00      0.97      0.98        30\n",
      "        LUAD       1.00      0.68      0.81        28\n",
      "        PRAD       0.96      0.96      0.96        27\n",
      "\n",
      "    accuracy                           0.91       161\n",
      "   macro avg       0.96      0.88      0.91       161\n",
      "weighted avg       0.93      0.91      0.91       161\n",
      "\n"
     ]
>>>>>>> ccdb69b576c5e7ae90366247e019254947d49597
    }
   ],
   "source": [
    "print(classification_report(y_test, pred2, target_names=target_names))"
   ]
  },
  {
   "cell_type": "code",
   "execution_count": null,
<<<<<<< HEAD
   "id": "current-newsletter",
=======
   "id": "higher-relief",
>>>>>>> ccdb69b576c5e7ae90366247e019254947d49597
   "metadata": {},
   "outputs": [],
   "source": []
  }
 ],
 "metadata": {
  "kernelspec": {
   "display_name": "Python 3",
   "language": "python",
   "name": "python3"
  },
  "language_info": {
   "codemirror_mode": {
    "name": "ipython",
    "version": 3
   },
   "file_extension": ".py",
   "mimetype": "text/x-python",
   "name": "python",
   "nbconvert_exporter": "python",
   "pygments_lexer": "ipython3",
   "version": "3.6.3"
  }
 },
 "nbformat": 4,
 "nbformat_minor": 5
}
