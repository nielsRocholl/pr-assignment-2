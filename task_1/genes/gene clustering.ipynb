{
 "cells": [
  {
   "cell_type": "code",
   "execution_count": 191,
   "id": "unnecessary-finish",
   "metadata": {},
   "outputs": [],
   "source": [
    "import numpy as np\n",
    "import matplotlib.pyplot as plt\n",
    "import pandas as pd\n",
    "import seaborn as sns\n",
    "import random"
   ]
  },
  {
   "cell_type": "code",
   "execution_count": 192,
   "id": "central-portland",
   "metadata": {},
   "outputs": [],
   "source": [
    "X=pd.read_csv(\"../data/Genes/data.csv\")"
   ]
  },
  {
   "cell_type": "code",
   "execution_count": 193,
   "id": "perfect-cancer",
   "metadata": {},
   "outputs": [],
   "source": [
    "y=pd.read_csv(\"../data/Genes/labels.csv\")"
   ]
  },
  {
   "cell_type": "code",
   "execution_count": 194,
   "id": "compatible-reply",
   "metadata": {},
   "outputs": [
    {
     "data": {
      "text/plain": [
       "(801, 20532)"
      ]
     },
     "execution_count": 194,
     "metadata": {},
     "output_type": "execute_result"
    }
   ],
   "source": [
    "X.shape"
   ]
  },
  {
   "cell_type": "code",
   "execution_count": 195,
   "id": "golden-token",
   "metadata": {},
   "outputs": [],
   "source": [
    "X=X.iloc[:,1:]"
   ]
  },
  {
   "cell_type": "code",
   "execution_count": 196,
   "id": "cleared-slovak",
   "metadata": {},
   "outputs": [],
   "source": [
    "y=y.iloc[:,1:]"
   ]
  },
  {
   "cell_type": "code",
   "execution_count": 197,
   "id": "alleged-wrong",
   "metadata": {},
   "outputs": [
    {
     "name": "stdout",
     "output_type": "stream",
     "text": [
      "<class 'pandas.core.frame.DataFrame'>\n",
      "RangeIndex: 801 entries, 0 to 800\n",
      "Columns: 20531 entries, gene_0 to gene_20530\n",
      "dtypes: float64(20531)\n",
      "memory usage: 125.5 MB\n"
     ]
    }
   ],
   "source": [
    "X.info()"
   ]
  },
  {
   "cell_type": "code",
   "execution_count": 198,
   "id": "second-programmer",
   "metadata": {},
   "outputs": [
    {
     "data": {
      "text/plain": [
       "array([], dtype=int64)"
      ]
     },
     "execution_count": 198,
     "metadata": {},
     "output_type": "execute_result"
    }
   ],
   "source": [
    "np.flatnonzero(np.sum(pd.isnull(X))>0)"
   ]
  },
  {
   "cell_type": "code",
   "execution_count": 199,
   "id": "previous-snapshot",
   "metadata": {},
   "outputs": [
    {
     "data": {
      "text/plain": [
       "array([    5,    23,  4370,  4808,  4809,  4814,  4816,  4817,  4831,\n",
       "        5288,  7661,  7662,  7663,  7664,  7665,  8121,  9304,  9306,\n",
       "        9314,  9316,  9320,  9452, 10121, 11958, 13991, 14158, 14159,\n",
       "       14161, 15138, 15140, 15141, 15446, 16566, 16568, 16569, 16571,\n",
       "       16575, 16578, 16579, 16604, 16634, 16637, 16677, 16697, 16698,\n",
       "       16699, 16700, 16701, 16702, 16704, 16705, 16706, 16707, 16708,\n",
       "       16709, 16710, 16711, 16712, 16713, 16714, 16715, 16716, 16717,\n",
       "       16718, 16719, 16720, 16721, 16722, 16723, 16724, 16725, 16726,\n",
       "       16727, 16728, 16729, 16730, 16731, 16732, 16733, 16734, 16735,\n",
       "       16736, 16737, 16738, 16739, 16740, 16741, 16742, 16743, 16744,\n",
       "       16745, 16746, 16748, 16749, 16750, 16751, 16752, 16753, 16754,\n",
       "       16756, 16757, 16758, 16759, 16760, 16761, 16762, 16763, 16764,\n",
       "       16765, 16766, 16767, 16768, 16769, 16770, 16771, 16772, 16774,\n",
       "       16775, 16776, 16777, 16778, 16779, 16780, 16781, 16782, 16783,\n",
       "       16785, 16787, 16788, 16789, 16790, 16791, 16792, 16794, 16795,\n",
       "       16796, 16798, 16799, 16800, 16801, 16802, 16803, 16804, 16805,\n",
       "       16806, 16807, 16808, 16809, 16810, 16811, 16812, 16813, 16816,\n",
       "       16818, 16819, 16820, 16821, 16822, 16823, 16824, 16826, 16827,\n",
       "       16830, 16831, 16832, 16833, 16834, 16835, 16836, 16837, 16838,\n",
       "       16839, 16840, 16841, 16842, 16843, 16844, 16845, 16846, 16847,\n",
       "       16848, 16849, 16850, 16851, 16852, 16853, 16854, 16855, 16856,\n",
       "       16857, 16858, 16859, 16860, 16861, 16862, 16863, 16864, 16865,\n",
       "       16866, 16867, 16868, 16869, 16870, 16871, 16872, 16873, 16874,\n",
       "       16875, 16876, 16877, 16878, 16879, 16880, 16881, 16882, 16883,\n",
       "       16884, 16885, 16886, 16888, 16889, 16890, 16891, 16892, 16893,\n",
       "       16894, 16895, 16896, 16897, 16898, 16899, 16900, 16901, 16902,\n",
       "       16903, 16904, 16905, 16906, 16907, 16908, 16909, 16910, 16911,\n",
       "       16914, 16915, 16916, 16917, 16918, 16920, 16921, 16922, 16924,\n",
       "       16925, 16926, 18829, 18902, 18903, 18908, 18909, 18910, 18911,\n",
       "       18914, 18915, 19450, 19451, 19452, 19671], dtype=int64)"
      ]
     },
     "execution_count": 199,
     "metadata": {},
     "output_type": "execute_result"
    }
   ],
   "source": [
    "np.flatnonzero(X.std()==0)"
   ]
  },
  {
   "cell_type": "code",
   "execution_count": 200,
   "id": "cordless-toner",
   "metadata": {},
   "outputs": [],
   "source": [
    "X=X.drop(X.std()[X.std()==0].index.values,axis=1)"
   ]
  },
  {
   "cell_type": "code",
   "execution_count": 201,
   "id": "configured-emergency",
   "metadata": {},
   "outputs": [],
   "source": [
    "from sklearn.preprocessing import StandardScaler, OrdinalEncoder\n",
    "from sklearn.impute import SimpleImputer\n",
    "from sklearn.compose import ColumnTransformer\n",
    "from sklearn.pipeline import Pipeline"
   ]
  },
  {
   "cell_type": "code",
   "execution_count": 202,
   "id": "hollywood-program",
   "metadata": {},
   "outputs": [],
   "source": [
    "numeric_transformer = Pipeline(steps=[\n",
    "       ('imputer', SimpleImputer(strategy='mean'))\n",
    "      ,('scaler', StandardScaler())\n",
    "])"
   ]
  },
  {
   "cell_type": "code",
   "execution_count": 203,
   "id": "caroline-leave",
   "metadata": {},
   "outputs": [],
   "source": [
    "categorical_transformer = Pipeline(steps=[\n",
    "       ('imputer', SimpleImputer(strategy='constant'))\n",
    "      ,('encoder', OrdinalEncoder())\n",
    "])"
   ]
  },
  {
   "cell_type": "code",
   "execution_count": 204,
   "id": "excited-round",
   "metadata": {},
   "outputs": [],
   "source": [
    "numeric_features = X.select_dtypes(include=['int64', 'float64']).columns"
   ]
  },
  {
   "cell_type": "code",
   "execution_count": 205,
   "id": "located-clearing",
   "metadata": {},
   "outputs": [],
   "source": [
    "categorical_features = X.select_dtypes(include=['object']).columns"
   ]
  },
  {
   "cell_type": "code",
   "execution_count": 206,
   "id": "adjacent-jumping",
   "metadata": {},
   "outputs": [],
   "source": [
    "preprocessor = ColumnTransformer(\n",
    "   transformers=[\n",
    "    ('numeric', numeric_transformer, numeric_features)\n",
    "]) "
   ]
  },
  {
   "cell_type": "code",
   "execution_count": 207,
   "id": "solved-aurora",
   "metadata": {},
   "outputs": [
    {
     "data": {
      "text/html": [
       "<img src=\"../data/Genes/clus.png\"/>"
      ],
      "text/plain": [
       "<IPython.core.display.Image object>"
      ]
     },
     "execution_count": 207,
     "metadata": {},
     "output_type": "execute_result"
    }
   ],
   "source": [
    "from IPython.display import Image\n",
    "Image(url= \"../data/Genes/clus.png\")"
   ]
  },
  {
   "cell_type": "code",
   "execution_count": null,
   "id": "pleasant-classroom",
   "metadata": {},
   "outputs": [],
   "source": []
  },
  {
   "cell_type": "code",
   "execution_count": null,
   "id": "controlled-castle",
   "metadata": {},
   "outputs": [],
   "source": []
  },
  {
   "cell_type": "code",
   "execution_count": null,
   "id": "refined-arbor",
   "metadata": {},
   "outputs": [],
   "source": []
  },
  {
   "cell_type": "code",
   "execution_count": 208,
   "id": "unusual-alberta",
   "metadata": {},
   "outputs": [],
   "source": [
    "from sklearn.feature_selection import SelectKBest, f_classif\n",
    "from sklearn.decomposition import PCA\n",
    "from sklearn.decomposition import KernelPCA\n",
    "from sklearn.cluster import KMeans\n"
   ]
  },
  {
   "cell_type": "code",
   "execution_count": 209,
   "id": "retained-nightmare",
   "metadata": {},
   "outputs": [],
   "source": [
    "range_n_clusters = [3, 4, 5, 6, 7, 8]"
   ]
  },
  {
   "cell_type": "code",
   "execution_count": 222,
   "id": "acute-brunswick",
   "metadata": {
    "scrolled": true
   },
   "outputs": [
    {
     "name": "stdout",
     "output_type": "stream",
     "text": [
      "var = 2 For n_clusters = 3 The average silhouette_score is : 0.5530074890817759\n",
      "var = 2 For n_clusters = 4 The average silhouette_score is : 0.6084783348829393\n",
      "var = 2 For n_clusters = 5 The average silhouette_score is : 0.6101318876677747\n",
      "var = 2 For n_clusters = 6 The average silhouette_score is : 0.5438945708016913\n",
      "var = 2 For n_clusters = 7 The average silhouette_score is : 0.498569488203177\n",
      "var = 2 For n_clusters = 8 The average silhouette_score is : 0.472651632430514\n",
      "var = 10 For n_clusters = 3 The average silhouette_score is : 0.35273136636936125\n",
      "var = 10 For n_clusters = 4 The average silhouette_score is : 0.4143766934487657\n",
      "var = 10 For n_clusters = 5 The average silhouette_score is : 0.4593982677865153\n",
      "var = 10 For n_clusters = 6 The average silhouette_score is : 0.46590769285922456\n",
      "var = 10 For n_clusters = 7 The average silhouette_score is : 0.4088238258181363\n",
      "var = 10 For n_clusters = 8 The average silhouette_score is : 0.40938146585115837\n",
      "var = 20 For n_clusters = 3 The average silhouette_score is : 0.3040163907357584\n",
      "var = 20 For n_clusters = 4 The average silhouette_score is : 0.3562769055100861\n",
      "var = 20 For n_clusters = 5 The average silhouette_score is : 0.3968589495780761\n",
      "var = 20 For n_clusters = 6 The average silhouette_score is : 0.4001020402545658\n",
      "var = 20 For n_clusters = 7 The average silhouette_score is : 0.3439977549992448\n",
      "var = 20 For n_clusters = 8 The average silhouette_score is : 0.2971091263915347\n",
      "var = 30 For n_clusters = 3 The average silhouette_score is : 0.28429307103968154\n",
      "var = 30 For n_clusters = 4 The average silhouette_score is : 0.33201547193476444\n",
      "var = 30 For n_clusters = 5 The average silhouette_score is : 0.3698670102433532\n",
      "var = 30 For n_clusters = 6 The average silhouette_score is : 0.37146669384047437\n",
      "var = 30 For n_clusters = 7 The average silhouette_score is : 0.3159419582442766\n",
      "var = 30 For n_clusters = 8 The average silhouette_score is : 0.2695217744656572\n"
     ]
    }
   ],
   "source": [
    "for i in [2,10,20,30]:\n",
    "    pca = PCA(n_components=i)\n",
    "    X_pca=pca.fit_transform(X)\n",
    "    for n_clusters in range_n_clusters:\n",
    "        clusterer = KMeans(n_clusters=n_clusters, random_state=10)\n",
    "        cluster_labels = clusterer.fit_predict(X_pca)\n",
    "        silhouette_avg = silhouette_score(X_pca, cluster_labels)\n",
    "        print(\n",
    "        \"var =\",\n",
    "        i,\n",
    "        \"For n_clusters =\",\n",
    "        n_clusters,\n",
    "        \"The average silhouette_score is :\",\n",
    "        silhouette_avg,\n",
    "    )\n",
    "    \n",
    "    "
   ]
  },
  {
   "cell_type": "code",
   "execution_count": 211,
   "id": "smoking-interstate",
   "metadata": {},
   "outputs": [
    {
     "name": "stdout",
     "output_type": "stream",
     "text": [
      "var = 100 For n_clusters = 3 The average silhouette_score is : 0.23115373903229203\n",
      "var = 100 For n_clusters = 4 The average silhouette_score is : 0.2704956871725011\n",
      "var = 100 For n_clusters = 5 The average silhouette_score is : 0.30512874038028065\n",
      "var = 100 For n_clusters = 6 The average silhouette_score is : 0.30352742035442365\n",
      "var = 100 For n_clusters = 7 The average silhouette_score is : 0.2592440936549443\n",
      "var = 100 For n_clusters = 8 The average silhouette_score is : 0.21641631092719327\n",
      "var = 300 For n_clusters = 3 The average silhouette_score is : 0.19167566298538677\n",
      "var = 300 For n_clusters = 4 The average silhouette_score is : 0.22823910837174194\n",
      "var = 300 For n_clusters = 5 The average silhouette_score is : 0.2582856503242432\n",
      "var = 300 For n_clusters = 6 The average silhouette_score is : 0.2627129437205713\n",
      "var = 300 For n_clusters = 7 The average silhouette_score is : 0.21551609762042273\n",
      "var = 300 For n_clusters = 8 The average silhouette_score is : 0.17131945506368776\n",
      "var = 400 For n_clusters = 3 The average silhouette_score is : 0.18221061702142335\n",
      "var = 400 For n_clusters = 4 The average silhouette_score is : 0.21778592293940308\n",
      "var = 400 For n_clusters = 5 The average silhouette_score is : 0.24651115663180964\n",
      "var = 400 For n_clusters = 6 The average silhouette_score is : 0.24959231851608052\n",
      "var = 400 For n_clusters = 7 The average silhouette_score is : 0.20596572238911207\n",
      "var = 400 For n_clusters = 8 The average silhouette_score is : 0.16468786085845338\n",
      "var = 800 For n_clusters = 3 The average silhouette_score is : 0.1650593985019935\n",
      "var = 800 For n_clusters = 4 The average silhouette_score is : 0.19536053243054552\n",
      "var = 800 For n_clusters = 5 The average silhouette_score is : 0.22054765793556472\n",
      "var = 800 For n_clusters = 6 The average silhouette_score is : 0.22300795193530193\n",
      "var = 800 For n_clusters = 7 The average silhouette_score is : 0.18073875776561335\n",
      "var = 800 For n_clusters = 8 The average silhouette_score is : 0.1706055662424945\n"
     ]
    }
   ],
   "source": [
    "for i in [100,300,400,800]:\n",
    "    kpca = KernelPCA(n_components=i,kernel=\"poly\")\n",
    "    Xk_pca=kpca.fit_transform(X)\n",
    "    for n_clusters in range_n_clusters:\n",
    "        clusterer = KMeans(n_clusters=n_clusters, random_state=10)\n",
    "        cluster_labels = clusterer.fit_predict(Xk_pca)\n",
    "        silhouette_avg = silhouette_score(Xk_pca, cluster_labels)\n",
    "        print(\n",
    "        \"var =\",\n",
    "        i,\n",
    "        \"For n_clusters =\",\n",
    "        n_clusters,\n",
    "        \"The average silhouette_score is :\",\n",
    "        silhouette_avg,\n",
    "        \n",
    "    )\n",
    "    kpca = KernelPCA()\n",
    "    "
   ]
  },
  {
   "cell_type": "code",
   "execution_count": null,
   "id": "residential-semiconductor",
   "metadata": {},
   "outputs": [],
   "source": []
  },
  {
   "cell_type": "code",
   "execution_count": 212,
   "id": "younger-correction",
   "metadata": {},
   "outputs": [
    {
     "name": "stdout",
     "output_type": "stream",
     "text": [
      "var = 100 For n_clusters = 3 The average silhouette_score is : 0.5064205945460218\n",
      "var = 100 For n_clusters = 4 The average silhouette_score is : 0.5368883333065885\n",
      "var = 100 For n_clusters = 5 The average silhouette_score is : 0.6095942918052862\n",
      "var = 100 For n_clusters = 6 The average silhouette_score is : 0.5441775866276792\n",
      "var = 100 For n_clusters = 7 The average silhouette_score is : 0.33120226331661395\n",
      "var = 100 For n_clusters = 8 The average silhouette_score is : 0.29598799473887544\n",
      "var = 300 For n_clusters = 3 The average silhouette_score is : 0.42720310677905476\n",
      "var = 300 For n_clusters = 4 The average silhouette_score is : 0.4787021422158912\n",
      "var = 300 For n_clusters = 5 The average silhouette_score is : 0.5286998913568245\n",
      "var = 300 For n_clusters = 6 The average silhouette_score is : 0.46003096746848376\n",
      "var = 300 For n_clusters = 7 The average silhouette_score is : 0.35269837652929226\n",
      "var = 300 For n_clusters = 8 The average silhouette_score is : 0.30986978155650746\n",
      "var = 400 For n_clusters = 3 The average silhouette_score is : 0.39838082097459604\n",
      "var = 400 For n_clusters = 4 The average silhouette_score is : 0.4589942873562591\n",
      "var = 400 For n_clusters = 5 The average silhouette_score is : 0.5036293511129034\n",
      "var = 400 For n_clusters = 6 The average silhouette_score is : 0.40370156059735324\n",
      "var = 400 For n_clusters = 7 The average silhouette_score is : 0.33575351960951116\n",
      "var = 400 For n_clusters = 8 The average silhouette_score is : 0.3007827648276643\n",
      "var = 800 For n_clusters = 3 The average silhouette_score is : 0.3643459027808232\n",
      "var = 800 For n_clusters = 4 The average silhouette_score is : 0.4210367663351351\n",
      "var = 800 For n_clusters = 5 The average silhouette_score is : 0.4586496112449425\n",
      "var = 800 For n_clusters = 6 The average silhouette_score is : 0.3785300694745452\n",
      "var = 800 For n_clusters = 7 The average silhouette_score is : 0.30817079786436546\n",
      "var = 800 For n_clusters = 8 The average silhouette_score is : 0.27616953546024864\n"
     ]
    }
   ],
   "source": [
    "for i in [100,300,400,800]:\n",
    "    anova = SelectKBest(f_classif,k=i)\n",
    "    X_anova=anova.fit_transform(X,np.ravel(y))\n",
    "    for n_clusters in range_n_clusters:\n",
    "        clusterer = KMeans(n_clusters=n_clusters, random_state=10)\n",
    "        cluster_labels = clusterer.fit_predict(X_anova)\n",
    "        silhouette_avg = silhouette_score(X_anova, cluster_labels)\n",
    "        print(\n",
    "        \"var =\",\n",
    "        i,\n",
    "        \"For n_clusters =\",\n",
    "        n_clusters,\n",
    "        \"The average silhouette_score is :\",\n",
    "        silhouette_avg,\n",
    "        \n",
    "    )"
   ]
  },
  {
   "cell_type": "code",
   "execution_count": null,
   "id": "defined-distributor",
   "metadata": {},
   "outputs": [],
   "source": []
  },
  {
   "cell_type": "code",
   "execution_count": 213,
   "id": "necessary-adolescent",
   "metadata": {},
   "outputs": [],
   "source": [
    "from sklearn.decomposition import PCA"
   ]
  },
  {
   "cell_type": "code",
   "execution_count": 214,
   "id": "moved-desperate",
   "metadata": {},
   "outputs": [],
   "source": [
    "pca = PCA(n_components=2)"
   ]
  },
  {
   "cell_type": "code",
   "execution_count": 215,
   "id": "unlimited-pipeline",
   "metadata": {},
   "outputs": [],
   "source": [
    "X_pca=pca.fit_transform(X)"
   ]
  },
  {
   "cell_type": "code",
   "execution_count": 221,
   "id": "united-printer",
   "metadata": {},
   "outputs": [
    {
     "data": {
      "image/png": "[encoded data removed]",
      "text/plain": [
       "<Figure size 432x288 with 1 Axes>"
      ]
     },
     "metadata": {
      "needs_background": "light"
     },
     "output_type": "display_data"
    }
   ],
   "source": [
    "kmeans = KMeans(n_clusters=5)\n",
    "label = kmeans.fit_predict(X_pca)\n",
    "u_labels = np.unique(label)\n",
    "for i in u_labels:\n",
    "    plt.scatter(X_pca[label == i , 0] , X_pca[label == i , 1] , label = i)\n",
    "    plt.legend()"
   ]
  },
  {
   "cell_type": "code",
   "execution_count": null,
   "id": "according-medicare",
   "metadata": {},
   "outputs": [],
   "source": []
  }
 ],
 "metadata": {
  "kernelspec": {
   "display_name": "Python 3",
   "language": "python",
   "name": "python3"
  },
  "language_info": {
   "codemirror_mode": {
    "name": "ipython",
    "version": 3
   },
   "file_extension": ".py",
   "mimetype": "text/x-python",
   "name": "python",
   "nbconvert_exporter": "python",
   "pygments_lexer": "ipython3",
   "version": "3.6.3"
  }
 },
 "nbformat": 4,
 "nbformat_minor": 5
}
