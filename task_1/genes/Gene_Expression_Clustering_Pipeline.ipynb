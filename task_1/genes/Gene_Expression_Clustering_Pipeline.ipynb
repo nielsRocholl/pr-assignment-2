{
 "cells": [
  {
   "cell_type": "code",
   "execution_count": 140,
   "id": "southeast-wildlife",
   "metadata": {},
   "outputs": [],
   "source": [
    "import numpy as np\n",
    "import matplotlib.pyplot as plt\n",
    "import pandas as pd\n",
    "import seaborn as sns\n",
    "import random\n",
    "#Importing the necessary libraries"
   ]
  },
  {
   "cell_type": "code",
   "execution_count": 2,
   "id": "dynamic-amber",
   "metadata": {},
   "outputs": [],
   "source": [
    "X=pd.read_csv(\"../data/Genes/data.csv\")"
   ]
  },
  {
   "cell_type": "code",
   "execution_count": 141,
   "id": "funky-religious",
   "metadata": {},
   "outputs": [],
   "source": [
    "#Reading the Genome data"
   ]
  },
  {
   "cell_type": "code",
   "execution_count": 3,
   "id": "blessed-wildlife",
   "metadata": {},
   "outputs": [],
   "source": [
    "y=pd.read_csv(\"../data/Genes/labels.csv\")"
   ]
  },
  {
   "cell_type": "code",
   "execution_count": 142,
   "id": "fallen-indie",
   "metadata": {},
   "outputs": [],
   "source": [
    "#Reading the Genome labels"
   ]
  },
  {
   "cell_type": "code",
   "execution_count": 4,
   "id": "historical-roads",
   "metadata": {},
   "outputs": [
    {
     "data": {
      "text/plain": [
       "(801, 20532)"
      ]
     },
     "execution_count": 4,
     "metadata": {},
     "output_type": "execute_result"
    }
   ],
   "source": [
    "X.shape"
   ]
  },
  {
   "cell_type": "code",
   "execution_count": 5,
   "id": "rolled-georgia",
   "metadata": {},
   "outputs": [
    {
     "data": {
      "text/html": [
       "<div>\n",
       "<style scoped>\n",
       "    .dataframe tbody tr th:only-of-type {\n",
       "        vertical-align: middle;\n",
       "    }\n",
       "\n",
       "    .dataframe tbody tr th {\n",
       "        vertical-align: top;\n",
       "    }\n",
       "\n",
       "    .dataframe thead th {\n",
       "        text-align: right;\n",
       "    }\n",
       "</style>\n",
       "<table border=\"1\" class=\"dataframe\">\n",
       "  <thead>\n",
       "    <tr style=\"text-align: right;\">\n",
       "      <th></th>\n",
       "      <th>Unnamed: 0</th>\n",
       "      <th>gene_0</th>\n",
       "      <th>gene_1</th>\n",
       "      <th>gene_2</th>\n",
       "      <th>gene_3</th>\n",
       "      <th>gene_4</th>\n",
       "      <th>gene_5</th>\n",
       "      <th>gene_6</th>\n",
       "      <th>gene_7</th>\n",
       "      <th>gene_8</th>\n",
       "      <th>...</th>\n",
       "      <th>gene_20521</th>\n",
       "      <th>gene_20522</th>\n",
       "      <th>gene_20523</th>\n",
       "      <th>gene_20524</th>\n",
       "      <th>gene_20525</th>\n",
       "      <th>gene_20526</th>\n",
       "      <th>gene_20527</th>\n",
       "      <th>gene_20528</th>\n",
       "      <th>gene_20529</th>\n",
       "      <th>gene_20530</th>\n",
       "    </tr>\n",
       "  </thead>\n",
       "  <tbody>\n",
       "    <tr>\n",
       "      <th>0</th>\n",
       "      <td>sample_0</td>\n",
       "      <td>0.0</td>\n",
       "      <td>2.017209</td>\n",
       "      <td>3.265527</td>\n",
       "      <td>5.478487</td>\n",
       "      <td>10.431999</td>\n",
       "      <td>0.0</td>\n",
       "      <td>7.175175</td>\n",
       "      <td>0.591871</td>\n",
       "      <td>0.0</td>\n",
       "      <td>...</td>\n",
       "      <td>4.926711</td>\n",
       "      <td>8.210257</td>\n",
       "      <td>9.723516</td>\n",
       "      <td>7.220030</td>\n",
       "      <td>9.119813</td>\n",
       "      <td>12.003135</td>\n",
       "      <td>9.650743</td>\n",
       "      <td>8.921326</td>\n",
       "      <td>5.286759</td>\n",
       "      <td>0.0</td>\n",
       "    </tr>\n",
       "    <tr>\n",
       "      <th>1</th>\n",
       "      <td>sample_1</td>\n",
       "      <td>0.0</td>\n",
       "      <td>0.592732</td>\n",
       "      <td>1.588421</td>\n",
       "      <td>7.586157</td>\n",
       "      <td>9.623011</td>\n",
       "      <td>0.0</td>\n",
       "      <td>6.816049</td>\n",
       "      <td>0.000000</td>\n",
       "      <td>0.0</td>\n",
       "      <td>...</td>\n",
       "      <td>4.593372</td>\n",
       "      <td>7.323865</td>\n",
       "      <td>9.740931</td>\n",
       "      <td>6.256586</td>\n",
       "      <td>8.381612</td>\n",
       "      <td>12.674552</td>\n",
       "      <td>10.517059</td>\n",
       "      <td>9.397854</td>\n",
       "      <td>2.094168</td>\n",
       "      <td>0.0</td>\n",
       "    </tr>\n",
       "    <tr>\n",
       "      <th>2</th>\n",
       "      <td>sample_2</td>\n",
       "      <td>0.0</td>\n",
       "      <td>3.511759</td>\n",
       "      <td>4.327199</td>\n",
       "      <td>6.881787</td>\n",
       "      <td>9.870730</td>\n",
       "      <td>0.0</td>\n",
       "      <td>6.972130</td>\n",
       "      <td>0.452595</td>\n",
       "      <td>0.0</td>\n",
       "      <td>...</td>\n",
       "      <td>5.125213</td>\n",
       "      <td>8.127123</td>\n",
       "      <td>10.908640</td>\n",
       "      <td>5.401607</td>\n",
       "      <td>9.911597</td>\n",
       "      <td>9.045255</td>\n",
       "      <td>9.788359</td>\n",
       "      <td>10.090470</td>\n",
       "      <td>1.683023</td>\n",
       "      <td>0.0</td>\n",
       "    </tr>\n",
       "    <tr>\n",
       "      <th>3</th>\n",
       "      <td>sample_3</td>\n",
       "      <td>0.0</td>\n",
       "      <td>3.663618</td>\n",
       "      <td>4.507649</td>\n",
       "      <td>6.659068</td>\n",
       "      <td>10.196184</td>\n",
       "      <td>0.0</td>\n",
       "      <td>7.843375</td>\n",
       "      <td>0.434882</td>\n",
       "      <td>0.0</td>\n",
       "      <td>...</td>\n",
       "      <td>6.076566</td>\n",
       "      <td>8.792959</td>\n",
       "      <td>10.141520</td>\n",
       "      <td>8.942805</td>\n",
       "      <td>9.601208</td>\n",
       "      <td>11.392682</td>\n",
       "      <td>9.694814</td>\n",
       "      <td>9.684365</td>\n",
       "      <td>3.292001</td>\n",
       "      <td>0.0</td>\n",
       "    </tr>\n",
       "    <tr>\n",
       "      <th>4</th>\n",
       "      <td>sample_4</td>\n",
       "      <td>0.0</td>\n",
       "      <td>2.655741</td>\n",
       "      <td>2.821547</td>\n",
       "      <td>6.539454</td>\n",
       "      <td>9.738265</td>\n",
       "      <td>0.0</td>\n",
       "      <td>6.566967</td>\n",
       "      <td>0.360982</td>\n",
       "      <td>0.0</td>\n",
       "      <td>...</td>\n",
       "      <td>5.996032</td>\n",
       "      <td>8.891425</td>\n",
       "      <td>10.373790</td>\n",
       "      <td>7.181162</td>\n",
       "      <td>9.846910</td>\n",
       "      <td>11.922439</td>\n",
       "      <td>9.217749</td>\n",
       "      <td>9.461191</td>\n",
       "      <td>5.110372</td>\n",
       "      <td>0.0</td>\n",
       "    </tr>\n",
       "  </tbody>\n",
       "</table>\n",
       "<p>5 rows × 20532 columns</p>\n",
       "</div>"
      ],
      "text/plain": [
       "  Unnamed: 0  gene_0    gene_1    gene_2    gene_3     gene_4  gene_5  \\\n",
       "0   sample_0     0.0  2.017209  3.265527  5.478487  10.431999     0.0   \n",
       "1   sample_1     0.0  0.592732  1.588421  7.586157   9.623011     0.0   \n",
       "2   sample_2     0.0  3.511759  4.327199  6.881787   9.870730     0.0   \n",
       "3   sample_3     0.0  3.663618  4.507649  6.659068  10.196184     0.0   \n",
       "4   sample_4     0.0  2.655741  2.821547  6.539454   9.738265     0.0   \n",
       "\n",
       "     gene_6    gene_7  gene_8  ...  gene_20521  gene_20522  gene_20523  \\\n",
       "0  7.175175  0.591871     0.0  ...    4.926711    8.210257    9.723516   \n",
       "1  6.816049  0.000000     0.0  ...    4.593372    7.323865    9.740931   \n",
       "2  6.972130  0.452595     0.0  ...    5.125213    8.127123   10.908640   \n",
       "3  7.843375  0.434882     0.0  ...    6.076566    8.792959   10.141520   \n",
       "4  6.566967  0.360982     0.0  ...    5.996032    8.891425   10.373790   \n",
       "\n",
       "   gene_20524  gene_20525  gene_20526  gene_20527  gene_20528  gene_20529  \\\n",
       "0    7.220030    9.119813   12.003135    9.650743    8.921326    5.286759   \n",
       "1    6.256586    8.381612   12.674552   10.517059    9.397854    2.094168   \n",
       "2    5.401607    9.911597    9.045255    9.788359   10.090470    1.683023   \n",
       "3    8.942805    9.601208   11.392682    9.694814    9.684365    3.292001   \n",
       "4    7.181162    9.846910   11.922439    9.217749    9.461191    5.110372   \n",
       "\n",
       "   gene_20530  \n",
       "0         0.0  \n",
       "1         0.0  \n",
       "2         0.0  \n",
       "3         0.0  \n",
       "4         0.0  \n",
       "\n",
       "[5 rows x 20532 columns]"
      ]
     },
     "execution_count": 5,
     "metadata": {},
     "output_type": "execute_result"
    }
   ],
   "source": [
    "X.head()"
   ]
  },
  {
   "cell_type": "code",
   "execution_count": null,
   "id": "spoken-revelation",
   "metadata": {},
   "outputs": [],
   "source": [
    "#There is a unwanted column in both X and y\n",
    "# Removing the column"
   ]
  },
  {
   "cell_type": "code",
   "execution_count": 6,
   "id": "olympic-bachelor",
   "metadata": {},
   "outputs": [],
   "source": [
    "X=X.iloc[:,1:]"
   ]
  },
  {
   "cell_type": "code",
   "execution_count": 7,
   "id": "enhanced-cornell",
   "metadata": {},
   "outputs": [],
   "source": [
    "y=y.iloc[:,1:2]"
   ]
  },
  {
   "cell_type": "code",
   "execution_count": 143,
   "id": "conceptual-warren",
   "metadata": {},
   "outputs": [
    {
     "data": {
      "text/html": [
       "<div>\n",
       "<style scoped>\n",
       "    .dataframe tbody tr th:only-of-type {\n",
       "        vertical-align: middle;\n",
       "    }\n",
       "\n",
       "    .dataframe tbody tr th {\n",
       "        vertical-align: top;\n",
       "    }\n",
       "\n",
       "    .dataframe thead th {\n",
       "        text-align: right;\n",
       "    }\n",
       "</style>\n",
       "<table border=\"1\" class=\"dataframe\">\n",
       "  <thead>\n",
       "    <tr style=\"text-align: right;\">\n",
       "      <th></th>\n",
       "      <th>Class</th>\n",
       "    </tr>\n",
       "  </thead>\n",
       "  <tbody>\n",
       "    <tr>\n",
       "      <th>0</th>\n",
       "      <td>PRAD</td>\n",
       "    </tr>\n",
       "    <tr>\n",
       "      <th>1</th>\n",
       "      <td>LUAD</td>\n",
       "    </tr>\n",
       "    <tr>\n",
       "      <th>2</th>\n",
       "      <td>PRAD</td>\n",
       "    </tr>\n",
       "    <tr>\n",
       "      <th>3</th>\n",
       "      <td>PRAD</td>\n",
       "    </tr>\n",
       "    <tr>\n",
       "      <th>4</th>\n",
       "      <td>BRCA</td>\n",
       "    </tr>\n",
       "  </tbody>\n",
       "</table>\n",
       "</div>"
      ],
      "text/plain": [
       "  Class\n",
       "0  PRAD\n",
       "1  LUAD\n",
       "2  PRAD\n",
       "3  PRAD\n",
       "4  BRCA"
      ]
     },
     "execution_count": 143,
     "metadata": {},
     "output_type": "execute_result"
    }
   ],
   "source": [
    "y.head()"
   ]
  },
  {
   "cell_type": "code",
   "execution_count": 9,
   "id": "abroad-induction",
   "metadata": {},
   "outputs": [
    {
     "data": {
      "text/plain": [
       "array([], dtype=int64)"
      ]
     },
     "execution_count": 9,
     "metadata": {},
     "output_type": "execute_result"
    }
   ],
   "source": [
    "np.flatnonzero(np.sum(pd.isnull(X))>0)\n",
    "#Checking for null values"
   ]
  },
  {
   "cell_type": "code",
   "execution_count": null,
   "id": "technological-hands",
   "metadata": {},
   "outputs": [],
   "source": []
  },
  {
   "cell_type": "code",
   "execution_count": 10,
   "id": "divided-costa",
   "metadata": {},
   "outputs": [
    {
     "data": {
      "text/plain": [
       "(267,)"
      ]
     },
     "execution_count": 10,
     "metadata": {},
     "output_type": "execute_result"
    }
   ],
   "source": [
    "np.flatnonzero(X.std()==0).shape\n",
    "#Checking for zero column vectors "
   ]
  },
  {
   "cell_type": "code",
   "execution_count": 145,
   "id": "genuine-decrease",
   "metadata": {},
   "outputs": [],
   "source": [
    "#We find 267 column vectors that do not contribute anything so we go ahead and remove them"
   ]
  },
  {
   "cell_type": "code",
   "execution_count": 11,
   "id": "architectural-possession",
   "metadata": {},
   "outputs": [],
   "source": [
    "X=X.drop(X.std()[X.std()==0].index.values,axis=1)"
   ]
  },
  {
   "cell_type": "code",
   "execution_count": 12,
   "id": "compact-lease",
   "metadata": {},
   "outputs": [
    {
     "data": {
      "text/plain": [
       "(801, 20264)"
      ]
     },
     "execution_count": 12,
     "metadata": {},
     "output_type": "execute_result"
    }
   ],
   "source": [
    "X.shape"
   ]
  },
  {
   "cell_type": "code",
   "execution_count": null,
   "id": "quick-basic",
   "metadata": {},
   "outputs": [],
   "source": []
  },
  {
   "cell_type": "markdown",
   "id": "raising-belize",
   "metadata": {},
   "source": [
    "#### Preprocessing"
   ]
  },
  {
   "cell_type": "code",
   "execution_count": 14,
   "id": "fossil-message",
   "metadata": {},
   "outputs": [],
   "source": [
    "from sklearn.preprocessing import RobustScaler, OrdinalEncoder\n",
    "from sklearn.impute import SimpleImputer\n",
    "from sklearn.compose import ColumnTransformer\n",
    "from sklearn.pipeline import Pipeline\n"
   ]
  },
  {
   "cell_type": "code",
   "execution_count": 146,
   "id": "naughty-manitoba",
   "metadata": {},
   "outputs": [],
   "source": [
    "# We use the sklearn's pipeline function and create a preprocessor which uses robust scaling and fills in any null values"
   ]
  },
  {
   "cell_type": "code",
   "execution_count": 15,
   "id": "worthy-louis",
   "metadata": {},
   "outputs": [],
   "source": [
    "numeric_transformer = Pipeline(steps=[\n",
    "       ('imputer', SimpleImputer(strategy='mean'))\n",
    "      ,('scaler', RobustScaler())\n",
    "])"
   ]
  },
  {
   "cell_type": "code",
   "execution_count": 16,
   "id": "legitimate-vintage",
   "metadata": {},
   "outputs": [],
   "source": [
    "categorical_transformer = Pipeline(steps=[\n",
    "       ('imputer', SimpleImputer(strategy='constant'))\n",
    "      ,('encoder', OrdinalEncoder())\n",
    "])"
   ]
  },
  {
   "cell_type": "code",
   "execution_count": 17,
   "id": "transparent-chick",
   "metadata": {},
   "outputs": [],
   "source": [
    "numeric_features = X.select_dtypes(include=['int64', 'float64']).columns"
   ]
  },
  {
   "cell_type": "code",
   "execution_count": 18,
   "id": "crude-match",
   "metadata": {},
   "outputs": [],
   "source": [
    "categorical_features = X.select_dtypes(include=['object']).columns"
   ]
  },
  {
   "cell_type": "code",
   "execution_count": 19,
   "id": "regulation-above",
   "metadata": {},
   "outputs": [],
   "source": [
    "preprocessor = ColumnTransformer(\n",
    "   transformers=[\n",
    "    ('numeric', numeric_transformer, numeric_features)\n",
    "]) "
   ]
  },
  {
   "cell_type": "code",
   "execution_count": 147,
   "id": "healthy-individual",
   "metadata": {},
   "outputs": [],
   "source": [
    "#fitting the data to the created preprocessor"
   ]
  },
  {
   "cell_type": "code",
   "execution_count": 20,
   "id": "medieval-style",
   "metadata": {},
   "outputs": [],
   "source": [
    "X_pre=preprocessor.fit_transform(X)"
   ]
  },
  {
   "cell_type": "code",
   "execution_count": 21,
   "id": "infrared-browser",
   "metadata": {},
   "outputs": [
    {
     "data": {
      "text/plain": [
       "(801, 20264)"
      ]
     },
     "execution_count": 21,
     "metadata": {},
     "output_type": "execute_result"
    }
   ],
   "source": [
    "X_pre.shape"
   ]
  },
  {
   "cell_type": "code",
   "execution_count": null,
   "id": "unsigned-growing",
   "metadata": {},
   "outputs": [],
   "source": [
    "# we make sure that labels are factorise before we pass them to calculate the validity of the clusters"
   ]
  },
  {
   "cell_type": "code",
   "execution_count": 34,
   "id": "virgin-court",
   "metadata": {},
   "outputs": [],
   "source": [
    "y_fact=pd.factorize(np.ravel(y))[0]"
   ]
  },
  {
   "cell_type": "code",
   "execution_count": 39,
   "id": "sunrise-swimming",
   "metadata": {},
   "outputs": [],
   "source": [
    "from sklearn.feature_selection import SelectKBest, f_classif\n",
    "from sklearn.decomposition import PCA\n",
    "from sklearn.decomposition import KernelPCA\n",
    "from sklearn.cluster import KMeans\n",
    "from sklearn import metrics"
   ]
  },
  {
   "cell_type": "code",
   "execution_count": 40,
   "id": "expressed-contributor",
   "metadata": {},
   "outputs": [],
   "source": [
    "range_n_clusters = [3, 4, 5, 6, 7, 8]"
   ]
  },
  {
   "cell_type": "markdown",
   "id": "dimensional-bhutan",
   "metadata": {},
   "source": [
    "#### Experiment4: bAse model"
   ]
  },
  {
   "cell_type": "code",
   "execution_count": 95,
   "id": "saved-disorder",
   "metadata": {},
   "outputs": [
    {
     "name": "stdout",
     "output_type": "stream",
     "text": [
      "Value of k: 3\n",
      "fowlkes_mallows_score: 0.707\n",
      "Adjusted Mutual Information: 0.734\n",
      "silhouette Score: 0.108\n",
      "__________________________________________________\n",
      "Value of k: 4\n",
      "fowlkes_mallows_score: 0.791\n",
      "Adjusted Mutual Information: 0.838\n",
      "silhouette Score: 0.137\n",
      "__________________________________________________\n",
      "Value of k: 5\n",
      "fowlkes_mallows_score: 0.984\n",
      "Adjusted Mutual Information: 0.970\n",
      "silhouette Score: 0.155\n",
      "__________________________________________________\n",
      "Value of k: 6\n",
      "fowlkes_mallows_score: 0.890\n",
      "Adjusted Mutual Information: 0.909\n",
      "silhouette Score: 0.154\n",
      "__________________________________________________\n",
      "Value of k: 7\n",
      "fowlkes_mallows_score: 0.860\n",
      "Adjusted Mutual Information: 0.875\n",
      "silhouette Score: 0.153\n",
      "__________________________________________________\n",
      "Value of k: 8\n",
      "fowlkes_mallows_score: 0.773\n",
      "Adjusted Mutual Information: 0.832\n",
      "silhouette Score: 0.127\n",
      "__________________________________________________\n"
     ]
    }
   ],
   "source": [
    "clustdict={}\n",
    "amis_list=[]\n",
    "fowlkesscore_list=[]\n",
    "sil_list=[]\n",
    "k_list=[]\n",
    "for n_clusters in range_n_clusters:\n",
    "    clusterer = KMeans(n_clusters=n_clusters, random_state=10)\n",
    "    cluster_labels = clusterer.fit_predict(X_pre)\n",
    "    fowlkesscore = metrics.fowlkes_mallows_score(y_fact, cluster_labels )\n",
    "    amis=metrics.adjusted_mutual_info_score(y_fact, cluster_labels )\n",
    "    sil=metrics.silhouette_score(X_pre, cluster_labels )\n",
    "    amis_list.append(amis)\n",
    "    fowlkesscore_list.append(fowlkesscore)\n",
    "    sil_list.append(sil)\n",
    "    k_list.append(n_clusters)\n",
    "    print(\"Value of k: %d\" %n_clusters)\n",
    "    print(\"fowlkes_mallows_score: %0.3f\" % fowlkesscore)\n",
    "    print( \"Adjusted Mutual Information: %0.3f\"% amis)\n",
    "    print( \"silhouette Score: %0.3f\"% sil)\n",
    "    print(\"__________________________________________________\")\n",
    "clustdict[\"amis\"]=amis_list\n",
    "clustdict[\"fowlkesscore\"]=fowlkesscore_list\n",
    "clustdict[\"k\"]=k_list\n",
    "clustdict[\"sil\"]=sil_list\n",
    "\n",
    "    "
   ]
  },
  {
   "cell_type": "markdown",
   "id": "cathedral-money",
   "metadata": {},
   "source": [
    "#### Experiment 1 : Applying pca and then applying the k means method on it and  then calculating the metrics"
   ]
  },
  {
   "cell_type": "code",
   "execution_count": 98,
   "id": "hired-statement",
   "metadata": {},
   "outputs": [
    {
     "name": "stdout",
     "output_type": "stream",
     "text": [
      "-----------------------------\n",
      "N_components: 530.00\n",
      "-----------------------------\n",
      "Value of k: 3\n",
      "fowlkes_mallows_score: 0.707\n",
      "Adjusted Mutual Information: 0.734\n",
      "silhouette Score: 0.114\n",
      "__________________________________________________\n",
      "Value of k: 4\n",
      "fowlkes_mallows_score: 0.791\n",
      "Adjusted Mutual Information: 0.838\n",
      "silhouette Score: 0.145\n",
      "__________________________________________________\n",
      "Value of k: 5\n",
      "fowlkes_mallows_score: 0.990\n",
      "Adjusted Mutual Information: 0.980\n",
      "silhouette Score: 0.165\n",
      "__________________________________________________\n",
      "Value of k: 6\n",
      "fowlkes_mallows_score: 0.880\n",
      "Adjusted Mutual Information: 0.908\n",
      "silhouette Score: 0.165\n",
      "__________________________________________________\n",
      "Value of k: 7\n",
      "fowlkes_mallows_score: 0.860\n",
      "Adjusted Mutual Information: 0.872\n",
      "silhouette Score: 0.164\n",
      "__________________________________________________\n",
      "Value of k: 8\n",
      "fowlkes_mallows_score: 0.798\n",
      "Adjusted Mutual Information: 0.838\n",
      "silhouette Score: 0.136\n",
      "__________________________________________________\n",
      "-----------------------------\n",
      "N_components: 373.00\n",
      "-----------------------------\n",
      "Value of k: 3\n",
      "fowlkes_mallows_score: 0.707\n",
      "Adjusted Mutual Information: 0.734\n",
      "silhouette Score: 0.122\n",
      "__________________________________________________\n",
      "Value of k: 4\n",
      "fowlkes_mallows_score: 0.791\n",
      "Adjusted Mutual Information: 0.838\n",
      "silhouette Score: 0.155\n",
      "__________________________________________________\n",
      "Value of k: 5\n",
      "fowlkes_mallows_score: 0.990\n",
      "Adjusted Mutual Information: 0.980\n",
      "silhouette Score: 0.176\n",
      "__________________________________________________\n",
      "Value of k: 6\n",
      "fowlkes_mallows_score: 0.882\n",
      "Adjusted Mutual Information: 0.909\n",
      "silhouette Score: 0.177\n",
      "__________________________________________________\n",
      "Value of k: 7\n",
      "fowlkes_mallows_score: 0.827\n",
      "Adjusted Mutual Information: 0.865\n",
      "silhouette Score: 0.175\n",
      "__________________________________________________\n",
      "Value of k: 8\n",
      "fowlkes_mallows_score: 0.770\n",
      "Adjusted Mutual Information: 0.831\n",
      "silhouette Score: 0.148\n",
      "__________________________________________________\n",
      "-----------------------------\n",
      "N_components: 262.00\n",
      "-----------------------------\n",
      "Value of k: 3\n",
      "fowlkes_mallows_score: 0.707\n",
      "Adjusted Mutual Information: 0.734\n",
      "silhouette Score: 0.132\n",
      "__________________________________________________\n",
      "Value of k: 4\n",
      "fowlkes_mallows_score: 0.793\n",
      "Adjusted Mutual Information: 0.843\n",
      "silhouette Score: 0.166\n",
      "__________________________________________________\n",
      "Value of k: 5\n",
      "fowlkes_mallows_score: 0.990\n",
      "Adjusted Mutual Information: 0.980\n",
      "silhouette Score: 0.189\n",
      "__________________________________________________\n",
      "Value of k: 6\n",
      "fowlkes_mallows_score: 0.879\n",
      "Adjusted Mutual Information: 0.907\n",
      "silhouette Score: 0.189\n",
      "__________________________________________________\n",
      "Value of k: 7\n",
      "fowlkes_mallows_score: 0.860\n",
      "Adjusted Mutual Information: 0.875\n",
      "silhouette Score: 0.189\n",
      "__________________________________________________\n",
      "Value of k: 8\n",
      "fowlkes_mallows_score: 0.801\n",
      "Adjusted Mutual Information: 0.836\n",
      "silhouette Score: 0.162\n",
      "__________________________________________________\n"
     ]
    }
   ],
   "source": [
    "pca_dict={}\n",
    "\n",
    "for i in [530,373,262]:\n",
    "    print(\"-----------------------------\")\n",
    "    print(\"N_components: %0.2f\" % i)\n",
    "    print(\"-----------------------------\")\n",
    "    pca = PCA(n_components=i)\n",
    "    X_pca=pca.fit_transform(X_pre)\n",
    "    clustdict={}\n",
    "    amis_list=[]\n",
    "    fowlkesscore_list=[]\n",
    "    k_list=[]\n",
    "    sil_list=[]\n",
    "    for n_clusters in range_n_clusters:\n",
    "        clusterer = KMeans(n_clusters=n_clusters, random_state=10)\n",
    "        cluster_labels = clusterer.fit_predict(X_pca)\n",
    "        fowlkesscore = metrics.fowlkes_mallows_score(y_fact, cluster_labels )\n",
    "        amis=metrics.adjusted_mutual_info_score(y_fact, cluster_labels )\n",
    "        sil=metrics.silhouette_score(X_pca, cluster_labels )\n",
    "        amis_list.append(amis)\n",
    "        fowlkesscore_list.append(fowlkesscore)\n",
    "        k_list.append(n_clusters)\n",
    "        sil_list.append(sil)\n",
    "        clustdict[\"amis\"]=amis_list\n",
    "        clustdict[\"fowlkesscore\"]=fowlkesscore_list\n",
    "        clustdict[\"k\"]=k_list\n",
    "        clustdict[\"sil\"]=sil_list\n",
    "        print(\"Value of k: %d\" %n_clusters)\n",
    "        print(\"fowlkes_mallows_score: %0.3f\" % fowlkesscore)\n",
    "        print( \"Adjusted Mutual Information: %0.3f\"% amis)\n",
    "        print( \"silhouette Score: %0.3f\"% sil)\n",
    "        print(\"__________________________________________________\")\n",
    "    pca_dict[i]=clustdict\n",
    "    "
   ]
  },
  {
   "cell_type": "markdown",
   "id": "straight-bargain",
   "metadata": {},
   "source": [
    "#### Experiment 2 : Applying kernel-pca and then applying the k means method on it and  then calculating the metrics"
   ]
  },
  {
   "cell_type": "code",
   "execution_count": 102,
   "id": "elder-opera",
   "metadata": {},
   "outputs": [
    {
     "name": "stdout",
     "output_type": "stream",
     "text": [
      "-----------------------------\n",
      "N_components: 530.00\n",
      "-----------------------------\n",
      "Value of k: 3\n",
      "fowlkes_mallows_score: 0.680\n",
      "Adjusted Mutual Information: 0.671\n",
      "silhouette Score: 0.069\n",
      "__________________________________________________\n",
      "Value of k: 4\n",
      "fowlkes_mallows_score: 0.763\n",
      "Adjusted Mutual Information: 0.791\n",
      "silhouette Score: 0.088\n",
      "__________________________________________________\n",
      "Value of k: 5\n",
      "fowlkes_mallows_score: 0.782\n",
      "Adjusted Mutual Information: 0.814\n",
      "silhouette Score: 0.099\n",
      "__________________________________________________\n",
      "Value of k: 6\n",
      "fowlkes_mallows_score: 0.789\n",
      "Adjusted Mutual Information: 0.829\n",
      "silhouette Score: 0.100\n",
      "__________________________________________________\n",
      "Value of k: 7\n",
      "fowlkes_mallows_score: 0.771\n",
      "Adjusted Mutual Information: 0.786\n",
      "silhouette Score: 0.105\n",
      "__________________________________________________\n",
      "Value of k: 8\n",
      "fowlkes_mallows_score: 0.753\n",
      "Adjusted Mutual Information: 0.788\n",
      "silhouette Score: 0.079\n",
      "__________________________________________________\n",
      "-----------------------------\n",
      "N_components: 373.00\n",
      "-----------------------------\n",
      "Value of k: 3\n",
      "fowlkes_mallows_score: 0.680\n",
      "Adjusted Mutual Information: 0.671\n",
      "silhouette Score: 0.085\n",
      "__________________________________________________\n",
      "Value of k: 4\n",
      "fowlkes_mallows_score: 0.717\n",
      "Adjusted Mutual Information: 0.741\n",
      "silhouette Score: 0.100\n",
      "__________________________________________________\n",
      "Value of k: 5\n",
      "fowlkes_mallows_score: 0.780\n",
      "Adjusted Mutual Information: 0.811\n",
      "silhouette Score: 0.117\n",
      "__________________________________________________\n",
      "Value of k: 6\n",
      "fowlkes_mallows_score: 0.791\n",
      "Adjusted Mutual Information: 0.819\n",
      "silhouette Score: 0.122\n",
      "__________________________________________________\n",
      "Value of k: 7\n",
      "fowlkes_mallows_score: 0.786\n",
      "Adjusted Mutual Information: 0.795\n",
      "silhouette Score: 0.127\n",
      "__________________________________________________\n",
      "Value of k: 8\n",
      "fowlkes_mallows_score: 0.766\n",
      "Adjusted Mutual Information: 0.791\n",
      "silhouette Score: 0.110\n",
      "__________________________________________________\n",
      "-----------------------------\n",
      "N_components: 262.00\n",
      "-----------------------------\n",
      "Value of k: 3\n",
      "fowlkes_mallows_score: 0.680\n",
      "Adjusted Mutual Information: 0.671\n",
      "silhouette Score: 0.105\n",
      "__________________________________________________\n",
      "Value of k: 4\n",
      "fowlkes_mallows_score: 0.713\n",
      "Adjusted Mutual Information: 0.737\n",
      "silhouette Score: 0.116\n",
      "__________________________________________________\n",
      "Value of k: 5\n",
      "fowlkes_mallows_score: 0.782\n",
      "Adjusted Mutual Information: 0.814\n",
      "silhouette Score: 0.137\n",
      "__________________________________________________\n",
      "Value of k: 6\n",
      "fowlkes_mallows_score: 0.786\n",
      "Adjusted Mutual Information: 0.818\n",
      "silhouette Score: 0.143\n",
      "__________________________________________________\n",
      "Value of k: 7\n",
      "fowlkes_mallows_score: 0.786\n",
      "Adjusted Mutual Information: 0.808\n",
      "silhouette Score: 0.147\n",
      "__________________________________________________\n",
      "Value of k: 8\n",
      "fowlkes_mallows_score: 0.680\n",
      "Adjusted Mutual Information: 0.751\n",
      "silhouette Score: 0.106\n",
      "__________________________________________________\n"
     ]
    }
   ],
   "source": [
    "kpca_dict={}\n",
    "\n",
    "for i in [530,373,262]:\n",
    "    print(\"-----------------------------\")\n",
    "    print(\"N_components: %0.2f\" % i)\n",
    "    print(\"-----------------------------\")\n",
    "    kpca = KernelPCA(n_components=i,kernel=\"rbf\")\n",
    "    Xk_pca=kpca.fit_transform(X_pre)\n",
    "    clustdict={}\n",
    "    amis_list=[]\n",
    "    fowlkesscore_list=[]\n",
    "    k_list=[]\n",
    "    sil_list=[]\n",
    "    for n_clusters in range_n_clusters:\n",
    "        clusterer = KMeans(n_clusters=n_clusters, random_state=10)\n",
    "        cluster_labels = clusterer.fit_predict(Xk_pca)\n",
    "        fowlkesscore = metrics.fowlkes_mallows_score(y_fact, cluster_labels )\n",
    "        amis=metrics.adjusted_mutual_info_score(y_fact, cluster_labels )\n",
    "        sil=metrics.silhouette_score(Xk_pca, cluster_labels )\n",
    "        amis_list.append(amis)\n",
    "        fowlkesscore_list.append(fowlkesscore)\n",
    "        k_list.append(n_clusters)\n",
    "        sil_list.append(sil)\n",
    "        clustdict[\"amis\"]=amis_list\n",
    "        clustdict[\"fowlkesscore\"]=fowlkesscore_list\n",
    "        clustdict[\"k\"]=k_list\n",
    "        clustdict[\"sil\"]=sil_list\n",
    "        print(\"Value of k: %d\" %n_clusters)\n",
    "        print(\"fowlkes_mallows_score: %0.3f\" % fowlkesscore)\n",
    "        print( \"Adjusted Mutual Information: %0.3f\"% amis)\n",
    "        print( \"silhouette Score: %0.3f\"% sil)\n",
    "        print(\"__________________________________________________\")\n",
    "    kpca_dict[i]=clustdict"
   ]
  },
  {
   "cell_type": "markdown",
   "id": "soviet-manual",
   "metadata": {},
   "source": [
    "#### Experiment 3 : Applying anova F_selec and then applying the k means method on it and  then calculating the metrics"
   ]
  },
  {
   "cell_type": "code",
   "execution_count": 103,
   "id": "narrative-canada",
   "metadata": {},
   "outputs": [
    {
     "name": "stdout",
     "output_type": "stream",
     "text": [
      "-----------------------------\n",
      "N_components: 530.00\n",
      "-----------------------------\n",
      "Value of k: 3\n",
      "fowlkes_mallows_score: 0.702\n",
      "Adjusted Mutual Information: 0.724\n",
      "silhouette Score: 0.407\n",
      "__________________________________________________\n",
      "Value of k: 4\n",
      "fowlkes_mallows_score: 0.795\n",
      "Adjusted Mutual Information: 0.849\n",
      "silhouette Score: 0.477\n",
      "__________________________________________________\n",
      "Value of k: 5\n",
      "fowlkes_mallows_score: 0.964\n",
      "Adjusted Mutual Information: 0.951\n",
      "silhouette Score: 0.529\n",
      "__________________________________________________\n",
      "Value of k: 6\n",
      "fowlkes_mallows_score: 0.939\n",
      "Adjusted Mutual Information: 0.922\n",
      "silhouette Score: 0.482\n",
      "__________________________________________________\n",
      "Value of k: 7\n",
      "fowlkes_mallows_score: 0.910\n",
      "Adjusted Mutual Information: 0.890\n",
      "silhouette Score: 0.446\n",
      "__________________________________________________\n",
      "Value of k: 8\n",
      "fowlkes_mallows_score: 0.899\n",
      "Adjusted Mutual Information: 0.871\n",
      "silhouette Score: 0.410\n",
      "__________________________________________________\n",
      "-----------------------------\n",
      "N_components: 373.00\n",
      "-----------------------------\n",
      "Value of k: 3\n",
      "fowlkes_mallows_score: 0.700\n",
      "Adjusted Mutual Information: 0.719\n",
      "silhouette Score: 0.452\n",
      "__________________________________________________\n",
      "Value of k: 4\n",
      "fowlkes_mallows_score: 0.792\n",
      "Adjusted Mutual Information: 0.845\n",
      "silhouette Score: 0.518\n",
      "__________________________________________________\n",
      "Value of k: 5\n",
      "fowlkes_mallows_score: 0.967\n",
      "Adjusted Mutual Information: 0.953\n",
      "silhouette Score: 0.541\n",
      "__________________________________________________\n",
      "Value of k: 6\n",
      "fowlkes_mallows_score: 0.942\n",
      "Adjusted Mutual Information: 0.924\n",
      "silhouette Score: 0.495\n",
      "__________________________________________________\n",
      "Value of k: 7\n",
      "fowlkes_mallows_score: 0.926\n",
      "Adjusted Mutual Information: 0.905\n",
      "silhouette Score: 0.438\n",
      "__________________________________________________\n",
      "Value of k: 8\n",
      "fowlkes_mallows_score: 0.912\n",
      "Adjusted Mutual Information: 0.883\n",
      "silhouette Score: 0.401\n",
      "__________________________________________________\n",
      "-----------------------------\n",
      "N_components: 262.00\n",
      "-----------------------------\n",
      "Value of k: 3\n",
      "fowlkes_mallows_score: 0.700\n",
      "Adjusted Mutual Information: 0.719\n",
      "silhouette Score: 0.474\n",
      "__________________________________________________\n",
      "Value of k: 4\n",
      "fowlkes_mallows_score: 0.848\n",
      "Adjusted Mutual Information: 0.866\n",
      "silhouette Score: 0.505\n",
      "__________________________________________________\n",
      "Value of k: 5\n",
      "fowlkes_mallows_score: 0.967\n",
      "Adjusted Mutual Information: 0.953\n",
      "silhouette Score: 0.576\n",
      "__________________________________________________\n",
      "Value of k: 6\n",
      "fowlkes_mallows_score: 0.946\n",
      "Adjusted Mutual Information: 0.928\n",
      "silhouette Score: 0.534\n",
      "__________________________________________________\n",
      "Value of k: 7\n",
      "fowlkes_mallows_score: 0.922\n",
      "Adjusted Mutual Information: 0.901\n",
      "silhouette Score: 0.471\n",
      "__________________________________________________\n",
      "Value of k: 8\n",
      "fowlkes_mallows_score: 0.913\n",
      "Adjusted Mutual Information: 0.884\n",
      "silhouette Score: 0.439\n",
      "__________________________________________________\n"
     ]
    }
   ],
   "source": [
    "anova_dict={}\n",
    "\n",
    "for i in [530,373,262]:\n",
    "    print(\"-----------------------------\")\n",
    "    print(\"N_components: %0.2f\" % i)\n",
    "    print(\"-----------------------------\")\n",
    "    anova = SelectKBest(f_classif,k=i)\n",
    "    X_anova=anova.fit_transform(X_pre,np.ravel(y))\n",
    "    clustdict={}\n",
    "    amis_list=[]\n",
    "    fowlkesscore_list=[]\n",
    "    k_list=[]\n",
    "    sil_list=[]\n",
    "    for n_clusters in range_n_clusters:\n",
    "        clusterer = KMeans(n_clusters=n_clusters, random_state=10)\n",
    "        cluster_labels = clusterer.fit_predict(X_anova)\n",
    "        fowlkesscore = metrics.fowlkes_mallows_score(y_fact, cluster_labels )\n",
    "        amis=metrics.adjusted_mutual_info_score(y_fact, cluster_labels )\n",
    "        sil=metrics.silhouette_score(X_anova, cluster_labels )\n",
    "        amis_list.append(amis)\n",
    "        fowlkesscore_list.append(fowlkesscore)\n",
    "        k_list.append(n_clusters)\n",
    "        sil_list.append(sil)\n",
    "        clustdict[\"amis\"]=amis_list\n",
    "        clustdict[\"fowlkesscore\"]=fowlkesscore_list\n",
    "        clustdict[\"k\"]=k_list\n",
    "        clustdict[\"sil\"]=sil_list\n",
    "        print(\"Value of k: %d\" %n_clusters)\n",
    "        print(\"fowlkes_mallows_score: %0.3f\" % fowlkesscore)\n",
    "        print( \"Adjusted Mutual Information: %0.3f\"% amis)\n",
    "        print( \"silhouette Score: %0.3f\"% sil)\n",
    "        print(\"__________________________________________________\")\n",
    "   \n",
    "    anova_dict[i]=clustdict"
   ]
  },
  {
   "cell_type": "code",
   "execution_count": null,
   "id": "economic-biography",
   "metadata": {},
   "outputs": [],
   "source": []
  },
  {
   "cell_type": "markdown",
   "id": "caroline-queue",
   "metadata": {},
   "source": [
    "#### Plotting results of the above experiments"
   ]
  },
  {
   "cell_type": "code",
   "execution_count": 101,
   "id": "three-report",
   "metadata": {},
   "outputs": [
    {
     "data": {
      "image/png": "[encoded data removed]",
      "text/plain": [
       "<Figure size 432x288 with 1 Axes>"
      ]
     },
     "metadata": {
      "needs_background": "light"
     },
     "output_type": "display_data"
    }
   ],
   "source": [
    "plt.plot(pca_dict[262][\"k\"],pca_dict[262][\"amis\"],label=\"PCA\")\n",
    "plt.plot(kpca_dict[262][\"k\"],kpca_dict[262][\"amis\"],label=\"Kernel-PCA\")\n",
    "plt.plot(anova_dict[262][\"k\"],anova_dict[262][\"amis\"],label=\"Anova-F Score\")\n",
    "plt.title(\"K vs Adjusted Mutual Information score for 250 features\")\n",
    "plt.legend()\n",
    "plt.savefig(\"250\")"
   ]
  },
  {
   "cell_type": "code",
   "execution_count": 139,
   "id": "adopted-creation",
   "metadata": {},
   "outputs": [
    {
     "data": {
      "image/png": "[encoded data removed]",
      "text/plain": [
       "<Figure size 432x288 with 1 Axes>"
      ]
     },
     "metadata": {
      "needs_background": "light"
     },
     "output_type": "display_data"
    }
   ],
   "source": [
    "plt.plot(pca_dict[373][\"k\"],pca_dict[373][\"amis\"],label=\"PCA\")\n",
    "plt.plot(kpca_dict[373][\"k\"],kpca_dict[373][\"amis\"],label=\"Kernel-PCA\")\n",
    "plt.plot(anova_dict[373][\"k\"],anova_dict[373][\"amis\"],label=\"Anova-F Score\")\n",
    "plt.title(\"K vs Adjusted Mutual Information score for 350 features\")\n",
    "plt.legend()\n",
    "plt.savefig(\"amis350\")"
   ]
  },
  {
   "cell_type": "code",
   "execution_count": 138,
   "id": "russian-seeker",
   "metadata": {},
   "outputs": [
    {
     "data": {
      "image/png": "[encoded data removed]",
      "text/plain": [
       "<Figure size 432x288 with 1 Axes>"
      ]
     },
     "metadata": {
      "needs_background": "light"
     },
     "output_type": "display_data"
    }
   ],
   "source": [
    "plt.plot(pca_dict[530][\"k\"],pca_dict[530][\"amis\"],label=\"PCA\")\n",
    "plt.plot(kpca_dict[530][\"k\"],kpca_dict[530][\"amis\"],label=\"Kernel-PCA\")\n",
    "plt.plot(anova_dict[530][\"k\"],anova_dict[530][\"amis\"],label=\"Anova-F Score\")\n",
    "plt.title(\"K vs Adjusted Mutual Information score for 500 features\")\n",
    "plt.legend()\n",
    "plt.savefig(\"amis500\")"
   ]
  },
  {
   "cell_type": "code",
   "execution_count": 137,
   "id": "stock-fence",
   "metadata": {},
   "outputs": [
    {
     "data": {
      "image/png": "[encoded data removed]",
      "text/plain": [
       "<Figure size 432x288 with 1 Axes>"
      ]
     },
     "metadata": {
      "needs_background": "light"
     },
     "output_type": "display_data"
    }
   ],
   "source": [
    "plt.plot(pca_dict[530][\"k\"],pca_dict[530][\"sil\"],label=\"PCA\")\n",
    "plt.plot(kpca_dict[530][\"k\"],kpca_dict[530][\"sil\"],label=\"Kernel-PCA\")\n",
    "plt.plot(anova_dict[530][\"k\"],anova_dict[530][\"sil\"],label=\"Anova-F Score\")\n",
    "plt.title(\"K vs Silhouette score for 500 features\")\n",
    "plt.legend()\n",
    "plt.savefig(\"sil500\")"
   ]
  },
  {
   "cell_type": "code",
   "execution_count": 136,
   "id": "selected-venezuela",
   "metadata": {},
   "outputs": [
    {
     "data": {
      "image/png": "[encoded data removed]",
      "text/plain": [
       "<Figure size 432x288 with 1 Axes>"
      ]
     },
     "metadata": {
      "needs_background": "light"
     },
     "output_type": "display_data"
    }
   ],
   "source": [
    "plt.plot(pca_dict[262][\"k\"],pca_dict[262][\"sil\"],label=\"PCA\")\n",
    "plt.plot(kpca_dict[262][\"k\"],kpca_dict[262][\"sil\"],label=\"Kernel-PCA\")\n",
    "plt.plot(anova_dict[262][\"k\"],anova_dict[262][\"sil\"],label=\"Anova-F Score\")\n",
    "plt.title(\"K vs Silhouette score for 250 features\")\n",
    "plt.legend()\n",
    "plt.savefig(\"sil250\")"
   ]
  },
  {
   "cell_type": "code",
   "execution_count": null,
   "id": "environmental-student",
   "metadata": {},
   "outputs": [],
   "source": []
  }
 ],
 "metadata": {
  "kernelspec": {
   "display_name": "Python 3",
   "language": "python",
   "name": "python3"
  },
  "language_info": {
   "codemirror_mode": {
    "name": "ipython",
    "version": 3
   },
   "file_extension": ".py",
   "mimetype": "text/x-python",
   "name": "python",
   "nbconvert_exporter": "python",
   "pygments_lexer": "ipython3",
   "version": "3.6.3"
  }
 },
 "nbformat": 4,
 "nbformat_minor": 5
}
