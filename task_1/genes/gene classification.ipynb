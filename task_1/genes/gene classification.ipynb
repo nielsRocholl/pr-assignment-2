{
 "cells": [
  {
   "cell_type": "code",
   "execution_count": 3,
   "id": "76ba3916",
   "metadata": {},
   "outputs": [],
   "source": [
    "import numpy as np\n",
    "import pandas as pd\n",
    "import seaborn as sns\n",
    "import matplotlib.pyplot as plt\n",
    "from numpy.random import seed\n",
    "from numpy.random import randint"
   ]
  },
  {
   "cell_type": "markdown",
   "id": "f13daced",
   "metadata": {},
   "source": [
    "## Load Dataset"
   ]
  },
  {
   "cell_type": "code",
   "execution_count": 4,
   "id": "7a199dba",
   "metadata": {},
   "outputs": [],
   "source": [
    "data= pd.read_csv(\"data.csv\")\n",
    "new_data = data.iloc[: , 1:]\n",
    "labels = pd.read_csv(\"labels.csv\")\n",
    "new_label = labels.iloc[: , 1:]"
   ]
  },
  {
   "cell_type": "code",
   "execution_count": 5,
   "id": "b8218170",
   "metadata": {},
   "outputs": [],
   "source": [
    "X = new_data\n",
    "y = new_label.values.ravel()"
   ]
  },
  {
   "cell_type": "code",
   "execution_count": 275,
   "id": "576eafa7",
   "metadata": {},
   "outputs": [
    {
     "data": {
      "text/plain": [
       "(801, 20531)"
      ]
     },
     "execution_count": 275,
     "metadata": {},
     "output_type": "execute_result"
    }
   ],
   "source": [
    "X.shape"
   ]
  },
  {
   "cell_type": "code",
   "execution_count": 276,
   "id": "cb713ba7",
   "metadata": {},
   "outputs": [
    {
     "data": {
      "text/plain": [
       "(801,)"
      ]
     },
     "execution_count": 276,
     "metadata": {},
     "output_type": "execute_result"
    }
   ],
   "source": [
    "y.shape"
   ]
  },
  {
   "cell_type": "markdown",
   "id": "65a73d5b",
   "metadata": {},
   "source": [
    "## Feature Exraction - MutualInformation"
   ]
  },
  {
   "cell_type": "code",
   "execution_count": 6,
   "id": "bb0b6816",
   "metadata": {},
   "outputs": [],
   "source": [
    "from sklearn.feature_selection import mutual_info_classif as MIC"
   ]
  },
  {
   "cell_type": "code",
   "execution_count": 7,
   "id": "4c3436b9",
   "metadata": {},
   "outputs": [],
   "source": [
    "mi_score = MIC(X,y)"
   ]
  },
  {
   "cell_type": "code",
   "execution_count": 8,
   "id": "fc0b1624",
   "metadata": {},
   "outputs": [
    {
     "name": "stdout",
     "output_type": "stream",
     "text": [
      "MI_score Details\n",
      "mean :  0.17926091158937574\n",
      "average :  0.17926091158937574\n",
      "max_val :  0.9603974202960404\n",
      "min_val :  0.0\n"
     ]
    }
   ],
   "source": [
    "print(\"MI_score Details\")\n",
    "print(\"mean : \",np.mean(mi_score))\n",
    "print(\"average : \",np.average(mi_score))\n",
    "print(\"max_val : \",np.amax(mi_score))\n",
    "print(\"min_val : \",np.amin(mi_score))"
   ]
  },
  {
   "cell_type": "code",
   "execution_count": 9,
   "id": "a39a56f1",
   "metadata": {},
   "outputs": [
    {
     "data": {
      "text/plain": [
       "(474,)"
      ]
     },
     "execution_count": 9,
     "metadata": {},
     "output_type": "execute_result"
    }
   ],
   "source": [
    "reduced_features = np.where(mi_score > 0.5)[0]\n",
    "reduced_features.shape"
   ]
  },
  {
   "cell_type": "code",
   "execution_count": 10,
   "id": "e226e638",
   "metadata": {},
   "outputs": [
    {
     "data": {
      "text/plain": [
       "(801, 474)"
      ]
     },
     "execution_count": 10,
     "metadata": {},
     "output_type": "execute_result"
    }
   ],
   "source": [
    "X_MI = X.iloc[:,reduced_features]\n",
    "X_MI.shape"
   ]
  },
  {
   "cell_type": "markdown",
   "id": "ec581dac",
   "metadata": {},
   "source": [
    "## FEATURE EXTRACTION - PrincipalComponentAnalysis (PCA)"
   ]
  },
  {
   "cell_type": "code",
   "execution_count": 11,
   "id": "959273db",
   "metadata": {},
   "outputs": [],
   "source": [
    "from sklearn.preprocessing import StandardScaler\n",
    "from sklearn import decomposition\n",
    "from sklearn.model_selection import train_test_split as tts"
   ]
  },
  {
   "cell_type": "code",
   "execution_count": 12,
   "id": "6280e174",
   "metadata": {},
   "outputs": [
    {
     "data": {
      "text/plain": [
       "95.01"
      ]
     },
     "execution_count": 12,
     "metadata": {},
     "output_type": "execute_result"
    }
   ],
   "source": [
    "X_PCA = new_data\n",
    "sc = StandardScaler()\n",
    "X_PCA_std = sc.fit_transform(X_PCA)\n",
    "pca = decomposition.PCA(n_components=0.95) #95% variance\n",
    "X_PCA_applied = pca.fit_transform(X_PCA_std)\n",
    "round(sum(list(pca.explained_variance_ratio_))*100, 2)"
   ]
  },
  {
   "cell_type": "code",
   "execution_count": 13,
   "id": "b9393998",
   "metadata": {},
   "outputs": [
    {
     "data": {
      "text/plain": [
       "(801, 530)"
      ]
     },
     "execution_count": 13,
     "metadata": {},
     "output_type": "execute_result"
    }
   ],
   "source": [
    "X_PCA_applied.shape"
   ]
  },
  {
   "cell_type": "markdown",
   "id": "dfc50481",
   "metadata": {},
   "source": [
    "$\\;\\;\\;\\;$"
   ]
  },
  {
   "cell_type": "markdown",
   "id": "d8001327",
   "metadata": {},
   "source": [
    "$\\;\\;\\;\\;$"
   ]
  },
  {
   "cell_type": "code",
   "execution_count": 209,
   "id": "2e3d67b3",
   "metadata": {},
   "outputs": [],
   "source": [
    "# To suppress \"ignore\" warnings during tuning\n",
    "def warn(*args, **kwargs):\n",
    "    pass\n",
    "import warnings\n",
    "warnings.warn = warn\n"
   ]
  },
  {
   "cell_type": "markdown",
   "id": "64e1fb1d",
   "metadata": {},
   "source": [
    "$\\;\\;\\;\\;$"
   ]
  },
  {
   "cell_type": "markdown",
   "id": "ac227be4",
   "metadata": {},
   "source": [
    "$\\;\\;\\;\\;$"
   ]
  },
  {
   "cell_type": "markdown",
   "id": "0fece7b8",
   "metadata": {},
   "source": [
    "## DT MODEL(default)"
   ]
  },
  {
   "cell_type": "code",
   "execution_count": 16,
   "id": "0f8dfa44",
   "metadata": {},
   "outputs": [],
   "source": [
    "from sklearn.tree import DecisionTreeClassifier as DTC"
   ]
  },
  {
   "cell_type": "markdown",
   "id": "e8df16f1",
   "metadata": {},
   "source": [
    "##### DT MODEL - Fature Extraction : MutualInformation"
   ]
  },
  {
   "cell_type": "code",
   "execution_count": 17,
   "id": "e1a34037",
   "metadata": {},
   "outputs": [],
   "source": [
    "X_DTC_mi_train, X_DTC_mi_test, y_DTC_mi_train, y_DTC_mi_test = tts(X_MI,y,\n",
    "                                                                   test_size=0.20,\n",
    "                                                                   random_state=42,\n",
    "                                                                   stratify=y)\n",
    "                                    "
   ]
  },
  {
   "cell_type": "code",
   "execution_count": 18,
   "id": "37581aa0",
   "metadata": {},
   "outputs": [
    {
     "name": "stdout",
     "output_type": "stream",
     "text": [
      "0.9751552795031055\n"
     ]
    }
   ],
   "source": [
    "BaseModel_mi = DTC().fit(X_DTC_mi_train,y_DTC_mi_train)\n",
    "score = BaseModel_mi.score(X_DTC_mi_test,y_DTC_mi_test)\n",
    "print(score)"
   ]
  },
  {
   "cell_type": "markdown",
   "id": "0976ae0b",
   "metadata": {},
   "source": [
    "##### DT MODEL - Fature Extraction : PrincipalComponentAnalysis"
   ]
  },
  {
   "cell_type": "code",
   "execution_count": 19,
   "id": "7b82ed29",
   "metadata": {},
   "outputs": [],
   "source": [
    "X_DTC_pca_train, X_DTC_pca_test, y_DTC_pca_train, y_DTC_pca_test = tts(X_PCA_applied,y,\n",
    "                                                                   test_size=0.20,\n",
    "                                                                   random_state=42,\n",
    "                                                                   stratify=y)"
   ]
  },
  {
   "cell_type": "code",
   "execution_count": 20,
   "id": "947b45b4",
   "metadata": {},
   "outputs": [
    {
     "name": "stdout",
     "output_type": "stream",
     "text": [
      "0.8881987577639752\n"
     ]
    }
   ],
   "source": [
    "BaseModel_pca = DTC().fit(X_DTC_pca_train,y_DTC_pca_train)\n",
    "score = BaseModel_pca.score(X_DTC_pca_test,y_DTC_pca_test)\n",
    "print(score)"
   ]
  },
  {
   "cell_type": "markdown",
   "id": "c2339833",
   "metadata": {},
   "source": [
    "##### DT MODEL - Parameters : DTC_pca model"
   ]
  },
  {
   "cell_type": "code",
   "execution_count": 21,
   "id": "627f7a0d",
   "metadata": {},
   "outputs": [
    {
     "data": {
      "text/plain": [
       "{'ccp_alpha': 0.0,\n",
       " 'class_weight': None,\n",
       " 'criterion': 'gini',\n",
       " 'max_depth': None,\n",
       " 'max_features': None,\n",
       " 'max_leaf_nodes': None,\n",
       " 'min_impurity_decrease': 0.0,\n",
       " 'min_impurity_split': None,\n",
       " 'min_samples_leaf': 1,\n",
       " 'min_samples_split': 2,\n",
       " 'min_weight_fraction_leaf': 0.0,\n",
       " 'random_state': None,\n",
       " 'splitter': 'best'}"
      ]
     },
     "metadata": {},
     "output_type": "display_data"
    },
    {
     "name": "stdout",
     "output_type": "stream",
     "text": [
      "Number of leaves :  26\n",
      "Depth of DecisionTree :  10\n"
     ]
    }
   ],
   "source": [
    "display(BaseModel_pca.get_params())\n",
    "print(\"Number of leaves : \",BaseModel_pca.get_n_leaves())\n",
    "print(\"Depth of DecisionTree : \",BaseModel_pca.get_depth())"
   ]
  },
  {
   "cell_type": "markdown",
   "id": "707106b6",
   "metadata": {},
   "source": [
    "##### DT MODEL - Parameters : DTC_mi model"
   ]
  },
  {
   "cell_type": "code",
   "execution_count": 22,
   "id": "27fadd41",
   "metadata": {},
   "outputs": [
    {
     "data": {
      "text/plain": [
       "{'ccp_alpha': 0.0,\n",
       " 'class_weight': None,\n",
       " 'criterion': 'gini',\n",
       " 'max_depth': None,\n",
       " 'max_features': None,\n",
       " 'max_leaf_nodes': None,\n",
       " 'min_impurity_decrease': 0.0,\n",
       " 'min_impurity_split': None,\n",
       " 'min_samples_leaf': 1,\n",
       " 'min_samples_split': 2,\n",
       " 'min_weight_fraction_leaf': 0.0,\n",
       " 'random_state': None,\n",
       " 'splitter': 'best'}"
      ]
     },
     "metadata": {},
     "output_type": "display_data"
    },
    {
     "name": "stdout",
     "output_type": "stream",
     "text": [
      "Number of leaves :  9\n",
      "Depth of DecisionTree :  7\n"
     ]
    }
   ],
   "source": [
    "display(BaseModel_mi.get_params())\n",
    "print(\"Number of leaves : \",BaseModel_mi.get_n_leaves())\n",
    "print(\"Depth of DecisionTree : \",BaseModel_mi.get_depth())"
   ]
  },
  {
   "cell_type": "markdown",
   "id": "1efcd7dd",
   "metadata": {},
   "source": [
    "<b>FROM RUNNING COMPARISIONS BETWEEN \"PCA\" AND \"MI\" IT IS EVIDENT MI BASED FEATURE EXTRACTION IS BETER SUITED FOR THIS DATASET</b>"
   ]
  },
  {
   "cell_type": "markdown",
   "id": "443fdf3f",
   "metadata": {},
   "source": [
    "## TUNING DecisionTreeClassifier"
   ]
  },
  {
   "cell_type": "code",
   "execution_count": 23,
   "id": "f02cf630",
   "metadata": {},
   "outputs": [],
   "source": [
    "from sklearn.model_selection import GridSearchCV, RandomizedSearchCV"
   ]
  },
  {
   "cell_type": "markdown",
   "id": "72926e56",
   "metadata": {},
   "source": [
    "### PCA BASED (only for report/reference)"
   ]
  },
  {
   "cell_type": "markdown",
   "id": "dbe480ae",
   "metadata": {},
   "source": [
    "## Primary HyperParameter tuning - using RandomizedsearchCV"
   ]
  },
  {
   "cell_type": "code",
   "execution_count": 51,
   "id": "3efc52bf",
   "metadata": {},
   "outputs": [],
   "source": [
    "#Data\n",
    "model4R_train,model4R_test,y4R_train,y4R_test = tts(X_PCA_applied,y, \n",
    "                                    test_size=0.20,\n",
    "                                    random_state=42,\n",
    "                                    stratify=y)"
   ]
  },
  {
   "cell_type": "code",
   "execution_count": 52,
   "id": "401bd120",
   "metadata": {},
   "outputs": [],
   "source": [
    "#Seed for reproducibility\n",
    "seed(1)\n",
    "\n",
    "#Parameters - RandomizedSearchCV\n",
    "parameters4 = {\"criterion\":(\"gini\",\"entropy\"),\n",
    "              \"max_depth\":(randint(1,10),randint(1,10),randint(1,10),randint(1,10),None),\n",
    "              \"min_samples_leaf\":[int(x) for x in np.linspace(start = 1, stop = 50, num = 10)],\n",
    "              \"min_samples_split\":[int(x) for x in np.linspace(start = 2, stop = 50, num = 10)],\n",
    "              \"random_state\":(randint(1,10),randint(1,10),randint(1,10),randint(1,10),None),\n",
    "              \"max_leaf_nodes\":(randint(1,10),randint(11,30),randint(31,100),randint(101,200),None),\n",
    "              \"min_impurity_decrease\":[float(x) for x in np.linspace(start = 0.0, stop = 0.9, num = 20)],\n",
    "#               \"ccp_alpha\":[float(x) for x in np.linspace(start = 0.0, stop = 10.00, num = 30)],\n",
    "              \"splitter\":(\"best\",\"random\"),\n",
    "              \"max_features\":(\"auto\",\"sqrt\",\"log2\",None),\n",
    "              \"class_weight\":(\"balanced\",None)\n",
    "               }"
   ]
  },
  {
   "cell_type": "code",
   "execution_count": 65,
   "id": "151db076",
   "metadata": {},
   "outputs": [
    {
     "name": "stdout",
     "output_type": "stream",
     "text": [
      "Fitting 5 folds for each of 100 candidates, totalling 500 fits\n"
     ]
    },
    {
     "data": {
      "text/plain": [
       "RandomizedSearchCV(estimator=DecisionTreeClassifier(), n_iter=100, n_jobs=-1,\n",
       "                   param_distributions={'class_weight': ('balanced', None),\n",
       "                                        'criterion': ('gini', 'entropy'),\n",
       "                                        'max_depth': (6, 9, 6, 1, None),\n",
       "                                        'max_features': ('auto', 'sqrt', 'log2',\n",
       "                                                         None),\n",
       "                                        'max_leaf_nodes': (3, 16, 49, 185,\n",
       "                                                           None),\n",
       "                                        'min_impurity_decrease': [0.0,\n",
       "                                                                  0.04736842105263158,\n",
       "                                                                  0.09473684210526316,\n",
       "                                                                  0.1421052631578...\n",
       "                                                                  0.4736842105263158,\n",
       "                                                                  0.5210526315789474,\n",
       "                                                                  0.5684210526315789,\n",
       "                                                                  0.6157894736842106,\n",
       "                                                                  0.6631578947368422,\n",
       "                                                                  0.7105263157894737,\n",
       "                                                                  0.7578947368421053,\n",
       "                                                                  0.8052631578947369,\n",
       "                                                                  0.8526315789473684,\n",
       "                                                                  0.9],\n",
       "                                        'min_samples_leaf': [1, 6, 11, 17, 22,\n",
       "                                                             28, 33, 39, 44,\n",
       "                                                             50],\n",
       "                                        'min_samples_split': [2, 7, 12, 18, 23,\n",
       "                                                              28, 34, 39, 44,\n",
       "                                                              50],\n",
       "                                        'random_state': (1, 2, 8, 7, None),\n",
       "                                        'splitter': ('best', 'random')},\n",
       "                   random_state=2, verbose=10)"
      ]
     },
     "execution_count": 65,
     "metadata": {},
     "output_type": "execute_result"
    }
   ],
   "source": [
    "#RandomizedSearchCV\n",
    "dtc4R_cv = RandomizedSearchCV(estimator=DTC(),\n",
    "                             param_distributions=parameters4,\n",
    "                             n_jobs=-1,\n",
    "                             n_iter=100,\n",
    "                             random_state=2,\n",
    "                             verbose=10)\n",
    "dtc4R_cv.fit(model4R_train,y4R_train)"
   ]
  },
  {
   "cell_type": "code",
   "execution_count": 66,
   "id": "173ad20b",
   "metadata": {},
   "outputs": [
    {
     "name": "stdout",
     "output_type": "stream",
     "text": [
      "tuned hyperparameters RS_CV:  {'splitter': 'best', 'random_state': 7, 'min_samples_split': 18, 'min_samples_leaf': 6, 'min_impurity_decrease': 0.0, 'max_leaf_nodes': 185, 'max_features': None, 'max_depth': None, 'criterion': 'entropy', 'class_weight': None}\n",
      "tuned highest score RS_CV:  0.934375\n"
     ]
    }
   ],
   "source": [
    "#Best tune parameters\n",
    "print(\"tuned hyperparameters RS_CV: \",dtc4R_cv.best_params_)\n",
    "print(\"tuned highest score RS_CV: \",dtc4R_cv.best_score_)"
   ]
  },
  {
   "cell_type": "code",
   "execution_count": 382,
   "id": "fd387e9d",
   "metadata": {},
   "outputs": [
    {
     "data": {
      "text/html": [
       "<div>\n",
       "<style scoped>\n",
       "    .dataframe tbody tr th:only-of-type {\n",
       "        vertical-align: middle;\n",
       "    }\n",
       "\n",
       "    .dataframe tbody tr th {\n",
       "        vertical-align: top;\n",
       "    }\n",
       "\n",
       "    .dataframe thead th {\n",
       "        text-align: right;\n",
       "    }\n",
       "</style>\n",
       "<table border=\"1\" class=\"dataframe\">\n",
       "  <thead>\n",
       "    <tr style=\"text-align: right;\">\n",
       "      <th></th>\n",
       "      <th>param_splitter</th>\n",
       "      <th>param_random_state</th>\n",
       "      <th>param_min_samples_split</th>\n",
       "      <th>param_min_samples_leaf</th>\n",
       "      <th>param_min_impurity_decrease</th>\n",
       "      <th>param_max_leaf_nodes</th>\n",
       "      <th>param_max_features</th>\n",
       "      <th>param_max_depth</th>\n",
       "      <th>param_criterion</th>\n",
       "      <th>param_class_weight</th>\n",
       "      <th>mean_test_score</th>\n",
       "      <th>rank_test_score</th>\n",
       "    </tr>\n",
       "  </thead>\n",
       "  <tbody>\n",
       "    <tr>\n",
       "      <th>0</th>\n",
       "      <td>best</td>\n",
       "      <td>7</td>\n",
       "      <td>18</td>\n",
       "      <td>6</td>\n",
       "      <td>0.0</td>\n",
       "      <td>185</td>\n",
       "      <td>None</td>\n",
       "      <td>None</td>\n",
       "      <td>entropy</td>\n",
       "      <td>None</td>\n",
       "      <td>0.934375</td>\n",
       "      <td>1</td>\n",
       "    </tr>\n",
       "    <tr>\n",
       "      <th>1</th>\n",
       "      <td>random</td>\n",
       "      <td>7</td>\n",
       "      <td>18</td>\n",
       "      <td>1</td>\n",
       "      <td>0.0</td>\n",
       "      <td>185</td>\n",
       "      <td>None</td>\n",
       "      <td>6</td>\n",
       "      <td>entropy</td>\n",
       "      <td>balanced</td>\n",
       "      <td>0.915625</td>\n",
       "      <td>2</td>\n",
       "    </tr>\n",
       "    <tr>\n",
       "      <th>2</th>\n",
       "      <td>best</td>\n",
       "      <td>7</td>\n",
       "      <td>44</td>\n",
       "      <td>17</td>\n",
       "      <td>0.142105</td>\n",
       "      <td>49</td>\n",
       "      <td>None</td>\n",
       "      <td>6</td>\n",
       "      <td>entropy</td>\n",
       "      <td>None</td>\n",
       "      <td>0.915625</td>\n",
       "      <td>2</td>\n",
       "    </tr>\n",
       "    <tr>\n",
       "      <th>3</th>\n",
       "      <td>best</td>\n",
       "      <td>8</td>\n",
       "      <td>12</td>\n",
       "      <td>50</td>\n",
       "      <td>0.236842</td>\n",
       "      <td>None</td>\n",
       "      <td>None</td>\n",
       "      <td>None</td>\n",
       "      <td>entropy</td>\n",
       "      <td>None</td>\n",
       "      <td>0.912500</td>\n",
       "      <td>4</td>\n",
       "    </tr>\n",
       "    <tr>\n",
       "      <th>4</th>\n",
       "      <td>best</td>\n",
       "      <td>1</td>\n",
       "      <td>18</td>\n",
       "      <td>44</td>\n",
       "      <td>0.142105</td>\n",
       "      <td>16</td>\n",
       "      <td>None</td>\n",
       "      <td>None</td>\n",
       "      <td>gini</td>\n",
       "      <td>balanced</td>\n",
       "      <td>0.745313</td>\n",
       "      <td>5</td>\n",
       "    </tr>\n",
       "    <tr>\n",
       "      <th>...</th>\n",
       "      <td>...</td>\n",
       "      <td>...</td>\n",
       "      <td>...</td>\n",
       "      <td>...</td>\n",
       "      <td>...</td>\n",
       "      <td>...</td>\n",
       "      <td>...</td>\n",
       "      <td>...</td>\n",
       "      <td>...</td>\n",
       "      <td>...</td>\n",
       "      <td>...</td>\n",
       "      <td>...</td>\n",
       "    </tr>\n",
       "    <tr>\n",
       "      <th>95</th>\n",
       "      <td>best</td>\n",
       "      <td>7</td>\n",
       "      <td>34</td>\n",
       "      <td>33</td>\n",
       "      <td>0.568421</td>\n",
       "      <td>49</td>\n",
       "      <td>log2</td>\n",
       "      <td>9</td>\n",
       "      <td>entropy</td>\n",
       "      <td>balanced</td>\n",
       "      <td>0.110937</td>\n",
       "      <td>58</td>\n",
       "    </tr>\n",
       "    <tr>\n",
       "      <th>96</th>\n",
       "      <td>random</td>\n",
       "      <td>7</td>\n",
       "      <td>7</td>\n",
       "      <td>11</td>\n",
       "      <td>0.852632</td>\n",
       "      <td>185</td>\n",
       "      <td>log2</td>\n",
       "      <td>1</td>\n",
       "      <td>gini</td>\n",
       "      <td>balanced</td>\n",
       "      <td>0.110937</td>\n",
       "      <td>58</td>\n",
       "    </tr>\n",
       "    <tr>\n",
       "      <th>97</th>\n",
       "      <td>random</td>\n",
       "      <td>None</td>\n",
       "      <td>12</td>\n",
       "      <td>39</td>\n",
       "      <td>0.568421</td>\n",
       "      <td>3</td>\n",
       "      <td>auto</td>\n",
       "      <td>6</td>\n",
       "      <td>gini</td>\n",
       "      <td>balanced</td>\n",
       "      <td>0.110937</td>\n",
       "      <td>58</td>\n",
       "    </tr>\n",
       "    <tr>\n",
       "      <th>98</th>\n",
       "      <td>random</td>\n",
       "      <td>2</td>\n",
       "      <td>12</td>\n",
       "      <td>33</td>\n",
       "      <td>0.521053</td>\n",
       "      <td>16</td>\n",
       "      <td>sqrt</td>\n",
       "      <td>6</td>\n",
       "      <td>gini</td>\n",
       "      <td>balanced</td>\n",
       "      <td>0.110937</td>\n",
       "      <td>58</td>\n",
       "    </tr>\n",
       "    <tr>\n",
       "      <th>99</th>\n",
       "      <td>best</td>\n",
       "      <td>7</td>\n",
       "      <td>28</td>\n",
       "      <td>1</td>\n",
       "      <td>0.568421</td>\n",
       "      <td>185</td>\n",
       "      <td>auto</td>\n",
       "      <td>6</td>\n",
       "      <td>entropy</td>\n",
       "      <td>balanced</td>\n",
       "      <td>0.110937</td>\n",
       "      <td>58</td>\n",
       "    </tr>\n",
       "  </tbody>\n",
       "</table>\n",
       "<p>100 rows × 12 columns</p>\n",
       "</div>"
      ],
      "text/plain": [
       "   param_splitter param_random_state param_min_samples_split  \\\n",
       "0            best                  7                      18   \n",
       "1          random                  7                      18   \n",
       "2            best                  7                      44   \n",
       "3            best                  8                      12   \n",
       "4            best                  1                      18   \n",
       "..            ...                ...                     ...   \n",
       "95           best                  7                      34   \n",
       "96         random                  7                       7   \n",
       "97         random               None                      12   \n",
       "98         random                  2                      12   \n",
       "99           best                  7                      28   \n",
       "\n",
       "   param_min_samples_leaf param_min_impurity_decrease param_max_leaf_nodes  \\\n",
       "0                       6                         0.0                  185   \n",
       "1                       1                         0.0                  185   \n",
       "2                      17                    0.142105                   49   \n",
       "3                      50                    0.236842                 None   \n",
       "4                      44                    0.142105                   16   \n",
       "..                    ...                         ...                  ...   \n",
       "95                     33                    0.568421                   49   \n",
       "96                     11                    0.852632                  185   \n",
       "97                     39                    0.568421                    3   \n",
       "98                     33                    0.521053                   16   \n",
       "99                      1                    0.568421                  185   \n",
       "\n",
       "   param_max_features param_max_depth param_criterion param_class_weight  \\\n",
       "0                None            None         entropy               None   \n",
       "1                None               6         entropy           balanced   \n",
       "2                None               6         entropy               None   \n",
       "3                None            None         entropy               None   \n",
       "4                None            None            gini           balanced   \n",
       "..                ...             ...             ...                ...   \n",
       "95               log2               9         entropy           balanced   \n",
       "96               log2               1            gini           balanced   \n",
       "97               auto               6            gini           balanced   \n",
       "98               sqrt               6            gini           balanced   \n",
       "99               auto               6         entropy           balanced   \n",
       "\n",
       "    mean_test_score  rank_test_score  \n",
       "0          0.934375                1  \n",
       "1          0.915625                2  \n",
       "2          0.915625                2  \n",
       "3          0.912500                4  \n",
       "4          0.745313                5  \n",
       "..              ...              ...  \n",
       "95         0.110937               58  \n",
       "96         0.110937               58  \n",
       "97         0.110937               58  \n",
       "98         0.110937               58  \n",
       "99         0.110937               58  \n",
       "\n",
       "[100 rows x 12 columns]"
      ]
     },
     "execution_count": 382,
     "metadata": {},
     "output_type": "execute_result"
    }
   ],
   "source": [
    "#Results\n",
    "results_RS = pd.DataFrame(dtc4R_cv.cv_results_).sort_values('rank_test_score').reset_index(drop=True)\n",
    "results_RS = results_RS.drop([\n",
    "           'mean_fit_time', \n",
    "           'std_fit_time', \n",
    "           'mean_score_time',\n",
    "           'std_score_time', \n",
    "           'params', \n",
    "           'split0_test_score', \n",
    "           'split1_test_score', \n",
    "           'split2_test_score', \n",
    "           'split3_test_score',\n",
    "           'split4_test_score',\n",
    "           'std_test_score'\n",
    "           ],\n",
    "           axis=1)\n",
    "results_RS"
   ]
  },
  {
   "cell_type": "code",
   "execution_count": 69,
   "id": "7b8be575",
   "metadata": {},
   "outputs": [
    {
     "data": {
      "text/html": [
       "<div>\n",
       "<style scoped>\n",
       "    .dataframe tbody tr th:only-of-type {\n",
       "        vertical-align: middle;\n",
       "    }\n",
       "\n",
       "    .dataframe tbody tr th {\n",
       "        vertical-align: top;\n",
       "    }\n",
       "\n",
       "    .dataframe thead th {\n",
       "        text-align: right;\n",
       "    }\n",
       "</style>\n",
       "<table border=\"1\" class=\"dataframe\">\n",
       "  <thead>\n",
       "    <tr style=\"text-align: right;\">\n",
       "      <th></th>\n",
       "      <th>param_splitter</th>\n",
       "      <th>param_random_state</th>\n",
       "      <th>param_min_samples_split</th>\n",
       "      <th>param_min_samples_leaf</th>\n",
       "      <th>param_min_impurity_decrease</th>\n",
       "      <th>param_max_leaf_nodes</th>\n",
       "      <th>param_max_features</th>\n",
       "      <th>param_max_depth</th>\n",
       "      <th>param_criterion</th>\n",
       "      <th>param_class_weight</th>\n",
       "      <th>mean_test_score</th>\n",
       "      <th>rank_test_score</th>\n",
       "    </tr>\n",
       "  </thead>\n",
       "  <tbody>\n",
       "    <tr>\n",
       "      <th>0</th>\n",
       "      <td>best</td>\n",
       "      <td>7</td>\n",
       "      <td>18</td>\n",
       "      <td>6</td>\n",
       "      <td>0.0</td>\n",
       "      <td>185</td>\n",
       "      <td>None</td>\n",
       "      <td>None</td>\n",
       "      <td>entropy</td>\n",
       "      <td>None</td>\n",
       "      <td>0.934375</td>\n",
       "      <td>1</td>\n",
       "    </tr>\n",
       "    <tr>\n",
       "      <th>1</th>\n",
       "      <td>random</td>\n",
       "      <td>7</td>\n",
       "      <td>18</td>\n",
       "      <td>1</td>\n",
       "      <td>0.0</td>\n",
       "      <td>185</td>\n",
       "      <td>None</td>\n",
       "      <td>6</td>\n",
       "      <td>entropy</td>\n",
       "      <td>balanced</td>\n",
       "      <td>0.915625</td>\n",
       "      <td>2</td>\n",
       "    </tr>\n",
       "    <tr>\n",
       "      <th>2</th>\n",
       "      <td>best</td>\n",
       "      <td>7</td>\n",
       "      <td>44</td>\n",
       "      <td>17</td>\n",
       "      <td>0.142105</td>\n",
       "      <td>49</td>\n",
       "      <td>None</td>\n",
       "      <td>6</td>\n",
       "      <td>entropy</td>\n",
       "      <td>None</td>\n",
       "      <td>0.915625</td>\n",
       "      <td>2</td>\n",
       "    </tr>\n",
       "    <tr>\n",
       "      <th>3</th>\n",
       "      <td>best</td>\n",
       "      <td>8</td>\n",
       "      <td>12</td>\n",
       "      <td>50</td>\n",
       "      <td>0.236842</td>\n",
       "      <td>None</td>\n",
       "      <td>None</td>\n",
       "      <td>None</td>\n",
       "      <td>entropy</td>\n",
       "      <td>None</td>\n",
       "      <td>0.912500</td>\n",
       "      <td>4</td>\n",
       "    </tr>\n",
       "    <tr>\n",
       "      <th>4</th>\n",
       "      <td>best</td>\n",
       "      <td>1</td>\n",
       "      <td>18</td>\n",
       "      <td>44</td>\n",
       "      <td>0.142105</td>\n",
       "      <td>16</td>\n",
       "      <td>None</td>\n",
       "      <td>None</td>\n",
       "      <td>gini</td>\n",
       "      <td>balanced</td>\n",
       "      <td>0.745313</td>\n",
       "      <td>5</td>\n",
       "    </tr>\n",
       "    <tr>\n",
       "      <th>5</th>\n",
       "      <td>best</td>\n",
       "      <td>None</td>\n",
       "      <td>18</td>\n",
       "      <td>39</td>\n",
       "      <td>0.142105</td>\n",
       "      <td>185</td>\n",
       "      <td>None</td>\n",
       "      <td>6</td>\n",
       "      <td>gini</td>\n",
       "      <td>None</td>\n",
       "      <td>0.737500</td>\n",
       "      <td>6</td>\n",
       "    </tr>\n",
       "    <tr>\n",
       "      <th>6</th>\n",
       "      <td>random</td>\n",
       "      <td>2</td>\n",
       "      <td>28</td>\n",
       "      <td>50</td>\n",
       "      <td>0.094737</td>\n",
       "      <td>None</td>\n",
       "      <td>None</td>\n",
       "      <td>9</td>\n",
       "      <td>entropy</td>\n",
       "      <td>balanced</td>\n",
       "      <td>0.653125</td>\n",
       "      <td>7</td>\n",
       "    </tr>\n",
       "    <tr>\n",
       "      <th>7</th>\n",
       "      <td>best</td>\n",
       "      <td>1</td>\n",
       "      <td>34</td>\n",
       "      <td>6</td>\n",
       "      <td>0.426316</td>\n",
       "      <td>185</td>\n",
       "      <td>None</td>\n",
       "      <td>6</td>\n",
       "      <td>entropy</td>\n",
       "      <td>balanced</td>\n",
       "      <td>0.590625</td>\n",
       "      <td>8</td>\n",
       "    </tr>\n",
       "    <tr>\n",
       "      <th>8</th>\n",
       "      <td>best</td>\n",
       "      <td>1</td>\n",
       "      <td>7</td>\n",
       "      <td>33</td>\n",
       "      <td>0.521053</td>\n",
       "      <td>16</td>\n",
       "      <td>None</td>\n",
       "      <td>6</td>\n",
       "      <td>entropy</td>\n",
       "      <td>None</td>\n",
       "      <td>0.535937</td>\n",
       "      <td>9</td>\n",
       "    </tr>\n",
       "    <tr>\n",
       "      <th>9</th>\n",
       "      <td>best</td>\n",
       "      <td>1</td>\n",
       "      <td>50</td>\n",
       "      <td>33</td>\n",
       "      <td>0.047368</td>\n",
       "      <td>3</td>\n",
       "      <td>auto</td>\n",
       "      <td>None</td>\n",
       "      <td>entropy</td>\n",
       "      <td>None</td>\n",
       "      <td>0.535937</td>\n",
       "      <td>9</td>\n",
       "    </tr>\n",
       "  </tbody>\n",
       "</table>\n",
       "</div>"
      ],
      "text/plain": [
       "  param_splitter param_random_state param_min_samples_split  \\\n",
       "0           best                  7                      18   \n",
       "1         random                  7                      18   \n",
       "2           best                  7                      44   \n",
       "3           best                  8                      12   \n",
       "4           best                  1                      18   \n",
       "5           best               None                      18   \n",
       "6         random                  2                      28   \n",
       "7           best                  1                      34   \n",
       "8           best                  1                       7   \n",
       "9           best                  1                      50   \n",
       "\n",
       "  param_min_samples_leaf param_min_impurity_decrease param_max_leaf_nodes  \\\n",
       "0                      6                         0.0                  185   \n",
       "1                      1                         0.0                  185   \n",
       "2                     17                    0.142105                   49   \n",
       "3                     50                    0.236842                 None   \n",
       "4                     44                    0.142105                   16   \n",
       "5                     39                    0.142105                  185   \n",
       "6                     50                    0.094737                 None   \n",
       "7                      6                    0.426316                  185   \n",
       "8                     33                    0.521053                   16   \n",
       "9                     33                    0.047368                    3   \n",
       "\n",
       "  param_max_features param_max_depth param_criterion param_class_weight  \\\n",
       "0               None            None         entropy               None   \n",
       "1               None               6         entropy           balanced   \n",
       "2               None               6         entropy               None   \n",
       "3               None            None         entropy               None   \n",
       "4               None            None            gini           balanced   \n",
       "5               None               6            gini               None   \n",
       "6               None               9         entropy           balanced   \n",
       "7               None               6         entropy           balanced   \n",
       "8               None               6         entropy               None   \n",
       "9               auto            None         entropy               None   \n",
       "\n",
       "   mean_test_score  rank_test_score  \n",
       "0         0.934375                1  \n",
       "1         0.915625                2  \n",
       "2         0.915625                2  \n",
       "3         0.912500                4  \n",
       "4         0.745313                5  \n",
       "5         0.737500                6  \n",
       "6         0.653125                7  \n",
       "7         0.590625                8  \n",
       "8         0.535937                9  \n",
       "9         0.535937                9  "
      ]
     },
     "execution_count": 69,
     "metadata": {},
     "output_type": "execute_result"
    }
   ],
   "source": [
    "results_RS.head(10)"
   ]
  },
  {
   "cell_type": "markdown",
   "id": "fef239a4",
   "metadata": {},
   "source": [
    "## Secondary HyperParameter tuning - using GridSearchCV\n",
    "Obeservatios from the top 10 fields in Results of RandomizedSearchCV is used to analyze parameter range for GridSearchCV"
   ]
  },
  {
   "cell_type": "code",
   "execution_count": 70,
   "id": "b5df8476",
   "metadata": {},
   "outputs": [],
   "source": [
    "#Data\n",
    "X_val_train,X_val_test,y_val_train,y_val_test = tts(X_PCA_applied,y, \n",
    "                                    test_size=0.20,\n",
    "                                    random_state=42,\n",
    "                                    stratify=y)"
   ]
  },
  {
   "cell_type": "code",
   "execution_count": 71,
   "id": "ab0b735b",
   "metadata": {},
   "outputs": [],
   "source": [
    "#Parameters - GridSearchCV\n",
    "param_grid = { \"splitter\": (\"random\",\"best\"),\n",
    "               \"random_state\": (1,7,8,None),\n",
    "               \"min_samples_split\": (10,30,40,50),\n",
    "               \"min_samples_leaf\": (1,10,20,50),\n",
    "               \"min_impurity_decrease\": (0.0,0.10,0.20,0.40),\n",
    "               \"max_leaf_nodes\": (10,50,100,200,None),\n",
    "               \"max_features\": (\"auto\",None),\n",
    "               \"max_depth\": (2,4,6,8,10,None),\n",
    "               \"criterion\": (\"gini\",\"entropy\"),\n",
    "               \"class_weight\": (\"balanced\",None),\n",
    "             }"
   ]
  },
  {
   "cell_type": "code",
   "execution_count": 74,
   "id": "325fd1cb",
   "metadata": {},
   "outputs": [],
   "source": [
    "modelGS = GridSearchCV(DTC(), param_grid, cv=3, verbose = 10, n_jobs=-1)"
   ]
  },
  {
   "cell_type": "code",
   "execution_count": 75,
   "id": "1ef6c11a",
   "metadata": {},
   "outputs": [
    {
     "name": "stdout",
     "output_type": "stream",
     "text": [
      "Fitting 3 folds for each of 122880 candidates, totalling 368640 fits\n"
     ]
    },
    {
     "data": {
      "text/plain": [
       "GridSearchCV(cv=3, estimator=DecisionTreeClassifier(), n_jobs=-1,\n",
       "             param_grid={'class_weight': ('balanced', None),\n",
       "                         'criterion': ('gini', 'entropy'),\n",
       "                         'max_depth': (2, 4, 6, 8, 10, None),\n",
       "                         'max_features': ('auto', None),\n",
       "                         'max_leaf_nodes': (10, 50, 100, 200, None),\n",
       "                         'min_impurity_decrease': (0.0, 0.1, 0.2, 0.4),\n",
       "                         'min_samples_leaf': (1, 10, 20, 50),\n",
       "                         'min_samples_split': (10, 30, 40, 50),\n",
       "                         'random_state': (1, 7, 8, None),\n",
       "                         'splitter': ('random', 'best')},\n",
       "             verbose=10)"
      ]
     },
     "execution_count": 75,
     "metadata": {},
     "output_type": "execute_result"
    }
   ],
   "source": [
    "modelGS.fit(X_val_train, y_val_train)"
   ]
  },
  {
   "cell_type": "code",
   "execution_count": 76,
   "id": "f8a7d76d",
   "metadata": {},
   "outputs": [
    {
     "name": "stdout",
     "output_type": "stream",
     "text": [
      "tuned hyperparameters GS_CV:  {'class_weight': None, 'criterion': 'entropy', 'max_depth': 6, 'max_features': None, 'max_leaf_nodes': 100, 'min_impurity_decrease': 0.0, 'min_samples_leaf': 1, 'min_samples_split': 30, 'random_state': None, 'splitter': 'best'}\n",
      "tuned highest score GS_CV:  0.9421701548857006\n"
     ]
    }
   ],
   "source": [
    "#Best tuned parameters\n",
    "print(\"tuned hyperparameters GS_CV: \",modelGS.best_params_)\n",
    "print(\"tuned highest score GS_CV: \",modelGS.best_score_)"
   ]
  },
  {
   "cell_type": "code",
   "execution_count": 77,
   "id": "e5f5b46b",
   "metadata": {},
   "outputs": [
    {
     "data": {
      "text/html": [
       "<div>\n",
       "<style scoped>\n",
       "    .dataframe tbody tr th:only-of-type {\n",
       "        vertical-align: middle;\n",
       "    }\n",
       "\n",
       "    .dataframe tbody tr th {\n",
       "        vertical-align: top;\n",
       "    }\n",
       "\n",
       "    .dataframe thead th {\n",
       "        text-align: right;\n",
       "    }\n",
       "</style>\n",
       "<table border=\"1\" class=\"dataframe\">\n",
       "  <thead>\n",
       "    <tr style=\"text-align: right;\">\n",
       "      <th></th>\n",
       "      <th>param_class_weight</th>\n",
       "      <th>param_criterion</th>\n",
       "      <th>param_max_depth</th>\n",
       "      <th>param_max_features</th>\n",
       "      <th>param_max_leaf_nodes</th>\n",
       "      <th>param_min_impurity_decrease</th>\n",
       "      <th>param_min_samples_leaf</th>\n",
       "      <th>param_min_samples_split</th>\n",
       "      <th>param_random_state</th>\n",
       "      <th>param_splitter</th>\n",
       "      <th>mean_test_score</th>\n",
       "      <th>rank_test_score</th>\n",
       "    </tr>\n",
       "  </thead>\n",
       "  <tbody>\n",
       "    <tr>\n",
       "      <th>0</th>\n",
       "      <td>None</td>\n",
       "      <td>entropy</td>\n",
       "      <td>6</td>\n",
       "      <td>None</td>\n",
       "      <td>100</td>\n",
       "      <td>0.0</td>\n",
       "      <td>1</td>\n",
       "      <td>30</td>\n",
       "      <td>None</td>\n",
       "      <td>best</td>\n",
       "      <td>0.942170</td>\n",
       "      <td>1</td>\n",
       "    </tr>\n",
       "    <tr>\n",
       "      <th>1</th>\n",
       "      <td>None</td>\n",
       "      <td>entropy</td>\n",
       "      <td>6</td>\n",
       "      <td>None</td>\n",
       "      <td>10</td>\n",
       "      <td>0.0</td>\n",
       "      <td>1</td>\n",
       "      <td>10</td>\n",
       "      <td>1</td>\n",
       "      <td>best</td>\n",
       "      <td>0.940605</td>\n",
       "      <td>2</td>\n",
       "    </tr>\n",
       "    <tr>\n",
       "      <th>2</th>\n",
       "      <td>None</td>\n",
       "      <td>entropy</td>\n",
       "      <td>None</td>\n",
       "      <td>None</td>\n",
       "      <td>50</td>\n",
       "      <td>0.0</td>\n",
       "      <td>1</td>\n",
       "      <td>50</td>\n",
       "      <td>None</td>\n",
       "      <td>best</td>\n",
       "      <td>0.939048</td>\n",
       "      <td>3</td>\n",
       "    </tr>\n",
       "    <tr>\n",
       "      <th>3</th>\n",
       "      <td>None</td>\n",
       "      <td>entropy</td>\n",
       "      <td>10</td>\n",
       "      <td>None</td>\n",
       "      <td>10</td>\n",
       "      <td>0.0</td>\n",
       "      <td>1</td>\n",
       "      <td>10</td>\n",
       "      <td>1</td>\n",
       "      <td>best</td>\n",
       "      <td>0.939040</td>\n",
       "      <td>4</td>\n",
       "    </tr>\n",
       "    <tr>\n",
       "      <th>4</th>\n",
       "      <td>None</td>\n",
       "      <td>entropy</td>\n",
       "      <td>8</td>\n",
       "      <td>None</td>\n",
       "      <td>10</td>\n",
       "      <td>0.0</td>\n",
       "      <td>1</td>\n",
       "      <td>10</td>\n",
       "      <td>None</td>\n",
       "      <td>best</td>\n",
       "      <td>0.939040</td>\n",
       "      <td>4</td>\n",
       "    </tr>\n",
       "  </tbody>\n",
       "</table>\n",
       "</div>"
      ],
      "text/plain": [
       "  param_class_weight param_criterion param_max_depth param_max_features  \\\n",
       "0               None         entropy               6               None   \n",
       "1               None         entropy               6               None   \n",
       "2               None         entropy            None               None   \n",
       "3               None         entropy              10               None   \n",
       "4               None         entropy               8               None   \n",
       "\n",
       "  param_max_leaf_nodes param_min_impurity_decrease param_min_samples_leaf  \\\n",
       "0                  100                         0.0                      1   \n",
       "1                   10                         0.0                      1   \n",
       "2                   50                         0.0                      1   \n",
       "3                   10                         0.0                      1   \n",
       "4                   10                         0.0                      1   \n",
       "\n",
       "  param_min_samples_split param_random_state param_splitter  mean_test_score  \\\n",
       "0                      30               None           best         0.942170   \n",
       "1                      10                  1           best         0.940605   \n",
       "2                      50               None           best         0.939048   \n",
       "3                      10                  1           best         0.939040   \n",
       "4                      10               None           best         0.939040   \n",
       "\n",
       "   rank_test_score  \n",
       "0                1  \n",
       "1                2  \n",
       "2                3  \n",
       "3                4  \n",
       "4                4  "
      ]
     },
     "execution_count": 77,
     "metadata": {},
     "output_type": "execute_result"
    }
   ],
   "source": [
    "#Results\n",
    "results_GS = pd.DataFrame(modelGS.cv_results_).sort_values('rank_test_score').reset_index(drop=True)\n",
    "results_GS = results_GS.drop([\n",
    "           'mean_fit_time', \n",
    "           'std_fit_time', \n",
    "           'mean_score_time',\n",
    "           'std_score_time', \n",
    "           'params', \n",
    "           'split0_test_score', \n",
    "           'split1_test_score', \n",
    "           'split2_test_score', \n",
    "#            'split3_test_score',\n",
    "#            'split4_test_score',\n",
    "           'std_test_score'\n",
    "           ],\n",
    "           axis=1)\n",
    "results_GS.head(5)"
   ]
  },
  {
   "cell_type": "code",
   "execution_count": 81,
   "id": "ba3c7fe4",
   "metadata": {},
   "outputs": [
    {
     "name": "stdout",
     "output_type": "stream",
     "text": [
      "Tuned Best Test Result:  0.8757763975155279\n"
     ]
    }
   ],
   "source": [
    "BestModelDTC = DTC(min_samples_split=30,\n",
    "                   min_samples_leaf=1,\n",
    "                   max_features=None,\n",
    "                   max_leaf_nodes=100,\n",
    "                   min_impurity_decrease=0.0,\n",
    "                   random_state=None,\n",
    "                   splitter=\"best\",\n",
    "                   max_depth=6,\n",
    "                   criterion=\"entropy\",\n",
    "                   class_weight=None\n",
    "                  )\n",
    "BestModelDTC.fit(X_val_train,y_val_train)\n",
    "print(\"Tuned Best Test Result: \",\n",
    "     BestModelDTC.score(X_val_test,y_val_test))"
   ]
  },
  {
   "cell_type": "code",
   "execution_count": 82,
   "id": "b6c4b8a8",
   "metadata": {},
   "outputs": [
    {
     "data": {
      "text/plain": [
       "{'ccp_alpha': 0.0,\n",
       " 'class_weight': None,\n",
       " 'criterion': 'entropy',\n",
       " 'max_depth': 6,\n",
       " 'max_features': None,\n",
       " 'max_leaf_nodes': 100,\n",
       " 'min_impurity_decrease': 0.0,\n",
       " 'min_impurity_split': None,\n",
       " 'min_samples_leaf': 1,\n",
       " 'min_samples_split': 30,\n",
       " 'min_weight_fraction_leaf': 0.0,\n",
       " 'random_state': None,\n",
       " 'splitter': 'best'}"
      ]
     },
     "execution_count": 82,
     "metadata": {},
     "output_type": "execute_result"
    }
   ],
   "source": [
    "BestModelDTC.get_params()"
   ]
  },
  {
   "cell_type": "markdown",
   "id": "98ec0a76",
   "metadata": {},
   "source": [
    "## EVALUATION (DTC model_pca (only for report/reference))"
   ]
  },
  {
   "cell_type": "code",
   "execution_count": 168,
   "id": "d4422594",
   "metadata": {},
   "outputs": [],
   "source": [
    "from sklearn.metrics import confusion_matrix, f1_score"
   ]
  },
  {
   "cell_type": "code",
   "execution_count": 84,
   "id": "b35048bd",
   "metadata": {},
   "outputs": [],
   "source": [
    "#Evaluating Predictions\n",
    "Eval_predict = BestModelDTC.predict(X_val_test)"
   ]
  },
  {
   "cell_type": "code",
   "execution_count": 85,
   "id": "a2dbedbb",
   "metadata": {},
   "outputs": [
    {
     "data": {
      "text/plain": [
       "Class\n",
       "BRCA     300\n",
       "KIRC     146\n",
       "LUAD     141\n",
       "PRAD     136\n",
       "COAD      78\n",
       "dtype: int64"
      ]
     },
     "execution_count": 85,
     "metadata": {},
     "output_type": "execute_result"
    }
   ],
   "source": [
    "new_label.value_counts()"
   ]
  },
  {
   "cell_type": "code",
   "execution_count": 177,
   "id": "1c8a093f",
   "metadata": {},
   "outputs": [],
   "source": [
    "#Confusion matrix - visual representation of Predictions\n",
    "cnf_matrix = pd.DataFrame(confusion_matrix(y_val_test, Eval_predict), \n",
    "                                     index = ['BRCA', 'KIRC', 'LUAD', 'PRAD', 'COAD'], \n",
    "                                     columns = ['BRCA', 'KIRC', 'LUAD', 'PRAD', 'COAD'])"
   ]
  },
  {
   "cell_type": "code",
   "execution_count": 178,
   "id": "cabfc9d2",
   "metadata": {},
   "outputs": [
    {
     "data": {
      "text/html": [
       "<div>\n",
       "<style scoped>\n",
       "    .dataframe tbody tr th:only-of-type {\n",
       "        vertical-align: middle;\n",
       "    }\n",
       "\n",
       "    .dataframe tbody tr th {\n",
       "        vertical-align: top;\n",
       "    }\n",
       "\n",
       "    .dataframe thead th {\n",
       "        text-align: right;\n",
       "    }\n",
       "</style>\n",
       "<table border=\"1\" class=\"dataframe\">\n",
       "  <thead>\n",
       "    <tr style=\"text-align: right;\">\n",
       "      <th></th>\n",
       "      <th>BRCA</th>\n",
       "      <th>KIRC</th>\n",
       "      <th>LUAD</th>\n",
       "      <th>PRAD</th>\n",
       "      <th>COAD</th>\n",
       "    </tr>\n",
       "  </thead>\n",
       "  <tbody>\n",
       "    <tr>\n",
       "      <th>BRCA</th>\n",
       "      <td>58</td>\n",
       "      <td>0</td>\n",
       "      <td>2</td>\n",
       "      <td>0</td>\n",
       "      <td>0</td>\n",
       "    </tr>\n",
       "    <tr>\n",
       "      <th>KIRC</th>\n",
       "      <td>0</td>\n",
       "      <td>15</td>\n",
       "      <td>0</td>\n",
       "      <td>1</td>\n",
       "      <td>0</td>\n",
       "    </tr>\n",
       "    <tr>\n",
       "      <th>LUAD</th>\n",
       "      <td>0</td>\n",
       "      <td>0</td>\n",
       "      <td>30</td>\n",
       "      <td>0</td>\n",
       "      <td>0</td>\n",
       "    </tr>\n",
       "    <tr>\n",
       "      <th>PRAD</th>\n",
       "      <td>1</td>\n",
       "      <td>0</td>\n",
       "      <td>0</td>\n",
       "      <td>27</td>\n",
       "      <td>0</td>\n",
       "    </tr>\n",
       "    <tr>\n",
       "      <th>COAD</th>\n",
       "      <td>1</td>\n",
       "      <td>0</td>\n",
       "      <td>0</td>\n",
       "      <td>0</td>\n",
       "      <td>26</td>\n",
       "    </tr>\n",
       "  </tbody>\n",
       "</table>\n",
       "</div>"
      ],
      "text/plain": [
       "      BRCA  KIRC  LUAD  PRAD  COAD\n",
       "BRCA    58     0     2     0     0\n",
       "KIRC     0    15     0     1     0\n",
       "LUAD     0     0    30     0     0\n",
       "PRAD     1     0     0    27     0\n",
       "COAD     1     0     0     0    26"
      ]
     },
     "metadata": {},
     "output_type": "display_data"
    }
   ],
   "source": [
    "display(cnf_matrix)"
   ]
  },
  {
   "cell_type": "code",
   "execution_count": 88,
   "id": "422122c2",
   "metadata": {},
   "outputs": [
    {
     "data": {
      "text/plain": [
       "'Decision Tree f1 score'"
      ]
     },
     "metadata": {},
     "output_type": "display_data"
    },
    {
     "data": {
      "text/plain": [
       "0.8757763975155279"
      ]
     },
     "metadata": {},
     "output_type": "display_data"
    }
   ],
   "source": [
    "display('Decision Tree f1 score', f1_score(y_val_test, Eval_predict,average='micro'))"
   ]
  },
  {
   "cell_type": "markdown",
   "id": "e7d6bcdd",
   "metadata": {},
   "source": [
    "### MI BASED (Actual Usuage)"
   ]
  },
  {
   "cell_type": "markdown",
   "id": "fabacead",
   "metadata": {},
   "source": [
    "## Primary HyperParameter tuning - using RandomizedSearchCV"
   ]
  },
  {
   "cell_type": "code",
   "execution_count": 89,
   "id": "b70b51af",
   "metadata": {},
   "outputs": [],
   "source": [
    "#Data\n",
    "X_RS_train,X_RS_test,y_RS_train,y_RS_test = tts(X_MI,y, \n",
    "                                    test_size=0.20,\n",
    "                                    random_state=42,\n",
    "                                    stratify=y)"
   ]
  },
  {
   "cell_type": "code",
   "execution_count": 90,
   "id": "35d8d111",
   "metadata": {},
   "outputs": [],
   "source": [
    "#Seed for reproducibility\n",
    "seed(1)\n",
    "\n",
    "#Parameters - RandomizedSearchCV\n",
    "RS_parameters = {\"criterion\":(\"gini\",\"entropy\"),\n",
    "              \"max_depth\":(randint(1,10),randint(1,10),randint(1,10),randint(1,10),None),\n",
    "              \"min_samples_leaf\":[int(x) for x in np.linspace(start = 1, stop = 50, num = 10)],\n",
    "              \"min_samples_split\":[int(x) for x in np.linspace(start = 2, stop = 50, num = 10)],\n",
    "              \"random_state\":(randint(1,10),randint(1,10),randint(1,10),randint(1,10),None),\n",
    "              \"max_leaf_nodes\":(randint(1,10),randint(11,30),randint(31,100),randint(101,200),None),\n",
    "              \"min_impurity_decrease\":[float(x) for x in np.linspace(start = 0.0, stop = 0.9, num = 20)],\n",
    "#               \"ccp_alpha\":[float(x) for x in np.linspace(start = 0.0, stop = 10.00, num = 30)],\n",
    "              \"splitter\":(\"best\",\"random\"),\n",
    "              \"max_features\":(\"auto\",\"sqrt\",\"log2\",None),\n",
    "              \"class_weight\":(\"balanced\",None)\n",
    "               }"
   ]
  },
  {
   "cell_type": "code",
   "execution_count": 94,
   "id": "751aa9af",
   "metadata": {},
   "outputs": [
    {
     "name": "stdout",
     "output_type": "stream",
     "text": [
      "Fitting 5 folds for each of 100 candidates, totalling 500 fits\n"
     ]
    },
    {
     "data": {
      "text/plain": [
       "RandomizedSearchCV(estimator=DecisionTreeClassifier(), n_iter=100, n_jobs=-1,\n",
       "                   param_distributions={'class_weight': ('balanced', None),\n",
       "                                        'criterion': ('gini', 'entropy'),\n",
       "                                        'max_depth': (6, 9, 6, 1, None),\n",
       "                                        'max_features': ('auto', 'sqrt', 'log2',\n",
       "                                                         None),\n",
       "                                        'max_leaf_nodes': (3, 16, 49, 185,\n",
       "                                                           None),\n",
       "                                        'min_impurity_decrease': [0.0,\n",
       "                                                                  0.04736842105263158,\n",
       "                                                                  0.09473684210526316,\n",
       "                                                                  0.1421052631578...\n",
       "                                                                  0.4736842105263158,\n",
       "                                                                  0.5210526315789474,\n",
       "                                                                  0.5684210526315789,\n",
       "                                                                  0.6157894736842106,\n",
       "                                                                  0.6631578947368422,\n",
       "                                                                  0.7105263157894737,\n",
       "                                                                  0.7578947368421053,\n",
       "                                                                  0.8052631578947369,\n",
       "                                                                  0.8526315789473684,\n",
       "                                                                  0.9],\n",
       "                                        'min_samples_leaf': [1, 6, 11, 17, 22,\n",
       "                                                             28, 33, 39, 44,\n",
       "                                                             50],\n",
       "                                        'min_samples_split': [2, 7, 12, 18, 23,\n",
       "                                                              28, 34, 39, 44,\n",
       "                                                              50],\n",
       "                                        'random_state': (1, 2, 8, 7, None),\n",
       "                                        'splitter': ('best', 'random')},\n",
       "                   random_state=2, verbose=10)"
      ]
     },
     "execution_count": 94,
     "metadata": {},
     "output_type": "execute_result"
    }
   ],
   "source": [
    "#RandomizedSearchCV\n",
    "RS_model = RandomizedSearchCV(estimator=DTC(),\n",
    "                             param_distributions=RS_parameters,\n",
    "                             n_jobs=-1,\n",
    "                             n_iter=100,\n",
    "                             random_state=2,\n",
    "                             verbose=10)\n",
    "RS_model.fit(X_RS_train,y_RS_train)"
   ]
  },
  {
   "cell_type": "code",
   "execution_count": 95,
   "id": "21b7a9e1",
   "metadata": {},
   "outputs": [
    {
     "name": "stdout",
     "output_type": "stream",
     "text": [
      "tuned hyperparameters RS_CV:  {'splitter': 'best', 'random_state': 8, 'min_samples_split': 34, 'min_samples_leaf': 11, 'min_impurity_decrease': 0.18947368421052632, 'max_leaf_nodes': 16, 'max_features': None, 'max_depth': None, 'criterion': 'gini', 'class_weight': 'balanced'}\n",
      "tuned highest score RS_CV:  0.971875\n"
     ]
    }
   ],
   "source": [
    "#Best tuned Parameters\n",
    "print(\"tuned hyperparameters RS_CV: \",RS_model.best_params_)\n",
    "print(\"tuned highest score RS_CV: \",RS_model.best_score_)"
   ]
  },
  {
   "cell_type": "code",
   "execution_count": 378,
   "id": "4c5357b1",
   "metadata": {},
   "outputs": [
    {
     "data": {
      "text/html": [
       "<div>\n",
       "<style scoped>\n",
       "    .dataframe tbody tr th:only-of-type {\n",
       "        vertical-align: middle;\n",
       "    }\n",
       "\n",
       "    .dataframe tbody tr th {\n",
       "        vertical-align: top;\n",
       "    }\n",
       "\n",
       "    .dataframe thead th {\n",
       "        text-align: right;\n",
       "    }\n",
       "</style>\n",
       "<table border=\"1\" class=\"dataframe\">\n",
       "  <thead>\n",
       "    <tr style=\"text-align: right;\">\n",
       "      <th></th>\n",
       "      <th>param_splitter</th>\n",
       "      <th>param_random_state</th>\n",
       "      <th>param_min_samples_split</th>\n",
       "      <th>param_min_samples_leaf</th>\n",
       "      <th>param_min_impurity_decrease</th>\n",
       "      <th>param_max_leaf_nodes</th>\n",
       "      <th>param_max_features</th>\n",
       "      <th>param_max_depth</th>\n",
       "      <th>param_criterion</th>\n",
       "      <th>param_class_weight</th>\n",
       "      <th>mean_test_score</th>\n",
       "      <th>rank_test_score</th>\n",
       "    </tr>\n",
       "  </thead>\n",
       "  <tbody>\n",
       "    <tr>\n",
       "      <th>0</th>\n",
       "      <td>best</td>\n",
       "      <td>8</td>\n",
       "      <td>34</td>\n",
       "      <td>11</td>\n",
       "      <td>0.189474</td>\n",
       "      <td>16</td>\n",
       "      <td>None</td>\n",
       "      <td>None</td>\n",
       "      <td>gini</td>\n",
       "      <td>balanced</td>\n",
       "      <td>0.971875</td>\n",
       "      <td>1</td>\n",
       "    </tr>\n",
       "    <tr>\n",
       "      <th>1</th>\n",
       "      <td>random</td>\n",
       "      <td>7</td>\n",
       "      <td>18</td>\n",
       "      <td>1</td>\n",
       "      <td>0.0</td>\n",
       "      <td>185</td>\n",
       "      <td>None</td>\n",
       "      <td>6</td>\n",
       "      <td>entropy</td>\n",
       "      <td>balanced</td>\n",
       "      <td>0.971875</td>\n",
       "      <td>1</td>\n",
       "    </tr>\n",
       "    <tr>\n",
       "      <th>2</th>\n",
       "      <td>best</td>\n",
       "      <td>1</td>\n",
       "      <td>18</td>\n",
       "      <td>44</td>\n",
       "      <td>0.142105</td>\n",
       "      <td>16</td>\n",
       "      <td>None</td>\n",
       "      <td>None</td>\n",
       "      <td>gini</td>\n",
       "      <td>balanced</td>\n",
       "      <td>0.970313</td>\n",
       "      <td>3</td>\n",
       "    </tr>\n",
       "    <tr>\n",
       "      <th>3</th>\n",
       "      <td>best</td>\n",
       "      <td>7</td>\n",
       "      <td>18</td>\n",
       "      <td>6</td>\n",
       "      <td>0.0</td>\n",
       "      <td>185</td>\n",
       "      <td>None</td>\n",
       "      <td>None</td>\n",
       "      <td>entropy</td>\n",
       "      <td>None</td>\n",
       "      <td>0.964063</td>\n",
       "      <td>4</td>\n",
       "    </tr>\n",
       "    <tr>\n",
       "      <th>4</th>\n",
       "      <td>best</td>\n",
       "      <td>7</td>\n",
       "      <td>44</td>\n",
       "      <td>17</td>\n",
       "      <td>0.142105</td>\n",
       "      <td>49</td>\n",
       "      <td>None</td>\n",
       "      <td>6</td>\n",
       "      <td>entropy</td>\n",
       "      <td>None</td>\n",
       "      <td>0.956250</td>\n",
       "      <td>5</td>\n",
       "    </tr>\n",
       "    <tr>\n",
       "      <th>...</th>\n",
       "      <td>...</td>\n",
       "      <td>...</td>\n",
       "      <td>...</td>\n",
       "      <td>...</td>\n",
       "      <td>...</td>\n",
       "      <td>...</td>\n",
       "      <td>...</td>\n",
       "      <td>...</td>\n",
       "      <td>...</td>\n",
       "      <td>...</td>\n",
       "      <td>...</td>\n",
       "      <td>...</td>\n",
       "    </tr>\n",
       "    <tr>\n",
       "      <th>95</th>\n",
       "      <td>random</td>\n",
       "      <td>None</td>\n",
       "      <td>28</td>\n",
       "      <td>11</td>\n",
       "      <td>0.284211</td>\n",
       "      <td>185</td>\n",
       "      <td>auto</td>\n",
       "      <td>None</td>\n",
       "      <td>gini</td>\n",
       "      <td>balanced</td>\n",
       "      <td>0.110937</td>\n",
       "      <td>75</td>\n",
       "    </tr>\n",
       "    <tr>\n",
       "      <th>96</th>\n",
       "      <td>best</td>\n",
       "      <td>None</td>\n",
       "      <td>18</td>\n",
       "      <td>6</td>\n",
       "      <td>0.521053</td>\n",
       "      <td>185</td>\n",
       "      <td>None</td>\n",
       "      <td>6</td>\n",
       "      <td>gini</td>\n",
       "      <td>balanced</td>\n",
       "      <td>0.110937</td>\n",
       "      <td>75</td>\n",
       "    </tr>\n",
       "    <tr>\n",
       "      <th>97</th>\n",
       "      <td>random</td>\n",
       "      <td>8</td>\n",
       "      <td>34</td>\n",
       "      <td>33</td>\n",
       "      <td>0.284211</td>\n",
       "      <td>49</td>\n",
       "      <td>sqrt</td>\n",
       "      <td>9</td>\n",
       "      <td>gini</td>\n",
       "      <td>balanced</td>\n",
       "      <td>0.110937</td>\n",
       "      <td>75</td>\n",
       "    </tr>\n",
       "    <tr>\n",
       "      <th>98</th>\n",
       "      <td>best</td>\n",
       "      <td>8</td>\n",
       "      <td>39</td>\n",
       "      <td>33</td>\n",
       "      <td>0.805263</td>\n",
       "      <td>None</td>\n",
       "      <td>auto</td>\n",
       "      <td>9</td>\n",
       "      <td>entropy</td>\n",
       "      <td>balanced</td>\n",
       "      <td>0.110937</td>\n",
       "      <td>75</td>\n",
       "    </tr>\n",
       "    <tr>\n",
       "      <th>99</th>\n",
       "      <td>best</td>\n",
       "      <td>2</td>\n",
       "      <td>23</td>\n",
       "      <td>11</td>\n",
       "      <td>0.615789</td>\n",
       "      <td>3</td>\n",
       "      <td>auto</td>\n",
       "      <td>9</td>\n",
       "      <td>gini</td>\n",
       "      <td>balanced</td>\n",
       "      <td>0.110937</td>\n",
       "      <td>75</td>\n",
       "    </tr>\n",
       "  </tbody>\n",
       "</table>\n",
       "<p>100 rows × 12 columns</p>\n",
       "</div>"
      ],
      "text/plain": [
       "   param_splitter param_random_state param_min_samples_split  \\\n",
       "0            best                  8                      34   \n",
       "1          random                  7                      18   \n",
       "2            best                  1                      18   \n",
       "3            best                  7                      18   \n",
       "4            best                  7                      44   \n",
       "..            ...                ...                     ...   \n",
       "95         random               None                      28   \n",
       "96           best               None                      18   \n",
       "97         random                  8                      34   \n",
       "98           best                  8                      39   \n",
       "99           best                  2                      23   \n",
       "\n",
       "   param_min_samples_leaf param_min_impurity_decrease param_max_leaf_nodes  \\\n",
       "0                      11                    0.189474                   16   \n",
       "1                       1                         0.0                  185   \n",
       "2                      44                    0.142105                   16   \n",
       "3                       6                         0.0                  185   \n",
       "4                      17                    0.142105                   49   \n",
       "..                    ...                         ...                  ...   \n",
       "95                     11                    0.284211                  185   \n",
       "96                      6                    0.521053                  185   \n",
       "97                     33                    0.284211                   49   \n",
       "98                     33                    0.805263                 None   \n",
       "99                     11                    0.615789                    3   \n",
       "\n",
       "   param_max_features param_max_depth param_criterion param_class_weight  \\\n",
       "0                None            None            gini           balanced   \n",
       "1                None               6         entropy           balanced   \n",
       "2                None            None            gini           balanced   \n",
       "3                None            None         entropy               None   \n",
       "4                None               6         entropy               None   \n",
       "..                ...             ...             ...                ...   \n",
       "95               auto            None            gini           balanced   \n",
       "96               None               6            gini           balanced   \n",
       "97               sqrt               9            gini           balanced   \n",
       "98               auto               9         entropy           balanced   \n",
       "99               auto               9            gini           balanced   \n",
       "\n",
       "    mean_test_score  rank_test_score  \n",
       "0          0.971875                1  \n",
       "1          0.971875                1  \n",
       "2          0.970313                3  \n",
       "3          0.964063                4  \n",
       "4          0.956250                5  \n",
       "..              ...              ...  \n",
       "95         0.110937               75  \n",
       "96         0.110937               75  \n",
       "97         0.110937               75  \n",
       "98         0.110937               75  \n",
       "99         0.110937               75  \n",
       "\n",
       "[100 rows x 12 columns]"
      ]
     },
     "execution_count": 378,
     "metadata": {},
     "output_type": "execute_result"
    }
   ],
   "source": [
    "#Results\n",
    "RS_modelresults = pd.DataFrame(RS_model.cv_results_).sort_values('rank_test_score').reset_index(drop=True)\n",
    "RS_modelresults = RS_modelresults.drop([\n",
    "           'mean_fit_time', \n",
    "           'std_fit_time', \n",
    "           'mean_score_time',\n",
    "           'std_score_time', \n",
    "           'params', \n",
    "           'split0_test_score', \n",
    "           'split1_test_score', \n",
    "           'split2_test_score', \n",
    "           'split3_test_score',\n",
    "           'split4_test_score',\n",
    "           'std_test_score'\n",
    "           ],\n",
    "           axis=1)\n",
    "RS_modelresults"
   ]
  },
  {
   "cell_type": "code",
   "execution_count": 98,
   "id": "df21b042",
   "metadata": {},
   "outputs": [
    {
     "data": {
      "text/html": [
       "<div>\n",
       "<style scoped>\n",
       "    .dataframe tbody tr th:only-of-type {\n",
       "        vertical-align: middle;\n",
       "    }\n",
       "\n",
       "    .dataframe tbody tr th {\n",
       "        vertical-align: top;\n",
       "    }\n",
       "\n",
       "    .dataframe thead th {\n",
       "        text-align: right;\n",
       "    }\n",
       "</style>\n",
       "<table border=\"1\" class=\"dataframe\">\n",
       "  <thead>\n",
       "    <tr style=\"text-align: right;\">\n",
       "      <th></th>\n",
       "      <th>param_splitter</th>\n",
       "      <th>param_random_state</th>\n",
       "      <th>param_min_samples_split</th>\n",
       "      <th>param_min_samples_leaf</th>\n",
       "      <th>param_min_impurity_decrease</th>\n",
       "      <th>param_max_leaf_nodes</th>\n",
       "      <th>param_max_features</th>\n",
       "      <th>param_max_depth</th>\n",
       "      <th>param_criterion</th>\n",
       "      <th>param_class_weight</th>\n",
       "      <th>mean_test_score</th>\n",
       "      <th>rank_test_score</th>\n",
       "    </tr>\n",
       "  </thead>\n",
       "  <tbody>\n",
       "    <tr>\n",
       "      <th>0</th>\n",
       "      <td>best</td>\n",
       "      <td>8</td>\n",
       "      <td>34</td>\n",
       "      <td>11</td>\n",
       "      <td>0.189474</td>\n",
       "      <td>16</td>\n",
       "      <td>None</td>\n",
       "      <td>None</td>\n",
       "      <td>gini</td>\n",
       "      <td>balanced</td>\n",
       "      <td>0.971875</td>\n",
       "      <td>1</td>\n",
       "    </tr>\n",
       "    <tr>\n",
       "      <th>1</th>\n",
       "      <td>random</td>\n",
       "      <td>7</td>\n",
       "      <td>18</td>\n",
       "      <td>1</td>\n",
       "      <td>0.0</td>\n",
       "      <td>185</td>\n",
       "      <td>None</td>\n",
       "      <td>6</td>\n",
       "      <td>entropy</td>\n",
       "      <td>balanced</td>\n",
       "      <td>0.971875</td>\n",
       "      <td>1</td>\n",
       "    </tr>\n",
       "    <tr>\n",
       "      <th>2</th>\n",
       "      <td>best</td>\n",
       "      <td>1</td>\n",
       "      <td>18</td>\n",
       "      <td>44</td>\n",
       "      <td>0.142105</td>\n",
       "      <td>16</td>\n",
       "      <td>None</td>\n",
       "      <td>None</td>\n",
       "      <td>gini</td>\n",
       "      <td>balanced</td>\n",
       "      <td>0.970313</td>\n",
       "      <td>3</td>\n",
       "    </tr>\n",
       "    <tr>\n",
       "      <th>3</th>\n",
       "      <td>best</td>\n",
       "      <td>7</td>\n",
       "      <td>18</td>\n",
       "      <td>6</td>\n",
       "      <td>0.0</td>\n",
       "      <td>185</td>\n",
       "      <td>None</td>\n",
       "      <td>None</td>\n",
       "      <td>entropy</td>\n",
       "      <td>None</td>\n",
       "      <td>0.964063</td>\n",
       "      <td>4</td>\n",
       "    </tr>\n",
       "    <tr>\n",
       "      <th>4</th>\n",
       "      <td>best</td>\n",
       "      <td>7</td>\n",
       "      <td>44</td>\n",
       "      <td>17</td>\n",
       "      <td>0.142105</td>\n",
       "      <td>49</td>\n",
       "      <td>None</td>\n",
       "      <td>6</td>\n",
       "      <td>entropy</td>\n",
       "      <td>None</td>\n",
       "      <td>0.956250</td>\n",
       "      <td>5</td>\n",
       "    </tr>\n",
       "    <tr>\n",
       "      <th>5</th>\n",
       "      <td>random</td>\n",
       "      <td>2</td>\n",
       "      <td>28</td>\n",
       "      <td>50</td>\n",
       "      <td>0.094737</td>\n",
       "      <td>None</td>\n",
       "      <td>None</td>\n",
       "      <td>9</td>\n",
       "      <td>entropy</td>\n",
       "      <td>balanced</td>\n",
       "      <td>0.951562</td>\n",
       "      <td>6</td>\n",
       "    </tr>\n",
       "    <tr>\n",
       "      <th>6</th>\n",
       "      <td>best</td>\n",
       "      <td>8</td>\n",
       "      <td>12</td>\n",
       "      <td>50</td>\n",
       "      <td>0.236842</td>\n",
       "      <td>None</td>\n",
       "      <td>None</td>\n",
       "      <td>None</td>\n",
       "      <td>entropy</td>\n",
       "      <td>None</td>\n",
       "      <td>0.937500</td>\n",
       "      <td>7</td>\n",
       "    </tr>\n",
       "    <tr>\n",
       "      <th>7</th>\n",
       "      <td>best</td>\n",
       "      <td>2</td>\n",
       "      <td>23</td>\n",
       "      <td>11</td>\n",
       "      <td>0.189474</td>\n",
       "      <td>16</td>\n",
       "      <td>auto</td>\n",
       "      <td>6</td>\n",
       "      <td>entropy</td>\n",
       "      <td>None</td>\n",
       "      <td>0.931250</td>\n",
       "      <td>8</td>\n",
       "    </tr>\n",
       "    <tr>\n",
       "      <th>8</th>\n",
       "      <td>best</td>\n",
       "      <td>8</td>\n",
       "      <td>34</td>\n",
       "      <td>28</td>\n",
       "      <td>0.0</td>\n",
       "      <td>49</td>\n",
       "      <td>log2</td>\n",
       "      <td>9</td>\n",
       "      <td>gini</td>\n",
       "      <td>balanced</td>\n",
       "      <td>0.928125</td>\n",
       "      <td>9</td>\n",
       "    </tr>\n",
       "    <tr>\n",
       "      <th>9</th>\n",
       "      <td>random</td>\n",
       "      <td>2</td>\n",
       "      <td>12</td>\n",
       "      <td>50</td>\n",
       "      <td>0.094737</td>\n",
       "      <td>49</td>\n",
       "      <td>auto</td>\n",
       "      <td>None</td>\n",
       "      <td>entropy</td>\n",
       "      <td>balanced</td>\n",
       "      <td>0.926562</td>\n",
       "      <td>10</td>\n",
       "    </tr>\n",
       "  </tbody>\n",
       "</table>\n",
       "</div>"
      ],
      "text/plain": [
       "  param_splitter param_random_state param_min_samples_split  \\\n",
       "0           best                  8                      34   \n",
       "1         random                  7                      18   \n",
       "2           best                  1                      18   \n",
       "3           best                  7                      18   \n",
       "4           best                  7                      44   \n",
       "5         random                  2                      28   \n",
       "6           best                  8                      12   \n",
       "7           best                  2                      23   \n",
       "8           best                  8                      34   \n",
       "9         random                  2                      12   \n",
       "\n",
       "  param_min_samples_leaf param_min_impurity_decrease param_max_leaf_nodes  \\\n",
       "0                     11                    0.189474                   16   \n",
       "1                      1                         0.0                  185   \n",
       "2                     44                    0.142105                   16   \n",
       "3                      6                         0.0                  185   \n",
       "4                     17                    0.142105                   49   \n",
       "5                     50                    0.094737                 None   \n",
       "6                     50                    0.236842                 None   \n",
       "7                     11                    0.189474                   16   \n",
       "8                     28                         0.0                   49   \n",
       "9                     50                    0.094737                   49   \n",
       "\n",
       "  param_max_features param_max_depth param_criterion param_class_weight  \\\n",
       "0               None            None            gini           balanced   \n",
       "1               None               6         entropy           balanced   \n",
       "2               None            None            gini           balanced   \n",
       "3               None            None         entropy               None   \n",
       "4               None               6         entropy               None   \n",
       "5               None               9         entropy           balanced   \n",
       "6               None            None         entropy               None   \n",
       "7               auto               6         entropy               None   \n",
       "8               log2               9            gini           balanced   \n",
       "9               auto            None         entropy           balanced   \n",
       "\n",
       "   mean_test_score  rank_test_score  \n",
       "0         0.971875                1  \n",
       "1         0.971875                1  \n",
       "2         0.970313                3  \n",
       "3         0.964063                4  \n",
       "4         0.956250                5  \n",
       "5         0.951562                6  \n",
       "6         0.937500                7  \n",
       "7         0.931250                8  \n",
       "8         0.928125                9  \n",
       "9         0.926562               10  "
      ]
     },
     "execution_count": 98,
     "metadata": {},
     "output_type": "execute_result"
    }
   ],
   "source": [
    "RS_modelresults.head(10)"
   ]
  },
  {
   "cell_type": "markdown",
   "id": "8dfc7df2",
   "metadata": {},
   "source": [
    "## Secondary HyperParameter tuning - using GridSearchCV\n",
    "Obeservatios from the top 10 fields in Results of RandomizedSearchCV is used to analyze parameter range for GridSearchCV"
   ]
  },
  {
   "cell_type": "code",
   "execution_count": 99,
   "id": "8cef1cd9",
   "metadata": {},
   "outputs": [],
   "source": [
    "#Data\n",
    "X_GS_train,X_GS_test,y_GS_train,y_GS_test = tts(X_MI,y, \n",
    "                                    test_size=0.20,\n",
    "                                    random_state=42,\n",
    "                                    stratify=y)"
   ]
  },
  {
   "cell_type": "code",
   "execution_count": 379,
   "id": "9f8046c1",
   "metadata": {},
   "outputs": [],
   "source": [
    "#Parameters - GridSearchCV\n",
    "GS_parameters = { \"splitter\": (\"random\",\"best\"),\n",
    "               \"random_state\": (1,7,8,None),\n",
    "               \"min_samples_split\": (10,30,40,50),\n",
    "               \"min_samples_leaf\": (1,10,20,50),\n",
    "               \"min_impurity_decrease\": (0.0,0.10,0.20,0.40),\n",
    "               \"max_leaf_nodes\": (10,50,100,200,None),\n",
    "               \"max_features\": (\"auto\",None),\n",
    "               \"max_depth\": (2,4,6,8,10,None),\n",
    "               \"criterion\": (\"gini\",\"entropy\"),\n",
    "               \"class_weight\": (\"balanced\",None),\n",
    "             }"
   ]
  },
  {
   "cell_type": "code",
   "execution_count": 101,
   "id": "3cfea65f",
   "metadata": {},
   "outputs": [],
   "source": [
    "GS_model = GridSearchCV(DTC(), GS_parameters, cv=3, verbose = 10, n_jobs=-1)"
   ]
  },
  {
   "cell_type": "code",
   "execution_count": 102,
   "id": "517f7350",
   "metadata": {},
   "outputs": [
    {
     "name": "stdout",
     "output_type": "stream",
     "text": [
      "Fitting 3 folds for each of 122880 candidates, totalling 368640 fits\n"
     ]
    },
    {
     "data": {
      "text/plain": [
       "GridSearchCV(cv=3, estimator=DecisionTreeClassifier(), n_jobs=-1,\n",
       "             param_grid={'class_weight': ('balanced', None),\n",
       "                         'criterion': ('gini', 'entropy'),\n",
       "                         'max_depth': (2, 4, 6, 8, 10, None),\n",
       "                         'max_features': ('auto', None),\n",
       "                         'max_leaf_nodes': (10, 50, 100, 200, None),\n",
       "                         'min_impurity_decrease': (0.0, 0.1, 0.2, 0.4),\n",
       "                         'min_samples_leaf': (1, 10, 20, 50),\n",
       "                         'min_samples_split': (10, 30, 40, 50),\n",
       "                         'random_state': (1, 7, 8, None),\n",
       "                         'splitter': ('random', 'best')},\n",
       "             verbose=10)"
      ]
     },
     "execution_count": 102,
     "metadata": {},
     "output_type": "execute_result"
    }
   ],
   "source": [
    "GS_model.fit(X_GS_train, y_GS_train)"
   ]
  },
  {
   "cell_type": "code",
   "execution_count": 103,
   "id": "c54fb0e7",
   "metadata": {},
   "outputs": [
    {
     "name": "stdout",
     "output_type": "stream",
     "text": [
      "tuned hyperparameters GS_CV:  {'class_weight': 'balanced', 'criterion': 'gini', 'max_depth': 10, 'max_features': None, 'max_leaf_nodes': 50, 'min_impurity_decrease': 0.0, 'min_samples_leaf': 1, 'min_samples_split': 30, 'random_state': None, 'splitter': 'random'}\n",
      "tuned highest score GS_CV:  0.989060009067907\n"
     ]
    }
   ],
   "source": [
    "#Best tuned Parameters\n",
    "print(\"tuned hyperparameters GS_CV: \",GS_model.best_params_)\n",
    "print(\"tuned highest score GS_CV: \",GS_model.best_score_)"
   ]
  },
  {
   "cell_type": "code",
   "execution_count": 105,
   "id": "2cdccfa0",
   "metadata": {},
   "outputs": [
    {
     "data": {
      "text/html": [
       "<div>\n",
       "<style scoped>\n",
       "    .dataframe tbody tr th:only-of-type {\n",
       "        vertical-align: middle;\n",
       "    }\n",
       "\n",
       "    .dataframe tbody tr th {\n",
       "        vertical-align: top;\n",
       "    }\n",
       "\n",
       "    .dataframe thead th {\n",
       "        text-align: right;\n",
       "    }\n",
       "</style>\n",
       "<table border=\"1\" class=\"dataframe\">\n",
       "  <thead>\n",
       "    <tr style=\"text-align: right;\">\n",
       "      <th></th>\n",
       "      <th>param_class_weight</th>\n",
       "      <th>param_criterion</th>\n",
       "      <th>param_max_depth</th>\n",
       "      <th>param_max_features</th>\n",
       "      <th>param_max_leaf_nodes</th>\n",
       "      <th>param_min_impurity_decrease</th>\n",
       "      <th>param_min_samples_leaf</th>\n",
       "      <th>param_min_samples_split</th>\n",
       "      <th>param_random_state</th>\n",
       "      <th>param_splitter</th>\n",
       "      <th>mean_test_score</th>\n",
       "      <th>rank_test_score</th>\n",
       "    </tr>\n",
       "  </thead>\n",
       "  <tbody>\n",
       "    <tr>\n",
       "      <th>0</th>\n",
       "      <td>balanced</td>\n",
       "      <td>gini</td>\n",
       "      <td>10</td>\n",
       "      <td>None</td>\n",
       "      <td>50</td>\n",
       "      <td>0.0</td>\n",
       "      <td>1</td>\n",
       "      <td>30</td>\n",
       "      <td>None</td>\n",
       "      <td>random</td>\n",
       "      <td>0.989060</td>\n",
       "      <td>1</td>\n",
       "    </tr>\n",
       "    <tr>\n",
       "      <th>1</th>\n",
       "      <td>balanced</td>\n",
       "      <td>gini</td>\n",
       "      <td>6</td>\n",
       "      <td>None</td>\n",
       "      <td>None</td>\n",
       "      <td>0.0</td>\n",
       "      <td>20</td>\n",
       "      <td>50</td>\n",
       "      <td>None</td>\n",
       "      <td>random</td>\n",
       "      <td>0.989045</td>\n",
       "      <td>2</td>\n",
       "    </tr>\n",
       "    <tr>\n",
       "      <th>2</th>\n",
       "      <td>balanced</td>\n",
       "      <td>entropy</td>\n",
       "      <td>10</td>\n",
       "      <td>None</td>\n",
       "      <td>100</td>\n",
       "      <td>0.0</td>\n",
       "      <td>1</td>\n",
       "      <td>30</td>\n",
       "      <td>None</td>\n",
       "      <td>random</td>\n",
       "      <td>0.987502</td>\n",
       "      <td>3</td>\n",
       "    </tr>\n",
       "    <tr>\n",
       "      <th>3</th>\n",
       "      <td>None</td>\n",
       "      <td>gini</td>\n",
       "      <td>None</td>\n",
       "      <td>None</td>\n",
       "      <td>200</td>\n",
       "      <td>0.0</td>\n",
       "      <td>10</td>\n",
       "      <td>30</td>\n",
       "      <td>None</td>\n",
       "      <td>random</td>\n",
       "      <td>0.987502</td>\n",
       "      <td>3</td>\n",
       "    </tr>\n",
       "    <tr>\n",
       "      <th>4</th>\n",
       "      <td>balanced</td>\n",
       "      <td>entropy</td>\n",
       "      <td>4</td>\n",
       "      <td>None</td>\n",
       "      <td>200</td>\n",
       "      <td>0.1</td>\n",
       "      <td>10</td>\n",
       "      <td>10</td>\n",
       "      <td>None</td>\n",
       "      <td>random</td>\n",
       "      <td>0.987495</td>\n",
       "      <td>5</td>\n",
       "    </tr>\n",
       "  </tbody>\n",
       "</table>\n",
       "</div>"
      ],
      "text/plain": [
       "  param_class_weight param_criterion param_max_depth param_max_features  \\\n",
       "0           balanced            gini              10               None   \n",
       "1           balanced            gini               6               None   \n",
       "2           balanced         entropy              10               None   \n",
       "3               None            gini            None               None   \n",
       "4           balanced         entropy               4               None   \n",
       "\n",
       "  param_max_leaf_nodes param_min_impurity_decrease param_min_samples_leaf  \\\n",
       "0                   50                         0.0                      1   \n",
       "1                 None                         0.0                     20   \n",
       "2                  100                         0.0                      1   \n",
       "3                  200                         0.0                     10   \n",
       "4                  200                         0.1                     10   \n",
       "\n",
       "  param_min_samples_split param_random_state param_splitter  mean_test_score  \\\n",
       "0                      30               None         random         0.989060   \n",
       "1                      50               None         random         0.989045   \n",
       "2                      30               None         random         0.987502   \n",
       "3                      30               None         random         0.987502   \n",
       "4                      10               None         random         0.987495   \n",
       "\n",
       "   rank_test_score  \n",
       "0                1  \n",
       "1                2  \n",
       "2                3  \n",
       "3                3  \n",
       "4                5  "
      ]
     },
     "execution_count": 105,
     "metadata": {},
     "output_type": "execute_result"
    }
   ],
   "source": [
    "#Result\n",
    "GS_modelresults = pd.DataFrame(GS_model.cv_results_).sort_values('rank_test_score').reset_index(drop=True)\n",
    "GS_modelresults = GS_modelresults.drop([\n",
    "           'mean_fit_time', \n",
    "           'std_fit_time', \n",
    "           'mean_score_time',\n",
    "           'std_score_time', \n",
    "           'params', \n",
    "           'split0_test_score', \n",
    "           'split1_test_score', \n",
    "           'split2_test_score', \n",
    "#            'split3_test_score',\n",
    "#            'split4_test_score',\n",
    "           'std_test_score'\n",
    "           ],\n",
    "           axis=1)\n",
    "GS_modelresults.head(5)"
   ]
  },
  {
   "cell_type": "code",
   "execution_count": 380,
   "id": "df14aed9",
   "metadata": {},
   "outputs": [
    {
     "data": {
      "text/plain": [
       "DecisionTreeClassifier(class_weight='balanced', max_depth=10, max_leaf_nodes=50,\n",
       "                       min_samples_split=30, splitter='random')"
      ]
     },
     "execution_count": 380,
     "metadata": {},
     "output_type": "execute_result"
    }
   ],
   "source": [
    "#Fitting model to best parameters\n",
    "BestModelDTC_mi = DTC(min_samples_split=30,\n",
    "                   min_samples_leaf=1,\n",
    "                   max_features=None,\n",
    "                   max_leaf_nodes=50,\n",
    "                   min_impurity_decrease=0.0,\n",
    "                   random_state=None,\n",
    "                   splitter=\"random\",\n",
    "                   max_depth=10,\n",
    "                   criterion=\"gini\",\n",
    "                   class_weight=\"balanced\"\n",
    "                  )\n",
    "BestModelDTC_mi.fit(X_GS_train,y_GS_train)"
   ]
  },
  {
   "cell_type": "code",
   "execution_count": 109,
   "id": "d2b4dbbf",
   "metadata": {},
   "outputs": [
    {
     "data": {
      "text/plain": [
       "{'ccp_alpha': 0.0,\n",
       " 'class_weight': 'balanced',\n",
       " 'criterion': 'gini',\n",
       " 'max_depth': 10,\n",
       " 'max_features': None,\n",
       " 'max_leaf_nodes': 50,\n",
       " 'min_impurity_decrease': 0.0,\n",
       " 'min_impurity_split': None,\n",
       " 'min_samples_leaf': 1,\n",
       " 'min_samples_split': 30,\n",
       " 'min_weight_fraction_leaf': 0.0,\n",
       " 'random_state': None,\n",
       " 'splitter': 'random'}"
      ]
     },
     "execution_count": 109,
     "metadata": {},
     "output_type": "execute_result"
    }
   ],
   "source": [
    "BestModelDTC_mi.get_params()"
   ]
  },
  {
   "cell_type": "markdown",
   "id": "06b1efa5",
   "metadata": {},
   "source": [
    "## EVALUATION (DTC model_mi)"
   ]
  },
  {
   "cell_type": "code",
   "execution_count": 358,
   "id": "c0320119",
   "metadata": {},
   "outputs": [
    {
     "data": {
      "text/html": [
       "<div>\n",
       "<style scoped>\n",
       "    .dataframe tbody tr th:only-of-type {\n",
       "        vertical-align: middle;\n",
       "    }\n",
       "\n",
       "    .dataframe tbody tr th {\n",
       "        vertical-align: top;\n",
       "    }\n",
       "\n",
       "    .dataframe thead th {\n",
       "        text-align: right;\n",
       "    }\n",
       "</style>\n",
       "<table border=\"1\" class=\"dataframe\">\n",
       "  <thead>\n",
       "    <tr style=\"text-align: right;\">\n",
       "      <th></th>\n",
       "      <th>BRCA</th>\n",
       "      <th>KIRC</th>\n",
       "      <th>LUAD</th>\n",
       "      <th>PRAD</th>\n",
       "      <th>COAD</th>\n",
       "    </tr>\n",
       "  </thead>\n",
       "  <tbody>\n",
       "    <tr>\n",
       "      <th>BRCA</th>\n",
       "      <td>58</td>\n",
       "      <td>0</td>\n",
       "      <td>2</td>\n",
       "      <td>0</td>\n",
       "      <td>0</td>\n",
       "    </tr>\n",
       "    <tr>\n",
       "      <th>KIRC</th>\n",
       "      <td>0</td>\n",
       "      <td>15</td>\n",
       "      <td>0</td>\n",
       "      <td>1</td>\n",
       "      <td>0</td>\n",
       "    </tr>\n",
       "    <tr>\n",
       "      <th>LUAD</th>\n",
       "      <td>0</td>\n",
       "      <td>0</td>\n",
       "      <td>30</td>\n",
       "      <td>0</td>\n",
       "      <td>0</td>\n",
       "    </tr>\n",
       "    <tr>\n",
       "      <th>PRAD</th>\n",
       "      <td>1</td>\n",
       "      <td>0</td>\n",
       "      <td>0</td>\n",
       "      <td>27</td>\n",
       "      <td>0</td>\n",
       "    </tr>\n",
       "    <tr>\n",
       "      <th>COAD</th>\n",
       "      <td>1</td>\n",
       "      <td>0</td>\n",
       "      <td>0</td>\n",
       "      <td>0</td>\n",
       "      <td>26</td>\n",
       "    </tr>\n",
       "  </tbody>\n",
       "</table>\n",
       "</div>"
      ],
      "text/plain": [
       "      BRCA  KIRC  LUAD  PRAD  COAD\n",
       "BRCA    58     0     2     0     0\n",
       "KIRC     0    15     0     1     0\n",
       "LUAD     0     0    30     0     0\n",
       "PRAD     1     0     0    27     0\n",
       "COAD     1     0     0     0    26"
      ]
     },
     "metadata": {},
     "output_type": "display_data"
    },
    {
     "name": "stdout",
     "output_type": "stream",
     "text": [
      "Decision Tree Classifier Model: f1 score - 0.968944099378882\n"
     ]
    }
   ],
   "source": [
    "Eval_predict_DTC = BestModelDTC_mi.predict(X_GS_test)\n",
    "confusion_matrix_DTC = pd.DataFrame(confusion_matrix(y_GS_test, Eval_predict_DTC), \n",
    "                                     index = ['BRCA', 'KIRC', 'LUAD', 'PRAD', 'COAD'], \n",
    "                                     columns = ['BRCA', 'KIRC', 'LUAD', 'PRAD', 'COAD'])\n",
    "display(confusion_matrix_DTC)\n",
    "print('Decision Tree Classifier Model: f1 score -', f1_score(y_GS_test, Eval_predict_DTC,average='micro'))"
   ]
  },
  {
   "cell_type": "markdown",
   "id": "8b82f748",
   "metadata": {},
   "source": [
    "$\\;\\;\\;\\;$"
   ]
  },
  {
   "cell_type": "markdown",
   "id": "00224d2a",
   "metadata": {},
   "source": [
    "$\\;\\;\\;\\;$"
   ]
  },
  {
   "cell_type": "markdown",
   "id": "003b4d7a",
   "metadata": {},
   "source": [
    "## RF MODEL(default)"
   ]
  },
  {
   "cell_type": "code",
   "execution_count": 111,
   "id": "e1d6d63a",
   "metadata": {},
   "outputs": [],
   "source": [
    "from sklearn.ensemble import RandomForestClassifier"
   ]
  },
  {
   "cell_type": "code",
   "execution_count": 112,
   "id": "16495db4",
   "metadata": {},
   "outputs": [],
   "source": [
    "rf = RandomForestClassifier(n_estimators = 1000, random_state = 42)"
   ]
  },
  {
   "cell_type": "markdown",
   "id": "1ca97517",
   "metadata": {},
   "source": [
    "##### RF MODEL - Fature Extraction : MutualInformation"
   ]
  },
  {
   "cell_type": "code",
   "execution_count": 113,
   "id": "1bee494f",
   "metadata": {},
   "outputs": [],
   "source": [
    "X_RF_mi_train, X_RF_mi_test, y_RF_mi_train, y_RF_mi_test = tts(X_MI,y,\n",
    "                                                                   test_size=0.20,\n",
    "                                                                   random_state=42,\n",
    "                                                                   stratify=y)\n",
    "                                    "
   ]
  },
  {
   "cell_type": "code",
   "execution_count": 114,
   "id": "679afdea",
   "metadata": {},
   "outputs": [
    {
     "name": "stdout",
     "output_type": "stream",
     "text": [
      "0.9937888198757764\n"
     ]
    }
   ],
   "source": [
    "BaseModelRF_mi = rf.fit(X_RF_mi_train,y_RF_mi_train)\n",
    "score = BaseModelRF_mi.score(X_RF_mi_test,y_RF_mi_test)\n",
    "print(score)"
   ]
  },
  {
   "cell_type": "markdown",
   "id": "d734e9a7",
   "metadata": {},
   "source": [
    "##### RF MODEL - Parameters : RF_mi"
   ]
  },
  {
   "cell_type": "code",
   "execution_count": 115,
   "id": "a3df4f8a",
   "metadata": {},
   "outputs": [
    {
     "data": {
      "text/plain": [
       "{'bootstrap': True,\n",
       " 'ccp_alpha': 0.0,\n",
       " 'class_weight': None,\n",
       " 'criterion': 'gini',\n",
       " 'max_depth': None,\n",
       " 'max_features': 'auto',\n",
       " 'max_leaf_nodes': None,\n",
       " 'max_samples': None,\n",
       " 'min_impurity_decrease': 0.0,\n",
       " 'min_impurity_split': None,\n",
       " 'min_samples_leaf': 1,\n",
       " 'min_samples_split': 2,\n",
       " 'min_weight_fraction_leaf': 0.0,\n",
       " 'n_estimators': 1000,\n",
       " 'n_jobs': None,\n",
       " 'oob_score': False,\n",
       " 'random_state': 42,\n",
       " 'verbose': 0,\n",
       " 'warm_start': False}"
      ]
     },
     "metadata": {},
     "output_type": "display_data"
    }
   ],
   "source": [
    "display(BaseModelRF_mi.get_params())"
   ]
  },
  {
   "cell_type": "markdown",
   "id": "ba1cb1f2",
   "metadata": {},
   "source": [
    "## TUNING RandomForestClassifier"
   ]
  },
  {
   "cell_type": "markdown",
   "id": "f9ba992f",
   "metadata": {},
   "source": [
    "## Primary HyperParameter tuning - using RandomizedSearchCV"
   ]
  },
  {
   "cell_type": "code",
   "execution_count": 116,
   "id": "64ce2644",
   "metadata": {},
   "outputs": [
    {
     "name": "stdout",
     "output_type": "stream",
     "text": [
      "Fitting 5 folds for each of 100 candidates, totalling 500 fits\n"
     ]
    }
   ],
   "source": [
    "#Data\n",
    "X_RS2_train,X_RS2_test,y_RS2_train,y_RS2_test = tts(X_MI,y, \n",
    "                                    test_size=0.20,\n",
    "                                    random_state=42,\n",
    "                                    stratify=y)\n",
    "#Seed for reproducibility\n",
    "seed(1)\n",
    "\n",
    "#Parameters for RandomizedSearchCV\n",
    "RS2_parameters = {\"n_estimators\":[int(x) for x in np.linspace(start = 100, stop = 2000, num = 20)],\n",
    "              \"criterion\": (\"gini\",\"entropy\"),   \n",
    "              \"max_depth\":(randint(2,10),randint(1,10),randint(1,10),randint(1,10),None),\n",
    "              \"min_samples_split\":[int(x) for x in np.linspace(start = 2, stop = 50, num = 10)],\n",
    "              \"min_samples_leaf\":[int(x) for x in np.linspace(start = 1, stop = 50, num = 10)],\n",
    "              \"min_weight_fraction_leaf\": [float(x) for x in np.linspace(start = 0.0, stop = 0.5, num = 5)],\n",
    "              \"max_features\":(\"auto\",\"sqrt\",\"log2\"),\n",
    "              \"max_leaf_nodes\":(randint(2,10),randint(11,40),randint(41,90),randint(91,150),None),\n",
    "              \"min_impurity_decrease\":[float(x) for x in np.linspace(start = 0.0, stop = 0.9, num = 20)],\n",
    "              \"bootstrap\": [True, False],\n",
    "              \"class_weight\":(\"balanced\",\"balanced_subsample\",None)\n",
    "               }\n",
    "\n",
    "#RandomizedSearchCV\n",
    "RS2_model = RandomizedSearchCV(estimator=RandomForestClassifier(),\n",
    "                             param_distributions=RS2_parameters,\n",
    "                             n_jobs=-1,\n",
    "                             n_iter=100,\n",
    "                             random_state=2,\n",
    "                             verbose=10)\n",
    "RS2_model.fit(X_RS2_train,y_RS2_train)\n",
    "\n",
    "#Results\n",
    "RS2_modelresults = pd.DataFrame(RS2_model.cv_results_).sort_values('rank_test_score').reset_index(drop=True)\n",
    "RS2_modelresults = RS2_modelresults.drop([\n",
    "           'mean_fit_time', \n",
    "           'std_fit_time', \n",
    "           'mean_score_time',\n",
    "           'std_score_time', \n",
    "           'params', \n",
    "           'split0_test_score', \n",
    "           'split1_test_score', \n",
    "           'split2_test_score', \n",
    "           'split3_test_score',\n",
    "           'split4_test_score',\n",
    "           'std_test_score'\n",
    "           ],\n",
    "           axis=1)\n",
    "\n"
   ]
  },
  {
   "cell_type": "code",
   "execution_count": 117,
   "id": "63e15a76",
   "metadata": {},
   "outputs": [
    {
     "data": {
      "text/html": [
       "<div>\n",
       "<style scoped>\n",
       "    .dataframe tbody tr th:only-of-type {\n",
       "        vertical-align: middle;\n",
       "    }\n",
       "\n",
       "    .dataframe tbody tr th {\n",
       "        vertical-align: top;\n",
       "    }\n",
       "\n",
       "    .dataframe thead th {\n",
       "        text-align: right;\n",
       "    }\n",
       "</style>\n",
       "<table border=\"1\" class=\"dataframe\">\n",
       "  <thead>\n",
       "    <tr style=\"text-align: right;\">\n",
       "      <th></th>\n",
       "      <th>param_n_estimators</th>\n",
       "      <th>param_min_weight_fraction_leaf</th>\n",
       "      <th>param_min_samples_split</th>\n",
       "      <th>param_min_samples_leaf</th>\n",
       "      <th>param_min_impurity_decrease</th>\n",
       "      <th>param_max_leaf_nodes</th>\n",
       "      <th>param_max_features</th>\n",
       "      <th>param_max_depth</th>\n",
       "      <th>param_criterion</th>\n",
       "      <th>param_class_weight</th>\n",
       "      <th>param_bootstrap</th>\n",
       "      <th>mean_test_score</th>\n",
       "      <th>rank_test_score</th>\n",
       "    </tr>\n",
       "  </thead>\n",
       "  <tbody>\n",
       "    <tr>\n",
       "      <th>0</th>\n",
       "      <td>1400</td>\n",
       "      <td>0.125</td>\n",
       "      <td>18</td>\n",
       "      <td>17</td>\n",
       "      <td>0.094737</td>\n",
       "      <td>None</td>\n",
       "      <td>sqrt</td>\n",
       "      <td>None</td>\n",
       "      <td>gini</td>\n",
       "      <td>balanced</td>\n",
       "      <td>False</td>\n",
       "      <td>0.998437</td>\n",
       "      <td>1</td>\n",
       "    </tr>\n",
       "    <tr>\n",
       "      <th>1</th>\n",
       "      <td>900</td>\n",
       "      <td>0.125</td>\n",
       "      <td>34</td>\n",
       "      <td>17</td>\n",
       "      <td>0.094737</td>\n",
       "      <td>2</td>\n",
       "      <td>log2</td>\n",
       "      <td>None</td>\n",
       "      <td>gini</td>\n",
       "      <td>balanced</td>\n",
       "      <td>True</td>\n",
       "      <td>0.996875</td>\n",
       "      <td>2</td>\n",
       "    </tr>\n",
       "    <tr>\n",
       "      <th>2</th>\n",
       "      <td>400</td>\n",
       "      <td>0.125</td>\n",
       "      <td>50</td>\n",
       "      <td>28</td>\n",
       "      <td>0.142105</td>\n",
       "      <td>2</td>\n",
       "      <td>auto</td>\n",
       "      <td>7</td>\n",
       "      <td>gini</td>\n",
       "      <td>balanced</td>\n",
       "      <td>True</td>\n",
       "      <td>0.996875</td>\n",
       "      <td>2</td>\n",
       "    </tr>\n",
       "    <tr>\n",
       "      <th>3</th>\n",
       "      <td>100</td>\n",
       "      <td>0.0</td>\n",
       "      <td>18</td>\n",
       "      <td>17</td>\n",
       "      <td>0.142105</td>\n",
       "      <td>12</td>\n",
       "      <td>auto</td>\n",
       "      <td>9</td>\n",
       "      <td>gini</td>\n",
       "      <td>balanced_subsample</td>\n",
       "      <td>True</td>\n",
       "      <td>0.996875</td>\n",
       "      <td>2</td>\n",
       "    </tr>\n",
       "    <tr>\n",
       "      <th>4</th>\n",
       "      <td>900</td>\n",
       "      <td>0.125</td>\n",
       "      <td>28</td>\n",
       "      <td>6</td>\n",
       "      <td>0.426316</td>\n",
       "      <td>53</td>\n",
       "      <td>sqrt</td>\n",
       "      <td>6</td>\n",
       "      <td>entropy</td>\n",
       "      <td>balanced</td>\n",
       "      <td>True</td>\n",
       "      <td>0.995313</td>\n",
       "      <td>5</td>\n",
       "    </tr>\n",
       "    <tr>\n",
       "      <th>5</th>\n",
       "      <td>1600</td>\n",
       "      <td>0.0</td>\n",
       "      <td>34</td>\n",
       "      <td>11</td>\n",
       "      <td>0.284211</td>\n",
       "      <td>None</td>\n",
       "      <td>auto</td>\n",
       "      <td>7</td>\n",
       "      <td>entropy</td>\n",
       "      <td>balanced</td>\n",
       "      <td>True</td>\n",
       "      <td>0.995313</td>\n",
       "      <td>5</td>\n",
       "    </tr>\n",
       "    <tr>\n",
       "      <th>6</th>\n",
       "      <td>300</td>\n",
       "      <td>0.125</td>\n",
       "      <td>28</td>\n",
       "      <td>28</td>\n",
       "      <td>0.378947</td>\n",
       "      <td>53</td>\n",
       "      <td>auto</td>\n",
       "      <td>7</td>\n",
       "      <td>entropy</td>\n",
       "      <td>balanced_subsample</td>\n",
       "      <td>True</td>\n",
       "      <td>0.995313</td>\n",
       "      <td>5</td>\n",
       "    </tr>\n",
       "    <tr>\n",
       "      <th>7</th>\n",
       "      <td>800</td>\n",
       "      <td>0.0</td>\n",
       "      <td>7</td>\n",
       "      <td>17</td>\n",
       "      <td>0.047368</td>\n",
       "      <td>None</td>\n",
       "      <td>log2</td>\n",
       "      <td>6</td>\n",
       "      <td>entropy</td>\n",
       "      <td>balanced</td>\n",
       "      <td>True</td>\n",
       "      <td>0.995313</td>\n",
       "      <td>5</td>\n",
       "    </tr>\n",
       "    <tr>\n",
       "      <th>8</th>\n",
       "      <td>1700</td>\n",
       "      <td>0.125</td>\n",
       "      <td>12</td>\n",
       "      <td>44</td>\n",
       "      <td>0.236842</td>\n",
       "      <td>None</td>\n",
       "      <td>log2</td>\n",
       "      <td>9</td>\n",
       "      <td>entropy</td>\n",
       "      <td>None</td>\n",
       "      <td>False</td>\n",
       "      <td>0.995313</td>\n",
       "      <td>5</td>\n",
       "    </tr>\n",
       "    <tr>\n",
       "      <th>9</th>\n",
       "      <td>100</td>\n",
       "      <td>0.125</td>\n",
       "      <td>23</td>\n",
       "      <td>44</td>\n",
       "      <td>0.284211</td>\n",
       "      <td>53</td>\n",
       "      <td>auto</td>\n",
       "      <td>None</td>\n",
       "      <td>entropy</td>\n",
       "      <td>balanced_subsample</td>\n",
       "      <td>False</td>\n",
       "      <td>0.993750</td>\n",
       "      <td>10</td>\n",
       "    </tr>\n",
       "    <tr>\n",
       "      <th>10</th>\n",
       "      <td>1600</td>\n",
       "      <td>0.25</td>\n",
       "      <td>50</td>\n",
       "      <td>44</td>\n",
       "      <td>0.142105</td>\n",
       "      <td>12</td>\n",
       "      <td>auto</td>\n",
       "      <td>6</td>\n",
       "      <td>entropy</td>\n",
       "      <td>balanced_subsample</td>\n",
       "      <td>True</td>\n",
       "      <td>0.992188</td>\n",
       "      <td>11</td>\n",
       "    </tr>\n",
       "    <tr>\n",
       "      <th>11</th>\n",
       "      <td>1900</td>\n",
       "      <td>0.125</td>\n",
       "      <td>39</td>\n",
       "      <td>28</td>\n",
       "      <td>0.284211</td>\n",
       "      <td>None</td>\n",
       "      <td>auto</td>\n",
       "      <td>9</td>\n",
       "      <td>entropy</td>\n",
       "      <td>None</td>\n",
       "      <td>False</td>\n",
       "      <td>0.992188</td>\n",
       "      <td>11</td>\n",
       "    </tr>\n",
       "    <tr>\n",
       "      <th>12</th>\n",
       "      <td>900</td>\n",
       "      <td>0.375</td>\n",
       "      <td>34</td>\n",
       "      <td>6</td>\n",
       "      <td>0.0</td>\n",
       "      <td>98</td>\n",
       "      <td>log2</td>\n",
       "      <td>None</td>\n",
       "      <td>gini</td>\n",
       "      <td>balanced_subsample</td>\n",
       "      <td>True</td>\n",
       "      <td>0.990625</td>\n",
       "      <td>13</td>\n",
       "    </tr>\n",
       "    <tr>\n",
       "      <th>13</th>\n",
       "      <td>800</td>\n",
       "      <td>0.25</td>\n",
       "      <td>50</td>\n",
       "      <td>33</td>\n",
       "      <td>0.142105</td>\n",
       "      <td>2</td>\n",
       "      <td>sqrt</td>\n",
       "      <td>6</td>\n",
       "      <td>gini</td>\n",
       "      <td>balanced</td>\n",
       "      <td>True</td>\n",
       "      <td>0.990625</td>\n",
       "      <td>13</td>\n",
       "    </tr>\n",
       "    <tr>\n",
       "      <th>14</th>\n",
       "      <td>1400</td>\n",
       "      <td>0.375</td>\n",
       "      <td>12</td>\n",
       "      <td>17</td>\n",
       "      <td>0.142105</td>\n",
       "      <td>None</td>\n",
       "      <td>log2</td>\n",
       "      <td>1</td>\n",
       "      <td>entropy</td>\n",
       "      <td>balanced</td>\n",
       "      <td>False</td>\n",
       "      <td>0.990625</td>\n",
       "      <td>13</td>\n",
       "    </tr>\n",
       "    <tr>\n",
       "      <th>15</th>\n",
       "      <td>200</td>\n",
       "      <td>0.375</td>\n",
       "      <td>50</td>\n",
       "      <td>50</td>\n",
       "      <td>0.0</td>\n",
       "      <td>12</td>\n",
       "      <td>log2</td>\n",
       "      <td>1</td>\n",
       "      <td>gini</td>\n",
       "      <td>balanced</td>\n",
       "      <td>False</td>\n",
       "      <td>0.989062</td>\n",
       "      <td>16</td>\n",
       "    </tr>\n",
       "    <tr>\n",
       "      <th>16</th>\n",
       "      <td>1900</td>\n",
       "      <td>0.375</td>\n",
       "      <td>23</td>\n",
       "      <td>17</td>\n",
       "      <td>0.331579</td>\n",
       "      <td>None</td>\n",
       "      <td>log2</td>\n",
       "      <td>6</td>\n",
       "      <td>entropy</td>\n",
       "      <td>balanced_subsample</td>\n",
       "      <td>False</td>\n",
       "      <td>0.989062</td>\n",
       "      <td>16</td>\n",
       "    </tr>\n",
       "    <tr>\n",
       "      <th>17</th>\n",
       "      <td>700</td>\n",
       "      <td>0.375</td>\n",
       "      <td>34</td>\n",
       "      <td>33</td>\n",
       "      <td>0.236842</td>\n",
       "      <td>None</td>\n",
       "      <td>log2</td>\n",
       "      <td>7</td>\n",
       "      <td>entropy</td>\n",
       "      <td>balanced_subsample</td>\n",
       "      <td>True</td>\n",
       "      <td>0.985938</td>\n",
       "      <td>18</td>\n",
       "    </tr>\n",
       "    <tr>\n",
       "      <th>18</th>\n",
       "      <td>1700</td>\n",
       "      <td>0.25</td>\n",
       "      <td>7</td>\n",
       "      <td>50</td>\n",
       "      <td>0.615789</td>\n",
       "      <td>2</td>\n",
       "      <td>auto</td>\n",
       "      <td>None</td>\n",
       "      <td>entropy</td>\n",
       "      <td>balanced_subsample</td>\n",
       "      <td>True</td>\n",
       "      <td>0.982812</td>\n",
       "      <td>19</td>\n",
       "    </tr>\n",
       "    <tr>\n",
       "      <th>19</th>\n",
       "      <td>600</td>\n",
       "      <td>0.25</td>\n",
       "      <td>28</td>\n",
       "      <td>44</td>\n",
       "      <td>0.331579</td>\n",
       "      <td>2</td>\n",
       "      <td>auto</td>\n",
       "      <td>6</td>\n",
       "      <td>entropy</td>\n",
       "      <td>balanced_subsample</td>\n",
       "      <td>True</td>\n",
       "      <td>0.981250</td>\n",
       "      <td>20</td>\n",
       "    </tr>\n",
       "    <tr>\n",
       "      <th>20</th>\n",
       "      <td>1100</td>\n",
       "      <td>0.0</td>\n",
       "      <td>23</td>\n",
       "      <td>39</td>\n",
       "      <td>0.663158</td>\n",
       "      <td>None</td>\n",
       "      <td>sqrt</td>\n",
       "      <td>9</td>\n",
       "      <td>entropy</td>\n",
       "      <td>balanced</td>\n",
       "      <td>True</td>\n",
       "      <td>0.981250</td>\n",
       "      <td>20</td>\n",
       "    </tr>\n",
       "    <tr>\n",
       "      <th>21</th>\n",
       "      <td>700</td>\n",
       "      <td>0.25</td>\n",
       "      <td>12</td>\n",
       "      <td>22</td>\n",
       "      <td>0.378947</td>\n",
       "      <td>2</td>\n",
       "      <td>auto</td>\n",
       "      <td>9</td>\n",
       "      <td>entropy</td>\n",
       "      <td>balanced</td>\n",
       "      <td>True</td>\n",
       "      <td>0.981250</td>\n",
       "      <td>20</td>\n",
       "    </tr>\n",
       "    <tr>\n",
       "      <th>22</th>\n",
       "      <td>800</td>\n",
       "      <td>0.375</td>\n",
       "      <td>44</td>\n",
       "      <td>1</td>\n",
       "      <td>0.615789</td>\n",
       "      <td>53</td>\n",
       "      <td>auto</td>\n",
       "      <td>9</td>\n",
       "      <td>entropy</td>\n",
       "      <td>balanced_subsample</td>\n",
       "      <td>False</td>\n",
       "      <td>0.981250</td>\n",
       "      <td>20</td>\n",
       "    </tr>\n",
       "    <tr>\n",
       "      <th>23</th>\n",
       "      <td>1700</td>\n",
       "      <td>0.375</td>\n",
       "      <td>18</td>\n",
       "      <td>33</td>\n",
       "      <td>0.663158</td>\n",
       "      <td>None</td>\n",
       "      <td>sqrt</td>\n",
       "      <td>9</td>\n",
       "      <td>entropy</td>\n",
       "      <td>balanced</td>\n",
       "      <td>True</td>\n",
       "      <td>0.979688</td>\n",
       "      <td>24</td>\n",
       "    </tr>\n",
       "    <tr>\n",
       "      <th>24</th>\n",
       "      <td>2000</td>\n",
       "      <td>0.375</td>\n",
       "      <td>18</td>\n",
       "      <td>11</td>\n",
       "      <td>0.0</td>\n",
       "      <td>None</td>\n",
       "      <td>auto</td>\n",
       "      <td>9</td>\n",
       "      <td>entropy</td>\n",
       "      <td>balanced_subsample</td>\n",
       "      <td>True</td>\n",
       "      <td>0.979688</td>\n",
       "      <td>24</td>\n",
       "    </tr>\n",
       "    <tr>\n",
       "      <th>25</th>\n",
       "      <td>200</td>\n",
       "      <td>0.25</td>\n",
       "      <td>2</td>\n",
       "      <td>50</td>\n",
       "      <td>0.473684</td>\n",
       "      <td>None</td>\n",
       "      <td>sqrt</td>\n",
       "      <td>1</td>\n",
       "      <td>entropy</td>\n",
       "      <td>balanced_subsample</td>\n",
       "      <td>True</td>\n",
       "      <td>0.979688</td>\n",
       "      <td>24</td>\n",
       "    </tr>\n",
       "    <tr>\n",
       "      <th>26</th>\n",
       "      <td>1300</td>\n",
       "      <td>0.375</td>\n",
       "      <td>28</td>\n",
       "      <td>39</td>\n",
       "      <td>0.521053</td>\n",
       "      <td>12</td>\n",
       "      <td>sqrt</td>\n",
       "      <td>None</td>\n",
       "      <td>entropy</td>\n",
       "      <td>balanced_subsample</td>\n",
       "      <td>True</td>\n",
       "      <td>0.978125</td>\n",
       "      <td>27</td>\n",
       "    </tr>\n",
       "    <tr>\n",
       "      <th>27</th>\n",
       "      <td>500</td>\n",
       "      <td>0.25</td>\n",
       "      <td>44</td>\n",
       "      <td>1</td>\n",
       "      <td>0.331579</td>\n",
       "      <td>2</td>\n",
       "      <td>auto</td>\n",
       "      <td>1</td>\n",
       "      <td>entropy</td>\n",
       "      <td>balanced</td>\n",
       "      <td>False</td>\n",
       "      <td>0.978125</td>\n",
       "      <td>27</td>\n",
       "    </tr>\n",
       "    <tr>\n",
       "      <th>28</th>\n",
       "      <td>700</td>\n",
       "      <td>0.25</td>\n",
       "      <td>39</td>\n",
       "      <td>33</td>\n",
       "      <td>0.710526</td>\n",
       "      <td>53</td>\n",
       "      <td>sqrt</td>\n",
       "      <td>7</td>\n",
       "      <td>entropy</td>\n",
       "      <td>balanced</td>\n",
       "      <td>True</td>\n",
       "      <td>0.978125</td>\n",
       "      <td>27</td>\n",
       "    </tr>\n",
       "    <tr>\n",
       "      <th>29</th>\n",
       "      <td>400</td>\n",
       "      <td>0.375</td>\n",
       "      <td>34</td>\n",
       "      <td>33</td>\n",
       "      <td>0.284211</td>\n",
       "      <td>2</td>\n",
       "      <td>auto</td>\n",
       "      <td>6</td>\n",
       "      <td>entropy</td>\n",
       "      <td>balanced_subsample</td>\n",
       "      <td>True</td>\n",
       "      <td>0.978125</td>\n",
       "      <td>27</td>\n",
       "    </tr>\n",
       "  </tbody>\n",
       "</table>\n",
       "</div>"
      ],
      "text/plain": [
       "   param_n_estimators param_min_weight_fraction_leaf param_min_samples_split  \\\n",
       "0                1400                          0.125                      18   \n",
       "1                 900                          0.125                      34   \n",
       "2                 400                          0.125                      50   \n",
       "3                 100                            0.0                      18   \n",
       "4                 900                          0.125                      28   \n",
       "5                1600                            0.0                      34   \n",
       "6                 300                          0.125                      28   \n",
       "7                 800                            0.0                       7   \n",
       "8                1700                          0.125                      12   \n",
       "9                 100                          0.125                      23   \n",
       "10               1600                           0.25                      50   \n",
       "11               1900                          0.125                      39   \n",
       "12                900                          0.375                      34   \n",
       "13                800                           0.25                      50   \n",
       "14               1400                          0.375                      12   \n",
       "15                200                          0.375                      50   \n",
       "16               1900                          0.375                      23   \n",
       "17                700                          0.375                      34   \n",
       "18               1700                           0.25                       7   \n",
       "19                600                           0.25                      28   \n",
       "20               1100                            0.0                      23   \n",
       "21                700                           0.25                      12   \n",
       "22                800                          0.375                      44   \n",
       "23               1700                          0.375                      18   \n",
       "24               2000                          0.375                      18   \n",
       "25                200                           0.25                       2   \n",
       "26               1300                          0.375                      28   \n",
       "27                500                           0.25                      44   \n",
       "28                700                           0.25                      39   \n",
       "29                400                          0.375                      34   \n",
       "\n",
       "   param_min_samples_leaf param_min_impurity_decrease param_max_leaf_nodes  \\\n",
       "0                      17                    0.094737                 None   \n",
       "1                      17                    0.094737                    2   \n",
       "2                      28                    0.142105                    2   \n",
       "3                      17                    0.142105                   12   \n",
       "4                       6                    0.426316                   53   \n",
       "5                      11                    0.284211                 None   \n",
       "6                      28                    0.378947                   53   \n",
       "7                      17                    0.047368                 None   \n",
       "8                      44                    0.236842                 None   \n",
       "9                      44                    0.284211                   53   \n",
       "10                     44                    0.142105                   12   \n",
       "11                     28                    0.284211                 None   \n",
       "12                      6                         0.0                   98   \n",
       "13                     33                    0.142105                    2   \n",
       "14                     17                    0.142105                 None   \n",
       "15                     50                         0.0                   12   \n",
       "16                     17                    0.331579                 None   \n",
       "17                     33                    0.236842                 None   \n",
       "18                     50                    0.615789                    2   \n",
       "19                     44                    0.331579                    2   \n",
       "20                     39                    0.663158                 None   \n",
       "21                     22                    0.378947                    2   \n",
       "22                      1                    0.615789                   53   \n",
       "23                     33                    0.663158                 None   \n",
       "24                     11                         0.0                 None   \n",
       "25                     50                    0.473684                 None   \n",
       "26                     39                    0.521053                   12   \n",
       "27                      1                    0.331579                    2   \n",
       "28                     33                    0.710526                   53   \n",
       "29                     33                    0.284211                    2   \n",
       "\n",
       "   param_max_features param_max_depth param_criterion  param_class_weight  \\\n",
       "0                sqrt            None            gini            balanced   \n",
       "1                log2            None            gini            balanced   \n",
       "2                auto               7            gini            balanced   \n",
       "3                auto               9            gini  balanced_subsample   \n",
       "4                sqrt               6         entropy            balanced   \n",
       "5                auto               7         entropy            balanced   \n",
       "6                auto               7         entropy  balanced_subsample   \n",
       "7                log2               6         entropy            balanced   \n",
       "8                log2               9         entropy                None   \n",
       "9                auto            None         entropy  balanced_subsample   \n",
       "10               auto               6         entropy  balanced_subsample   \n",
       "11               auto               9         entropy                None   \n",
       "12               log2            None            gini  balanced_subsample   \n",
       "13               sqrt               6            gini            balanced   \n",
       "14               log2               1         entropy            balanced   \n",
       "15               log2               1            gini            balanced   \n",
       "16               log2               6         entropy  balanced_subsample   \n",
       "17               log2               7         entropy  balanced_subsample   \n",
       "18               auto            None         entropy  balanced_subsample   \n",
       "19               auto               6         entropy  balanced_subsample   \n",
       "20               sqrt               9         entropy            balanced   \n",
       "21               auto               9         entropy            balanced   \n",
       "22               auto               9         entropy  balanced_subsample   \n",
       "23               sqrt               9         entropy            balanced   \n",
       "24               auto               9         entropy  balanced_subsample   \n",
       "25               sqrt               1         entropy  balanced_subsample   \n",
       "26               sqrt            None         entropy  balanced_subsample   \n",
       "27               auto               1         entropy            balanced   \n",
       "28               sqrt               7         entropy            balanced   \n",
       "29               auto               6         entropy  balanced_subsample   \n",
       "\n",
       "   param_bootstrap  mean_test_score  rank_test_score  \n",
       "0            False         0.998437                1  \n",
       "1             True         0.996875                2  \n",
       "2             True         0.996875                2  \n",
       "3             True         0.996875                2  \n",
       "4             True         0.995313                5  \n",
       "5             True         0.995313                5  \n",
       "6             True         0.995313                5  \n",
       "7             True         0.995313                5  \n",
       "8            False         0.995313                5  \n",
       "9            False         0.993750               10  \n",
       "10            True         0.992188               11  \n",
       "11           False         0.992188               11  \n",
       "12            True         0.990625               13  \n",
       "13            True         0.990625               13  \n",
       "14           False         0.990625               13  \n",
       "15           False         0.989062               16  \n",
       "16           False         0.989062               16  \n",
       "17            True         0.985938               18  \n",
       "18            True         0.982812               19  \n",
       "19            True         0.981250               20  \n",
       "20            True         0.981250               20  \n",
       "21            True         0.981250               20  \n",
       "22           False         0.981250               20  \n",
       "23            True         0.979688               24  \n",
       "24            True         0.979688               24  \n",
       "25            True         0.979688               24  \n",
       "26            True         0.978125               27  \n",
       "27           False         0.978125               27  \n",
       "28            True         0.978125               27  \n",
       "29            True         0.978125               27  "
      ]
     },
     "execution_count": 117,
     "metadata": {},
     "output_type": "execute_result"
    }
   ],
   "source": [
    "RS2_modelresults.head(30)"
   ]
  },
  {
   "cell_type": "code",
   "execution_count": 118,
   "id": "27399468",
   "metadata": {},
   "outputs": [
    {
     "name": "stdout",
     "output_type": "stream",
     "text": [
      "tuned hyperparameters RS_CV:  {'n_estimators': 1400, 'min_weight_fraction_leaf': 0.125, 'min_samples_split': 18, 'min_samples_leaf': 17, 'min_impurity_decrease': 0.09473684210526316, 'max_leaf_nodes': None, 'max_features': 'sqrt', 'max_depth': None, 'criterion': 'gini', 'class_weight': 'balanced', 'bootstrap': False}\n",
      "tuned highest score RS_CV:  0.9984375\n"
     ]
    }
   ],
   "source": [
    "#Best tuned Parameters\n",
    "print(\"tuned hyperparameters RS_CV: \",RS2_model.best_params_)\n",
    "print(\"tuned highest score RS_CV: \",RS2_model.best_score_)"
   ]
  },
  {
   "cell_type": "markdown",
   "id": "921926af",
   "metadata": {},
   "source": [
    "## Secondary HyperParameter tuning - using GridSearchCV\n",
    "Obeservatios from the top 30 fields in Results of RandomizedSearchCV is used to analyze parameter range for GridSearchCV"
   ]
  },
  {
   "cell_type": "code",
   "execution_count": 123,
   "id": "6798919a",
   "metadata": {},
   "outputs": [],
   "source": [
    "#Data\n",
    "X_GS2_train,X_GS2_test,y_GS2_train,y_GS2_test = tts(X_MI,y, \n",
    "                                    test_size=0.20,\n",
    "                                    random_state=42,\n",
    "                                    stratify=y)"
   ]
  },
  {
   "cell_type": "code",
   "execution_count": 134,
   "id": "8b59fe1e",
   "metadata": {},
   "outputs": [],
   "source": [
    "#Parameters for GridSearchCV\n",
    "GS2_parameters = {\n",
    "              \"n_estimators\":(100,400,1000),\n",
    "              \"criterion\": (\"gini\",\"entropy\"),   \n",
    "              \"max_depth\":(1,7,9,None),\n",
    "#               \"min_samples_split\":(10,30,50),\n",
    "#               \"min_samples_leaf\":(10,30,50),\n",
    "#               \"min_weight_fraction_leaf\": (0.0,0.20,0.40),\n",
    "              \"max_features\":(\"auto\",\"sqrt\",\"log2\"),\n",
    "              \"max_leaf_nodes\":(2,10,50,None),\n",
    "#               \"min_impurity_decrease\":(0.0,0.10,0.40),\n",
    "              \"bootstrap\": [True, False],\n",
    "              \"class_weight\":(\"balanced\",\"balanced_subsample\",None)\n",
    "             }\n"
   ]
  },
  {
   "cell_type": "code",
   "execution_count": 135,
   "id": "e73c27e2",
   "metadata": {},
   "outputs": [
    {
     "name": "stdout",
     "output_type": "stream",
     "text": [
      "Fitting 3 folds for each of 1728 candidates, totalling 5184 fits\n"
     ]
    },
    {
     "data": {
      "text/plain": [
       "GridSearchCV(cv=3, estimator=RandomForestClassifier(), n_jobs=-1,\n",
       "             param_grid={'bootstrap': [True, False],\n",
       "                         'class_weight': ('balanced', 'balanced_subsample',\n",
       "                                          None),\n",
       "                         'criterion': ('gini', 'entropy'),\n",
       "                         'max_depth': (1, 7, 9, None),\n",
       "                         'max_features': ('auto', 'sqrt', 'log2'),\n",
       "                         'max_leaf_nodes': (2, 10, 50, None),\n",
       "                         'n_estimators': (100, 400, 1000)},\n",
       "             verbose=10)"
      ]
     },
     "execution_count": 135,
     "metadata": {},
     "output_type": "execute_result"
    }
   ],
   "source": [
    "#GridSearchCV\n",
    "GS2_model = GridSearchCV(RandomForestClassifier(), GS2_parameters, cv=3, verbose = 10, n_jobs=-1)\n",
    "GS2_model.fit(X_GS2_train, y_GS2_train)"
   ]
  },
  {
   "cell_type": "code",
   "execution_count": 136,
   "id": "ec3d34a4",
   "metadata": {},
   "outputs": [],
   "source": [
    "#Results\n",
    "GS2_modelresults = pd.DataFrame(GS2_model.cv_results_).sort_values('rank_test_score').reset_index(drop=True)\n",
    "GS2_modelresults = GS2_modelresults.drop([\n",
    "           'mean_fit_time', \n",
    "           'std_fit_time', \n",
    "           'mean_score_time',\n",
    "           'std_score_time', \n",
    "           'params', \n",
    "           'split0_test_score', \n",
    "           'split1_test_score', \n",
    "           'split2_test_score', \n",
    "#            'split3_test_score',\n",
    "#            'split4_test_score',\n",
    "           'std_test_score'\n",
    "           ],\n",
    "           axis=1)\n"
   ]
  },
  {
   "cell_type": "code",
   "execution_count": 137,
   "id": "bf17a5af",
   "metadata": {},
   "outputs": [
    {
     "data": {
      "text/html": [
       "<div>\n",
       "<style scoped>\n",
       "    .dataframe tbody tr th:only-of-type {\n",
       "        vertical-align: middle;\n",
       "    }\n",
       "\n",
       "    .dataframe tbody tr th {\n",
       "        vertical-align: top;\n",
       "    }\n",
       "\n",
       "    .dataframe thead th {\n",
       "        text-align: right;\n",
       "    }\n",
       "</style>\n",
       "<table border=\"1\" class=\"dataframe\">\n",
       "  <thead>\n",
       "    <tr style=\"text-align: right;\">\n",
       "      <th></th>\n",
       "      <th>param_bootstrap</th>\n",
       "      <th>param_class_weight</th>\n",
       "      <th>param_criterion</th>\n",
       "      <th>param_max_depth</th>\n",
       "      <th>param_max_features</th>\n",
       "      <th>param_max_leaf_nodes</th>\n",
       "      <th>param_n_estimators</th>\n",
       "      <th>mean_test_score</th>\n",
       "      <th>rank_test_score</th>\n",
       "    </tr>\n",
       "  </thead>\n",
       "  <tbody>\n",
       "    <tr>\n",
       "      <th>0</th>\n",
       "      <td>True</td>\n",
       "      <td>balanced</td>\n",
       "      <td>gini</td>\n",
       "      <td>1</td>\n",
       "      <td>auto</td>\n",
       "      <td>50</td>\n",
       "      <td>400</td>\n",
       "      <td>1.000000</td>\n",
       "      <td>1</td>\n",
       "    </tr>\n",
       "    <tr>\n",
       "      <th>1</th>\n",
       "      <td>True</td>\n",
       "      <td>None</td>\n",
       "      <td>gini</td>\n",
       "      <td>7</td>\n",
       "      <td>log2</td>\n",
       "      <td>50</td>\n",
       "      <td>100</td>\n",
       "      <td>0.998435</td>\n",
       "      <td>2</td>\n",
       "    </tr>\n",
       "    <tr>\n",
       "      <th>2</th>\n",
       "      <td>False</td>\n",
       "      <td>None</td>\n",
       "      <td>gini</td>\n",
       "      <td>9</td>\n",
       "      <td>sqrt</td>\n",
       "      <td>None</td>\n",
       "      <td>1000</td>\n",
       "      <td>0.998435</td>\n",
       "      <td>2</td>\n",
       "    </tr>\n",
       "    <tr>\n",
       "      <th>3</th>\n",
       "      <td>False</td>\n",
       "      <td>None</td>\n",
       "      <td>gini</td>\n",
       "      <td>9</td>\n",
       "      <td>sqrt</td>\n",
       "      <td>None</td>\n",
       "      <td>400</td>\n",
       "      <td>0.998435</td>\n",
       "      <td>2</td>\n",
       "    </tr>\n",
       "    <tr>\n",
       "      <th>4</th>\n",
       "      <td>False</td>\n",
       "      <td>None</td>\n",
       "      <td>gini</td>\n",
       "      <td>9</td>\n",
       "      <td>sqrt</td>\n",
       "      <td>None</td>\n",
       "      <td>100</td>\n",
       "      <td>0.998435</td>\n",
       "      <td>2</td>\n",
       "    </tr>\n",
       "  </tbody>\n",
       "</table>\n",
       "</div>"
      ],
      "text/plain": [
       "  param_bootstrap param_class_weight param_criterion param_max_depth  \\\n",
       "0            True           balanced            gini               1   \n",
       "1            True               None            gini               7   \n",
       "2           False               None            gini               9   \n",
       "3           False               None            gini               9   \n",
       "4           False               None            gini               9   \n",
       "\n",
       "  param_max_features param_max_leaf_nodes param_n_estimators  mean_test_score  \\\n",
       "0               auto                   50                400         1.000000   \n",
       "1               log2                   50                100         0.998435   \n",
       "2               sqrt                 None               1000         0.998435   \n",
       "3               sqrt                 None                400         0.998435   \n",
       "4               sqrt                 None                100         0.998435   \n",
       "\n",
       "   rank_test_score  \n",
       "0                1  \n",
       "1                2  \n",
       "2                2  \n",
       "3                2  \n",
       "4                2  "
      ]
     },
     "execution_count": 137,
     "metadata": {},
     "output_type": "execute_result"
    }
   ],
   "source": [
    "GS2_modelresults.head(5)"
   ]
  },
  {
   "cell_type": "code",
   "execution_count": 138,
   "id": "d0d80bed",
   "metadata": {},
   "outputs": [
    {
     "name": "stdout",
     "output_type": "stream",
     "text": [
      "tuned hyperparameters GS_CV:  {'bootstrap': True, 'class_weight': 'balanced', 'criterion': 'gini', 'max_depth': 1, 'max_features': 'auto', 'max_leaf_nodes': 50, 'n_estimators': 400}\n",
      "tuned highest score GS_CV:  1.0\n"
     ]
    }
   ],
   "source": [
    "#Best tuned parameters\n",
    "print(\"tuned hyperparameters GS_CV: \",GS2_model.best_params_)\n",
    "print(\"tuned highest score GS_CV: \",GS2_model.best_score_)\n"
   ]
  },
  {
   "cell_type": "code",
   "execution_count": 140,
   "id": "da2a4c8a",
   "metadata": {},
   "outputs": [
    {
     "name": "stdout",
     "output_type": "stream",
     "text": [
      "Tuned Best Test Result:  0.9937888198757764\n"
     ]
    }
   ],
   "source": [
    "#Best tuned Model selection & scoring\n",
    "BestModelRF_mi = RandomForestClassifier(bootstrap=True,\n",
    "                   class_weight=\"balanced\",\n",
    "                   criterion=\"gini\",\n",
    "                   max_depth=1,\n",
    "                   max_features=\"auto\",\n",
    "                   max_leaf_nodes=50,\n",
    "                   n_estimators=400\n",
    "                  )\n",
    "BestModelRF_mi.fit(X_GS2_train,y_GS2_train)\n",
    "print(\"Tuned Best Test Result: \",\n",
    "     BestModelRF_mi.score(X_GS2_test,y_GS2_test))"
   ]
  },
  {
   "cell_type": "code",
   "execution_count": 141,
   "id": "9a4d546b",
   "metadata": {},
   "outputs": [
    {
     "data": {
      "text/plain": [
       "{'bootstrap': True,\n",
       " 'ccp_alpha': 0.0,\n",
       " 'class_weight': 'balanced',\n",
       " 'criterion': 'gini',\n",
       " 'max_depth': 1,\n",
       " 'max_features': 'auto',\n",
       " 'max_leaf_nodes': 50,\n",
       " 'max_samples': None,\n",
       " 'min_impurity_decrease': 0.0,\n",
       " 'min_impurity_split': None,\n",
       " 'min_samples_leaf': 1,\n",
       " 'min_samples_split': 2,\n",
       " 'min_weight_fraction_leaf': 0.0,\n",
       " 'n_estimators': 400,\n",
       " 'n_jobs': None,\n",
       " 'oob_score': False,\n",
       " 'random_state': None,\n",
       " 'verbose': 0,\n",
       " 'warm_start': False}"
      ]
     },
     "execution_count": 141,
     "metadata": {},
     "output_type": "execute_result"
    }
   ],
   "source": [
    "#Best tuned Model parameters\n",
    "BestModelRF_mi.get_params()"
   ]
  },
  {
   "cell_type": "markdown",
   "id": "3adb7ed6",
   "metadata": {},
   "source": [
    "## EVALUATION (RF model_mi)"
   ]
  },
  {
   "cell_type": "code",
   "execution_count": 357,
   "id": "7ffda71a",
   "metadata": {},
   "outputs": [
    {
     "data": {
      "text/html": [
       "<div>\n",
       "<style scoped>\n",
       "    .dataframe tbody tr th:only-of-type {\n",
       "        vertical-align: middle;\n",
       "    }\n",
       "\n",
       "    .dataframe tbody tr th {\n",
       "        vertical-align: top;\n",
       "    }\n",
       "\n",
       "    .dataframe thead th {\n",
       "        text-align: right;\n",
       "    }\n",
       "</style>\n",
       "<table border=\"1\" class=\"dataframe\">\n",
       "  <thead>\n",
       "    <tr style=\"text-align: right;\">\n",
       "      <th></th>\n",
       "      <th>BRCA</th>\n",
       "      <th>KIRC</th>\n",
       "      <th>LUAD</th>\n",
       "      <th>PRAD</th>\n",
       "      <th>COAD</th>\n",
       "    </tr>\n",
       "  </thead>\n",
       "  <tbody>\n",
       "    <tr>\n",
       "      <th>BRCA</th>\n",
       "      <td>60</td>\n",
       "      <td>0</td>\n",
       "      <td>0</td>\n",
       "      <td>0</td>\n",
       "      <td>0</td>\n",
       "    </tr>\n",
       "    <tr>\n",
       "      <th>KIRC</th>\n",
       "      <td>0</td>\n",
       "      <td>16</td>\n",
       "      <td>0</td>\n",
       "      <td>0</td>\n",
       "      <td>0</td>\n",
       "    </tr>\n",
       "    <tr>\n",
       "      <th>LUAD</th>\n",
       "      <td>0</td>\n",
       "      <td>0</td>\n",
       "      <td>30</td>\n",
       "      <td>0</td>\n",
       "      <td>0</td>\n",
       "    </tr>\n",
       "    <tr>\n",
       "      <th>PRAD</th>\n",
       "      <td>1</td>\n",
       "      <td>0</td>\n",
       "      <td>0</td>\n",
       "      <td>27</td>\n",
       "      <td>0</td>\n",
       "    </tr>\n",
       "    <tr>\n",
       "      <th>COAD</th>\n",
       "      <td>0</td>\n",
       "      <td>0</td>\n",
       "      <td>0</td>\n",
       "      <td>0</td>\n",
       "      <td>27</td>\n",
       "    </tr>\n",
       "  </tbody>\n",
       "</table>\n",
       "</div>"
      ],
      "text/plain": [
       "      BRCA  KIRC  LUAD  PRAD  COAD\n",
       "BRCA    60     0     0     0     0\n",
       "KIRC     0    16     0     0     0\n",
       "LUAD     0     0    30     0     0\n",
       "PRAD     1     0     0    27     0\n",
       "COAD     0     0     0     0    27"
      ]
     },
     "metadata": {},
     "output_type": "display_data"
    },
    {
     "name": "stdout",
     "output_type": "stream",
     "text": [
      "Random Forest Classifier Model: f1 score - 0.994710743801653\n"
     ]
    }
   ],
   "source": [
    "Eval_predict_RF = BestModelRF_mi.predict(X_GS2_test)\n",
    "confusion_matrix_RF = pd.DataFrame(confusion_matrix(y_GS2_test, Eval_predict_RF), \n",
    "                                     index = ['BRCA', 'KIRC', 'LUAD', 'PRAD', 'COAD'], \n",
    "                                     columns = ['BRCA', 'KIRC', 'LUAD', 'PRAD', 'COAD'])\n",
    "display(confusion_matrix_RF)\n",
    "print('Random Forest Classifier Model: f1 score -', f1_score(y_GS2_test, Eval_predict_RF,average='macro'))\n"
   ]
  },
  {
   "cell_type": "markdown",
   "id": "86162f95",
   "metadata": {},
   "source": [
    "$\\;\\;\\;\\;$"
   ]
  },
  {
   "cell_type": "markdown",
   "id": "bbc1cb2b",
   "metadata": {},
   "source": [
    "$\\;\\;\\;\\;$"
   ]
  },
  {
   "cell_type": "markdown",
   "id": "63dee5c4",
   "metadata": {},
   "source": [
    "## KNN MODEL(default)"
   ]
  },
  {
   "cell_type": "code",
   "execution_count": 185,
   "id": "dea619d7",
   "metadata": {},
   "outputs": [],
   "source": [
    "from sklearn.neighbors import KNeighborsClassifier"
   ]
  },
  {
   "cell_type": "code",
   "execution_count": 186,
   "id": "df5b0b38",
   "metadata": {},
   "outputs": [],
   "source": [
    "knn = KNeighborsClassifier()"
   ]
  },
  {
   "cell_type": "markdown",
   "id": "43a5e402",
   "metadata": {},
   "source": [
    "##### KNN MODEL - Fature Extraction : MutualInformation"
   ]
  },
  {
   "cell_type": "code",
   "execution_count": 187,
   "id": "61ba90bd",
   "metadata": {},
   "outputs": [
    {
     "name": "stdout",
     "output_type": "stream",
     "text": [
      "0.9937888198757764\n"
     ]
    }
   ],
   "source": [
    "X_KNN_mi_train, X_KNN_mi_test, y_KNN_mi_train, y_KNN_mi_test = tts(X_MI,y,\n",
    "                                                                   test_size=0.20,\n",
    "                                                                   random_state=42,\n",
    "                                                                   stratify=y)\n",
    "                                    \n",
    "BaseModelKNN_mi = knn.fit(X_KNN_mi_train,y_KNN_mi_train)\n",
    "score = BaseModelKNN_mi.score(X_KNN_mi_test,y_KNN_mi_test)\n",
    "print(score)"
   ]
  },
  {
   "cell_type": "markdown",
   "id": "67f30f99",
   "metadata": {},
   "source": [
    "##### KNN MODEL - Parameters : KNN_mi"
   ]
  },
  {
   "cell_type": "code",
   "execution_count": 188,
   "id": "01e35ac6",
   "metadata": {},
   "outputs": [
    {
     "data": {
      "text/plain": [
       "{'algorithm': 'auto',\n",
       " 'leaf_size': 30,\n",
       " 'metric': 'minkowski',\n",
       " 'metric_params': None,\n",
       " 'n_jobs': None,\n",
       " 'n_neighbors': 5,\n",
       " 'p': 2,\n",
       " 'weights': 'uniform'}"
      ]
     },
     "metadata": {},
     "output_type": "display_data"
    }
   ],
   "source": [
    "display(BaseModelKNN_mi.get_params())"
   ]
  },
  {
   "cell_type": "markdown",
   "id": "850a460b",
   "metadata": {},
   "source": [
    "## TUNING KNNClassifier"
   ]
  },
  {
   "cell_type": "markdown",
   "id": "799dd3f7",
   "metadata": {},
   "source": [
    "## Primary HyperParameter tuning - using RandomizedSearchCV"
   ]
  },
  {
   "cell_type": "code",
   "execution_count": 210,
   "id": "95257a82",
   "metadata": {},
   "outputs": [
    {
     "name": "stdout",
     "output_type": "stream",
     "text": [
      "Fitting 5 folds for each of 100 candidates, totalling 500 fits\n"
     ]
    }
   ],
   "source": [
    "#Data\n",
    "X_RS3_train,X_RS3_test,y_RS3_train,y_RS3_test = tts(X_MI,y, \n",
    "                                    test_size=0.20,\n",
    "                                    random_state=42,\n",
    "                                    stratify=y)\n",
    "\n",
    "#Normalising data for better results\n",
    "X_scaled_RS3_train = sc.fit_transform(X_RS3_train)\n",
    "X_scaled_RS3_test = sc.fit_transform(X_RS3_test)\n",
    "\n",
    "#Seed for reproducibility\n",
    "seed(1)\n",
    "\n",
    "#Parameters for RandomizedSearchCV\n",
    "RS3_parameters = {\"n_neighbors\":[int(x) for x in np.linspace(start = 1, stop = 200, num = 1)],\n",
    "              \"weights\":(\"uniform\",\"distance\"),\n",
    "              \"algorithm\":(\"auto\",\"ball_tree\",\"kd_tree\",\"brute\"),\n",
    "              \"leaf_size\":[int(x) for x in np.linspace(start = 1, stop = 100, num = 10)],\n",
    "              \"p\":[int(x) for x in np.linspace(start = 1, stop = 10, num = 1)],\n",
    "              \"metric\":(\"euclidean\",\"manhattan\",\"minkowski\",\"seuclidean\")\n",
    "               }\n",
    "\n",
    "#RandomizedSearchCV\n",
    "RS3_model = RandomizedSearchCV(estimator=KNeighborsClassifier(),\n",
    "                             param_distributions=RS3_parameters,\n",
    "                             n_jobs=-1,\n",
    "                             n_iter=100,\n",
    "                             random_state=2,\n",
    "                             verbose=10)\n",
    "RS3_model.fit(X_scaled_RS3_train,y_RS3_train)\n",
    "\n",
    "#Results\n",
    "RS3_modelresults = pd.DataFrame(RS3_model.cv_results_).sort_values('rank_test_score').reset_index(drop=True)\n",
    "RS3_modelresults = RS3_modelresults.drop([\n",
    "           'mean_fit_time', \n",
    "           'std_fit_time', \n",
    "           'mean_score_time',\n",
    "           'std_score_time', \n",
    "           'params', \n",
    "           'split0_test_score', \n",
    "           'split1_test_score', \n",
    "           'split2_test_score', \n",
    "           'split3_test_score',\n",
    "           'split4_test_score',\n",
    "           'std_test_score'\n",
    "           ],\n",
    "           axis=1)\n",
    "\n",
    "\n"
   ]
  },
  {
   "cell_type": "code",
   "execution_count": 194,
   "id": "25d55cfb",
   "metadata": {},
   "outputs": [
    {
     "data": {
      "text/html": [
       "<div>\n",
       "<style scoped>\n",
       "    .dataframe tbody tr th:only-of-type {\n",
       "        vertical-align: middle;\n",
       "    }\n",
       "\n",
       "    .dataframe tbody tr th {\n",
       "        vertical-align: top;\n",
       "    }\n",
       "\n",
       "    .dataframe thead th {\n",
       "        text-align: right;\n",
       "    }\n",
       "</style>\n",
       "<table border=\"1\" class=\"dataframe\">\n",
       "  <thead>\n",
       "    <tr style=\"text-align: right;\">\n",
       "      <th></th>\n",
       "      <th>param_weights</th>\n",
       "      <th>param_p</th>\n",
       "      <th>param_n_neighbors</th>\n",
       "      <th>param_metric</th>\n",
       "      <th>param_leaf_size</th>\n",
       "      <th>param_algorithm</th>\n",
       "      <th>mean_test_score</th>\n",
       "      <th>rank_test_score</th>\n",
       "    </tr>\n",
       "  </thead>\n",
       "  <tbody>\n",
       "    <tr>\n",
       "      <th>0</th>\n",
       "      <td>uniform</td>\n",
       "      <td>1</td>\n",
       "      <td>1</td>\n",
       "      <td>manhattan</td>\n",
       "      <td>89</td>\n",
       "      <td>auto</td>\n",
       "      <td>0.996875</td>\n",
       "      <td>1</td>\n",
       "    </tr>\n",
       "    <tr>\n",
       "      <th>1</th>\n",
       "      <td>distance</td>\n",
       "      <td>1</td>\n",
       "      <td>1</td>\n",
       "      <td>manhattan</td>\n",
       "      <td>100</td>\n",
       "      <td>ball_tree</td>\n",
       "      <td>0.996875</td>\n",
       "      <td>1</td>\n",
       "    </tr>\n",
       "    <tr>\n",
       "      <th>2</th>\n",
       "      <td>distance</td>\n",
       "      <td>1</td>\n",
       "      <td>1</td>\n",
       "      <td>euclidean</td>\n",
       "      <td>100</td>\n",
       "      <td>brute</td>\n",
       "      <td>0.996875</td>\n",
       "      <td>1</td>\n",
       "    </tr>\n",
       "    <tr>\n",
       "      <th>3</th>\n",
       "      <td>uniform</td>\n",
       "      <td>1</td>\n",
       "      <td>1</td>\n",
       "      <td>manhattan</td>\n",
       "      <td>23</td>\n",
       "      <td>brute</td>\n",
       "      <td>0.996875</td>\n",
       "      <td>1</td>\n",
       "    </tr>\n",
       "    <tr>\n",
       "      <th>4</th>\n",
       "      <td>uniform</td>\n",
       "      <td>1</td>\n",
       "      <td>1</td>\n",
       "      <td>manhattan</td>\n",
       "      <td>23</td>\n",
       "      <td>kd_tree</td>\n",
       "      <td>0.996875</td>\n",
       "      <td>1</td>\n",
       "    </tr>\n",
       "    <tr>\n",
       "      <th>5</th>\n",
       "      <td>uniform</td>\n",
       "      <td>1</td>\n",
       "      <td>1</td>\n",
       "      <td>manhattan</td>\n",
       "      <td>1</td>\n",
       "      <td>auto</td>\n",
       "      <td>0.996875</td>\n",
       "      <td>1</td>\n",
       "    </tr>\n",
       "    <tr>\n",
       "      <th>6</th>\n",
       "      <td>uniform</td>\n",
       "      <td>1</td>\n",
       "      <td>1</td>\n",
       "      <td>minkowski</td>\n",
       "      <td>12</td>\n",
       "      <td>kd_tree</td>\n",
       "      <td>0.996875</td>\n",
       "      <td>1</td>\n",
       "    </tr>\n",
       "    <tr>\n",
       "      <th>7</th>\n",
       "      <td>distance</td>\n",
       "      <td>1</td>\n",
       "      <td>1</td>\n",
       "      <td>manhattan</td>\n",
       "      <td>12</td>\n",
       "      <td>ball_tree</td>\n",
       "      <td>0.996875</td>\n",
       "      <td>1</td>\n",
       "    </tr>\n",
       "    <tr>\n",
       "      <th>8</th>\n",
       "      <td>uniform</td>\n",
       "      <td>1</td>\n",
       "      <td>1</td>\n",
       "      <td>euclidean</td>\n",
       "      <td>100</td>\n",
       "      <td>ball_tree</td>\n",
       "      <td>0.996875</td>\n",
       "      <td>1</td>\n",
       "    </tr>\n",
       "    <tr>\n",
       "      <th>9</th>\n",
       "      <td>uniform</td>\n",
       "      <td>1</td>\n",
       "      <td>1</td>\n",
       "      <td>manhattan</td>\n",
       "      <td>89</td>\n",
       "      <td>kd_tree</td>\n",
       "      <td>0.996875</td>\n",
       "      <td>1</td>\n",
       "    </tr>\n",
       "  </tbody>\n",
       "</table>\n",
       "</div>"
      ],
      "text/plain": [
       "  param_weights param_p param_n_neighbors param_metric param_leaf_size  \\\n",
       "0       uniform       1                 1    manhattan              89   \n",
       "1      distance       1                 1    manhattan             100   \n",
       "2      distance       1                 1    euclidean             100   \n",
       "3       uniform       1                 1    manhattan              23   \n",
       "4       uniform       1                 1    manhattan              23   \n",
       "5       uniform       1                 1    manhattan               1   \n",
       "6       uniform       1                 1    minkowski              12   \n",
       "7      distance       1                 1    manhattan              12   \n",
       "8       uniform       1                 1    euclidean             100   \n",
       "9       uniform       1                 1    manhattan              89   \n",
       "\n",
       "  param_algorithm  mean_test_score  rank_test_score  \n",
       "0            auto         0.996875                1  \n",
       "1       ball_tree         0.996875                1  \n",
       "2           brute         0.996875                1  \n",
       "3           brute         0.996875                1  \n",
       "4         kd_tree         0.996875                1  \n",
       "5            auto         0.996875                1  \n",
       "6         kd_tree         0.996875                1  \n",
       "7       ball_tree         0.996875                1  \n",
       "8       ball_tree         0.996875                1  \n",
       "9         kd_tree         0.996875                1  "
      ]
     },
     "execution_count": 194,
     "metadata": {},
     "output_type": "execute_result"
    }
   ],
   "source": [
    "RS3_modelresults.head(10)"
   ]
  },
  {
   "cell_type": "code",
   "execution_count": 195,
   "id": "091743d1",
   "metadata": {},
   "outputs": [
    {
     "name": "stdout",
     "output_type": "stream",
     "text": [
      "tuned hyperparameters RS_CV:  {'weights': 'distance', 'p': 1, 'n_neighbors': 1, 'metric': 'seuclidean', 'leaf_size': 1, 'algorithm': 'auto'}\n",
      "tuned highest score RS_CV:  0.996875\n"
     ]
    }
   ],
   "source": [
    "#Best tuned Parameters\n",
    "print(\"tuned hyperparameters RS_CV: \",RS3_model.best_params_)\n",
    "print(\"tuned highest score RS_CV: \",RS3_model.best_score_)"
   ]
  },
  {
   "cell_type": "markdown",
   "id": "2bea6af4",
   "metadata": {},
   "source": [
    "## Secondary HyperParameter tuning - using GridSearchCV\n",
    "Obeservatios from the top 10 fields in Results of RandomizedSearchCV is used to analyze parameter range for GridSearchCV"
   ]
  },
  {
   "cell_type": "code",
   "execution_count": 197,
   "id": "549e71bb",
   "metadata": {},
   "outputs": [],
   "source": [
    "#Data\n",
    "X_GS3_train,X_GS3_test,y_GS3_train,y_GS3_test = tts(X_MI,y, \n",
    "                                    test_size=0.20,\n",
    "                                    random_state=42,\n",
    "                                    stratify=y)"
   ]
  },
  {
   "cell_type": "code",
   "execution_count": 198,
   "id": "de38da80",
   "metadata": {},
   "outputs": [],
   "source": [
    "#Normalising data for better results\n",
    "X_scaled_GS3_train = sc.fit_transform(X_GS3_train)\n",
    "X_scaled_GS3_test = sc.fit_transform(X_GS3_test)"
   ]
  },
  {
   "cell_type": "code",
   "execution_count": 200,
   "id": "2d2500f2",
   "metadata": {},
   "outputs": [],
   "source": [
    "#Parameters for GridSearchCV\n",
    "GS3_parameters = { \"n_neighbors\":[int(x) for x in np.linspace(start = 1, stop = 200, num = 1)],\n",
    "              \"weights\":(\"uniform\",\"distance\"),\n",
    "              \"algorithm\":(\"auto\",\"ball_tree\",\"kd_tree\",\"brute\"),\n",
    "              \"leaf_size\":[int(x) for x in np.linspace(start = 1, stop = 100, num = 10)],\n",
    "              \"p\":[int(x) for x in np.linspace(start = 1, stop = 10, num = 1)],\n",
    "              \"metric\":(\"euclidean\",\"manhattan\",\"minkowski\",\"seuclidean\")\n",
    "             }\n"
   ]
  },
  {
   "cell_type": "code",
   "execution_count": 211,
   "id": "f71e4867",
   "metadata": {},
   "outputs": [
    {
     "name": "stdout",
     "output_type": "stream",
     "text": [
      "Fitting 3 folds for each of 320 candidates, totalling 960 fits\n"
     ]
    },
    {
     "data": {
      "text/plain": [
       "GridSearchCV(cv=3, estimator=KNeighborsClassifier(), n_jobs=-1,\n",
       "             param_grid={'algorithm': ('auto', 'ball_tree', 'kd_tree', 'brute'),\n",
       "                         'leaf_size': [1, 12, 23, 34, 45, 56, 67, 78, 89, 100],\n",
       "                         'metric': ('euclidean', 'manhattan', 'minkowski',\n",
       "                                    'seuclidean'),\n",
       "                         'n_neighbors': [1], 'p': [1],\n",
       "                         'weights': ('uniform', 'distance')},\n",
       "             verbose=10)"
      ]
     },
     "execution_count": 211,
     "metadata": {},
     "output_type": "execute_result"
    }
   ],
   "source": [
    "#GridSearchCV\n",
    "GS3_model = GridSearchCV(KNeighborsClassifier(), GS3_parameters, cv=3, verbose = 10, n_jobs=-1)\n",
    "GS3_model.fit(X_scaled_GS3_train, y_GS3_train)\n"
   ]
  },
  {
   "cell_type": "code",
   "execution_count": 212,
   "id": "25c8e56e",
   "metadata": {},
   "outputs": [],
   "source": [
    "#Results\n",
    "GS3_modelresults = pd.DataFrame(GS3_model.cv_results_).sort_values('rank_test_score').reset_index(drop=True)\n",
    "GS3_modelresults = GS3_modelresults.drop([\n",
    "           'mean_fit_time', \n",
    "           'std_fit_time', \n",
    "           'mean_score_time',\n",
    "           'std_score_time', \n",
    "           'params', \n",
    "           'split0_test_score', \n",
    "           'split1_test_score', \n",
    "           'split2_test_score', \n",
    "#            'split3_test_score',\n",
    "#            'split4_test_score',\n",
    "           'std_test_score'\n",
    "           ],\n",
    "           axis=1)\n"
   ]
  },
  {
   "cell_type": "code",
   "execution_count": 213,
   "id": "d8ee3755",
   "metadata": {},
   "outputs": [
    {
     "data": {
      "text/html": [
       "<div>\n",
       "<style scoped>\n",
       "    .dataframe tbody tr th:only-of-type {\n",
       "        vertical-align: middle;\n",
       "    }\n",
       "\n",
       "    .dataframe tbody tr th {\n",
       "        vertical-align: top;\n",
       "    }\n",
       "\n",
       "    .dataframe thead th {\n",
       "        text-align: right;\n",
       "    }\n",
       "</style>\n",
       "<table border=\"1\" class=\"dataframe\">\n",
       "  <thead>\n",
       "    <tr style=\"text-align: right;\">\n",
       "      <th></th>\n",
       "      <th>param_algorithm</th>\n",
       "      <th>param_leaf_size</th>\n",
       "      <th>param_metric</th>\n",
       "      <th>param_n_neighbors</th>\n",
       "      <th>param_p</th>\n",
       "      <th>param_weights</th>\n",
       "      <th>mean_test_score</th>\n",
       "      <th>rank_test_score</th>\n",
       "    </tr>\n",
       "  </thead>\n",
       "  <tbody>\n",
       "    <tr>\n",
       "      <th>0</th>\n",
       "      <td>auto</td>\n",
       "      <td>1</td>\n",
       "      <td>euclidean</td>\n",
       "      <td>1</td>\n",
       "      <td>1</td>\n",
       "      <td>uniform</td>\n",
       "      <td>0.99687</td>\n",
       "      <td>1</td>\n",
       "    </tr>\n",
       "    <tr>\n",
       "      <th>1</th>\n",
       "      <td>kd_tree</td>\n",
       "      <td>78</td>\n",
       "      <td>euclidean</td>\n",
       "      <td>1</td>\n",
       "      <td>1</td>\n",
       "      <td>distance</td>\n",
       "      <td>0.99687</td>\n",
       "      <td>1</td>\n",
       "    </tr>\n",
       "    <tr>\n",
       "      <th>2</th>\n",
       "      <td>kd_tree</td>\n",
       "      <td>78</td>\n",
       "      <td>euclidean</td>\n",
       "      <td>1</td>\n",
       "      <td>1</td>\n",
       "      <td>uniform</td>\n",
       "      <td>0.99687</td>\n",
       "      <td>1</td>\n",
       "    </tr>\n",
       "    <tr>\n",
       "      <th>3</th>\n",
       "      <td>kd_tree</td>\n",
       "      <td>67</td>\n",
       "      <td>minkowski</td>\n",
       "      <td>1</td>\n",
       "      <td>1</td>\n",
       "      <td>distance</td>\n",
       "      <td>0.99687</td>\n",
       "      <td>1</td>\n",
       "    </tr>\n",
       "    <tr>\n",
       "      <th>4</th>\n",
       "      <td>kd_tree</td>\n",
       "      <td>67</td>\n",
       "      <td>minkowski</td>\n",
       "      <td>1</td>\n",
       "      <td>1</td>\n",
       "      <td>uniform</td>\n",
       "      <td>0.99687</td>\n",
       "      <td>1</td>\n",
       "    </tr>\n",
       "  </tbody>\n",
       "</table>\n",
       "</div>"
      ],
      "text/plain": [
       "  param_algorithm param_leaf_size param_metric param_n_neighbors param_p  \\\n",
       "0            auto               1    euclidean                 1       1   \n",
       "1         kd_tree              78    euclidean                 1       1   \n",
       "2         kd_tree              78    euclidean                 1       1   \n",
       "3         kd_tree              67    minkowski                 1       1   \n",
       "4         kd_tree              67    minkowski                 1       1   \n",
       "\n",
       "  param_weights  mean_test_score  rank_test_score  \n",
       "0       uniform          0.99687                1  \n",
       "1      distance          0.99687                1  \n",
       "2       uniform          0.99687                1  \n",
       "3      distance          0.99687                1  \n",
       "4       uniform          0.99687                1  "
      ]
     },
     "execution_count": 213,
     "metadata": {},
     "output_type": "execute_result"
    }
   ],
   "source": [
    "GS3_modelresults.head(5)"
   ]
  },
  {
   "cell_type": "code",
   "execution_count": 205,
   "id": "4c1975aa",
   "metadata": {},
   "outputs": [
    {
     "name": "stdout",
     "output_type": "stream",
     "text": [
      "tuned hyperparameters GS_CV:  {'algorithm': 'auto', 'leaf_size': 1, 'metric': 'euclidean', 'n_neighbors': 1, 'p': 1, 'weights': 'uniform'}\n",
      "tuned highest score GS_CV:  0.996870109546166\n"
     ]
    }
   ],
   "source": [
    "#Best tuned parameters\n",
    "print(\"tuned hyperparameters GS_CV: \",GS3_model.best_params_)\n",
    "print(\"tuned highest score GS_CV: \",GS3_model.best_score_)"
   ]
  },
  {
   "cell_type": "code",
   "execution_count": 214,
   "id": "b1c5fe8c",
   "metadata": {},
   "outputs": [
    {
     "name": "stdout",
     "output_type": "stream",
     "text": [
      "Tuned Best Test Result:  0.9937888198757764\n"
     ]
    }
   ],
   "source": [
    "#Best tuned Model selection & scoring\n",
    "BestModelKNN_mi = KNeighborsClassifier(algorithm=\"auto\",\n",
    "                   leaf_size=1,\n",
    "                   metric=\"euclidean\",\n",
    "                   n_neighbors=1,\n",
    "                   p=1,\n",
    "                   weights=\"uniform\"\n",
    "                  )\n",
    "BestModelKNN_mi.fit(X_scaled_GS3_train,y_GS3_train)\n",
    "print(\"Tuned Best Test Result: \",\n",
    "     BestModelKNN_mi.score(X_scaled_GS3_test,y_GS3_test))"
   ]
  },
  {
   "cell_type": "code",
   "execution_count": 215,
   "id": "59778a82",
   "metadata": {},
   "outputs": [
    {
     "data": {
      "text/plain": [
       "{'algorithm': 'auto',\n",
       " 'leaf_size': 1,\n",
       " 'metric': 'euclidean',\n",
       " 'metric_params': None,\n",
       " 'n_jobs': None,\n",
       " 'n_neighbors': 1,\n",
       " 'p': 1,\n",
       " 'weights': 'uniform'}"
      ]
     },
     "execution_count": 215,
     "metadata": {},
     "output_type": "execute_result"
    }
   ],
   "source": [
    "#Best tuned Model parameters\n",
    "BestModelKNN_mi.get_params()"
   ]
  },
  {
   "cell_type": "markdown",
   "id": "7a404f76",
   "metadata": {},
   "source": [
    "## EVALUATION (KNN model_mi)"
   ]
  },
  {
   "cell_type": "code",
   "execution_count": 356,
   "id": "1750cba7",
   "metadata": {},
   "outputs": [
    {
     "data": {
      "text/html": [
       "<div>\n",
       "<style scoped>\n",
       "    .dataframe tbody tr th:only-of-type {\n",
       "        vertical-align: middle;\n",
       "    }\n",
       "\n",
       "    .dataframe tbody tr th {\n",
       "        vertical-align: top;\n",
       "    }\n",
       "\n",
       "    .dataframe thead th {\n",
       "        text-align: right;\n",
       "    }\n",
       "</style>\n",
       "<table border=\"1\" class=\"dataframe\">\n",
       "  <thead>\n",
       "    <tr style=\"text-align: right;\">\n",
       "      <th></th>\n",
       "      <th>BRCA</th>\n",
       "      <th>KIRC</th>\n",
       "      <th>LUAD</th>\n",
       "      <th>PRAD</th>\n",
       "      <th>COAD</th>\n",
       "    </tr>\n",
       "  </thead>\n",
       "  <tbody>\n",
       "    <tr>\n",
       "      <th>BRCA</th>\n",
       "      <td>60</td>\n",
       "      <td>0</td>\n",
       "      <td>0</td>\n",
       "      <td>0</td>\n",
       "      <td>0</td>\n",
       "    </tr>\n",
       "    <tr>\n",
       "      <th>KIRC</th>\n",
       "      <td>0</td>\n",
       "      <td>16</td>\n",
       "      <td>0</td>\n",
       "      <td>0</td>\n",
       "      <td>0</td>\n",
       "    </tr>\n",
       "    <tr>\n",
       "      <th>LUAD</th>\n",
       "      <td>0</td>\n",
       "      <td>0</td>\n",
       "      <td>30</td>\n",
       "      <td>0</td>\n",
       "      <td>0</td>\n",
       "    </tr>\n",
       "    <tr>\n",
       "      <th>PRAD</th>\n",
       "      <td>1</td>\n",
       "      <td>0</td>\n",
       "      <td>0</td>\n",
       "      <td>27</td>\n",
       "      <td>0</td>\n",
       "    </tr>\n",
       "    <tr>\n",
       "      <th>COAD</th>\n",
       "      <td>0</td>\n",
       "      <td>0</td>\n",
       "      <td>0</td>\n",
       "      <td>0</td>\n",
       "      <td>27</td>\n",
       "    </tr>\n",
       "  </tbody>\n",
       "</table>\n",
       "</div>"
      ],
      "text/plain": [
       "      BRCA  KIRC  LUAD  PRAD  COAD\n",
       "BRCA    60     0     0     0     0\n",
       "KIRC     0    16     0     0     0\n",
       "LUAD     0     0    30     0     0\n",
       "PRAD     1     0     0    27     0\n",
       "COAD     0     0     0     0    27"
      ]
     },
     "metadata": {},
     "output_type": "display_data"
    },
    {
     "name": "stdout",
     "output_type": "stream",
     "text": [
      "KNN Classifier Model: f1 score - 0.994710743801653\n"
     ]
    }
   ],
   "source": [
    "Eval_predict_KNN = BestModelKNN_mi.predict(X_scaled_GS3_test)\n",
    "confusion_matrix_KNN = pd.DataFrame(confusion_matrix(y_GS3_test, Eval_predict_KNN), \n",
    "                                     index = ['BRCA', 'KIRC', 'LUAD', 'PRAD', 'COAD'], \n",
    "                                     columns = ['BRCA', 'KIRC', 'LUAD', 'PRAD', 'COAD'])\n",
    "display(confusion_matrix_KNN)\n",
    "print('KNN Classifier Model: f1 score -', f1_score(y_GS3_test, Eval_predict_KNN,average='macro'))"
   ]
  },
  {
   "cell_type": "markdown",
   "id": "b3efe2e4",
   "metadata": {},
   "source": [
    "$\\;\\;\\;\\;$"
   ]
  },
  {
   "cell_type": "markdown",
   "id": "1c98e24d",
   "metadata": {},
   "source": [
    "$\\;\\;\\;\\;$"
   ]
  },
  {
   "cell_type": "markdown",
   "id": "27a41c28",
   "metadata": {},
   "source": [
    "$\\;\\;\\;\\;$"
   ]
  },
  {
   "cell_type": "markdown",
   "id": "acac4004",
   "metadata": {},
   "source": [
    "## FINALISED MODEL \n",
    "After comparing DecisionTreeClassifier and RandomeForrestClassifier (the two selected classifiers for this classification task) with KNeighborsClassifier, it can be concluded based on \"F1-score\" that - Random Forest Classifier is the best model for this dataset"
   ]
  },
  {
   "cell_type": "markdown",
   "id": "5da353bf",
   "metadata": {},
   "source": [
    "###### WITHOUT CROSS VALIDATION"
   ]
  },
  {
   "cell_type": "code",
   "execution_count": 352,
   "id": "fb1d4289",
   "metadata": {},
   "outputs": [],
   "source": [
    "#Data\n",
    "X_train,X_test,y_train,y_test = tts(X_MI,y, \n",
    "                                    test_size=0.20,\n",
    "                                    random_state=42,\n",
    "                                    stratify=y)"
   ]
  },
  {
   "cell_type": "code",
   "execution_count": 353,
   "id": "6eefd92e",
   "metadata": {},
   "outputs": [
    {
     "data": {
      "text/plain": [
       "RandomForestClassifier(class_weight='balanced', max_depth=1, max_leaf_nodes=50,\n",
       "                       n_estimators=400)"
      ]
     },
     "execution_count": 353,
     "metadata": {},
     "output_type": "execute_result"
    }
   ],
   "source": [
    "#Selected classifier for Gene_Task\n",
    "SelectedModel = RandomForestClassifier(bootstrap=True,\n",
    "                   class_weight=\"balanced\",\n",
    "                   criterion=\"gini\",\n",
    "                   max_depth=1,\n",
    "                   max_features=\"auto\",\n",
    "                   max_leaf_nodes=50,\n",
    "                   n_estimators=400\n",
    "                  )\n",
    "SelectedModel.fit(X_train,y_train)"
   ]
  },
  {
   "cell_type": "code",
   "execution_count": 354,
   "id": "7149af1c",
   "metadata": {},
   "outputs": [
    {
     "data": {
      "text/plain": [
       "{'bootstrap': True,\n",
       " 'ccp_alpha': 0.0,\n",
       " 'class_weight': 'balanced',\n",
       " 'criterion': 'gini',\n",
       " 'max_depth': 1,\n",
       " 'max_features': 'auto',\n",
       " 'max_leaf_nodes': 50,\n",
       " 'max_samples': None,\n",
       " 'min_impurity_decrease': 0.0,\n",
       " 'min_impurity_split': None,\n",
       " 'min_samples_leaf': 1,\n",
       " 'min_samples_split': 2,\n",
       " 'min_weight_fraction_leaf': 0.0,\n",
       " 'n_estimators': 400,\n",
       " 'n_jobs': None,\n",
       " 'oob_score': False,\n",
       " 'random_state': None,\n",
       " 'verbose': 0,\n",
       " 'warm_start': False}"
      ]
     },
     "execution_count": 354,
     "metadata": {},
     "output_type": "execute_result"
    }
   ],
   "source": [
    "#Best tuned Model parameters\n",
    "SelectedModel.get_params()"
   ]
  },
  {
   "cell_type": "code",
   "execution_count": 355,
   "id": "cbff66c9",
   "metadata": {},
   "outputs": [
    {
     "data": {
      "text/html": [
       "<div>\n",
       "<style scoped>\n",
       "    .dataframe tbody tr th:only-of-type {\n",
       "        vertical-align: middle;\n",
       "    }\n",
       "\n",
       "    .dataframe tbody tr th {\n",
       "        vertical-align: top;\n",
       "    }\n",
       "\n",
       "    .dataframe thead th {\n",
       "        text-align: right;\n",
       "    }\n",
       "</style>\n",
       "<table border=\"1\" class=\"dataframe\">\n",
       "  <thead>\n",
       "    <tr style=\"text-align: right;\">\n",
       "      <th></th>\n",
       "      <th>BRCA</th>\n",
       "      <th>KIRC</th>\n",
       "      <th>LUAD</th>\n",
       "      <th>PRAD</th>\n",
       "      <th>COAD</th>\n",
       "    </tr>\n",
       "  </thead>\n",
       "  <tbody>\n",
       "    <tr>\n",
       "      <th>BRCA</th>\n",
       "      <td>60</td>\n",
       "      <td>0</td>\n",
       "      <td>0</td>\n",
       "      <td>0</td>\n",
       "      <td>0</td>\n",
       "    </tr>\n",
       "    <tr>\n",
       "      <th>KIRC</th>\n",
       "      <td>0</td>\n",
       "      <td>16</td>\n",
       "      <td>0</td>\n",
       "      <td>0</td>\n",
       "      <td>0</td>\n",
       "    </tr>\n",
       "    <tr>\n",
       "      <th>LUAD</th>\n",
       "      <td>0</td>\n",
       "      <td>0</td>\n",
       "      <td>30</td>\n",
       "      <td>0</td>\n",
       "      <td>0</td>\n",
       "    </tr>\n",
       "    <tr>\n",
       "      <th>PRAD</th>\n",
       "      <td>2</td>\n",
       "      <td>0</td>\n",
       "      <td>0</td>\n",
       "      <td>26</td>\n",
       "      <td>0</td>\n",
       "    </tr>\n",
       "    <tr>\n",
       "      <th>COAD</th>\n",
       "      <td>0</td>\n",
       "      <td>0</td>\n",
       "      <td>0</td>\n",
       "      <td>0</td>\n",
       "      <td>27</td>\n",
       "    </tr>\n",
       "  </tbody>\n",
       "</table>\n",
       "</div>"
      ],
      "text/plain": [
       "      BRCA  KIRC  LUAD  PRAD  COAD\n",
       "BRCA    60     0     0     0     0\n",
       "KIRC     0    16     0     0     0\n",
       "LUAD     0     0    30     0     0\n",
       "PRAD     2     0     0    26     0\n",
       "COAD     0     0     0     0    27"
      ]
     },
     "metadata": {},
     "output_type": "display_data"
    },
    {
     "name": "stdout",
     "output_type": "stream",
     "text": [
      "Random Forest Classifier Model: f1 score - 0.9893139040680025\n"
     ]
    }
   ],
   "source": [
    "#Evaluating model performance\n",
    "Eval_predict = SelectedModel.predict(X_test)\n",
    "confusion_matrix_model = pd.DataFrame(confusion_matrix(y_test, Eval_predict), \n",
    "                                     index = ['BRCA', 'KIRC', 'LUAD', 'PRAD', 'COAD'], \n",
    "                                     columns = ['BRCA', 'KIRC', 'LUAD', 'PRAD', 'COAD'])\n",
    "display(confusion_matrix_model)\n",
    "print('Random Forest Classifier Model: f1 score -', f1_score(y_test, Eval_predict,average='macro'))\n"
   ]
  },
  {
   "cell_type": "markdown",
   "id": "bf456a5a",
   "metadata": {},
   "source": [
    "###### USING CROSS VALIDATION"
   ]
  },
  {
   "cell_type": "markdown",
   "id": "13369bc4",
   "metadata": {},
   "source": [
    "## KFold"
   ]
  },
  {
   "cell_type": "code",
   "execution_count": 234,
   "id": "8fa6e7e4",
   "metadata": {
    "scrolled": true
   },
   "outputs": [
    {
     "name": "stdout",
     "output_type": "stream",
     "text": [
      " Fold: 3 ; Accuracy: 0.998\n",
      " Fold: 5 ; Accuracy: 0.995\n",
      " Fold: 7 ; Accuracy: 0.992\n"
     ]
    }
   ],
   "source": [
    "from sklearn.model_selection import KFold\n",
    "from sklearn.model_selection import cross_val_score\n",
    "from numpy import mean\n",
    "X_validation = X_MI\n",
    "y_validation = new_label\n",
    "i_fold = [3, 5, 7]\n",
    "for n in i_fold:\n",
    "    cv = KFold(n_splits=n, random_state=1, shuffle=True)\n",
    "    model = SelectedModel\n",
    "    scores = cross_val_score(model, X_validation, y_validation, scoring='f1_macro', cv=cv, n_jobs=-1)\n",
    "    print(' Fold: %d ; f1-score: %.3f' % (n, mean(scores)))\n",
    "    \n",
    "     "
   ]
  },
  {
   "cell_type": "markdown",
   "id": "2cb3e2a1",
   "metadata": {},
   "source": [
    "## Leave-One-Out"
   ]
  },
  {
   "cell_type": "code",
   "execution_count": 238,
   "id": "822fd4c9",
   "metadata": {},
   "outputs": [
    {
     "name": "stdout",
     "output_type": "stream",
     "text": [
      "f1-score: 0.995\n"
     ]
    }
   ],
   "source": [
    "from sklearn.model_selection import LeaveOneOut\n",
    "cv2 = LeaveOneOut()\n",
    "model2 = SelectedModel\n",
    "scores2 = cross_val_score(model2, X_validation, y_validation, scoring='f1_macro', cv=cv2, n_jobs=-1)\n",
    "print('f1-score: %.3f' % (mean(scores2)))\n"
   ]
  },
  {
   "cell_type": "markdown",
   "id": "fd72152d",
   "metadata": {},
   "source": [
    "$\\;\\;\\;\\;$"
   ]
  },
  {
   "cell_type": "markdown",
   "id": "c91b515d",
   "metadata": {},
   "source": [
    "$\\;\\;\\;\\;$"
   ]
  },
  {
   "cell_type": "markdown",
   "id": "33b72a78",
   "metadata": {},
   "source": [
    "$\\;\\;\\;\\;$"
   ]
  },
  {
   "cell_type": "markdown",
   "id": "e3b6ea62",
   "metadata": {},
   "source": [
    "## Data Augmentation"
   ]
  },
  {
   "cell_type": "markdown",
   "id": "a6a82ff1",
   "metadata": {},
   "source": [
    "#### Using SMOTE - to address class imbalance "
   ]
  },
  {
   "cell_type": "code",
   "execution_count": 241,
   "id": "5fc60331",
   "metadata": {},
   "outputs": [
    {
     "name": "stdout",
     "output_type": "stream",
     "text": [
      "Collecting imblearn\n",
      "  Downloading imblearn-0.0-py2.py3-none-any.whl (1.9 kB)\n",
      "Collecting imbalanced-learn\n",
      "  Downloading imbalanced_learn-0.8.1-py3-none-any.whl (189 kB)\n",
      "     |████████████████████████████████| 189 kB 3.9 MB/s            \n",
      "\u001b[?25hRequirement already satisfied: scipy>=0.19.1 in /Users/sam/opt/anaconda3/lib/python3.8/site-packages (from imbalanced-learn->imblearn) (1.6.2)\n",
      "Requirement already satisfied: numpy>=1.13.3 in /Users/sam/opt/anaconda3/lib/python3.8/site-packages (from imbalanced-learn->imblearn) (1.20.1)\n",
      "Requirement already satisfied: scikit-learn>=0.24 in /Users/sam/opt/anaconda3/lib/python3.8/site-packages (from imbalanced-learn->imblearn) (0.24.1)\n",
      "Requirement already satisfied: joblib>=0.11 in /Users/sam/opt/anaconda3/lib/python3.8/site-packages (from imbalanced-learn->imblearn) (1.0.1)\n",
      "Requirement already satisfied: threadpoolctl>=2.0.0 in /Users/sam/opt/anaconda3/lib/python3.8/site-packages (from scikit-learn>=0.24->imbalanced-learn->imblearn) (2.1.0)\n",
      "Installing collected packages: imbalanced-learn, imblearn\n",
      "Successfully installed imbalanced-learn-0.8.1 imblearn-0.0\n"
     ]
    }
   ],
   "source": [
    "!pip install imblearn"
   ]
  },
  {
   "cell_type": "code",
   "execution_count": 251,
   "id": "bbf7096c",
   "metadata": {},
   "outputs": [],
   "source": [
    "from imblearn.over_sampling import SMOTE, BorderlineSMOTE"
   ]
  },
  {
   "cell_type": "markdown",
   "id": "16f09cc4",
   "metadata": {},
   "source": [
    "AUGMENTED DATASET-1"
   ]
  },
  {
   "cell_type": "code",
   "execution_count": 359,
   "id": "10fe5eaf",
   "metadata": {},
   "outputs": [],
   "source": [
    "#Augmenting dataset using SMOTE\n",
    "X_reshaped,y_reshaped = SMOTE().fit_resample(new_data,new_label)"
   ]
  },
  {
   "cell_type": "code",
   "execution_count": 360,
   "id": "5f76a3c9",
   "metadata": {},
   "outputs": [
    {
     "data": {
      "text/plain": [
       "(1500, 20531)"
      ]
     },
     "execution_count": 360,
     "metadata": {},
     "output_type": "execute_result"
    }
   ],
   "source": [
    "X_reshaped.shape"
   ]
  },
  {
   "cell_type": "code",
   "execution_count": 361,
   "id": "5688c467",
   "metadata": {
    "scrolled": false
   },
   "outputs": [
    {
     "data": {
      "text/plain": [
       "(1500, 1)"
      ]
     },
     "execution_count": 361,
     "metadata": {},
     "output_type": "execute_result"
    }
   ],
   "source": [
    "y_reshaped.shape"
   ]
  },
  {
   "cell_type": "code",
   "execution_count": 362,
   "id": "663ef45d",
   "metadata": {},
   "outputs": [
    {
     "data": {
      "text/plain": [
       "Class\n",
       "BRCA     300\n",
       "COAD     300\n",
       "KIRC     300\n",
       "LUAD     300\n",
       "PRAD     300\n",
       "dtype: int64"
      ]
     },
     "execution_count": 362,
     "metadata": {},
     "output_type": "execute_result"
    }
   ],
   "source": [
    "y_reshaped.value_counts()"
   ]
  },
  {
   "cell_type": "code",
   "execution_count": 363,
   "id": "9c3131ce",
   "metadata": {},
   "outputs": [
    {
     "data": {
      "image/png": "[encoded data removed]",
      "text/plain": [
       "<Figure size 432x288 with 1 Axes>"
      ]
     },
     "metadata": {},
     "output_type": "display_data"
    }
   ],
   "source": [
    "y_reshaped.value_counts(normalize=True).plot.pie(autopct='%1.1f%%')\n",
    "plt.suptitle('SPLIT', size=28)\n",
    "plt.show()"
   ]
  },
  {
   "cell_type": "markdown",
   "id": "beb64482",
   "metadata": {},
   "source": [
    "AUGMENTED DATASET-2"
   ]
  },
  {
   "cell_type": "code",
   "execution_count": 364,
   "id": "ae130208",
   "metadata": {},
   "outputs": [],
   "source": [
    "#Augmenting dataset using BorderlineSMOTE\n",
    "X_reshaped2,y_reshaped2 = BorderlineSMOTE().fit_resample(new_data,new_label)"
   ]
  },
  {
   "cell_type": "code",
   "execution_count": 365,
   "id": "5417e3d7",
   "metadata": {},
   "outputs": [
    {
     "data": {
      "text/plain": [
       "(955, 20531)"
      ]
     },
     "execution_count": 365,
     "metadata": {},
     "output_type": "execute_result"
    }
   ],
   "source": [
    "X_reshaped2.shape"
   ]
  },
  {
   "cell_type": "code",
   "execution_count": 366,
   "id": "8c3c946d",
   "metadata": {
    "scrolled": true
   },
   "outputs": [
    {
     "data": {
      "text/plain": [
       "(955, 1)"
      ]
     },
     "execution_count": 366,
     "metadata": {},
     "output_type": "execute_result"
    }
   ],
   "source": [
    "y_reshaped2.shape"
   ]
  },
  {
   "cell_type": "code",
   "execution_count": 367,
   "id": "77752bdd",
   "metadata": {},
   "outputs": [
    {
     "data": {
      "text/plain": [
       "Class\n",
       "BRCA     300\n",
       "KIRC     300\n",
       "LUAD     141\n",
       "PRAD     136\n",
       "COAD      78\n",
       "dtype: int64"
      ]
     },
     "execution_count": 367,
     "metadata": {},
     "output_type": "execute_result"
    }
   ],
   "source": [
    "y_reshaped2.value_counts()"
   ]
  },
  {
   "cell_type": "code",
   "execution_count": 368,
   "id": "525a57a8",
   "metadata": {},
   "outputs": [
    {
     "data": {
      "image/png": "[encoded data removed]",
      "text/plain": [
       "<Figure size 432x288 with 1 Axes>"
      ]
     },
     "metadata": {},
     "output_type": "display_data"
    }
   ],
   "source": [
    "y_reshaped2.value_counts(normalize=True).plot.pie(autopct='%1.1f%%')\n",
    "plt.suptitle('SPLIT', size=28)\n",
    "plt.show()"
   ]
  },
  {
   "cell_type": "markdown",
   "id": "f892265b",
   "metadata": {},
   "source": [
    "#### MODEL PERFORMANCE WITH DATASET-1"
   ]
  },
  {
   "cell_type": "code",
   "execution_count": 369,
   "id": "5686d160",
   "metadata": {},
   "outputs": [],
   "source": [
    "#Restructing label data\n",
    "y_changed = y_reshaped.values.ravel()"
   ]
  },
  {
   "cell_type": "code",
   "execution_count": 370,
   "id": "40d87a6b",
   "metadata": {},
   "outputs": [],
   "source": [
    "#Data\n",
    "X_augmented_train,X_augmented_test,y_augmented_train,y_augmented_test = tts(X_reshaped,y_changed, \n",
    "                                    test_size=0.20,\n",
    "                                    random_state=42,\n",
    "                                    stratify=y_changed)\n",
    "\n"
   ]
  },
  {
   "cell_type": "code",
   "execution_count": 371,
   "id": "a2b3a6c8",
   "metadata": {},
   "outputs": [
    {
     "data": {
      "text/plain": [
       "RandomForestClassifier(class_weight='balanced', max_depth=1, max_leaf_nodes=50,\n",
       "                       n_estimators=400)"
      ]
     },
     "execution_count": 371,
     "metadata": {},
     "output_type": "execute_result"
    }
   ],
   "source": [
    "#Model fitted on training data\n",
    "SelectedModel.fit(X_augmented_train,y_augmented_train)"
   ]
  },
  {
   "cell_type": "code",
   "execution_count": 372,
   "id": "934b5e45",
   "metadata": {},
   "outputs": [
    {
     "data": {
      "text/html": [
       "<div>\n",
       "<style scoped>\n",
       "    .dataframe tbody tr th:only-of-type {\n",
       "        vertical-align: middle;\n",
       "    }\n",
       "\n",
       "    .dataframe tbody tr th {\n",
       "        vertical-align: top;\n",
       "    }\n",
       "\n",
       "    .dataframe thead th {\n",
       "        text-align: right;\n",
       "    }\n",
       "</style>\n",
       "<table border=\"1\" class=\"dataframe\">\n",
       "  <thead>\n",
       "    <tr style=\"text-align: right;\">\n",
       "      <th></th>\n",
       "      <th>BRCA</th>\n",
       "      <th>KIRC</th>\n",
       "      <th>LUAD</th>\n",
       "      <th>PRAD</th>\n",
       "      <th>COAD</th>\n",
       "    </tr>\n",
       "  </thead>\n",
       "  <tbody>\n",
       "    <tr>\n",
       "      <th>BRCA</th>\n",
       "      <td>60</td>\n",
       "      <td>0</td>\n",
       "      <td>0</td>\n",
       "      <td>0</td>\n",
       "      <td>0</td>\n",
       "    </tr>\n",
       "    <tr>\n",
       "      <th>KIRC</th>\n",
       "      <td>0</td>\n",
       "      <td>60</td>\n",
       "      <td>0</td>\n",
       "      <td>0</td>\n",
       "      <td>0</td>\n",
       "    </tr>\n",
       "    <tr>\n",
       "      <th>LUAD</th>\n",
       "      <td>0</td>\n",
       "      <td>0</td>\n",
       "      <td>60</td>\n",
       "      <td>0</td>\n",
       "      <td>0</td>\n",
       "    </tr>\n",
       "    <tr>\n",
       "      <th>PRAD</th>\n",
       "      <td>0</td>\n",
       "      <td>0</td>\n",
       "      <td>0</td>\n",
       "      <td>60</td>\n",
       "      <td>0</td>\n",
       "    </tr>\n",
       "    <tr>\n",
       "      <th>COAD</th>\n",
       "      <td>0</td>\n",
       "      <td>0</td>\n",
       "      <td>0</td>\n",
       "      <td>0</td>\n",
       "      <td>60</td>\n",
       "    </tr>\n",
       "  </tbody>\n",
       "</table>\n",
       "</div>"
      ],
      "text/plain": [
       "      BRCA  KIRC  LUAD  PRAD  COAD\n",
       "BRCA    60     0     0     0     0\n",
       "KIRC     0    60     0     0     0\n",
       "LUAD     0     0    60     0     0\n",
       "PRAD     0     0     0    60     0\n",
       "COAD     0     0     0     0    60"
      ]
     },
     "metadata": {},
     "output_type": "display_data"
    },
    {
     "name": "stdout",
     "output_type": "stream",
     "text": [
      "Random Forest Classifier Model on Augmented Dataset-1: f1 score - 1.0\n"
     ]
    }
   ],
   "source": [
    "#Evaluating performace of model on augmented Dataset1\n",
    "Eval_predict_DS1 = SelectedModel.predict(X_augmented_test)\n",
    "confusion_matrix_model_DS1 = pd.DataFrame(confusion_matrix(y_augmented_test, Eval_predict_DS1), \n",
    "                                     index = ['BRCA', 'KIRC', 'LUAD', 'PRAD', 'COAD'], \n",
    "                                     columns = ['BRCA', 'KIRC', 'LUAD', 'PRAD', 'COAD'])\n",
    "display(confusion_matrix_model_DS1)\n",
    "print('Random Forest Classifier Model on Augmented Dataset-1: f1 score -', f1_score(y_augmented_test, Eval_predict_DS1,average='macro'))"
   ]
  },
  {
   "cell_type": "markdown",
   "id": "08b3ab43",
   "metadata": {},
   "source": [
    "#### MODEL PERFORMANCE WITH DATASET-1"
   ]
  },
  {
   "cell_type": "code",
   "execution_count": 373,
   "id": "7ed14993",
   "metadata": {},
   "outputs": [],
   "source": [
    "#Restructing label data\n",
    "y_changed2 = y_reshaped2.values.ravel()"
   ]
  },
  {
   "cell_type": "code",
   "execution_count": 374,
   "id": "6cf80704",
   "metadata": {},
   "outputs": [],
   "source": [
    "#Data\n",
    "X_augmented2_train,X_augmented2_test,y_augmented2_train,y_augmented2_test = tts(X_reshaped2,y_changed2, \n",
    "                                    test_size=0.20,\n",
    "                                    random_state=42,\n",
    "                                    stratify=y_changed2)\n",
    "\n"
   ]
  },
  {
   "cell_type": "code",
   "execution_count": 375,
   "id": "157973ee",
   "metadata": {},
   "outputs": [
    {
     "data": {
      "text/plain": [
       "RandomForestClassifier(class_weight='balanced', max_depth=1, max_leaf_nodes=50,\n",
       "                       n_estimators=400)"
      ]
     },
     "execution_count": 375,
     "metadata": {},
     "output_type": "execute_result"
    }
   ],
   "source": [
    "#Model fitted on training data\n",
    "SelectedModel.fit(X_augmented2_train,y_augmented2_train)"
   ]
  },
  {
   "cell_type": "code",
   "execution_count": 376,
   "id": "df3179e2",
   "metadata": {},
   "outputs": [
    {
     "data": {
      "text/html": [
       "<div>\n",
       "<style scoped>\n",
       "    .dataframe tbody tr th:only-of-type {\n",
       "        vertical-align: middle;\n",
       "    }\n",
       "\n",
       "    .dataframe tbody tr th {\n",
       "        vertical-align: top;\n",
       "    }\n",
       "\n",
       "    .dataframe thead th {\n",
       "        text-align: right;\n",
       "    }\n",
       "</style>\n",
       "<table border=\"1\" class=\"dataframe\">\n",
       "  <thead>\n",
       "    <tr style=\"text-align: right;\">\n",
       "      <th></th>\n",
       "      <th>BRCA</th>\n",
       "      <th>KIRC</th>\n",
       "      <th>LUAD</th>\n",
       "      <th>PRAD</th>\n",
       "      <th>COAD</th>\n",
       "    </tr>\n",
       "  </thead>\n",
       "  <tbody>\n",
       "    <tr>\n",
       "      <th>BRCA</th>\n",
       "      <td>60</td>\n",
       "      <td>0</td>\n",
       "      <td>0</td>\n",
       "      <td>0</td>\n",
       "      <td>0</td>\n",
       "    </tr>\n",
       "    <tr>\n",
       "      <th>KIRC</th>\n",
       "      <td>0</td>\n",
       "      <td>16</td>\n",
       "      <td>0</td>\n",
       "      <td>0</td>\n",
       "      <td>0</td>\n",
       "    </tr>\n",
       "    <tr>\n",
       "      <th>LUAD</th>\n",
       "      <td>0</td>\n",
       "      <td>0</td>\n",
       "      <td>60</td>\n",
       "      <td>0</td>\n",
       "      <td>0</td>\n",
       "    </tr>\n",
       "    <tr>\n",
       "      <th>PRAD</th>\n",
       "      <td>0</td>\n",
       "      <td>1</td>\n",
       "      <td>0</td>\n",
       "      <td>27</td>\n",
       "      <td>0</td>\n",
       "    </tr>\n",
       "    <tr>\n",
       "      <th>COAD</th>\n",
       "      <td>0</td>\n",
       "      <td>0</td>\n",
       "      <td>0</td>\n",
       "      <td>0</td>\n",
       "      <td>27</td>\n",
       "    </tr>\n",
       "  </tbody>\n",
       "</table>\n",
       "</div>"
      ],
      "text/plain": [
       "      BRCA  KIRC  LUAD  PRAD  COAD\n",
       "BRCA    60     0     0     0     0\n",
       "KIRC     0    16     0     0     0\n",
       "LUAD     0     0    60     0     0\n",
       "PRAD     0     1     0    27     0\n",
       "COAD     0     0     0     0    27"
      ]
     },
     "metadata": {},
     "output_type": "display_data"
    },
    {
     "name": "stdout",
     "output_type": "stream",
     "text": [
      "Random Forest Classifier Model on Augmented Dataset-1: f1 score - 0.9903030303030302\n"
     ]
    }
   ],
   "source": [
    "#Evaluating performace of model on augmented Dataset2\n",
    "Eval_predict_DS2 = SelectedModel.predict(X_augmented2_test)\n",
    "confusion_matrix_model_DS2 = pd.DataFrame(confusion_matrix(y_augmented2_test, Eval_predict_DS2), \n",
    "                                     index = ['BRCA', 'KIRC', 'LUAD', 'PRAD', 'COAD'], \n",
    "                                     columns = ['BRCA', 'KIRC', 'LUAD', 'PRAD', 'COAD'])\n",
    "display(confusion_matrix_model_DS2)\n",
    "print('Random Forest Classifier Model on Augmented Dataset-1: f1 score -', f1_score(y_augmented2_test, Eval_predict_DS2,average='macro'))"
   ]
  },
  {
   "cell_type": "markdown",
   "id": "e1c66470",
   "metadata": {},
   "source": [
    "$\\;\\;\\;\\;$"
   ]
  },
  {
   "cell_type": "markdown",
   "id": "6888143e",
   "metadata": {},
   "source": [
    "$\\;\\;\\;\\;$"
   ]
  },
  {
   "cell_type": "markdown",
   "id": "17edf9dc",
   "metadata": {},
   "source": [
    "$\\;\\;\\;\\;$"
   ]
  },
  {
   "cell_type": "markdown",
   "id": "786996ee",
   "metadata": {},
   "source": [
    "$\\;\\;\\;\\;$"
   ]
  },
  {
   "cell_type": "markdown",
   "id": "9516def0",
   "metadata": {},
   "source": [
    "## ENSEMBLE?"
   ]
  },
  {
   "cell_type": "markdown",
   "id": "4c0cd465",
   "metadata": {},
   "source": [
    "BAGGING"
   ]
  },
  {
   "cell_type": "code",
   "execution_count": null,
   "id": "1aa1b81b",
   "metadata": {},
   "outputs": [],
   "source": [
    "from sklearn.ensemble import StackingClassifier"
   ]
  },
  {
   "cell_type": "code",
   "execution_count": 385,
   "id": "dc16d657",
   "metadata": {},
   "outputs": [],
   "source": [
    "from sklearn import model_selection\n",
    "from sklearn.ensemble import BaggingClassifier"
   ]
  },
  {
   "cell_type": "code",
   "execution_count": 459,
   "id": "6fe0b680",
   "metadata": {},
   "outputs": [],
   "source": [
    "kfold = model_selection.KFold(n_splits=10, shuffle=True, random_state=42)"
   ]
  },
  {
   "cell_type": "code",
   "execution_count": 460,
   "id": "9938aa5a",
   "metadata": {},
   "outputs": [],
   "source": [
    "model = BaggingClassifier(base_estimator=DTC(min_samples_split=30,\n",
    "                   min_samples_leaf=1,\n",
    "                   max_features=None,\n",
    "                   max_leaf_nodes=50,\n",
    "                   min_impurity_decrease=0.0,\n",
    "                   random_state=None,\n",
    "                   splitter=\"random\",\n",
    "                   max_depth=10,\n",
    "                   criterion=\"gini\",\n",
    "                   class_weight=\"balanced\"), n_estimators=100, random_state=42)"
   ]
  },
  {
   "cell_type": "code",
   "execution_count": 461,
   "id": "fbe4289c",
   "metadata": {},
   "outputs": [],
   "source": [
    "results = model_selection.cross_val_score(model, X_MI,y, cv=kfold)"
   ]
  },
  {
   "cell_type": "code",
   "execution_count": 462,
   "id": "67b627bc",
   "metadata": {},
   "outputs": [
    {
     "name": "stdout",
     "output_type": "stream",
     "text": [
      "0.9975000000000002\n"
     ]
    }
   ],
   "source": [
    "print(results.mean())"
   ]
  },
  {
   "cell_type": "markdown",
   "id": "a8fc529c",
   "metadata": {},
   "source": [
    "$\\;\\;\\;\\;$"
   ]
  },
  {
   "cell_type": "markdown",
   "id": "440bb26a",
   "metadata": {},
   "source": [
    "##BOOSTING"
   ]
  },
  {
   "cell_type": "code",
   "execution_count": 412,
   "id": "30ebb5f3",
   "metadata": {},
   "outputs": [],
   "source": [
    "# from sklearn.ensemble import AdaBoostClassifier\n",
    "# kfold2 = model_selection.KFold(n_splits=10, shuffle=True, random_state=42)\n",
    "# model2 = AdaBoostClassifier(n_estimators=50, random_state=seed)\n",
    "# results2 = model_selection.cross_val_score(model2, X_MI,y, cv=kfold2)\n",
    "# print(results2.mean())"
   ]
  },
  {
   "cell_type": "markdown",
   "id": "a93a6a17",
   "metadata": {},
   "source": [
    "$\\;\\;\\;\\;$"
   ]
  },
  {
   "cell_type": "markdown",
   "id": "613c1eca",
   "metadata": {},
   "source": [
    "VOTING BASED"
   ]
  },
  {
   "cell_type": "code",
   "execution_count": 419,
   "id": "d484a3e9",
   "metadata": {},
   "outputs": [],
   "source": [
    "from sklearn.ensemble import VotingClassifier"
   ]
  },
  {
   "cell_type": "code",
   "execution_count": 440,
   "id": "e25ebde7",
   "metadata": {},
   "outputs": [],
   "source": [
    "estimators = []"
   ]
  },
  {
   "cell_type": "code",
   "execution_count": 441,
   "id": "f875e830",
   "metadata": {},
   "outputs": [],
   "source": [
    "model_1 = DTC(min_samples_split=30,\n",
    "                   min_samples_leaf=1,\n",
    "                   max_features=None,\n",
    "                   max_leaf_nodes=50,\n",
    "                   min_impurity_decrease=0.0,\n",
    "                   random_state=None,\n",
    "                   splitter=\"random\",\n",
    "                   max_depth=10,\n",
    "                   criterion=\"gini\",\n",
    "                   class_weight=\"balanced\"\n",
    "                  )"
   ]
  },
  {
   "cell_type": "code",
   "execution_count": 442,
   "id": "013ae352",
   "metadata": {},
   "outputs": [],
   "source": [
    "estimators.append(('Decision Tree', model_1))"
   ]
  },
  {
   "cell_type": "code",
   "execution_count": 443,
   "id": "a98ac0ff",
   "metadata": {},
   "outputs": [],
   "source": [
    "model_2 = RandomForestClassifier(bootstrap=True,\n",
    "                   class_weight=\"balanced\",\n",
    "                   criterion=\"gini\",\n",
    "                   max_depth=1,\n",
    "                   max_features=\"auto\",\n",
    "                   max_leaf_nodes=50,\n",
    "                   n_estimators=400\n",
    "                  )"
   ]
  },
  {
   "cell_type": "code",
   "execution_count": 444,
   "id": "8a8b80a2",
   "metadata": {},
   "outputs": [],
   "source": [
    "estimators.append(('Random Forest', model_2))"
   ]
  },
  {
   "cell_type": "code",
   "execution_count": 445,
   "id": "8edd2f23",
   "metadata": {},
   "outputs": [],
   "source": [
    "model_3 = KNeighborsClassifier(algorithm=\"auto\",\n",
    "                   leaf_size=1,\n",
    "                   metric=\"euclidean\",\n",
    "                   n_neighbors=1,\n",
    "                   p=1,\n",
    "                   weights=\"uniform\"\n",
    "                  )"
   ]
  },
  {
   "cell_type": "code",
   "execution_count": 446,
   "id": "957b92de",
   "metadata": {},
   "outputs": [],
   "source": [
    "estimators.append(('KNN', model_3))"
   ]
  },
  {
   "cell_type": "code",
   "execution_count": 447,
   "id": "739b6bad",
   "metadata": {},
   "outputs": [],
   "source": [
    "ensemble = VotingClassifier(estimators)"
   ]
  },
  {
   "cell_type": "code",
   "execution_count": 463,
   "id": "afc432be",
   "metadata": {},
   "outputs": [],
   "source": [
    "results3 = model_selection.cross_val_score(ensemble, X_MI,y, cv=kfold)"
   ]
  },
  {
   "cell_type": "code",
   "execution_count": 464,
   "id": "cf71d1bb",
   "metadata": {},
   "outputs": [
    {
     "name": "stdout",
     "output_type": "stream",
     "text": [
      "0.9962500000000001\n"
     ]
    }
   ],
   "source": [
    "print(results3.mean())"
   ]
  },
  {
   "cell_type": "markdown",
   "id": "cdecffcb",
   "metadata": {},
   "source": [
    "$\\;\\;\\;\\;$"
   ]
  },
  {
   "cell_type": "markdown",
   "id": "62360412",
   "metadata": {},
   "source": [
    "$\\;\\;\\;\\;$"
   ]
  }
 ],
 "metadata": {
  "kernelspec": {
   "display_name": "Python 3",
   "language": "python",
   "name": "python3"
  },
  "language_info": {
   "codemirror_mode": {
    "name": "ipython",
    "version": 3
   },
   "file_extension": ".py",
   "mimetype": "text/x-python",
   "name": "python",
   "nbconvert_exporter": "python",
   "pygments_lexer": "ipython3",
   "version": "3.8.8"
  }
 },
 "nbformat": 4,
 "nbformat_minor": 5
}
